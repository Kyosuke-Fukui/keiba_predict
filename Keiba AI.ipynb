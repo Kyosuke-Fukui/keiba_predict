{
 "cells": [
  {
   "cell_type": "markdown",
   "metadata": {},
   "source": [
    "# 各種インポート"
   ]
  },
  {
   "cell_type": "code",
   "execution_count": 62,
   "metadata": {},
   "outputs": [],
   "source": [
    "import pandas as pd\n",
    "import time\n",
    "from tqdm.notebook import tqdm_notebook as tqdm\n",
    "import requests\n",
    "from bs4 import BeautifulSoup\n",
    "import re"
   ]
  },
  {
   "cell_type": "markdown",
   "metadata": {},
   "source": [
    "# Update関数"
   ]
  },
  {
   "cell_type": "code",
   "execution_count": 48,
   "metadata": {
    "scrolled": true
   },
   "outputs": [],
   "source": [
    "def update(func, update_id_list, old_data, merge=False):\n",
    "    new_id_list = list(set(update_id_list) ^ set(old_data.index.unique().values))\n",
    "    df = func(new_id_list)\n",
    "    if merge:\n",
    "        df = pd.concat([df, old_data])    \n",
    "    return df"
   ]
  },
  {
   "cell_type": "markdown",
   "metadata": {},
   "source": [
    "# レース結果取得"
   ]
  },
  {
   "cell_type": "markdown",
   "metadata": {},
   "source": [
    "## 取得するレースのidを指定"
   ]
  },
  {
   "cell_type": "code",
   "execution_count": 4,
   "metadata": {},
   "outputs": [],
   "source": [
    "race_id_list = []\n",
    "for place in range(1,11,1):\n",
    "    for kai in range(1,6,1):\n",
    "        for day in range(1,9,1):\n",
    "            for r in range(1,13,1):\n",
    "                race_id = '2019' + str(place).zfill(2) + str(kai).zfill(2) + str(day).zfill(2) + str(r).zfill(2)\n",
    "                race_id_list.append(race_id)"
   ]
  },
  {
   "cell_type": "markdown",
   "metadata": {},
   "source": [
    "年＋場所（01:札幌,02:函館,03:福島,04:新潟,05:東京,06:中山,07:中京,08:京都,09:阪神,10:小倉）＋回＋月日＋ラウンド"
   ]
  },
  {
   "cell_type": "markdown",
   "metadata": {},
   "source": [
    "## スクレイピング"
   ]
  },
  {
   "cell_type": "code",
   "execution_count": 53,
   "metadata": {
    "code_folding": [
     0
    ]
   },
   "outputs": [],
   "source": [
    "def scraping_race_result(id_list, pre_race_results={}):\n",
    "    race_results = pre_race_results\n",
    "    \n",
    "    for race_id in tqdm(id_list):\n",
    "        if race_id in pre_race_results.keys():\n",
    "            continue\n",
    "        try:\n",
    "            url='https://db.netkeiba.com/race/' + race_id\n",
    "            df = pd.read_html(url)[0]\n",
    "            \n",
    "            #horse_idとjockey_idを入れる\n",
    "            html = requests.get(url)\n",
    "            html.encoding = 'EUC-JP'\n",
    "            soup = BeautifulSoup(html.text, 'html.parser')\n",
    "            \n",
    "            horse_id_list = []\n",
    "            horse_a_list = soup.find('table',attrs={'summary':'レース結果'})\\\n",
    "                .find_all('a',attrs={'href':re.compile('^/horse')})\n",
    "            for a in horse_a_list:\n",
    "                horse_id = re.findall(r'\\d+', a['href'])\n",
    "                horse_id_list.append(horse_id[0])\n",
    "                \n",
    "            jockey_id_list = []\n",
    "            jockey_a_list = soup.find('table',attrs={'summary':'レース結果'})\\\n",
    "                .find_all('a',attrs={'href':re.compile('^/jockey')})\n",
    "            for a in jockey_a_list:\n",
    "                jockey_id = re.findall(r'\\d+', a['href'])\n",
    "                jockey_id_list.append(jockey_id[0])\n",
    "                \n",
    "            df['horse_id'] = horse_id_list\n",
    "            df['jockey_id'] = jockey_id_list\n",
    "            \n",
    "            race_results[race_id] = df\n",
    "            \n",
    "            time.sleep(0.1)\n",
    "        except IndexError:\n",
    "            continue\n",
    "        except:\n",
    "            break\n",
    "    return race_results"
   ]
  },
  {
   "cell_type": "markdown",
   "metadata": {},
   "source": [
    "## 辞書型からDataFrame型に変換"
   ]
  },
  {
   "cell_type": "code",
   "execution_count": 57,
   "metadata": {
    "code_folding": []
   },
   "outputs": [],
   "source": [
    "def dict_to_pd(data):\n",
    "    for key in data.keys():\n",
    "        data[key].index = [key]*len(data[key])\n",
    "    df = pd.concat([data[key] for key in data.keys()],sort=False)\n",
    "    return df"
   ]
  },
  {
   "cell_type": "markdown",
   "metadata": {},
   "source": [
    "## スクレイピング後のデータ"
   ]
  },
  {
   "cell_type": "code",
   "execution_count": 32,
   "metadata": {
    "collapsed": true
   },
   "outputs": [
    {
     "data": {
      "text/html": [
       "<div>\n",
       "<style scoped>\n",
       "    .dataframe tbody tr th:only-of-type {\n",
       "        vertical-align: middle;\n",
       "    }\n",
       "\n",
       "    .dataframe tbody tr th {\n",
       "        vertical-align: top;\n",
       "    }\n",
       "\n",
       "    .dataframe thead th {\n",
       "        text-align: right;\n",
       "    }\n",
       "</style>\n",
       "<table border=\"1\" class=\"dataframe\">\n",
       "  <thead>\n",
       "    <tr style=\"text-align: right;\">\n",
       "      <th></th>\n",
       "      <th>着順</th>\n",
       "      <th>枠番</th>\n",
       "      <th>馬番</th>\n",
       "      <th>馬名</th>\n",
       "      <th>性齢</th>\n",
       "      <th>斤量</th>\n",
       "      <th>騎手</th>\n",
       "      <th>タイム</th>\n",
       "      <th>着差</th>\n",
       "      <th>単勝</th>\n",
       "      <th>人気</th>\n",
       "      <th>馬体重</th>\n",
       "      <th>調教師</th>\n",
       "      <th>horse_id</th>\n",
       "      <th>jockey_id</th>\n",
       "    </tr>\n",
       "  </thead>\n",
       "  <tbody>\n",
       "    <tr>\n",
       "      <th>202106030811</th>\n",
       "      <td>1</td>\n",
       "      <td>4</td>\n",
       "      <td>7</td>\n",
       "      <td>エフフォーリア</td>\n",
       "      <td>牡3</td>\n",
       "      <td>57.0</td>\n",
       "      <td>横山武史</td>\n",
       "      <td>2:00.6</td>\n",
       "      <td>NaN</td>\n",
       "      <td>3.7</td>\n",
       "      <td>2.0</td>\n",
       "      <td>504(-10)</td>\n",
       "      <td>[東] 鹿戸雄一</td>\n",
       "      <td>2018105027</td>\n",
       "      <td>01170</td>\n",
       "    </tr>\n",
       "    <tr>\n",
       "      <th>202106030811</th>\n",
       "      <td>2</td>\n",
       "      <td>7</td>\n",
       "      <td>13</td>\n",
       "      <td>タイトルホルダー</td>\n",
       "      <td>牡3</td>\n",
       "      <td>57.0</td>\n",
       "      <td>田辺裕信</td>\n",
       "      <td>2:01.1</td>\n",
       "      <td>3</td>\n",
       "      <td>17</td>\n",
       "      <td>8.0</td>\n",
       "      <td>462(-4)</td>\n",
       "      <td>[東] 栗田徹</td>\n",
       "      <td>2018103559</td>\n",
       "      <td>01075</td>\n",
       "    </tr>\n",
       "    <tr>\n",
       "      <th>202106030811</th>\n",
       "      <td>3</td>\n",
       "      <td>2</td>\n",
       "      <td>3</td>\n",
       "      <td>ステラヴェローチェ</td>\n",
       "      <td>牡3</td>\n",
       "      <td>57.0</td>\n",
       "      <td>吉田隼人</td>\n",
       "      <td>2:01.1</td>\n",
       "      <td>クビ</td>\n",
       "      <td>14.3</td>\n",
       "      <td>6.0</td>\n",
       "      <td>500(0)</td>\n",
       "      <td>[西] 須貝尚介</td>\n",
       "      <td>2018104980</td>\n",
       "      <td>01095</td>\n",
       "    </tr>\n",
       "    <tr>\n",
       "      <th>202106030811</th>\n",
       "      <td>4</td>\n",
       "      <td>1</td>\n",
       "      <td>1</td>\n",
       "      <td>アドマイヤハダル</td>\n",
       "      <td>牡3</td>\n",
       "      <td>57.0</td>\n",
       "      <td>ルメール</td>\n",
       "      <td>2:01.2</td>\n",
       "      <td>クビ</td>\n",
       "      <td>8.8</td>\n",
       "      <td>3.0</td>\n",
       "      <td>482(-2)</td>\n",
       "      <td>[西] 大久保龍</td>\n",
       "      <td>2018105092</td>\n",
       "      <td>05339</td>\n",
       "    </tr>\n",
       "    <tr>\n",
       "      <th>202106030811</th>\n",
       "      <td>5</td>\n",
       "      <td>3</td>\n",
       "      <td>6</td>\n",
       "      <td>ヨーホーレイク</td>\n",
       "      <td>牡3</td>\n",
       "      <td>57.0</td>\n",
       "      <td>岩田望来</td>\n",
       "      <td>2:01.2</td>\n",
       "      <td>クビ</td>\n",
       "      <td>21.5</td>\n",
       "      <td>11.0</td>\n",
       "      <td>504(-2)</td>\n",
       "      <td>[西] 友道康夫</td>\n",
       "      <td>2018105012</td>\n",
       "      <td>01174</td>\n",
       "    </tr>\n",
       "  </tbody>\n",
       "</table>\n",
       "</div>"
      ],
      "text/plain": [
       "             着順  枠番  馬番         馬名  性齢    斤量    騎手     タイム   着差    単勝    人気  \\\n",
       "202106030811  1   4   7    エフフォーリア  牡3  57.0  横山武史  2:00.6  NaN   3.7   2.0   \n",
       "202106030811  2   7  13   タイトルホルダー  牡3  57.0  田辺裕信  2:01.1    3    17   8.0   \n",
       "202106030811  3   2   3  ステラヴェローチェ  牡3  57.0  吉田隼人  2:01.1   クビ  14.3   6.0   \n",
       "202106030811  4   1   1   アドマイヤハダル  牡3  57.0  ルメール  2:01.2   クビ   8.8   3.0   \n",
       "202106030811  5   3   6    ヨーホーレイク  牡3  57.0  岩田望来  2:01.2   クビ  21.5  11.0   \n",
       "\n",
       "                   馬体重       調教師    horse_id jockey_id  \n",
       "202106030811  504(-10)  [東] 鹿戸雄一  2018105027     01170  \n",
       "202106030811   462(-4)   [東] 栗田徹  2018103559     01075  \n",
       "202106030811    500(0)  [西] 須貝尚介  2018104980     01095  \n",
       "202106030811   482(-2)  [西] 大久保龍  2018105092     05339  \n",
       "202106030811   504(-2)  [西] 友道康夫  2018105012     01174  "
      ]
     },
     "execution_count": 32,
     "metadata": {},
     "output_type": "execute_result"
    }
   ],
   "source": [
    "results = pd.read_pickle('results_2020.pickle')\n",
    "results.head()"
   ]
  },
  {
   "cell_type": "markdown",
   "metadata": {},
   "source": [
    "# レース情報取得"
   ]
  },
  {
   "cell_type": "markdown",
   "metadata": {},
   "source": [
    "## 実際に取得できたレースのid"
   ]
  },
  {
   "cell_type": "code",
   "execution_count": 33,
   "metadata": {
    "scrolled": true
   },
   "outputs": [
    {
     "data": {
      "text/plain": [
       "Index(['202106030811', '202001010101', '202001010102', '202001010103',\n",
       "       '202001010104', '202001010105', '202001010106', '202001010107',\n",
       "       '202001010108', '202001010109',\n",
       "       ...\n",
       "       '202010020803', '202010020804', '202010020805', '202010020806',\n",
       "       '202010020807', '202010020808', '202010020809', '202010020810',\n",
       "       '202010020811', '202010020812'],\n",
       "      dtype='object', length=3121)"
      ]
     },
     "execution_count": 33,
     "metadata": {},
     "output_type": "execute_result"
    }
   ],
   "source": [
    "results.index.unique()"
   ]
  },
  {
   "cell_type": "markdown",
   "metadata": {},
   "source": [
    "## スクレイピング"
   ]
  },
  {
   "cell_type": "code",
   "execution_count": 9,
   "metadata": {
    "code_folding": [
     0
    ]
   },
   "outputs": [],
   "source": [
    "def scrape_race_info(race_id_list):\n",
    "    race_infos = {}\n",
    "    \n",
    "    for race_id in tqdm(race_id_list):\n",
    "        try:\n",
    "            url = 'https://db.netkeiba.com/race/' +race_id\n",
    "            html = requests.get(url)\n",
    "            html.encoding = 'EUC-JP'\n",
    "            soup = BeautifulSoup(html.text, 'html.parser')\n",
    "\n",
    "            texts = soup.find('div',attrs=['class','data_intro']).find_all('p')[0].text + \\\n",
    "                soup.find('div',attrs=['class','data_intro']).find_all('p')[1].text\n",
    "            info = re.findall(r'\\w+', texts)\n",
    "            #infoに含まれるtextの内容によって項目を判断\n",
    "            info_dict = {}\n",
    "            for text in info:\n",
    "                if text in ['芝','ダート']:\n",
    "                    info_dict['race_type'] = text\n",
    "                if '障' in text:\n",
    "                    info_dict['race_type'] = '障害'\n",
    "                if 'm' in text:\n",
    "                    info_dict['course_len'] = re.findall(r'\\d+',text)[0]\n",
    "                if text in ['良','稍重','重','不良']:\n",
    "                    info_dict['ground_state'] = text\n",
    "                if text in ['曇','晴','雨','小雨','小雪','雪']:\n",
    "                    info_dict['weather'] = text\n",
    "                if '年' in text:\n",
    "                    info_dict['date'] = text\n",
    "            race_infos[race_id] = info_dict\n",
    "            time.sleep(0.1)\n",
    "        except IndexError:\n",
    "            continue\n",
    "        except:\n",
    "            break\n",
    "    return pd.DataFrame(race_infos).T"
   ]
  },
  {
   "cell_type": "markdown",
   "metadata": {},
   "source": [
    "## スクレイピング後のデータ"
   ]
  },
  {
   "cell_type": "code",
   "execution_count": 27,
   "metadata": {
    "scrolled": false
   },
   "outputs": [
    {
     "data": {
      "text/html": [
       "<div>\n",
       "<style scoped>\n",
       "    .dataframe tbody tr th:only-of-type {\n",
       "        vertical-align: middle;\n",
       "    }\n",
       "\n",
       "    .dataframe tbody tr th {\n",
       "        vertical-align: top;\n",
       "    }\n",
       "\n",
       "    .dataframe thead th {\n",
       "        text-align: right;\n",
       "    }\n",
       "</style>\n",
       "<table border=\"1\" class=\"dataframe\">\n",
       "  <thead>\n",
       "    <tr style=\"text-align: right;\">\n",
       "      <th></th>\n",
       "      <th>course_len</th>\n",
       "      <th>date</th>\n",
       "      <th>ground_state</th>\n",
       "      <th>race_type</th>\n",
       "      <th>weather</th>\n",
       "    </tr>\n",
       "  </thead>\n",
       "  <tbody>\n",
       "    <tr>\n",
       "      <th>202106030811</th>\n",
       "      <td>2000</td>\n",
       "      <td>2021年4月18日</td>\n",
       "      <td>稍重</td>\n",
       "      <td>芝</td>\n",
       "      <td>晴</td>\n",
       "    </tr>\n",
       "    <tr>\n",
       "      <th>202001010101</th>\n",
       "      <td>1800</td>\n",
       "      <td>2020年7月25日</td>\n",
       "      <td>良</td>\n",
       "      <td>芝</td>\n",
       "      <td>曇</td>\n",
       "    </tr>\n",
       "    <tr>\n",
       "      <th>202001010102</th>\n",
       "      <td>1700</td>\n",
       "      <td>2020年7月25日</td>\n",
       "      <td>良</td>\n",
       "      <td>ダート</td>\n",
       "      <td>曇</td>\n",
       "    </tr>\n",
       "    <tr>\n",
       "      <th>202001010103</th>\n",
       "      <td>1500</td>\n",
       "      <td>2020年7月25日</td>\n",
       "      <td>良</td>\n",
       "      <td>芝</td>\n",
       "      <td>曇</td>\n",
       "    </tr>\n",
       "    <tr>\n",
       "      <th>202001010104</th>\n",
       "      <td>1700</td>\n",
       "      <td>2020年7月25日</td>\n",
       "      <td>良</td>\n",
       "      <td>ダート</td>\n",
       "      <td>曇</td>\n",
       "    </tr>\n",
       "  </tbody>\n",
       "</table>\n",
       "</div>"
      ],
      "text/plain": [
       "             course_len        date ground_state race_type weather\n",
       "202106030811       2000  2021年4月18日           稍重         芝       晴\n",
       "202001010101       1800  2020年7月25日            良         芝       曇\n",
       "202001010102       1700  2020年7月25日            良       ダート       曇\n",
       "202001010103       1500  2020年7月25日            良         芝       曇\n",
       "202001010104       1700  2020年7月25日            良       ダート       曇"
      ]
     },
     "execution_count": 27,
     "metadata": {},
     "output_type": "execute_result"
    }
   ],
   "source": [
    "race_infos = pd.read_pickle('race_infos.pickle')\n",
    "race_infos.head()"
   ]
  },
  {
   "cell_type": "markdown",
   "metadata": {},
   "source": [
    "## レース結果にマージ"
   ]
  },
  {
   "cell_type": "code",
   "execution_count": 35,
   "metadata": {},
   "outputs": [],
   "source": [
    "results_m = results.merge(race_infos, left_index=True, right_index=True, how='inner')"
   ]
  },
  {
   "cell_type": "markdown",
   "metadata": {},
   "source": [
    "## 前処理"
   ]
  },
  {
   "cell_type": "code",
   "execution_count": 36,
   "metadata": {
    "code_folding": [
     0
    ]
   },
   "outputs": [],
   "source": [
    "def preprocessing(race_result):\n",
    "    df = race_result.copy()\n",
    "    #着順から数字以外を含むデータを除く\n",
    "    df = df[-df[\"着順\"].astype(str).str.contains(\"\\D\")] \n",
    "    #性齢を性と齢に分ける\n",
    "    df[\"性\"] = df[\"性齢\"].map(lambda x: str(x)[0])\n",
    "    df[\"齢\"] = df[\"性齢\"].map(lambda x: str(x)[1:]).astype(int)\n",
    "    #馬体重を体重と体重増減に分ける\n",
    "    df[\"体重\"] = df[\"馬体重\"].str.split('(',expand=True)[0].astype(int)\n",
    "    df[\"体重増減\"] = df[\"馬体重\"].str.split('(',expand=True)[1].str[:-1].astype(int)\n",
    "    #型変換と不要列削除\n",
    "    df[\"単勝\"] = df[\"単勝\"].astype(float)\n",
    "    df[\"着順\"] = df[\"着順\"].astype(int)\n",
    "    df[\"人気\"] = df[\"人気\"].astype(int)\n",
    "    df.drop(['性齢','馬体重','タイム','着差','調教師'], axis=1,inplace=True)\n",
    "    df['date'] = pd.to_datetime(df['date'], format='%Y年%m月%d日')\n",
    "    df['course_len'] = df['course_len'].astype(int)\n",
    "    \n",
    "    return df"
   ]
  },
  {
   "cell_type": "code",
   "execution_count": 37,
   "metadata": {},
   "outputs": [],
   "source": [
    "results_p = preprocessing(results_m)"
   ]
  },
  {
   "cell_type": "markdown",
   "metadata": {},
   "source": [
    "## 前処理後のデータ"
   ]
  },
  {
   "cell_type": "code",
   "execution_count": 39,
   "metadata": {
    "scrolled": true
   },
   "outputs": [
    {
     "data": {
      "text/html": [
       "<div>\n",
       "<style scoped>\n",
       "    .dataframe tbody tr th:only-of-type {\n",
       "        vertical-align: middle;\n",
       "    }\n",
       "\n",
       "    .dataframe tbody tr th {\n",
       "        vertical-align: top;\n",
       "    }\n",
       "\n",
       "    .dataframe thead th {\n",
       "        text-align: right;\n",
       "    }\n",
       "</style>\n",
       "<table border=\"1\" class=\"dataframe\">\n",
       "  <thead>\n",
       "    <tr style=\"text-align: right;\">\n",
       "      <th></th>\n",
       "      <th>着順</th>\n",
       "      <th>枠番</th>\n",
       "      <th>馬番</th>\n",
       "      <th>馬名</th>\n",
       "      <th>斤量</th>\n",
       "      <th>騎手</th>\n",
       "      <th>単勝</th>\n",
       "      <th>人気</th>\n",
       "      <th>horse_id</th>\n",
       "      <th>jockey_id</th>\n",
       "      <th>course_len</th>\n",
       "      <th>date</th>\n",
       "      <th>ground_state</th>\n",
       "      <th>race_type</th>\n",
       "      <th>weather</th>\n",
       "      <th>性</th>\n",
       "      <th>齢</th>\n",
       "      <th>体重</th>\n",
       "      <th>体重増減</th>\n",
       "    </tr>\n",
       "  </thead>\n",
       "  <tbody>\n",
       "    <tr>\n",
       "      <th>202001010101</th>\n",
       "      <td>1</td>\n",
       "      <td>6</td>\n",
       "      <td>6</td>\n",
       "      <td>ウインルーア</td>\n",
       "      <td>54.0</td>\n",
       "      <td>横山武史</td>\n",
       "      <td>16.0</td>\n",
       "      <td>3</td>\n",
       "      <td>2018101626</td>\n",
       "      <td>01170</td>\n",
       "      <td>1800</td>\n",
       "      <td>2020-07-25</td>\n",
       "      <td>良</td>\n",
       "      <td>芝</td>\n",
       "      <td>曇</td>\n",
       "      <td>牝</td>\n",
       "      <td>2</td>\n",
       "      <td>438</td>\n",
       "      <td>4</td>\n",
       "    </tr>\n",
       "    <tr>\n",
       "      <th>202001010101</th>\n",
       "      <td>2</td>\n",
       "      <td>2</td>\n",
       "      <td>2</td>\n",
       "      <td>アークライト</td>\n",
       "      <td>54.0</td>\n",
       "      <td>ルメール</td>\n",
       "      <td>1.9</td>\n",
       "      <td>2</td>\n",
       "      <td>2018105193</td>\n",
       "      <td>05339</td>\n",
       "      <td>1800</td>\n",
       "      <td>2020-07-25</td>\n",
       "      <td>良</td>\n",
       "      <td>芝</td>\n",
       "      <td>曇</td>\n",
       "      <td>牡</td>\n",
       "      <td>2</td>\n",
       "      <td>510</td>\n",
       "      <td>0</td>\n",
       "    </tr>\n",
       "    <tr>\n",
       "      <th>202001010101</th>\n",
       "      <td>3</td>\n",
       "      <td>3</td>\n",
       "      <td>3</td>\n",
       "      <td>ギャラントウォリア</td>\n",
       "      <td>54.0</td>\n",
       "      <td>池添謙一</td>\n",
       "      <td>1.8</td>\n",
       "      <td>1</td>\n",
       "      <td>2018104800</td>\n",
       "      <td>01032</td>\n",
       "      <td>1800</td>\n",
       "      <td>2020-07-25</td>\n",
       "      <td>良</td>\n",
       "      <td>芝</td>\n",
       "      <td>曇</td>\n",
       "      <td>牡</td>\n",
       "      <td>2</td>\n",
       "      <td>482</td>\n",
       "      <td>-6</td>\n",
       "    </tr>\n",
       "    <tr>\n",
       "      <th>202001010101</th>\n",
       "      <td>4</td>\n",
       "      <td>1</td>\n",
       "      <td>1</td>\n",
       "      <td>ジュンブーケ</td>\n",
       "      <td>52.0</td>\n",
       "      <td>亀田温心</td>\n",
       "      <td>22.2</td>\n",
       "      <td>4</td>\n",
       "      <td>2018102410</td>\n",
       "      <td>01176</td>\n",
       "      <td>1800</td>\n",
       "      <td>2020-07-25</td>\n",
       "      <td>良</td>\n",
       "      <td>芝</td>\n",
       "      <td>曇</td>\n",
       "      <td>牝</td>\n",
       "      <td>2</td>\n",
       "      <td>442</td>\n",
       "      <td>0</td>\n",
       "    </tr>\n",
       "    <tr>\n",
       "      <th>202001010101</th>\n",
       "      <td>5</td>\n",
       "      <td>4</td>\n",
       "      <td>4</td>\n",
       "      <td>キタノマンゲツ</td>\n",
       "      <td>54.0</td>\n",
       "      <td>藤岡康太</td>\n",
       "      <td>55.7</td>\n",
       "      <td>5</td>\n",
       "      <td>2018100828</td>\n",
       "      <td>01116</td>\n",
       "      <td>1800</td>\n",
       "      <td>2020-07-25</td>\n",
       "      <td>良</td>\n",
       "      <td>芝</td>\n",
       "      <td>曇</td>\n",
       "      <td>牡</td>\n",
       "      <td>2</td>\n",
       "      <td>426</td>\n",
       "      <td>-8</td>\n",
       "    </tr>\n",
       "  </tbody>\n",
       "</table>\n",
       "</div>"
      ],
      "text/plain": [
       "              着順  枠番  馬番         馬名    斤量    騎手    単勝  人気    horse_id  \\\n",
       "202001010101   1   6   6     ウインルーア  54.0  横山武史  16.0   3  2018101626   \n",
       "202001010101   2   2   2     アークライト  54.0  ルメール   1.9   2  2018105193   \n",
       "202001010101   3   3   3  ギャラントウォリア  54.0  池添謙一   1.8   1  2018104800   \n",
       "202001010101   4   1   1     ジュンブーケ  52.0  亀田温心  22.2   4  2018102410   \n",
       "202001010101   5   4   4    キタノマンゲツ  54.0  藤岡康太  55.7   5  2018100828   \n",
       "\n",
       "             jockey_id  course_len       date ground_state race_type weather  \\\n",
       "202001010101     01170        1800 2020-07-25            良         芝       曇   \n",
       "202001010101     05339        1800 2020-07-25            良         芝       曇   \n",
       "202001010101     01032        1800 2020-07-25            良         芝       曇   \n",
       "202001010101     01176        1800 2020-07-25            良         芝       曇   \n",
       "202001010101     01116        1800 2020-07-25            良         芝       曇   \n",
       "\n",
       "              性  齢   体重  体重増減  \n",
       "202001010101  牝  2  438     4  \n",
       "202001010101  牡  2  510     0  \n",
       "202001010101  牡  2  482    -6  \n",
       "202001010101  牝  2  442     0  \n",
       "202001010101  牡  2  426    -8  "
      ]
     },
     "execution_count": 39,
     "metadata": {},
     "output_type": "execute_result"
    }
   ],
   "source": [
    "results_p.head()"
   ]
  },
  {
   "cell_type": "markdown",
   "metadata": {},
   "source": [
    "# 馬ごとの過去成績を取得"
   ]
  },
  {
   "cell_type": "markdown",
   "metadata": {},
   "source": [
    "## 取得する馬のidを指定"
   ]
  },
  {
   "cell_type": "code",
   "execution_count": 43,
   "metadata": {},
   "outputs": [
    {
     "data": {
      "text/plain": [
       "11344"
      ]
     },
     "execution_count": 43,
     "metadata": {},
     "output_type": "execute_result"
    }
   ],
   "source": [
    "horse_id_list = results_p['horse_id'].unique()\n",
    "len(horse_id_list)"
   ]
  },
  {
   "cell_type": "markdown",
   "metadata": {},
   "source": [
    "## スクレイピング"
   ]
  },
  {
   "cell_type": "code",
   "execution_count": 52,
   "metadata": {
    "code_folding": [
     0
    ]
   },
   "outputs": [],
   "source": [
    "def scraping_horse_result(id_list, pre_horse_results={}):\n",
    "    horse_results = pre_horse_results\n",
    "    \n",
    "    for horse_id in tqdm(id_list):\n",
    "        if horse_id in horse_results.keys():\n",
    "            continue\n",
    "        try:\n",
    "            url='https://db.netkeiba.com/horse/' + horse_id\n",
    "            df = pd.read_html(url)[3]\n",
    "            horse_results[horse_id] = df\n",
    "            time.sleep(0.1)\n",
    "        except IndexError:\n",
    "            continue\n",
    "        except:\n",
    "            break\n",
    "    return horse_results"
   ]
  },
  {
   "cell_type": "markdown",
   "metadata": {},
   "source": [
    "## データ更新時"
   ]
  },
  {
   "cell_type": "code",
   "execution_count": 53,
   "metadata": {},
   "outputs": [
    {
     "name": "stderr",
     "output_type": "stream",
     "text": [
      "C:\\Users\\owner\\anaconda3\\lib\\site-packages\\ipykernel_launcher.py:4: TqdmDeprecationWarning: This function will be removed in tqdm==5.0.0\n",
      "Please use `tqdm.notebook.tqdm` instead of `tqdm.tqdm_notebook`\n",
      "  after removing the cwd from sys.path.\n"
     ]
    },
    {
     "data": {
      "application/vnd.jupyter.widget-view+json": {
       "model_id": "9ca16dcb625249b2a8f8f210880da2bc",
       "version_major": 2,
       "version_minor": 0
      },
      "text/plain": [
       "HBox(children=(FloatProgress(value=0.0, max=45.0), HTML(value='')))"
      ]
     },
     "metadata": {},
     "output_type": "display_data"
    },
    {
     "name": "stdout",
     "output_type": "stream",
     "text": [
      "\n"
     ]
    }
   ],
   "source": [
    "horse_results_new = update(scraping_horse_result, horse_id_list, horse_results)"
   ]
  },
  {
   "cell_type": "code",
   "execution_count": 58,
   "metadata": {},
   "outputs": [],
   "source": [
    "horse_results_new = dict_to_pd(horse_results_new)"
   ]
  },
  {
   "cell_type": "code",
   "execution_count": 60,
   "metadata": {},
   "outputs": [],
   "source": [
    "horse_results = pd.concat([horse_results_new, horse_results])"
   ]
  },
  {
   "cell_type": "code",
   "execution_count": 63,
   "metadata": {},
   "outputs": [],
   "source": [
    "horse_results.to_pickle('horse_results.pickle')"
   ]
  },
  {
   "cell_type": "markdown",
   "metadata": {},
   "source": [
    "## スクレイピング後のデータ"
   ]
  },
  {
   "cell_type": "code",
   "execution_count": 69,
   "metadata": {},
   "outputs": [
    {
     "data": {
      "text/plain": [
       "11389"
      ]
     },
     "execution_count": 69,
     "metadata": {},
     "output_type": "execute_result"
    }
   ],
   "source": [
    "horse_results = pd.read_pickle('horse_results.pickle')\n",
    "horse_results.index.nunique()"
   ]
  },
  {
   "cell_type": "code",
   "execution_count": 175,
   "metadata": {},
   "outputs": [
    {
     "data": {
      "text/plain": [
       "Index(['日付', '開催', '天気', 'R', 'レース名', '映像', '頭数', '枠番', '馬番', 'オッズ', '人気',\n",
       "       '着順', '騎手', '斤量', '距離', '馬場', '馬場指数', 'タイム', '着差', 'ﾀｲﾑ指数', '通過', 'ペース',\n",
       "       '上り', '馬体重', '厩舎ｺﾒﾝﾄ', '備考', '勝ち馬(2着馬)', '賞金', '受賞歴'],\n",
       "      dtype='object')"
      ]
     },
     "execution_count": 175,
     "metadata": {},
     "output_type": "execute_result"
    }
   ],
   "source": [
    "horse_results.columns"
   ]
  },
  {
   "cell_type": "markdown",
   "metadata": {},
   "source": [
    "## HorseResultsクラス"
   ]
  },
  {
   "cell_type": "code",
   "execution_count": 70,
   "metadata": {
    "code_folding": [
     10,
     37,
     51,
     57
    ]
   },
   "outputs": [],
   "source": [
    "class HorseResults:\n",
    "    def __init__(self, horse_results):\n",
    "        self.horse_results = horse_results[['日付','R','賞金','開催','距離','タイム']]\n",
    "        self.preprocessing()\n",
    "        \n",
    "    @classmethod\n",
    "    def read_pickle(cls, path_list):\n",
    "        df = pd.concat([pd.read_pickle(path) for path in path_list])\n",
    "        return cls(df)\n",
    "        \n",
    "    def preprocessing(self):\n",
    "        df = self.horse_results.copy()\n",
    "        df = df[-df['R'].isnull()]\n",
    "        df['賞金'] = df['賞金'].fillna(0).astype('int')\n",
    "        df['日付'] = pd.to_datetime(df['日付'])\n",
    "        df.rename(columns={'R':'着順'}, inplace=True)\n",
    "        df['着順'] = df['着順'].astype('int')\n",
    "        \n",
    "#         #開催場所\n",
    "#         place_dict = {'札幌':'01', '函館':'02', '福島':'03', '新潟':'04', '東京':'05', \n",
    "#                       '中山':'06', '中京':'07', '京都':'08', '阪神':'09','小倉':'10'}\n",
    "#         df['開催'] = df['開催'].str.extract(r'(\\D+)')[0].map(place_dict).fillna('11')\n",
    "#         #距離\n",
    "#         df['距離'] = df['距離'].str.extract(r'(\\D+)')\n",
    "#         #タイム\n",
    "#         def to_second(x):\n",
    "#             info = re.findall(r'(\\d+)', str(x))\n",
    "#             if len(info)==3:\n",
    "#                 second = int(info[0]) * 60 + int(info[1])\n",
    "#             else:\n",
    "#                 second = 0        \n",
    "#             return second\n",
    "        \n",
    "#         df['タイム'] = df['タイム'].map(lambda x : to_second(x))\n",
    "        \n",
    "        self.horse_results = df\n",
    "    \n",
    "    def average(self, horse_id_list, date, n_samples='all'):\n",
    "        target_df = self.horse_results[self.horse_results.index.isin(horse_id_list)]\n",
    "        #平均する対象をレース日付以前のうち直近n_samplesのデータのみに限定する（古いデータを反映させないため）\n",
    "        if n_samples=='all':\n",
    "            filtered_df = target_df[target_df['日付'] < date]\n",
    "        elif n_samples > 0:\n",
    "            filtered_df = target_df[target_df['日付'] < date].sort_values('日付', ascending=False).groupby(level=0).head(n_samples)\n",
    "        else:\n",
    "            raise Exception('n_samples must be >0')\n",
    "        \n",
    "        filtered_df = filtered_df.groupby(level=0)[['着順','賞金']].mean()\n",
    "        filtered_df.rename(columns={'着順':'着順_{}R'.format(n_samples),'賞金':'賞金_{}R'.format(n_samples)}, inplace=True)\n",
    "        return filtered_df\n",
    "    \n",
    "    def merge(self, results, date, n_samples):\n",
    "        df = results[results['date'] == date]\n",
    "        horse_id_list = df['horse_id']\n",
    "        merged_df = df.merge(self.average(horse_id_list, date, n_samples), left_on='horse_id', right_index=True, how='left')\n",
    "        return merged_df\n",
    "    \n",
    "    def merge_all(self, results, n_samples='all'):\n",
    "        date_list = results['date'].unique()\n",
    "        #レース結果の同じ日付のかたまりごとに1行ずつhorse_idにひもづくその日付以前の戦績の平均を算出し（average）、\n",
    "        #レース結果のかたまりにマージする(merge)という意味\n",
    "        merged_df = pd.concat([self.merge(results, date, n_samples) for date in tqdm(date_list)]) \n",
    "        return merged_df"
   ]
  },
  {
   "cell_type": "markdown",
   "metadata": {},
   "source": [
    "## レース結果にマージ"
   ]
  },
  {
   "cell_type": "code",
   "execution_count": 72,
   "metadata": {},
   "outputs": [
    {
     "data": {
      "application/vnd.jupyter.widget-view+json": {
       "model_id": "6bde03745e944f7d966012ebca036953",
       "version_major": 2,
       "version_minor": 0
      },
      "text/plain": [
       "HBox(children=(FloatProgress(value=0.0, max=105.0), HTML(value='')))"
      ]
     },
     "metadata": {},
     "output_type": "display_data"
    },
    {
     "name": "stdout",
     "output_type": "stream",
     "text": [
      "\n"
     ]
    }
   ],
   "source": [
    "hr = HorseResults(horse_results)\n",
    "results_5R = hr.merge_all(results_p, n_samples=5)"
   ]
  },
  {
   "cell_type": "markdown",
   "metadata": {},
   "source": [
    "## マージ後のデータ"
   ]
  },
  {
   "cell_type": "code",
   "execution_count": 73,
   "metadata": {},
   "outputs": [
    {
     "data": {
      "text/html": [
       "<div>\n",
       "<style scoped>\n",
       "    .dataframe tbody tr th:only-of-type {\n",
       "        vertical-align: middle;\n",
       "    }\n",
       "\n",
       "    .dataframe tbody tr th {\n",
       "        vertical-align: top;\n",
       "    }\n",
       "\n",
       "    .dataframe thead th {\n",
       "        text-align: right;\n",
       "    }\n",
       "</style>\n",
       "<table border=\"1\" class=\"dataframe\">\n",
       "  <thead>\n",
       "    <tr style=\"text-align: right;\">\n",
       "      <th></th>\n",
       "      <th>着順</th>\n",
       "      <th>枠番</th>\n",
       "      <th>馬番</th>\n",
       "      <th>馬名</th>\n",
       "      <th>斤量</th>\n",
       "      <th>騎手</th>\n",
       "      <th>単勝</th>\n",
       "      <th>人気</th>\n",
       "      <th>horse_id</th>\n",
       "      <th>jockey_id</th>\n",
       "      <th>...</th>\n",
       "      <th>date</th>\n",
       "      <th>ground_state</th>\n",
       "      <th>race_type</th>\n",
       "      <th>weather</th>\n",
       "      <th>性</th>\n",
       "      <th>齢</th>\n",
       "      <th>体重</th>\n",
       "      <th>体重増減</th>\n",
       "      <th>着順_5R</th>\n",
       "      <th>賞金_5R</th>\n",
       "    </tr>\n",
       "  </thead>\n",
       "  <tbody>\n",
       "    <tr>\n",
       "      <th>202001010101</th>\n",
       "      <td>1</td>\n",
       "      <td>6</td>\n",
       "      <td>6</td>\n",
       "      <td>ウインルーア</td>\n",
       "      <td>54.0</td>\n",
       "      <td>横山武史</td>\n",
       "      <td>16.0</td>\n",
       "      <td>3</td>\n",
       "      <td>2018101626</td>\n",
       "      <td>01170</td>\n",
       "      <td>...</td>\n",
       "      <td>2020-07-25</td>\n",
       "      <td>良</td>\n",
       "      <td>芝</td>\n",
       "      <td>曇</td>\n",
       "      <td>牝</td>\n",
       "      <td>2</td>\n",
       "      <td>438</td>\n",
       "      <td>4</td>\n",
       "      <td>6.0</td>\n",
       "      <td>0.0</td>\n",
       "    </tr>\n",
       "    <tr>\n",
       "      <th>202001010101</th>\n",
       "      <td>2</td>\n",
       "      <td>2</td>\n",
       "      <td>2</td>\n",
       "      <td>アークライト</td>\n",
       "      <td>54.0</td>\n",
       "      <td>ルメール</td>\n",
       "      <td>1.9</td>\n",
       "      <td>2</td>\n",
       "      <td>2018105193</td>\n",
       "      <td>05339</td>\n",
       "      <td>...</td>\n",
       "      <td>2020-07-25</td>\n",
       "      <td>良</td>\n",
       "      <td>芝</td>\n",
       "      <td>曇</td>\n",
       "      <td>牡</td>\n",
       "      <td>2</td>\n",
       "      <td>510</td>\n",
       "      <td>0</td>\n",
       "      <td>5.0</td>\n",
       "      <td>280.0</td>\n",
       "    </tr>\n",
       "    <tr>\n",
       "      <th>202001010101</th>\n",
       "      <td>3</td>\n",
       "      <td>3</td>\n",
       "      <td>3</td>\n",
       "      <td>ギャラントウォリア</td>\n",
       "      <td>54.0</td>\n",
       "      <td>池添謙一</td>\n",
       "      <td>1.8</td>\n",
       "      <td>1</td>\n",
       "      <td>2018104800</td>\n",
       "      <td>01032</td>\n",
       "      <td>...</td>\n",
       "      <td>2020-07-25</td>\n",
       "      <td>良</td>\n",
       "      <td>芝</td>\n",
       "      <td>曇</td>\n",
       "      <td>牡</td>\n",
       "      <td>2</td>\n",
       "      <td>482</td>\n",
       "      <td>-6</td>\n",
       "      <td>5.0</td>\n",
       "      <td>280.0</td>\n",
       "    </tr>\n",
       "    <tr>\n",
       "      <th>202001010101</th>\n",
       "      <td>4</td>\n",
       "      <td>1</td>\n",
       "      <td>1</td>\n",
       "      <td>ジュンブーケ</td>\n",
       "      <td>52.0</td>\n",
       "      <td>亀田温心</td>\n",
       "      <td>22.2</td>\n",
       "      <td>4</td>\n",
       "      <td>2018102410</td>\n",
       "      <td>01176</td>\n",
       "      <td>...</td>\n",
       "      <td>2020-07-25</td>\n",
       "      <td>良</td>\n",
       "      <td>芝</td>\n",
       "      <td>曇</td>\n",
       "      <td>牝</td>\n",
       "      <td>2</td>\n",
       "      <td>442</td>\n",
       "      <td>0</td>\n",
       "      <td>5.0</td>\n",
       "      <td>70.0</td>\n",
       "    </tr>\n",
       "    <tr>\n",
       "      <th>202001010101</th>\n",
       "      <td>5</td>\n",
       "      <td>4</td>\n",
       "      <td>4</td>\n",
       "      <td>キタノマンゲツ</td>\n",
       "      <td>54.0</td>\n",
       "      <td>藤岡康太</td>\n",
       "      <td>55.7</td>\n",
       "      <td>5</td>\n",
       "      <td>2018100828</td>\n",
       "      <td>01116</td>\n",
       "      <td>...</td>\n",
       "      <td>2020-07-25</td>\n",
       "      <td>良</td>\n",
       "      <td>芝</td>\n",
       "      <td>曇</td>\n",
       "      <td>牡</td>\n",
       "      <td>2</td>\n",
       "      <td>426</td>\n",
       "      <td>-8</td>\n",
       "      <td>5.0</td>\n",
       "      <td>0.0</td>\n",
       "    </tr>\n",
       "  </tbody>\n",
       "</table>\n",
       "<p>5 rows × 21 columns</p>\n",
       "</div>"
      ],
      "text/plain": [
       "              着順  枠番  馬番         馬名    斤量    騎手    単勝  人気    horse_id  \\\n",
       "202001010101   1   6   6     ウインルーア  54.0  横山武史  16.0   3  2018101626   \n",
       "202001010101   2   2   2     アークライト  54.0  ルメール   1.9   2  2018105193   \n",
       "202001010101   3   3   3  ギャラントウォリア  54.0  池添謙一   1.8   1  2018104800   \n",
       "202001010101   4   1   1     ジュンブーケ  52.0  亀田温心  22.2   4  2018102410   \n",
       "202001010101   5   4   4    キタノマンゲツ  54.0  藤岡康太  55.7   5  2018100828   \n",
       "\n",
       "             jockey_id  ...       date ground_state race_type weather  性  齢  \\\n",
       "202001010101     01170  ... 2020-07-25            良         芝       曇  牝  2   \n",
       "202001010101     05339  ... 2020-07-25            良         芝       曇  牡  2   \n",
       "202001010101     01032  ... 2020-07-25            良         芝       曇  牡  2   \n",
       "202001010101     01176  ... 2020-07-25            良         芝       曇  牝  2   \n",
       "202001010101     01116  ... 2020-07-25            良         芝       曇  牡  2   \n",
       "\n",
       "               体重  体重増減  着順_5R  賞金_5R  \n",
       "202001010101  438     4    6.0    0.0  \n",
       "202001010101  510     0    5.0  280.0  \n",
       "202001010101  482    -6    5.0  280.0  \n",
       "202001010101  442     0    5.0   70.0  \n",
       "202001010101  426    -8    5.0    0.0  \n",
       "\n",
       "[5 rows x 21 columns]"
      ]
     },
     "execution_count": 73,
     "metadata": {},
     "output_type": "execute_result"
    }
   ],
   "source": [
    "results_5R.head()"
   ]
  },
  {
   "cell_type": "markdown",
   "metadata": {},
   "source": [
    "# 払戻しデータを取得"
   ]
  },
  {
   "cell_type": "code",
   "execution_count": 87,
   "metadata": {},
   "outputs": [],
   "source": [
    "from urllib.request import urlopen\n",
    "\n",
    "def scraping_return_tables(id_list):\n",
    "    return_tables = {}\n",
    "    for race_id in tqdm(id_list):\n",
    "        try:\n",
    "            url='https://db.netkeiba.com/race/' + race_id\n",
    "            f = urlopen(url)\n",
    "            html = f.read()#バイト型の文字列\n",
    "            html = html.replace(b'<br />', b'br')\n",
    "            dfs = pd.read_html(html)\n",
    "            return_tables[race_id] = pd.concat([dfs[1], dfs[2]])\n",
    "            time.sleep(0.1)\n",
    "        except IndexError:\n",
    "            continue\n",
    "        except:\n",
    "            break\n",
    "            \n",
    "    for key in return_tables.keys():\n",
    "        return_tables[key].index = [key]*len(return_tables[key])\n",
    "        \n",
    "    return_tables_pd = pd.concat([return_tables[key] for key in return_tables.keys()],sort=False)\n",
    "    return return_tables_pd"
   ]
  },
  {
   "cell_type": "markdown",
   "metadata": {},
   "source": [
    "## スクレイピング後のデータ"
   ]
  },
  {
   "cell_type": "code",
   "execution_count": 146,
   "metadata": {},
   "outputs": [
    {
     "data": {
      "text/plain": [
       "3121"
      ]
     },
     "execution_count": 146,
     "metadata": {},
     "output_type": "execute_result"
    }
   ],
   "source": [
    "return_tables = pd.read_pickle('return_tables.pickle')\n",
    "return_tables.index.nunique()"
   ]
  },
  {
   "cell_type": "markdown",
   "metadata": {},
   "source": [
    "## 更新時"
   ]
  },
  {
   "cell_type": "code",
   "execution_count": 88,
   "metadata": {},
   "outputs": [
    {
     "data": {
      "application/vnd.jupyter.widget-view+json": {
       "model_id": "2bab17765e254891884c245d41200161",
       "version_major": 2,
       "version_minor": 0
      },
      "text/plain": [
       "HBox(children=(FloatProgress(value=0.0, max=1.0), HTML(value='')))"
      ]
     },
     "metadata": {},
     "output_type": "display_data"
    },
    {
     "name": "stdout",
     "output_type": "stream",
     "text": [
      "\n"
     ]
    }
   ],
   "source": [
    "return_tables_new = update(scraping_return_tables, results.index.unique(), return_tables, merge=True)"
   ]
  },
  {
   "cell_type": "code",
   "execution_count": 92,
   "metadata": {},
   "outputs": [],
   "source": [
    "return_tables_new.to_pickle('return_tables.pickle')"
   ]
  },
  {
   "cell_type": "markdown",
   "metadata": {},
   "source": [
    "## Returnクラス"
   ]
  },
  {
   "cell_type": "code",
   "execution_count": 137,
   "metadata": {
    "code_folding": [
     0
    ]
   },
   "outputs": [],
   "source": [
    "class Return:\n",
    "    def __init__(self, return_tables):\n",
    "        self.return_tables = return_tables\n",
    "    \n",
    "    @classmethod\n",
    "    def read_pickle(cls, path_list):\n",
    "        df = pd.concat([pd.read_pickle(path) for path in path_list])\n",
    "        return cls(df)\n",
    "    \n",
    "    @property\n",
    "    def tan(self):\n",
    "        tan = self.return_tables[self.return_tables[0] == '単勝'][[1,2]]\n",
    "        tan.columns = ['win', 'return']\n",
    "        \n",
    "        for column in tan.columns:\n",
    "            tan[column] = pd.to_numeric(tan[column], errors='coerce')\n",
    "        return tan\n",
    "    \n",
    "    @property\n",
    "    def fuku(self):\n",
    "        fuku = self.return_tables[self.return_tables[0] == '複勝'][[1,2]]\n",
    "        #勝ち馬の馬番\n",
    "        wins = fuku[1].str.split('br', expand = True).drop([3,4], axis=1)\n",
    "        wins.columns = ['win_0', 'win_1', 'win_2']\n",
    "        #払い戻し\n",
    "        returns = fuku[2].str.split('br', expand = True).drop([3,4], axis=1)\n",
    "        returns.columns = ['return_0', 'return_1', 'return_2']\n",
    "        \n",
    "        df = pd.concat([wins, returns], axis=1)\n",
    "        for column in df.columns:\n",
    "            df[column] = df[column].str.replace(',','')\n",
    "        return df.fillna(0).astype(int)\n",
    "    \n",
    "    @property\n",
    "    def umaren(self):\n",
    "        umaren = self.return_tables[self.return_tables[0] == '馬連'][[1,2]]\n",
    "        wins = umaren[1].str.split('-', expand = True)[[0,1]].add_prefix('win_')\n",
    "        returns = umaren[2].rename('return')\n",
    "        \n",
    "        df = pd.concat([wins, returns], axis=1)\n",
    "        return df.apply(lambda x: pd.to_numeric(x, errors='coerce')) #brを含むものをNaNにする"
   ]
  },
  {
   "cell_type": "code",
   "execution_count": 86,
   "metadata": {},
   "outputs": [],
   "source": [
    "rt = Return.read_pickle(['return_tables.pickle'])"
   ]
  },
  {
   "cell_type": "markdown",
   "metadata": {},
   "source": [
    "# 血統データ取得"
   ]
  },
  {
   "cell_type": "markdown",
   "metadata": {},
   "source": [
    "## スクレイピング"
   ]
  },
  {
   "cell_type": "code",
   "execution_count": null,
   "metadata": {
    "code_folding": [
     0
    ]
   },
   "outputs": [],
   "source": [
    "def scraping_peds(id_list, pre_peds={}):\n",
    "    peds = pre_peds\n",
    "    \n",
    "    for horse_id in tqdm(id_list):\n",
    "        if horse_id in pre_peds.keys():\n",
    "            continue\n",
    "        try:\n",
    "            url='https://db.netkeiba.com/horse/ped/' + horse_id\n",
    "            df = pd.read_html(url)[0]\n",
    "            generations = {}\n",
    "            for i in reversed(range(5)):\n",
    "                generations[i] = df[i] #若い世代から順に\n",
    "                df.drop([i], axis=1, inplace=True)\n",
    "                df = df.drop_duplicates()\n",
    "                \n",
    "            ped = pd.concat(generations[i] for i in range(5)).rename(horse_id)\n",
    "            peds[horse_id] = ped.reset_index(drop=True)\n",
    "            time.sleep(0.1)\n",
    "        except IndexError:\n",
    "            continue\n",
    "        except Exception as e:\n",
    "            print(e)\n",
    "            break\n",
    "    return peds"
   ]
  },
  {
   "cell_type": "code",
   "execution_count": 246,
   "metadata": {},
   "outputs": [
    {
     "data": {
      "text/plain": [
       "11389"
      ]
     },
     "execution_count": 246,
     "metadata": {},
     "output_type": "execute_result"
    }
   ],
   "source": [
    "horse_id_list = horse_results.index.unique()\n",
    "peds = scraping_peds(horse_id_list)\n",
    "peds = pd.concat([peds[horse_id] for horse_id in peds], axis=1).T\n",
    "peds = peds.add_prefix('peds_')"
   ]
  },
  {
   "cell_type": "markdown",
   "metadata": {},
   "source": [
    "## スクレイピング後のデータ"
   ]
  },
  {
   "cell_type": "code",
   "execution_count": 93,
   "metadata": {},
   "outputs": [
    {
     "data": {
      "text/plain": [
       "11389"
      ]
     },
     "execution_count": 93,
     "metadata": {},
     "output_type": "execute_result"
    }
   ],
   "source": [
    "peds = pd.read_pickle('peds.pickle')\n",
    "peds.index.nunique()"
   ]
  },
  {
   "cell_type": "markdown",
   "metadata": {},
   "source": [
    "## Pedsクラス"
   ]
  },
  {
   "cell_type": "code",
   "execution_count": 95,
   "metadata": {},
   "outputs": [],
   "source": [
    "from sklearn.preprocessing import LabelEncoder\n",
    "\n",
    "class Peds:\n",
    "    def __init__(self, peds):\n",
    "        self.peds = peds\n",
    "        self.peds_en = pd.DataFrame()\n",
    "        \n",
    "    @classmethod\n",
    "    def read_pickle(cls, path_list):\n",
    "        df = pd.concat([pd.read_pickle(path) for path in path_list])\n",
    "        return cls(df)\n",
    "    \n",
    "    def encode(self):\n",
    "        df = self.peds.copy()\n",
    "        for column in df.columns:\n",
    "            df[column] = LabelEncoder().fit_transform(df[column].fillna('Na'))\n",
    "        self.peds_en = df.astype('category')"
   ]
  },
  {
   "cell_type": "markdown",
   "metadata": {},
   "source": [
    "## category型に変換"
   ]
  },
  {
   "cell_type": "code",
   "execution_count": 96,
   "metadata": {},
   "outputs": [],
   "source": [
    "ped = Peds.read_pickle(['peds.pickle'])\n",
    "ped.encode()"
   ]
  },
  {
   "cell_type": "code",
   "execution_count": 99,
   "metadata": {
    "scrolled": false
   },
   "outputs": [
    {
     "data": {
      "text/html": [
       "<div>\n",
       "<style scoped>\n",
       "    .dataframe tbody tr th:only-of-type {\n",
       "        vertical-align: middle;\n",
       "    }\n",
       "\n",
       "    .dataframe tbody tr th {\n",
       "        vertical-align: top;\n",
       "    }\n",
       "\n",
       "    .dataframe thead th {\n",
       "        text-align: right;\n",
       "    }\n",
       "</style>\n",
       "<table border=\"1\" class=\"dataframe\">\n",
       "  <thead>\n",
       "    <tr style=\"text-align: right;\">\n",
       "      <th></th>\n",
       "      <th>peds_0</th>\n",
       "      <th>peds_1</th>\n",
       "      <th>peds_2</th>\n",
       "      <th>peds_3</th>\n",
       "      <th>peds_4</th>\n",
       "      <th>peds_5</th>\n",
       "      <th>peds_6</th>\n",
       "      <th>peds_7</th>\n",
       "      <th>peds_8</th>\n",
       "      <th>peds_9</th>\n",
       "      <th>...</th>\n",
       "      <th>peds_52</th>\n",
       "      <th>peds_53</th>\n",
       "      <th>peds_54</th>\n",
       "      <th>peds_55</th>\n",
       "      <th>peds_56</th>\n",
       "      <th>peds_57</th>\n",
       "      <th>peds_58</th>\n",
       "      <th>peds_59</th>\n",
       "      <th>peds_60</th>\n",
       "      <th>peds_61</th>\n",
       "    </tr>\n",
       "  </thead>\n",
       "  <tbody>\n",
       "    <tr>\n",
       "      <th>2018101626</th>\n",
       "      <td>253</td>\n",
       "      <td>2123</td>\n",
       "      <td>165</td>\n",
       "      <td>370</td>\n",
       "      <td>762</td>\n",
       "      <td>4026</td>\n",
       "      <td>96</td>\n",
       "      <td>168</td>\n",
       "      <td>230</td>\n",
       "      <td>372</td>\n",
       "      <td>...</td>\n",
       "      <td>56</td>\n",
       "      <td>333</td>\n",
       "      <td>63</td>\n",
       "      <td>370</td>\n",
       "      <td>72</td>\n",
       "      <td>485</td>\n",
       "      <td>87</td>\n",
       "      <td>821</td>\n",
       "      <td>1312</td>\n",
       "      <td>3114</td>\n",
       "    </tr>\n",
       "    <tr>\n",
       "      <th>2018105193</th>\n",
       "      <td>338</td>\n",
       "      <td>4804</td>\n",
       "      <td>154</td>\n",
       "      <td>237</td>\n",
       "      <td>749</td>\n",
       "      <td>4445</td>\n",
       "      <td>35</td>\n",
       "      <td>152</td>\n",
       "      <td>6</td>\n",
       "      <td>33</td>\n",
       "      <td>...</td>\n",
       "      <td>182</td>\n",
       "      <td>415</td>\n",
       "      <td>78</td>\n",
       "      <td>330</td>\n",
       "      <td>178</td>\n",
       "      <td>617</td>\n",
       "      <td>246</td>\n",
       "      <td>668</td>\n",
       "      <td>926</td>\n",
       "      <td>305</td>\n",
       "    </tr>\n",
       "    <tr>\n",
       "      <th>2018104800</th>\n",
       "      <td>289</td>\n",
       "      <td>5971</td>\n",
       "      <td>145</td>\n",
       "      <td>396</td>\n",
       "      <td>279</td>\n",
       "      <td>489</td>\n",
       "      <td>75</td>\n",
       "      <td>3</td>\n",
       "      <td>198</td>\n",
       "      <td>356</td>\n",
       "      <td>...</td>\n",
       "      <td>374</td>\n",
       "      <td>162</td>\n",
       "      <td>155</td>\n",
       "      <td>190</td>\n",
       "      <td>88</td>\n",
       "      <td>672</td>\n",
       "      <td>389</td>\n",
       "      <td>538</td>\n",
       "      <td>561</td>\n",
       "      <td>923</td>\n",
       "    </tr>\n",
       "    <tr>\n",
       "      <th>2018102410</th>\n",
       "      <td>224</td>\n",
       "      <td>7325</td>\n",
       "      <td>175</td>\n",
       "      <td>256</td>\n",
       "      <td>346</td>\n",
       "      <td>5456</td>\n",
       "      <td>96</td>\n",
       "      <td>162</td>\n",
       "      <td>156</td>\n",
       "      <td>191</td>\n",
       "      <td>...</td>\n",
       "      <td>51</td>\n",
       "      <td>645</td>\n",
       "      <td>35</td>\n",
       "      <td>106</td>\n",
       "      <td>9</td>\n",
       "      <td>50</td>\n",
       "      <td>19</td>\n",
       "      <td>89</td>\n",
       "      <td>606</td>\n",
       "      <td>2418</td>\n",
       "    </tr>\n",
       "    <tr>\n",
       "      <th>2018100828</th>\n",
       "      <td>446</td>\n",
       "      <td>3244</td>\n",
       "      <td>141</td>\n",
       "      <td>291</td>\n",
       "      <td>749</td>\n",
       "      <td>3521</td>\n",
       "      <td>46</td>\n",
       "      <td>189</td>\n",
       "      <td>203</td>\n",
       "      <td>319</td>\n",
       "      <td>...</td>\n",
       "      <td>182</td>\n",
       "      <td>415</td>\n",
       "      <td>109</td>\n",
       "      <td>230</td>\n",
       "      <td>451</td>\n",
       "      <td>417</td>\n",
       "      <td>153</td>\n",
       "      <td>930</td>\n",
       "      <td>204</td>\n",
       "      <td>315</td>\n",
       "    </tr>\n",
       "  </tbody>\n",
       "</table>\n",
       "<p>5 rows × 62 columns</p>\n",
       "</div>"
      ],
      "text/plain": [
       "           peds_0 peds_1 peds_2 peds_3 peds_4 peds_5 peds_6 peds_7 peds_8  \\\n",
       "2018101626    253   2123    165    370    762   4026     96    168    230   \n",
       "2018105193    338   4804    154    237    749   4445     35    152      6   \n",
       "2018104800    289   5971    145    396    279    489     75      3    198   \n",
       "2018102410    224   7325    175    256    346   5456     96    162    156   \n",
       "2018100828    446   3244    141    291    749   3521     46    189    203   \n",
       "\n",
       "           peds_9  ... peds_52 peds_53 peds_54 peds_55 peds_56 peds_57  \\\n",
       "2018101626    372  ...      56     333      63     370      72     485   \n",
       "2018105193     33  ...     182     415      78     330     178     617   \n",
       "2018104800    356  ...     374     162     155     190      88     672   \n",
       "2018102410    191  ...      51     645      35     106       9      50   \n",
       "2018100828    319  ...     182     415     109     230     451     417   \n",
       "\n",
       "           peds_58 peds_59 peds_60 peds_61  \n",
       "2018101626      87     821    1312    3114  \n",
       "2018105193     246     668     926     305  \n",
       "2018104800     389     538     561     923  \n",
       "2018102410      19      89     606    2418  \n",
       "2018100828     153     930     204     315  \n",
       "\n",
       "[5 rows x 62 columns]"
      ]
     },
     "execution_count": 99,
     "metadata": {},
     "output_type": "execute_result"
    }
   ],
   "source": [
    "peds = ped.peds_en\n",
    "peds.head()"
   ]
  },
  {
   "cell_type": "markdown",
   "metadata": {},
   "source": [
    "## レース結果にマージ"
   ]
  },
  {
   "cell_type": "code",
   "execution_count": 100,
   "metadata": {
    "scrolled": true
   },
   "outputs": [
    {
     "data": {
      "text/html": [
       "<div>\n",
       "<style scoped>\n",
       "    .dataframe tbody tr th:only-of-type {\n",
       "        vertical-align: middle;\n",
       "    }\n",
       "\n",
       "    .dataframe tbody tr th {\n",
       "        vertical-align: top;\n",
       "    }\n",
       "\n",
       "    .dataframe thead th {\n",
       "        text-align: right;\n",
       "    }\n",
       "</style>\n",
       "<table border=\"1\" class=\"dataframe\">\n",
       "  <thead>\n",
       "    <tr style=\"text-align: right;\">\n",
       "      <th></th>\n",
       "      <th>着順</th>\n",
       "      <th>枠番</th>\n",
       "      <th>馬番</th>\n",
       "      <th>馬名</th>\n",
       "      <th>斤量</th>\n",
       "      <th>騎手</th>\n",
       "      <th>単勝</th>\n",
       "      <th>人気</th>\n",
       "      <th>horse_id</th>\n",
       "      <th>jockey_id</th>\n",
       "      <th>...</th>\n",
       "      <th>peds_52</th>\n",
       "      <th>peds_53</th>\n",
       "      <th>peds_54</th>\n",
       "      <th>peds_55</th>\n",
       "      <th>peds_56</th>\n",
       "      <th>peds_57</th>\n",
       "      <th>peds_58</th>\n",
       "      <th>peds_59</th>\n",
       "      <th>peds_60</th>\n",
       "      <th>peds_61</th>\n",
       "    </tr>\n",
       "  </thead>\n",
       "  <tbody>\n",
       "    <tr>\n",
       "      <th>202001010101</th>\n",
       "      <td>1</td>\n",
       "      <td>6</td>\n",
       "      <td>6</td>\n",
       "      <td>ウインルーア</td>\n",
       "      <td>54.0</td>\n",
       "      <td>横山武史</td>\n",
       "      <td>16.0</td>\n",
       "      <td>3</td>\n",
       "      <td>2018101626</td>\n",
       "      <td>01170</td>\n",
       "      <td>...</td>\n",
       "      <td>56</td>\n",
       "      <td>333</td>\n",
       "      <td>63</td>\n",
       "      <td>370</td>\n",
       "      <td>72</td>\n",
       "      <td>485</td>\n",
       "      <td>87</td>\n",
       "      <td>821</td>\n",
       "      <td>1312</td>\n",
       "      <td>3114</td>\n",
       "    </tr>\n",
       "    <tr>\n",
       "      <th>202001010101</th>\n",
       "      <td>2</td>\n",
       "      <td>2</td>\n",
       "      <td>2</td>\n",
       "      <td>アークライト</td>\n",
       "      <td>54.0</td>\n",
       "      <td>ルメール</td>\n",
       "      <td>1.9</td>\n",
       "      <td>2</td>\n",
       "      <td>2018105193</td>\n",
       "      <td>05339</td>\n",
       "      <td>...</td>\n",
       "      <td>182</td>\n",
       "      <td>415</td>\n",
       "      <td>78</td>\n",
       "      <td>330</td>\n",
       "      <td>178</td>\n",
       "      <td>617</td>\n",
       "      <td>246</td>\n",
       "      <td>668</td>\n",
       "      <td>926</td>\n",
       "      <td>305</td>\n",
       "    </tr>\n",
       "    <tr>\n",
       "      <th>202001010101</th>\n",
       "      <td>3</td>\n",
       "      <td>3</td>\n",
       "      <td>3</td>\n",
       "      <td>ギャラントウォリア</td>\n",
       "      <td>54.0</td>\n",
       "      <td>池添謙一</td>\n",
       "      <td>1.8</td>\n",
       "      <td>1</td>\n",
       "      <td>2018104800</td>\n",
       "      <td>01032</td>\n",
       "      <td>...</td>\n",
       "      <td>374</td>\n",
       "      <td>162</td>\n",
       "      <td>155</td>\n",
       "      <td>190</td>\n",
       "      <td>88</td>\n",
       "      <td>672</td>\n",
       "      <td>389</td>\n",
       "      <td>538</td>\n",
       "      <td>561</td>\n",
       "      <td>923</td>\n",
       "    </tr>\n",
       "    <tr>\n",
       "      <th>202001010101</th>\n",
       "      <td>4</td>\n",
       "      <td>1</td>\n",
       "      <td>1</td>\n",
       "      <td>ジュンブーケ</td>\n",
       "      <td>52.0</td>\n",
       "      <td>亀田温心</td>\n",
       "      <td>22.2</td>\n",
       "      <td>4</td>\n",
       "      <td>2018102410</td>\n",
       "      <td>01176</td>\n",
       "      <td>...</td>\n",
       "      <td>51</td>\n",
       "      <td>645</td>\n",
       "      <td>35</td>\n",
       "      <td>106</td>\n",
       "      <td>9</td>\n",
       "      <td>50</td>\n",
       "      <td>19</td>\n",
       "      <td>89</td>\n",
       "      <td>606</td>\n",
       "      <td>2418</td>\n",
       "    </tr>\n",
       "    <tr>\n",
       "      <th>202001010101</th>\n",
       "      <td>5</td>\n",
       "      <td>4</td>\n",
       "      <td>4</td>\n",
       "      <td>キタノマンゲツ</td>\n",
       "      <td>54.0</td>\n",
       "      <td>藤岡康太</td>\n",
       "      <td>55.7</td>\n",
       "      <td>5</td>\n",
       "      <td>2018100828</td>\n",
       "      <td>01116</td>\n",
       "      <td>...</td>\n",
       "      <td>182</td>\n",
       "      <td>415</td>\n",
       "      <td>109</td>\n",
       "      <td>230</td>\n",
       "      <td>451</td>\n",
       "      <td>417</td>\n",
       "      <td>153</td>\n",
       "      <td>930</td>\n",
       "      <td>204</td>\n",
       "      <td>315</td>\n",
       "    </tr>\n",
       "  </tbody>\n",
       "</table>\n",
       "<p>5 rows × 83 columns</p>\n",
       "</div>"
      ],
      "text/plain": [
       "              着順  枠番  馬番         馬名    斤量    騎手    単勝  人気    horse_id  \\\n",
       "202001010101   1   6   6     ウインルーア  54.0  横山武史  16.0   3  2018101626   \n",
       "202001010101   2   2   2     アークライト  54.0  ルメール   1.9   2  2018105193   \n",
       "202001010101   3   3   3  ギャラントウォリア  54.0  池添謙一   1.8   1  2018104800   \n",
       "202001010101   4   1   1     ジュンブーケ  52.0  亀田温心  22.2   4  2018102410   \n",
       "202001010101   5   4   4    キタノマンゲツ  54.0  藤岡康太  55.7   5  2018100828   \n",
       "\n",
       "             jockey_id  ...  peds_52 peds_53 peds_54 peds_55 peds_56 peds_57  \\\n",
       "202001010101     01170  ...       56     333      63     370      72     485   \n",
       "202001010101     05339  ...      182     415      78     330     178     617   \n",
       "202001010101     01032  ...      374     162     155     190      88     672   \n",
       "202001010101     01176  ...       51     645      35     106       9      50   \n",
       "202001010101     01116  ...      182     415     109     230     451     417   \n",
       "\n",
       "              peds_58  peds_59  peds_60  peds_61  \n",
       "202001010101       87      821     1312     3114  \n",
       "202001010101      246      668      926      305  \n",
       "202001010101      389      538      561      923  \n",
       "202001010101       19       89      606     2418  \n",
       "202001010101      153      930      204      315  \n",
       "\n",
       "[5 rows x 83 columns]"
      ]
     },
     "execution_count": 100,
     "metadata": {},
     "output_type": "execute_result"
    }
   ],
   "source": [
    "results_ped = results_5R.merge(peds, left_on='horse_id', right_index=True, how='left')\n",
    "results_ped.head()"
   ]
  },
  {
   "cell_type": "code",
   "execution_count": 103,
   "metadata": {},
   "outputs": [],
   "source": [
    "results_ped.to_pickle('results_ped.pickle')"
   ]
  },
  {
   "cell_type": "markdown",
   "metadata": {},
   "source": [
    "# 前処理"
   ]
  },
  {
   "cell_type": "markdown",
   "metadata": {},
   "source": [
    "## 3着以内に入るかどうかを判定するrank列を追加し、不要な列を削除"
   ]
  },
  {
   "cell_type": "code",
   "execution_count": 105,
   "metadata": {},
   "outputs": [],
   "source": [
    "results_ped[\"rank\"] = results_ped[\"着順\"].map(lambda x:1 if x <4 else 0)\n",
    "results_ped.drop([\"馬名\",\"着順\",\"騎手\",\"単勝\",\"人気\"],axis=1, inplace=True)"
   ]
  },
  {
   "cell_type": "code",
   "execution_count": 107,
   "metadata": {},
   "outputs": [
    {
     "name": "stdout",
     "output_type": "stream",
     "text": [
      "<class 'pandas.core.frame.DataFrame'>\n",
      "Index: 43255 entries, 202001010101 to 202106030811\n",
      "Data columns (total 79 columns):\n",
      " #   Column        Non-Null Count  Dtype         \n",
      "---  ------        --------------  -----         \n",
      " 0   枠番            43255 non-null  int64         \n",
      " 1   馬番            43255 non-null  int64         \n",
      " 2   斤量            43255 non-null  float64       \n",
      " 3   horse_id      43255 non-null  object        \n",
      " 4   jockey_id     43255 non-null  object        \n",
      " 5   course_len    43255 non-null  int32         \n",
      " 6   date          43255 non-null  datetime64[ns]\n",
      " 7   ground_state  43255 non-null  object        \n",
      " 8   race_type     43255 non-null  object        \n",
      " 9   weather       43255 non-null  object        \n",
      " 10  性             43255 non-null  object        \n",
      " 11  齢             43255 non-null  int32         \n",
      " 12  体重            43255 non-null  int32         \n",
      " 13  体重増減          43255 non-null  int32         \n",
      " 14  着順_5R         38795 non-null  float64       \n",
      " 15  賞金_5R         38795 non-null  float64       \n",
      " 16  peds_0        43255 non-null  category      \n",
      " 17  peds_1        43255 non-null  category      \n",
      " 18  peds_2        43255 non-null  category      \n",
      " 19  peds_3        43255 non-null  category      \n",
      " 20  peds_4        43255 non-null  category      \n",
      " 21  peds_5        43255 non-null  category      \n",
      " 22  peds_6        43255 non-null  category      \n",
      " 23  peds_7        43255 non-null  category      \n",
      " 24  peds_8        43255 non-null  category      \n",
      " 25  peds_9        43255 non-null  category      \n",
      " 26  peds_10       43255 non-null  category      \n",
      " 27  peds_11       43255 non-null  category      \n",
      " 28  peds_12       43255 non-null  category      \n",
      " 29  peds_13       43255 non-null  category      \n",
      " 30  peds_14       43255 non-null  category      \n",
      " 31  peds_15       43255 non-null  category      \n",
      " 32  peds_16       43255 non-null  category      \n",
      " 33  peds_17       43255 non-null  category      \n",
      " 34  peds_18       43255 non-null  category      \n",
      " 35  peds_19       43255 non-null  category      \n",
      " 36  peds_20       43255 non-null  category      \n",
      " 37  peds_21       43255 non-null  category      \n",
      " 38  peds_22       43255 non-null  category      \n",
      " 39  peds_23       43255 non-null  category      \n",
      " 40  peds_24       43255 non-null  category      \n",
      " 41  peds_25       43255 non-null  category      \n",
      " 42  peds_26       43255 non-null  category      \n",
      " 43  peds_27       43255 non-null  category      \n",
      " 44  peds_28       43255 non-null  category      \n",
      " 45  peds_29       43255 non-null  category      \n",
      " 46  peds_30       43255 non-null  category      \n",
      " 47  peds_31       43255 non-null  category      \n",
      " 48  peds_32       43255 non-null  category      \n",
      " 49  peds_33       43255 non-null  category      \n",
      " 50  peds_34       43255 non-null  category      \n",
      " 51  peds_35       43255 non-null  category      \n",
      " 52  peds_36       43255 non-null  category      \n",
      " 53  peds_37       43255 non-null  category      \n",
      " 54  peds_38       43255 non-null  category      \n",
      " 55  peds_39       43255 non-null  category      \n",
      " 56  peds_40       43255 non-null  category      \n",
      " 57  peds_41       43255 non-null  category      \n",
      " 58  peds_42       43255 non-null  category      \n",
      " 59  peds_43       43255 non-null  category      \n",
      " 60  peds_44       43255 non-null  category      \n",
      " 61  peds_45       43255 non-null  category      \n",
      " 62  peds_46       43255 non-null  category      \n",
      " 63  peds_47       43255 non-null  category      \n",
      " 64  peds_48       43255 non-null  category      \n",
      " 65  peds_49       43255 non-null  category      \n",
      " 66  peds_50       43255 non-null  category      \n",
      " 67  peds_51       43255 non-null  category      \n",
      " 68  peds_52       43255 non-null  category      \n",
      " 69  peds_53       43255 non-null  category      \n",
      " 70  peds_54       43255 non-null  category      \n",
      " 71  peds_55       43255 non-null  category      \n",
      " 72  peds_56       43255 non-null  category      \n",
      " 73  peds_57       43255 non-null  category      \n",
      " 74  peds_58       43255 non-null  category      \n",
      " 75  peds_59       43255 non-null  category      \n",
      " 76  peds_60       43255 non-null  category      \n",
      " 77  peds_61       43255 non-null  category      \n",
      " 78  rank          43255 non-null  int64         \n",
      "dtypes: category(62), datetime64[ns](1), float64(3), int32(4), int64(3), object(6)\n",
      "memory usage: 12.0+ MB\n"
     ]
    }
   ],
   "source": [
    "results_ped.info()"
   ]
  },
  {
   "cell_type": "markdown",
   "metadata": {},
   "source": [
    "## データをカテゴリ変数化、ダミー変数化"
   ]
  },
  {
   "cell_type": "code",
   "execution_count": 121,
   "metadata": {},
   "outputs": [],
   "source": [
    "df = results_ped.copy()\n",
    "\n",
    "target_columns = ['horse_id']\n",
    "\n",
    "for column in target_columns:\n",
    "    df[column] = LabelEncoder().fit_transform(df[column].fillna('Na'))\n",
    "    df[column] = df[column].astype('category')\n",
    "\n",
    "#category型の列はダミー変数化しない\n",
    "df_d = pd.get_dummies(df.select_dtypes(exclude='category'))\n",
    "results_d = pd.concat([df_d, df.select_dtypes(include='category')], axis=1)"
   ]
  },
  {
   "cell_type": "markdown",
   "metadata": {},
   "source": [
    "## 変換後のデータ"
   ]
  },
  {
   "cell_type": "code",
   "execution_count": 125,
   "metadata": {
    "scrolled": true
   },
   "outputs": [
    {
     "data": {
      "text/html": [
       "<div>\n",
       "<style scoped>\n",
       "    .dataframe tbody tr th:only-of-type {\n",
       "        vertical-align: middle;\n",
       "    }\n",
       "\n",
       "    .dataframe tbody tr th {\n",
       "        vertical-align: top;\n",
       "    }\n",
       "\n",
       "    .dataframe thead th {\n",
       "        text-align: right;\n",
       "    }\n",
       "</style>\n",
       "<table border=\"1\" class=\"dataframe\">\n",
       "  <thead>\n",
       "    <tr style=\"text-align: right;\">\n",
       "      <th></th>\n",
       "      <th>枠番</th>\n",
       "      <th>馬番</th>\n",
       "      <th>斤量</th>\n",
       "      <th>course_len</th>\n",
       "      <th>date</th>\n",
       "      <th>齢</th>\n",
       "      <th>体重</th>\n",
       "      <th>体重増減</th>\n",
       "      <th>着順_5R</th>\n",
       "      <th>賞金_5R</th>\n",
       "      <th>...</th>\n",
       "      <th>peds_52</th>\n",
       "      <th>peds_53</th>\n",
       "      <th>peds_54</th>\n",
       "      <th>peds_55</th>\n",
       "      <th>peds_56</th>\n",
       "      <th>peds_57</th>\n",
       "      <th>peds_58</th>\n",
       "      <th>peds_59</th>\n",
       "      <th>peds_60</th>\n",
       "      <th>peds_61</th>\n",
       "    </tr>\n",
       "  </thead>\n",
       "  <tbody>\n",
       "    <tr>\n",
       "      <th>202001010101</th>\n",
       "      <td>6</td>\n",
       "      <td>6</td>\n",
       "      <td>54.0</td>\n",
       "      <td>1800</td>\n",
       "      <td>2020-07-25</td>\n",
       "      <td>2</td>\n",
       "      <td>438</td>\n",
       "      <td>4</td>\n",
       "      <td>6.0</td>\n",
       "      <td>0.0</td>\n",
       "      <td>...</td>\n",
       "      <td>56</td>\n",
       "      <td>333</td>\n",
       "      <td>63</td>\n",
       "      <td>370</td>\n",
       "      <td>72</td>\n",
       "      <td>485</td>\n",
       "      <td>87</td>\n",
       "      <td>821</td>\n",
       "      <td>1312</td>\n",
       "      <td>3114</td>\n",
       "    </tr>\n",
       "    <tr>\n",
       "      <th>202001010101</th>\n",
       "      <td>2</td>\n",
       "      <td>2</td>\n",
       "      <td>54.0</td>\n",
       "      <td>1800</td>\n",
       "      <td>2020-07-25</td>\n",
       "      <td>2</td>\n",
       "      <td>510</td>\n",
       "      <td>0</td>\n",
       "      <td>5.0</td>\n",
       "      <td>280.0</td>\n",
       "      <td>...</td>\n",
       "      <td>182</td>\n",
       "      <td>415</td>\n",
       "      <td>78</td>\n",
       "      <td>330</td>\n",
       "      <td>178</td>\n",
       "      <td>617</td>\n",
       "      <td>246</td>\n",
       "      <td>668</td>\n",
       "      <td>926</td>\n",
       "      <td>305</td>\n",
       "    </tr>\n",
       "    <tr>\n",
       "      <th>202001010101</th>\n",
       "      <td>3</td>\n",
       "      <td>3</td>\n",
       "      <td>54.0</td>\n",
       "      <td>1800</td>\n",
       "      <td>2020-07-25</td>\n",
       "      <td>2</td>\n",
       "      <td>482</td>\n",
       "      <td>-6</td>\n",
       "      <td>5.0</td>\n",
       "      <td>280.0</td>\n",
       "      <td>...</td>\n",
       "      <td>374</td>\n",
       "      <td>162</td>\n",
       "      <td>155</td>\n",
       "      <td>190</td>\n",
       "      <td>88</td>\n",
       "      <td>672</td>\n",
       "      <td>389</td>\n",
       "      <td>538</td>\n",
       "      <td>561</td>\n",
       "      <td>923</td>\n",
       "    </tr>\n",
       "    <tr>\n",
       "      <th>202001010101</th>\n",
       "      <td>1</td>\n",
       "      <td>1</td>\n",
       "      <td>52.0</td>\n",
       "      <td>1800</td>\n",
       "      <td>2020-07-25</td>\n",
       "      <td>2</td>\n",
       "      <td>442</td>\n",
       "      <td>0</td>\n",
       "      <td>5.0</td>\n",
       "      <td>70.0</td>\n",
       "      <td>...</td>\n",
       "      <td>51</td>\n",
       "      <td>645</td>\n",
       "      <td>35</td>\n",
       "      <td>106</td>\n",
       "      <td>9</td>\n",
       "      <td>50</td>\n",
       "      <td>19</td>\n",
       "      <td>89</td>\n",
       "      <td>606</td>\n",
       "      <td>2418</td>\n",
       "    </tr>\n",
       "    <tr>\n",
       "      <th>202001010101</th>\n",
       "      <td>4</td>\n",
       "      <td>4</td>\n",
       "      <td>54.0</td>\n",
       "      <td>1800</td>\n",
       "      <td>2020-07-25</td>\n",
       "      <td>2</td>\n",
       "      <td>426</td>\n",
       "      <td>-8</td>\n",
       "      <td>5.0</td>\n",
       "      <td>0.0</td>\n",
       "      <td>...</td>\n",
       "      <td>182</td>\n",
       "      <td>415</td>\n",
       "      <td>109</td>\n",
       "      <td>230</td>\n",
       "      <td>451</td>\n",
       "      <td>417</td>\n",
       "      <td>153</td>\n",
       "      <td>930</td>\n",
       "      <td>204</td>\n",
       "      <td>315</td>\n",
       "    </tr>\n",
       "  </tbody>\n",
       "</table>\n",
       "<p>5 rows × 263 columns</p>\n",
       "</div>"
      ],
      "text/plain": [
       "              枠番  馬番    斤量  course_len       date  齢   体重  体重増減  着順_5R  賞金_5R  \\\n",
       "202001010101   6   6  54.0        1800 2020-07-25  2  438     4    6.0    0.0   \n",
       "202001010101   2   2  54.0        1800 2020-07-25  2  510     0    5.0  280.0   \n",
       "202001010101   3   3  54.0        1800 2020-07-25  2  482    -6    5.0  280.0   \n",
       "202001010101   1   1  52.0        1800 2020-07-25  2  442     0    5.0   70.0   \n",
       "202001010101   4   4  54.0        1800 2020-07-25  2  426    -8    5.0    0.0   \n",
       "\n",
       "              ...  peds_52  peds_53  peds_54  peds_55  peds_56  peds_57  \\\n",
       "202001010101  ...       56      333       63      370       72      485   \n",
       "202001010101  ...      182      415       78      330      178      617   \n",
       "202001010101  ...      374      162      155      190       88      672   \n",
       "202001010101  ...       51      645       35      106        9       50   \n",
       "202001010101  ...      182      415      109      230      451      417   \n",
       "\n",
       "              peds_58  peds_59  peds_60  peds_61  \n",
       "202001010101       87      821     1312     3114  \n",
       "202001010101      246      668      926      305  \n",
       "202001010101      389      538      561      923  \n",
       "202001010101       19       89      606     2418  \n",
       "202001010101      153      930      204      315  \n",
       "\n",
       "[5 rows x 263 columns]"
      ]
     },
     "execution_count": 125,
     "metadata": {},
     "output_type": "execute_result"
    }
   ],
   "source": [
    "results_d.head()"
   ]
  },
  {
   "cell_type": "code",
   "execution_count": 126,
   "metadata": {},
   "outputs": [],
   "source": [
    "results_d.to_pickle('results_d.pickle')"
   ]
  },
  {
   "cell_type": "markdown",
   "metadata": {},
   "source": [
    "# モデル作成と結果検証"
   ]
  },
  {
   "cell_type": "markdown",
   "metadata": {},
   "source": [
    "## パラメータチューニング"
   ]
  },
  {
   "cell_type": "code",
   "execution_count": 129,
   "metadata": {},
   "outputs": [],
   "source": [
    "#データを分割する関数\n",
    "def split_data(df, test_size=0.3):\n",
    "    sorted_id_list = df.sort_values('date').index.unique()\n",
    "    train_id_list = sorted_id_list[:round(len(sorted_id_list)*(1-test_size))]\n",
    "    test_id_list = sorted_id_list[round(len(sorted_id_list)*(1-test_size)):]\n",
    "    train =df.loc[train_id_list]\n",
    "    test = df.loc[test_id_list]\n",
    "    return train, test"
   ]
  },
  {
   "cell_type": "code",
   "execution_count": 130,
   "metadata": {},
   "outputs": [],
   "source": [
    "#訓練データ、検証データ、テストデータに分割\n",
    "train, test = split_data(results_d)\n",
    "train, valid = split_data(train)"
   ]
  },
  {
   "cell_type": "code",
   "execution_count": 131,
   "metadata": {},
   "outputs": [],
   "source": [
    "#それぞれ説明変数と被説明変数に分割\n",
    "X_train = train.drop(['rank', 'date'], axis=1)\n",
    "y_train = train['rank']\n",
    "X_valid = valid.drop(['rank', 'date'], axis=1)\n",
    "y_valid = valid['rank']\n",
    "X_test = test.drop(['rank', 'date'], axis=1)\n",
    "y_test = test['rank']"
   ]
  },
  {
   "cell_type": "markdown",
   "metadata": {},
   "source": [
    "* 訓練データ→検証データの学習をパラメータを変えながら実行\n",
    "* verbose_eval：何回の学習でパラメータを変えるか\n",
    "* early_stopping_rounds：パラメータの種類（下記では10）を変更しても精度が上がらない場合学習を止める"
   ]
  },
  {
   "cell_type": "code",
   "execution_count": 132,
   "metadata": {},
   "outputs": [
    {
     "name": "stderr",
     "output_type": "stream",
     "text": [
      "\u001b[32m[I 2021-06-24 07:24:17,907]\u001b[0m A new study created in memory with name: no-name-faa1264c-09f7-4afa-bca0-858247ead349\u001b[0m\n",
      "feature_fraction, val_score: inf:   0%|                                                          | 0/7 [00:00<?, ?it/s]"
     ]
    },
    {
     "name": "stdout",
     "output_type": "stream",
     "text": [
      "[LightGBM] [Info] Number of positive: 4593, number of negative: 16706\n",
      "[LightGBM] [Warning] Auto-choosing col-wise multi-threading, the overhead of testing was 0.016413 seconds.\n",
      "You can set `force_col_wise=true` to remove the overhead.\n",
      "[LightGBM] [Info] Total Bins 12184\n",
      "[LightGBM] [Info] Number of data points in the train set: 21299, number of used features: 244\n",
      "[LightGBM] [Info] [binary:BoostFromScore]: pavg=0.215644 -> initscore=-1.291235\n",
      "[LightGBM] [Info] Start training from score -1.291235\n",
      "Training until validation scores don't improve for 10 rounds\n"
     ]
    },
    {
     "name": "stderr",
     "output_type": "stream",
     "text": [
      "feature_fraction, val_score: 0.490651:  14%|######4                                      | 1/7 [00:02<00:17,  2.95s/it]\u001b[32m[I 2021-06-24 07:24:20,972]\u001b[0m Trial 0 finished with value: 0.4906507623142864 and parameters: {'feature_fraction': 0.8}. Best is trial 0 with value: 0.4906507623142864.\u001b[0m\n",
      "feature_fraction, val_score: 0.490651:  14%|######4                                      | 1/7 [00:02<00:17,  2.95s/it]"
     ]
    },
    {
     "name": "stdout",
     "output_type": "stream",
     "text": [
      "Early stopping, best iteration is:\n",
      "[55]\tvalid_0's binary_logloss: 0.411354\tvalid_1's binary_logloss: 0.490651\n",
      "[LightGBM] [Info] Number of positive: 4593, number of negative: 16706\n",
      "[LightGBM] [Warning] Auto-choosing col-wise multi-threading, the overhead of testing was 0.013370 seconds.\n",
      "You can set `force_col_wise=true` to remove the overhead.\n",
      "[LightGBM] [Info] Total Bins 12184\n",
      "[LightGBM] [Info] Number of data points in the train set: 21299, number of used features: 244\n",
      "[LightGBM] [Info] [binary:BoostFromScore]: pavg=0.215644 -> initscore=-1.291235\n",
      "[LightGBM] [Info] Start training from score -1.291235\n",
      "Training until validation scores don't improve for 10 rounds\n"
     ]
    },
    {
     "name": "stderr",
     "output_type": "stream",
     "text": [
      "feature_fraction, val_score: 0.490651:  29%|############8                                | 2/7 [00:04<00:13,  2.65s/it]\u001b[32m[I 2021-06-24 07:24:22,912]\u001b[0m Trial 1 finished with value: 0.4912837138833631 and parameters: {'feature_fraction': 0.8999999999999999}. Best is trial 0 with value: 0.4906507623142864.\u001b[0m\n",
      "feature_fraction, val_score: 0.490651:  29%|############8                                | 2/7 [00:04<00:13,  2.65s/it]"
     ]
    },
    {
     "name": "stdout",
     "output_type": "stream",
     "text": [
      "Early stopping, best iteration is:\n",
      "[31]\tvalid_0's binary_logloss: 0.437275\tvalid_1's binary_logloss: 0.491284\n",
      "[LightGBM] [Info] Number of positive: 4593, number of negative: 16706\n",
      "[LightGBM] [Warning] Auto-choosing col-wise multi-threading, the overhead of testing was 0.012317 seconds.\n",
      "You can set `force_col_wise=true` to remove the overhead.\n",
      "[LightGBM] [Info] Total Bins 12184\n",
      "[LightGBM] [Info] Number of data points in the train set: 21299, number of used features: 244\n",
      "[LightGBM] [Info] [binary:BoostFromScore]: pavg=0.215644 -> initscore=-1.291235\n",
      "[LightGBM] [Info] Start training from score -1.291235\n",
      "Training until validation scores don't improve for 10 rounds\n"
     ]
    },
    {
     "name": "stderr",
     "output_type": "stream",
     "text": [
      "feature_fraction, val_score: 0.489175:  43%|###################2                         | 3/7 [00:06<00:09,  2.40s/it]\u001b[32m[I 2021-06-24 07:24:24,726]\u001b[0m Trial 2 finished with value: 0.4891752558667221 and parameters: {'feature_fraction': 0.5}. Best is trial 2 with value: 0.4891752558667221.\u001b[0m\n",
      "feature_fraction, val_score: 0.489175:  43%|###################2                         | 3/7 [00:06<00:09,  2.40s/it]"
     ]
    },
    {
     "name": "stdout",
     "output_type": "stream",
     "text": [
      "Early stopping, best iteration is:\n",
      "[44]\tvalid_0's binary_logloss: 0.424802\tvalid_1's binary_logloss: 0.489175\n",
      "[LightGBM] [Info] Number of positive: 4593, number of negative: 16706\n",
      "[LightGBM] [Warning] Auto-choosing col-wise multi-threading, the overhead of testing was 0.012400 seconds.\n",
      "You can set `force_col_wise=true` to remove the overhead.\n",
      "[LightGBM] [Info] Total Bins 12184\n",
      "[LightGBM] [Info] Number of data points in the train set: 21299, number of used features: 244\n",
      "[LightGBM] [Info] [binary:BoostFromScore]: pavg=0.215644 -> initscore=-1.291235\n",
      "[LightGBM] [Info] Start training from score -1.291235\n",
      "Training until validation scores don't improve for 10 rounds\n"
     ]
    },
    {
     "name": "stderr",
     "output_type": "stream",
     "text": [
      "feature_fraction, val_score: 0.489175:  57%|#########################7                   | 4/7 [00:08<00:06,  2.26s/it]\u001b[32m[I 2021-06-24 07:24:26,664]\u001b[0m Trial 3 finished with value: 0.4901610705817297 and parameters: {'feature_fraction': 0.4}. Best is trial 2 with value: 0.4891752558667221.\u001b[0m\n",
      "feature_fraction, val_score: 0.489175:  57%|#########################7                   | 4/7 [00:08<00:06,  2.26s/it]"
     ]
    },
    {
     "name": "stdout",
     "output_type": "stream",
     "text": [
      "Early stopping, best iteration is:\n",
      "[59]\tvalid_0's binary_logloss: 0.412452\tvalid_1's binary_logloss: 0.490161\n",
      "[LightGBM] [Info] Number of positive: 4593, number of negative: 16706\n",
      "[LightGBM] [Warning] Auto-choosing col-wise multi-threading, the overhead of testing was 0.015228 seconds.\n",
      "You can set `force_col_wise=true` to remove the overhead.\n",
      "[LightGBM] [Info] Total Bins 12184\n",
      "[LightGBM] [Info] Number of data points in the train set: 21299, number of used features: 244\n",
      "[LightGBM] [Info] [binary:BoostFromScore]: pavg=0.215644 -> initscore=-1.291235\n",
      "[LightGBM] [Info] Start training from score -1.291235\n",
      "Training until validation scores don't improve for 10 rounds\n"
     ]
    },
    {
     "name": "stderr",
     "output_type": "stream",
     "text": [
      "feature_fraction, val_score: 0.489175:  71%|################################1            | 5/7 [00:10<00:04,  2.23s/it]\u001b[32m[I 2021-06-24 07:24:28,830]\u001b[0m Trial 4 finished with value: 0.49096784663844467 and parameters: {'feature_fraction': 1.0}. Best is trial 2 with value: 0.4891752558667221.\u001b[0m\n",
      "feature_fraction, val_score: 0.489175:  71%|################################1            | 5/7 [00:10<00:04,  2.23s/it]"
     ]
    },
    {
     "name": "stdout",
     "output_type": "stream",
     "text": [
      "Early stopping, best iteration is:\n",
      "[43]\tvalid_0's binary_logloss: 0.422052\tvalid_1's binary_logloss: 0.490968\n",
      "[LightGBM] [Info] Number of positive: 4593, number of negative: 16706\n",
      "[LightGBM] [Warning] Auto-choosing col-wise multi-threading, the overhead of testing was 0.014644 seconds.\n",
      "You can set `force_col_wise=true` to remove the overhead.\n",
      "[LightGBM] [Info] Total Bins 12184\n",
      "[LightGBM] [Info] Number of data points in the train set: 21299, number of used features: 244\n",
      "[LightGBM] [Info] [binary:BoostFromScore]: pavg=0.215644 -> initscore=-1.291235\n",
      "[LightGBM] [Info] Start training from score -1.291235\n",
      "Training until validation scores don't improve for 10 rounds\n"
     ]
    },
    {
     "name": "stderr",
     "output_type": "stream",
     "text": [
      "feature_fraction, val_score: 0.488645:  86%|######################################5      | 6/7 [00:12<00:02,  2.15s/it]\u001b[32m[I 2021-06-24 07:24:30,790]\u001b[0m Trial 5 finished with value: 0.4886447486278717 and parameters: {'feature_fraction': 0.6}. Best is trial 5 with value: 0.4886447486278717.\u001b[0m\n",
      "feature_fraction, val_score: 0.488645:  86%|######################################5      | 6/7 [00:12<00:02,  2.15s/it]"
     ]
    },
    {
     "name": "stdout",
     "output_type": "stream",
     "text": [
      "Early stopping, best iteration is:\n",
      "[50]\tvalid_0's binary_logloss: 0.418161\tvalid_1's binary_logloss: 0.488645\n",
      "[LightGBM] [Info] Number of positive: 4593, number of negative: 16706\n",
      "[LightGBM] [Warning] Auto-choosing col-wise multi-threading, the overhead of testing was 0.013338 seconds.\n",
      "You can set `force_col_wise=true` to remove the overhead.\n",
      "[LightGBM] [Info] Total Bins 12184\n",
      "[LightGBM] [Info] Number of data points in the train set: 21299, number of used features: 244\n",
      "[LightGBM] [Info] [binary:BoostFromScore]: pavg=0.215644 -> initscore=-1.291235\n",
      "[LightGBM] [Info] Start training from score -1.291235\n",
      "Training until validation scores don't improve for 10 rounds\n"
     ]
    },
    {
     "name": "stderr",
     "output_type": "stream",
     "text": [
      "feature_fraction, val_score: 0.488645: 100%|#############################################| 7/7 [00:14<00:00,  2.09s/it]\u001b[32m[I 2021-06-24 07:24:32,725]\u001b[0m Trial 6 finished with value: 0.4908681290600933 and parameters: {'feature_fraction': 0.7}. Best is trial 5 with value: 0.4886447486278717.\u001b[0m\n",
      "feature_fraction, val_score: 0.488645: 100%|#############################################| 7/7 [00:14<00:00,  2.10s/it]\n",
      "num_leaves, val_score: 0.488645:   0%|                                                          | 0/20 [00:00<?, ?it/s]"
     ]
    },
    {
     "name": "stdout",
     "output_type": "stream",
     "text": [
      "Early stopping, best iteration is:\n",
      "[40]\tvalid_0's binary_logloss: 0.427196\tvalid_1's binary_logloss: 0.490868\n",
      "[LightGBM] [Info] Number of positive: 4593, number of negative: 16706\n",
      "[LightGBM] [Warning] Auto-choosing col-wise multi-threading, the overhead of testing was 0.013739 seconds.\n",
      "You can set `force_col_wise=true` to remove the overhead.\n",
      "[LightGBM] [Info] Total Bins 12184\n",
      "[LightGBM] [Info] Number of data points in the train set: 21299, number of used features: 244\n",
      "[LightGBM] [Info] [binary:BoostFromScore]: pavg=0.215644 -> initscore=-1.291235\n",
      "[LightGBM] [Info] Start training from score -1.291235\n",
      "Training until validation scores don't improve for 10 rounds\n"
     ]
    },
    {
     "name": "stderr",
     "output_type": "stream",
     "text": [
      "num_leaves, val_score: 0.488645:   5%|##5                                               | 1/20 [00:02<00:51,  2.70s/it]\u001b[32m[I 2021-06-24 07:24:35,438]\u001b[0m Trial 7 finished with value: 0.49450379100704317 and parameters: {'num_leaves': 224}. Best is trial 7 with value: 0.49450379100704317.\u001b[0m\n",
      "num_leaves, val_score: 0.488645:   5%|##5                                               | 1/20 [00:02<00:51,  2.70s/it]"
     ]
    },
    {
     "name": "stdout",
     "output_type": "stream",
     "text": [
      "Early stopping, best iteration is:\n",
      "[17]\tvalid_0's binary_logloss: 0.355956\tvalid_1's binary_logloss: 0.494504\n",
      "[LightGBM] [Info] Number of positive: 4593, number of negative: 16706\n",
      "[LightGBM] [Warning] Auto-choosing col-wise multi-threading, the overhead of testing was 0.015238 seconds.\n",
      "You can set `force_col_wise=true` to remove the overhead.\n",
      "[LightGBM] [Info] Total Bins 12184\n",
      "[LightGBM] [Info] Number of data points in the train set: 21299, number of used features: 244\n",
      "[LightGBM] [Info] [binary:BoostFromScore]: pavg=0.215644 -> initscore=-1.291235\n",
      "[LightGBM] [Info] Start training from score -1.291235\n",
      "Training until validation scores don't improve for 10 rounds\n"
     ]
    },
    {
     "name": "stderr",
     "output_type": "stream",
     "text": [
      "num_leaves, val_score: 0.488645:  10%|#####                                             | 2/20 [00:05<00:47,  2.65s/it]\u001b[32m[I 2021-06-24 07:24:37,985]\u001b[0m Trial 8 finished with value: 0.4928485618116418 and parameters: {'num_leaves': 140}. Best is trial 8 with value: 0.4928485618116418.\u001b[0m\n",
      "num_leaves, val_score: 0.488645:  10%|#####                                             | 2/20 [00:05<00:47,  2.65s/it]"
     ]
    },
    {
     "name": "stdout",
     "output_type": "stream",
     "text": [
      "Early stopping, best iteration is:\n",
      "[24]\tvalid_0's binary_logloss: 0.36133\tvalid_1's binary_logloss: 0.492849\n",
      "[LightGBM] [Info] Number of positive: 4593, number of negative: 16706\n",
      "[LightGBM] [Warning] Auto-choosing col-wise multi-threading, the overhead of testing was 0.013274 seconds.\n",
      "You can set `force_col_wise=true` to remove the overhead.\n",
      "[LightGBM] [Info] Total Bins 12184\n",
      "[LightGBM] [Info] Number of data points in the train set: 21299, number of used features: 244\n",
      "[LightGBM] [Info] [binary:BoostFromScore]: pavg=0.215644 -> initscore=-1.291235\n",
      "[LightGBM] [Info] Start training from score -1.291235\n",
      "Training until validation scores don't improve for 10 rounds\n"
     ]
    },
    {
     "name": "stderr",
     "output_type": "stream",
     "text": [
      "num_leaves, val_score: 0.488645:  15%|#######5                                          | 3/20 [00:07<00:45,  2.65s/it]\u001b[32m[I 2021-06-24 07:24:40,632]\u001b[0m Trial 9 finished with value: 0.4939878901383426 and parameters: {'num_leaves': 142}. Best is trial 8 with value: 0.4928485618116418.\u001b[0m\n",
      "num_leaves, val_score: 0.488645:  15%|#######5                                          | 3/20 [00:07<00:45,  2.65s/it]"
     ]
    },
    {
     "name": "stdout",
     "output_type": "stream",
     "text": [
      "Early stopping, best iteration is:\n",
      "[21]\tvalid_0's binary_logloss: 0.372846\tvalid_1's binary_logloss: 0.493988\n",
      "[LightGBM] [Info] Number of positive: 4593, number of negative: 16706\n",
      "[LightGBM] [Warning] Auto-choosing col-wise multi-threading, the overhead of testing was 0.014981 seconds.\n",
      "You can set `force_col_wise=true` to remove the overhead.\n",
      "[LightGBM] [Info] Total Bins 12184\n",
      "[LightGBM] [Info] Number of data points in the train set: 21299, number of used features: 244\n",
      "[LightGBM] [Info] [binary:BoostFromScore]: pavg=0.215644 -> initscore=-1.291235\n",
      "[LightGBM] [Info] Start training from score -1.291235\n",
      "Training until validation scores don't improve for 10 rounds\n"
     ]
    },
    {
     "name": "stderr",
     "output_type": "stream",
     "text": [
      "num_leaves, val_score: 0.488645:  20%|##########                                        | 4/20 [00:10<00:43,  2.70s/it]\u001b[32m[I 2021-06-24 07:24:43,435]\u001b[0m Trial 10 finished with value: 0.4910559295685951 and parameters: {'num_leaves': 135}. Best is trial 10 with value: 0.4910559295685951.\u001b[0m\n",
      "num_leaves, val_score: 0.488645:  20%|##########                                        | 4/20 [00:10<00:43,  2.70s/it]"
     ]
    },
    {
     "name": "stdout",
     "output_type": "stream",
     "text": [
      "Early stopping, best iteration is:\n",
      "[28]\tvalid_0's binary_logloss: 0.349895\tvalid_1's binary_logloss: 0.491056\n",
      "[LightGBM] [Info] Number of positive: 4593, number of negative: 16706\n",
      "[LightGBM] [Warning] Auto-choosing col-wise multi-threading, the overhead of testing was 0.016776 seconds.\n",
      "You can set `force_col_wise=true` to remove the overhead.\n",
      "[LightGBM] [Info] Total Bins 12184\n",
      "[LightGBM] [Info] Number of data points in the train set: 21299, number of used features: 244\n",
      "[LightGBM] [Info] [binary:BoostFromScore]: pavg=0.215644 -> initscore=-1.291235\n",
      "[LightGBM] [Info] Start training from score -1.291235\n",
      "Training until validation scores don't improve for 10 rounds\n"
     ]
    },
    {
     "name": "stderr",
     "output_type": "stream",
     "text": [
      "num_leaves, val_score: 0.488645:  25%|############5                                     | 5/20 [00:13<00:39,  2.63s/it]\u001b[32m[I 2021-06-24 07:24:45,914]\u001b[0m Trial 11 finished with value: 0.4921542183469925 and parameters: {'num_leaves': 108}. Best is trial 10 with value: 0.4910559295685951.\u001b[0m\n",
      "num_leaves, val_score: 0.488645:  25%|############5                                     | 5/20 [00:13<00:39,  2.63s/it]"
     ]
    },
    {
     "name": "stdout",
     "output_type": "stream",
     "text": [
      "Early stopping, best iteration is:\n",
      "[26]\tvalid_0's binary_logloss: 0.375901\tvalid_1's binary_logloss: 0.492154\n",
      "[LightGBM] [Info] Number of positive: 4593, number of negative: 16706\n",
      "[LightGBM] [Warning] Auto-choosing col-wise multi-threading, the overhead of testing was 0.018989 seconds.\n",
      "You can set `force_col_wise=true` to remove the overhead.\n",
      "[LightGBM] [Info] Total Bins 12184\n",
      "[LightGBM] [Info] Number of data points in the train set: 21299, number of used features: 244\n",
      "[LightGBM] [Info] [binary:BoostFromScore]: pavg=0.215644 -> initscore=-1.291235\n",
      "[LightGBM] [Info] Start training from score -1.291235\n",
      "Training until validation scores don't improve for 10 rounds\n"
     ]
    },
    {
     "name": "stderr",
     "output_type": "stream",
     "text": [
      "num_leaves, val_score: 0.488645:  30%|###############                                   | 6/20 [00:15<00:33,  2.42s/it]\u001b[32m[I 2021-06-24 07:24:47,830]\u001b[0m Trial 12 finished with value: 0.48877094339482346 and parameters: {'num_leaves': 7}. Best is trial 12 with value: 0.48877094339482346.\u001b[0m\n",
      "num_leaves, val_score: 0.488645:  30%|###############                                   | 6/20 [00:15<00:33,  2.42s/it]"
     ]
    },
    {
     "name": "stdout",
     "output_type": "stream",
     "text": [
      "[100]\tvalid_0's binary_logloss: 0.456988\tvalid_1's binary_logloss: 0.488995\n",
      "Early stopping, best iteration is:\n",
      "[109]\tvalid_0's binary_logloss: 0.454939\tvalid_1's binary_logloss: 0.488771\n",
      "[LightGBM] [Info] Number of positive: 4593, number of negative: 16706\n",
      "[LightGBM] [Warning] Auto-choosing col-wise multi-threading, the overhead of testing was 0.013881 seconds.\n",
      "You can set `force_col_wise=true` to remove the overhead.\n",
      "[LightGBM] [Info] Total Bins 12184\n",
      "[LightGBM] [Info] Number of data points in the train set: 21299, number of used features: 244\n",
      "[LightGBM] [Info] [binary:BoostFromScore]: pavg=0.215644 -> initscore=-1.291235\n",
      "[LightGBM] [Info] Start training from score -1.291235\n",
      "Training until validation scores don't improve for 10 rounds\n"
     ]
    },
    {
     "name": "stderr",
     "output_type": "stream",
     "text": [
      "num_leaves, val_score: 0.488645:  35%|#################5                                | 7/20 [00:17<00:32,  2.49s/it]\u001b[32m[I 2021-06-24 07:24:50,480]\u001b[0m Trial 13 finished with value: 0.4923612476894071 and parameters: {'num_leaves': 160}. Best is trial 12 with value: 0.48877094339482346.\u001b[0m\n",
      "num_leaves, val_score: 0.488645:  35%|#################5                                | 7/20 [00:17<00:32,  2.49s/it]"
     ]
    },
    {
     "name": "stdout",
     "output_type": "stream",
     "text": [
      "Early stopping, best iteration is:\n",
      "[23]\tvalid_0's binary_logloss: 0.3552\tvalid_1's binary_logloss: 0.492361\n",
      "[LightGBM] [Info] Number of positive: 4593, number of negative: 16706\n",
      "[LightGBM] [Warning] Auto-choosing col-wise multi-threading, the overhead of testing was 0.016834 seconds.\n",
      "You can set `force_col_wise=true` to remove the overhead.\n",
      "[LightGBM] [Info] Total Bins 12184\n",
      "[LightGBM] [Info] Number of data points in the train set: 21299, number of used features: 244\n",
      "[LightGBM] [Info] [binary:BoostFromScore]: pavg=0.215644 -> initscore=-1.291235\n",
      "[LightGBM] [Info] Start training from score -1.291235\n",
      "Training until validation scores don't improve for 10 rounds\n"
     ]
    },
    {
     "name": "stderr",
     "output_type": "stream",
     "text": [
      "num_leaves, val_score: 0.488645:  40%|####################                              | 8/20 [00:20<00:30,  2.52s/it]\u001b[32m[I 2021-06-24 07:24:53,077]\u001b[0m Trial 14 finished with value: 0.4941415271845585 and parameters: {'num_leaves': 239}. Best is trial 12 with value: 0.48877094339482346.\u001b[0m\n",
      "num_leaves, val_score: 0.488645:  40%|####################                              | 8/20 [00:20<00:30,  2.52s/it]"
     ]
    },
    {
     "name": "stdout",
     "output_type": "stream",
     "text": [
      "Early stopping, best iteration is:\n",
      "[15]\tvalid_0's binary_logloss: 0.362379\tvalid_1's binary_logloss: 0.494142\n",
      "[LightGBM] [Info] Number of positive: 4593, number of negative: 16706\n",
      "[LightGBM] [Warning] Auto-choosing col-wise multi-threading, the overhead of testing was 0.014569 seconds.\n",
      "You can set `force_col_wise=true` to remove the overhead.\n",
      "[LightGBM] [Info] Total Bins 12184\n",
      "[LightGBM] [Info] Number of data points in the train set: 21299, number of used features: 244\n",
      "[LightGBM] [Info] [binary:BoostFromScore]: pavg=0.215644 -> initscore=-1.291235\n",
      "[LightGBM] [Info] Start training from score -1.291235\n",
      "Training until validation scores don't improve for 10 rounds\n"
     ]
    },
    {
     "name": "stderr",
     "output_type": "stream",
     "text": [
      "num_leaves, val_score: 0.488645:  45%|######################5                           | 9/20 [00:21<00:24,  2.24s/it]\u001b[32m[I 2021-06-24 07:24:54,648]\u001b[0m Trial 15 finished with value: 0.4897525638084837 and parameters: {'num_leaves': 8}. Best is trial 12 with value: 0.48877094339482346.\u001b[0m\n",
      "num_leaves, val_score: 0.488645:  45%|######################5                           | 9/20 [00:21<00:24,  2.24s/it]"
     ]
    },
    {
     "name": "stdout",
     "output_type": "stream",
     "text": [
      "Early stopping, best iteration is:\n",
      "[60]\tvalid_0's binary_logloss: 0.46399\tvalid_1's binary_logloss: 0.489753\n",
      "[LightGBM] [Info] Number of positive: 4593, number of negative: 16706\n",
      "[LightGBM] [Warning] Auto-choosing col-wise multi-threading, the overhead of testing was 0.013758 seconds.\n",
      "You can set `force_col_wise=true` to remove the overhead.\n",
      "[LightGBM] [Info] Total Bins 12184\n",
      "[LightGBM] [Info] Number of data points in the train set: 21299, number of used features: 244\n",
      "[LightGBM] [Info] [binary:BoostFromScore]: pavg=0.215644 -> initscore=-1.291235\n",
      "[LightGBM] [Info] Start training from score -1.291235\n",
      "Training until validation scores don't improve for 10 rounds\n"
     ]
    },
    {
     "name": "stderr",
     "output_type": "stream",
     "text": [
      "num_leaves, val_score: 0.488645:  50%|########################5                        | 10/20 [00:24<00:23,  2.37s/it]\u001b[32m[I 2021-06-24 07:24:57,352]\u001b[0m Trial 16 finished with value: 0.4923360078821609 and parameters: {'num_leaves': 223}. Best is trial 12 with value: 0.48877094339482346.\u001b[0m\n",
      "num_leaves, val_score: 0.488645:  50%|########################5                        | 10/20 [00:24<00:23,  2.37s/it]"
     ]
    },
    {
     "name": "stdout",
     "output_type": "stream",
     "text": [
      "Early stopping, best iteration is:\n",
      "[18]\tvalid_0's binary_logloss: 0.349739\tvalid_1's binary_logloss: 0.492336\n",
      "[LightGBM] [Info] Number of positive: 4593, number of negative: 16706\n",
      "[LightGBM] [Warning] Auto-choosing col-wise multi-threading, the overhead of testing was 0.013795 seconds.\n",
      "You can set `force_col_wise=true` to remove the overhead.\n",
      "[LightGBM] [Info] Total Bins 12184\n",
      "[LightGBM] [Info] Number of data points in the train set: 21299, number of used features: 244\n",
      "[LightGBM] [Info] [binary:BoostFromScore]: pavg=0.215644 -> initscore=-1.291235\n",
      "[LightGBM] [Info] Start training from score -1.291235\n",
      "Training until validation scores don't improve for 10 rounds\n"
     ]
    },
    {
     "name": "stderr",
     "output_type": "stream",
     "text": [
      "num_leaves, val_score: 0.488645:  55%|##########################9                      | 11/20 [00:26<00:19,  2.21s/it]\u001b[32m[I 2021-06-24 07:24:59,169]\u001b[0m Trial 17 finished with value: 0.4894466049930966 and parameters: {'num_leaves': 24}. Best is trial 12 with value: 0.48877094339482346.\u001b[0m\n",
      "num_leaves, val_score: 0.488645:  55%|##########################9                      | 11/20 [00:26<00:19,  2.21s/it]"
     ]
    },
    {
     "name": "stdout",
     "output_type": "stream",
     "text": [
      "Early stopping, best iteration is:\n",
      "[31]\tvalid_0's binary_logloss: 0.44801\tvalid_1's binary_logloss: 0.489447\n",
      "[LightGBM] [Info] Number of positive: 4593, number of negative: 16706\n",
      "[LightGBM] [Warning] Auto-choosing col-wise multi-threading, the overhead of testing was 0.014273 seconds.\n",
      "You can set `force_col_wise=true` to remove the overhead.\n",
      "[LightGBM] [Info] Total Bins 12184\n",
      "[LightGBM] [Info] Number of data points in the train set: 21299, number of used features: 244\n",
      "[LightGBM] [Info] [binary:BoostFromScore]: pavg=0.215644 -> initscore=-1.291235\n",
      "[LightGBM] [Info] Start training from score -1.291235\n",
      "Training until validation scores don't improve for 10 rounds\n"
     ]
    },
    {
     "name": "stderr",
     "output_type": "stream",
     "text": [
      "num_leaves, val_score: 0.488645:  60%|#############################4                   | 12/20 [00:28<00:16,  2.05s/it]\u001b[32m[I 2021-06-24 07:25:00,853]\u001b[0m Trial 18 finished with value: 0.48922408496803915 and parameters: {'num_leaves': 10}. Best is trial 12 with value: 0.48877094339482346.\u001b[0m\n",
      "num_leaves, val_score: 0.488645:  60%|#############################4                   | 12/20 [00:28<00:16,  2.05s/it]"
     ]
    },
    {
     "name": "stdout",
     "output_type": "stream",
     "text": [
      "Early stopping, best iteration is:\n",
      "[60]\tvalid_0's binary_logloss: 0.458084\tvalid_1's binary_logloss: 0.489224\n",
      "[LightGBM] [Info] Number of positive: 4593, number of negative: 16706\n",
      "[LightGBM] [Warning] Auto-choosing col-wise multi-threading, the overhead of testing was 0.013559 seconds.\n",
      "You can set `force_col_wise=true` to remove the overhead.\n",
      "[LightGBM] [Info] Total Bins 12184\n",
      "[LightGBM] [Info] Number of data points in the train set: 21299, number of used features: 244\n",
      "[LightGBM] [Info] [binary:BoostFromScore]: pavg=0.215644 -> initscore=-1.291235\n",
      "[LightGBM] [Info] Start training from score -1.291235\n",
      "Training until validation scores don't improve for 10 rounds\n"
     ]
    },
    {
     "name": "stderr",
     "output_type": "stream",
     "text": [
      "num_leaves, val_score: 0.488645:  65%|###############################8                 | 13/20 [00:30<00:14,  2.09s/it]\u001b[32m[I 2021-06-24 07:25:03,036]\u001b[0m Trial 19 finished with value: 0.4896834567275773 and parameters: {'num_leaves': 60}. Best is trial 12 with value: 0.48877094339482346.\u001b[0m\n",
      "num_leaves, val_score: 0.488645:  65%|###############################8                 | 13/20 [00:30<00:14,  2.09s/it]"
     ]
    },
    {
     "name": "stdout",
     "output_type": "stream",
     "text": [
      "Early stopping, best iteration is:\n",
      "[43]\tvalid_0's binary_logloss: 0.382323\tvalid_1's binary_logloss: 0.489683\n",
      "[LightGBM] [Info] Number of positive: 4593, number of negative: 16706\n",
      "[LightGBM] [Warning] Auto-choosing col-wise multi-threading, the overhead of testing was 0.014356 seconds.\n",
      "You can set `force_col_wise=true` to remove the overhead.\n",
      "[LightGBM] [Info] Total Bins 12184\n",
      "[LightGBM] [Info] Number of data points in the train set: 21299, number of used features: 244\n",
      "[LightGBM] [Info] [binary:BoostFromScore]: pavg=0.215644 -> initscore=-1.291235\n",
      "[LightGBM] [Info] Start training from score -1.291235\n",
      "Training until validation scores don't improve for 10 rounds\n"
     ]
    },
    {
     "name": "stderr",
     "output_type": "stream",
     "text": [
      "num_leaves, val_score: 0.488645:  70%|##################################3              | 14/20 [00:32<00:12,  2.06s/it]\u001b[32m[I 2021-06-24 07:25:05,027]\u001b[0m Trial 20 finished with value: 0.4894443379183516 and parameters: {'num_leaves': 52}. Best is trial 12 with value: 0.48877094339482346.\u001b[0m\n",
      "num_leaves, val_score: 0.488645:  70%|##################################3              | 14/20 [00:32<00:12,  2.06s/it]"
     ]
    },
    {
     "name": "stdout",
     "output_type": "stream",
     "text": [
      "Early stopping, best iteration is:\n",
      "[32]\tvalid_0's binary_logloss: 0.411082\tvalid_1's binary_logloss: 0.489444\n",
      "[LightGBM] [Info] Number of positive: 4593, number of negative: 16706\n",
      "[LightGBM] [Warning] Auto-choosing col-wise multi-threading, the overhead of testing was 0.014175 seconds.\n",
      "You can set `force_col_wise=true` to remove the overhead.\n",
      "[LightGBM] [Info] Total Bins 12184\n",
      "[LightGBM] [Info] Number of data points in the train set: 21299, number of used features: 244\n",
      "[LightGBM] [Info] [binary:BoostFromScore]: pavg=0.215644 -> initscore=-1.291235\n",
      "[LightGBM] [Info] Start training from score -1.291235\n",
      "Training until validation scores don't improve for 10 rounds\n",
      "[100]\tvalid_0's binary_logloss: 0.482\tvalid_1's binary_logloss: 0.493364\n"
     ]
    },
    {
     "name": "stderr",
     "output_type": "stream",
     "text": [
      "num_leaves, val_score: 0.488645:  75%|####################################7            | 15/20 [00:34<00:09,  1.98s/it]\u001b[32m[I 2021-06-24 07:25:06,815]\u001b[0m Trial 21 finished with value: 0.4915172122151254 and parameters: {'num_leaves': 2}. Best is trial 12 with value: 0.48877094339482346.\u001b[0m\n",
      "num_leaves, val_score: 0.488645:  75%|####################################7            | 15/20 [00:34<00:09,  1.98s/it]"
     ]
    },
    {
     "name": "stdout",
     "output_type": "stream",
     "text": [
      "Early stopping, best iteration is:\n",
      "[189]\tvalid_0's binary_logloss: 0.477375\tvalid_1's binary_logloss: 0.491517\n",
      "[LightGBM] [Info] Number of positive: 4593, number of negative: 16706\n",
      "[LightGBM] [Warning] Auto-choosing col-wise multi-threading, the overhead of testing was 0.012966 seconds.\n",
      "You can set `force_col_wise=true` to remove the overhead.\n",
      "[LightGBM] [Info] Total Bins 12184\n",
      "[LightGBM] [Info] Number of data points in the train set: 21299, number of used features: 244\n",
      "[LightGBM] [Info] [binary:BoostFromScore]: pavg=0.215644 -> initscore=-1.291235\n",
      "[LightGBM] [Info] Start training from score -1.291235\n",
      "Training until validation scores don't improve for 10 rounds\n"
     ]
    },
    {
     "name": "stderr",
     "output_type": "stream",
     "text": [
      "num_leaves, val_score: 0.488645:  80%|#######################################2         | 16/20 [00:36<00:08,  2.15s/it]\u001b[32m[I 2021-06-24 07:25:09,368]\u001b[0m Trial 22 finished with value: 0.49007490832815104 and parameters: {'num_leaves': 78}. Best is trial 12 with value: 0.48877094339482346.\u001b[0m\n",
      "num_leaves, val_score: 0.488645:  80%|#######################################2         | 16/20 [00:36<00:08,  2.15s/it]"
     ]
    },
    {
     "name": "stdout",
     "output_type": "stream",
     "text": [
      "Early stopping, best iteration is:\n",
      "[42]\tvalid_0's binary_logloss: 0.362365\tvalid_1's binary_logloss: 0.490075\n",
      "[LightGBM] [Info] Number of positive: 4593, number of negative: 16706\n",
      "[LightGBM] [Warning] Auto-choosing col-wise multi-threading, the overhead of testing was 0.017172 seconds.\n",
      "You can set `force_col_wise=true` to remove the overhead.\n",
      "[LightGBM] [Info] Total Bins 12184\n",
      "[LightGBM] [Info] Number of data points in the train set: 21299, number of used features: 244\n",
      "[LightGBM] [Info] [binary:BoostFromScore]: pavg=0.215644 -> initscore=-1.291235\n",
      "[LightGBM] [Info] Start training from score -1.291235\n",
      "Training until validation scores don't improve for 10 rounds\n"
     ]
    },
    {
     "name": "stderr",
     "output_type": "stream",
     "text": [
      "num_leaves, val_score: 0.488645:  85%|#########################################6       | 17/20 [00:38<00:06,  2.03s/it]\u001b[32m[I 2021-06-24 07:25:11,101]\u001b[0m Trial 23 finished with value: 0.4894459319758861 and parameters: {'num_leaves': 33}. Best is trial 12 with value: 0.48877094339482346.\u001b[0m\n",
      "num_leaves, val_score: 0.488645:  85%|#########################################6       | 17/20 [00:38<00:06,  2.03s/it]"
     ]
    },
    {
     "name": "stdout",
     "output_type": "stream",
     "text": [
      "Early stopping, best iteration is:\n",
      "[28]\tvalid_0's binary_logloss: 0.440232\tvalid_1's binary_logloss: 0.489446\n",
      "[LightGBM] [Info] Number of positive: 4593, number of negative: 16706\n",
      "[LightGBM] [Warning] Auto-choosing col-wise multi-threading, the overhead of testing was 0.013360 seconds.\n",
      "You can set `force_col_wise=true` to remove the overhead.\n",
      "[LightGBM] [Info] Total Bins 12184\n",
      "[LightGBM] [Info] Number of data points in the train set: 21299, number of used features: 244\n",
      "[LightGBM] [Info] [binary:BoostFromScore]: pavg=0.215644 -> initscore=-1.291235\n",
      "[LightGBM] [Info] Start training from score -1.291235\n",
      "Training until validation scores don't improve for 10 rounds\n"
     ]
    },
    {
     "name": "stderr",
     "output_type": "stream",
     "text": [
      "num_leaves, val_score: 0.488645:  90%|############################################1    | 18/20 [00:40<00:04,  2.05s/it]\u001b[32m[I 2021-06-24 07:25:13,198]\u001b[0m Trial 24 finished with value: 0.4897682872066574 and parameters: {'num_leaves': 87}. Best is trial 12 with value: 0.48877094339482346.\u001b[0m\n",
      "num_leaves, val_score: 0.488645:  90%|############################################1    | 18/20 [00:40<00:04,  2.05s/it]"
     ]
    },
    {
     "name": "stdout",
     "output_type": "stream",
     "text": [
      "Early stopping, best iteration is:\n",
      "[25]\tvalid_0's binary_logloss: 0.396208\tvalid_1's binary_logloss: 0.489768\n",
      "[LightGBM] [Info] Number of positive: 4593, number of negative: 16706\n",
      "[LightGBM] [Warning] Auto-choosing col-wise multi-threading, the overhead of testing was 0.012309 seconds.\n",
      "You can set `force_col_wise=true` to remove the overhead.\n",
      "[LightGBM] [Info] Total Bins 12184\n",
      "[LightGBM] [Info] Number of data points in the train set: 21299, number of used features: 244\n",
      "[LightGBM] [Info] [binary:BoostFromScore]: pavg=0.215644 -> initscore=-1.291235\n",
      "[LightGBM] [Info] Start training from score -1.291235\n",
      "Training until validation scores don't improve for 10 rounds\n"
     ]
    },
    {
     "name": "stderr",
     "output_type": "stream",
     "text": [
      "num_leaves, val_score: 0.488645:  95%|##############################################5  | 19/20 [00:43<00:02,  2.29s/it]\u001b[32m[I 2021-06-24 07:25:16,049]\u001b[0m Trial 25 finished with value: 0.49298216946128287 and parameters: {'num_leaves': 185}. Best is trial 12 with value: 0.48877094339482346.\u001b[0m\n",
      "num_leaves, val_score: 0.488645:  95%|##############################################5  | 19/20 [00:43<00:02,  2.29s/it]"
     ]
    },
    {
     "name": "stdout",
     "output_type": "stream",
     "text": [
      "Early stopping, best iteration is:\n",
      "[27]\tvalid_0's binary_logloss: 0.323162\tvalid_1's binary_logloss: 0.492982\n",
      "[LightGBM] [Info] Number of positive: 4593, number of negative: 16706\n",
      "[LightGBM] [Warning] Auto-choosing col-wise multi-threading, the overhead of testing was 0.015629 seconds.\n",
      "You can set `force_col_wise=true` to remove the overhead.\n",
      "[LightGBM] [Info] Total Bins 12184\n",
      "[LightGBM] [Info] Number of data points in the train set: 21299, number of used features: 244\n",
      "[LightGBM] [Info] [binary:BoostFromScore]: pavg=0.215644 -> initscore=-1.291235\n",
      "[LightGBM] [Info] Start training from score -1.291235\n",
      "Training until validation scores don't improve for 10 rounds\n"
     ]
    },
    {
     "name": "stderr",
     "output_type": "stream",
     "text": [
      "num_leaves, val_score: 0.488645: 100%|#################################################| 20/20 [00:45<00:00,  2.16s/it]\u001b[32m[I 2021-06-24 07:25:17,918]\u001b[0m Trial 26 finished with value: 0.4890842172485979 and parameters: {'num_leaves': 5}. Best is trial 12 with value: 0.48877094339482346.\u001b[0m\n",
      "num_leaves, val_score: 0.488645: 100%|#################################################| 20/20 [00:45<00:00,  2.26s/it]\n",
      "bagging, val_score: 0.488645:   0%|                                                             | 0/10 [00:00<?, ?it/s]"
     ]
    },
    {
     "name": "stdout",
     "output_type": "stream",
     "text": [
      "[100]\tvalid_0's binary_logloss: 0.46573\tvalid_1's binary_logloss: 0.489485\n",
      "Early stopping, best iteration is:\n",
      "[125]\tvalid_0's binary_logloss: 0.461944\tvalid_1's binary_logloss: 0.489084\n",
      "[LightGBM] [Info] Number of positive: 4593, number of negative: 16706\n",
      "[LightGBM] [Warning] Auto-choosing col-wise multi-threading, the overhead of testing was 0.023265 seconds.\n",
      "You can set `force_col_wise=true` to remove the overhead.\n",
      "[LightGBM] [Info] Total Bins 12184\n",
      "[LightGBM] [Info] Number of data points in the train set: 21299, number of used features: 244\n",
      "[LightGBM] [Info] [binary:BoostFromScore]: pavg=0.215644 -> initscore=-1.291235\n",
      "[LightGBM] [Info] Start training from score -1.291235\n",
      "Training until validation scores don't improve for 10 rounds\n"
     ]
    },
    {
     "name": "stderr",
     "output_type": "stream",
     "text": [
      "bagging, val_score: 0.488645:  10%|#####3                                               | 1/10 [00:01<00:15,  1.70s/it]\u001b[32m[I 2021-06-24 07:25:19,634]\u001b[0m Trial 27 finished with value: 0.496129834467419 and parameters: {'bagging_fraction': 0.43099956747589097, 'bagging_freq': 3}. Best is trial 27 with value: 0.496129834467419.\u001b[0m\n",
      "bagging, val_score: 0.488645:  10%|#####3                                               | 1/10 [00:01<00:15,  1.70s/it]"
     ]
    },
    {
     "name": "stdout",
     "output_type": "stream",
     "text": [
      "Early stopping, best iteration is:\n",
      "[27]\tvalid_0's binary_logloss: 0.445521\tvalid_1's binary_logloss: 0.49613\n",
      "[LightGBM] [Info] Number of positive: 4593, number of negative: 16706\n",
      "[LightGBM] [Warning] Auto-choosing col-wise multi-threading, the overhead of testing was 0.012210 seconds.\n",
      "You can set `force_col_wise=true` to remove the overhead.\n",
      "[LightGBM] [Info] Total Bins 12184\n",
      "[LightGBM] [Info] Number of data points in the train set: 21299, number of used features: 244\n",
      "[LightGBM] [Info] [binary:BoostFromScore]: pavg=0.215644 -> initscore=-1.291235\n",
      "[LightGBM] [Info] Start training from score -1.291235\n",
      "Training until validation scores don't improve for 10 rounds\n"
     ]
    },
    {
     "name": "stderr",
     "output_type": "stream",
     "text": [
      "bagging, val_score: 0.488645:  20%|##########6                                          | 2/10 [00:03<00:14,  1.79s/it]\u001b[32m[I 2021-06-24 07:25:21,628]\u001b[0m Trial 28 finished with value: 0.48893412565845223 and parameters: {'bagging_fraction': 0.9931705667255606, 'bagging_freq': 3}. Best is trial 28 with value: 0.48893412565845223.\u001b[0m\n",
      "bagging, val_score: 0.488645:  20%|##########6                                          | 2/10 [00:03<00:14,  1.79s/it]"
     ]
    },
    {
     "name": "stdout",
     "output_type": "stream",
     "text": [
      "Early stopping, best iteration is:\n",
      "[40]\tvalid_0's binary_logloss: 0.428166\tvalid_1's binary_logloss: 0.488934\n",
      "[LightGBM] [Info] Number of positive: 4593, number of negative: 16706\n",
      "[LightGBM] [Warning] Auto-choosing col-wise multi-threading, the overhead of testing was 0.012977 seconds.\n",
      "You can set `force_col_wise=true` to remove the overhead.\n",
      "[LightGBM] [Info] Total Bins 12184\n",
      "[LightGBM] [Info] Number of data points in the train set: 21299, number of used features: 244\n",
      "[LightGBM] [Info] [binary:BoostFromScore]: pavg=0.215644 -> initscore=-1.291235\n",
      "[LightGBM] [Info] Start training from score -1.291235\n",
      "Training until validation scores don't improve for 10 rounds\n"
     ]
    },
    {
     "name": "stderr",
     "output_type": "stream",
     "text": [
      "bagging, val_score: 0.488645:  30%|###############9                                     | 3/10 [00:05<00:12,  1.82s/it]\u001b[32m[I 2021-06-24 07:25:23,503]\u001b[0m Trial 29 finished with value: 0.48874291096548833 and parameters: {'bagging_fraction': 0.9962049377605988, 'bagging_freq': 2}. Best is trial 29 with value: 0.48874291096548833.\u001b[0m\n",
      "bagging, val_score: 0.488645:  30%|###############9                                     | 3/10 [00:05<00:12,  1.82s/it]"
     ]
    },
    {
     "name": "stdout",
     "output_type": "stream",
     "text": [
      "Early stopping, best iteration is:\n",
      "[41]\tvalid_0's binary_logloss: 0.42706\tvalid_1's binary_logloss: 0.488743\n",
      "[LightGBM] [Info] Number of positive: 4593, number of negative: 16706\n",
      "[LightGBM] [Warning] Auto-choosing col-wise multi-threading, the overhead of testing was 0.016124 seconds.\n",
      "You can set `force_col_wise=true` to remove the overhead.\n",
      "[LightGBM] [Info] Total Bins 12184\n",
      "[LightGBM] [Info] Number of data points in the train set: 21299, number of used features: 244\n",
      "[LightGBM] [Info] [binary:BoostFromScore]: pavg=0.215644 -> initscore=-1.291235\n",
      "[LightGBM] [Info] Start training from score -1.291235\n",
      "Training until validation scores don't improve for 10 rounds\n"
     ]
    },
    {
     "name": "stderr",
     "output_type": "stream",
     "text": [
      "bagging, val_score: 0.488645:  40%|#####################2                               | 4/10 [00:07<00:11,  1.86s/it]\u001b[32m[I 2021-06-24 07:25:25,465]\u001b[0m Trial 30 finished with value: 0.48972389004174866 and parameters: {'bagging_fraction': 0.9665925684777844, 'bagging_freq': 2}. Best is trial 29 with value: 0.48874291096548833.\u001b[0m\n",
      "bagging, val_score: 0.488645:  40%|#####################2                               | 4/10 [00:07<00:11,  1.86s/it]"
     ]
    },
    {
     "name": "stdout",
     "output_type": "stream",
     "text": [
      "Early stopping, best iteration is:\n",
      "[41]\tvalid_0's binary_logloss: 0.426193\tvalid_1's binary_logloss: 0.489724\n",
      "[LightGBM] [Info] Number of positive: 4593, number of negative: 16706\n",
      "[LightGBM] [Warning] Auto-choosing col-wise multi-threading, the overhead of testing was 0.013974 seconds.\n",
      "You can set `force_col_wise=true` to remove the overhead.\n",
      "[LightGBM] [Info] Total Bins 12184\n",
      "[LightGBM] [Info] Number of data points in the train set: 21299, number of used features: 244\n",
      "[LightGBM] [Info] [binary:BoostFromScore]: pavg=0.215644 -> initscore=-1.291235\n",
      "[LightGBM] [Info] Start training from score -1.291235\n",
      "Training until validation scores don't improve for 10 rounds\n"
     ]
    },
    {
     "name": "stderr",
     "output_type": "stream",
     "text": [
      "bagging, val_score: 0.488645:  50%|##########################5                          | 5/10 [00:09<00:09,  1.87s/it]\u001b[32m[I 2021-06-24 07:25:27,354]\u001b[0m Trial 31 finished with value: 0.48927334424718594 and parameters: {'bagging_fraction': 0.7928400329444327, 'bagging_freq': 6}. Best is trial 29 with value: 0.48874291096548833.\u001b[0m\n",
      "bagging, val_score: 0.488645:  50%|##########################5                          | 5/10 [00:09<00:09,  1.87s/it]"
     ]
    },
    {
     "name": "stdout",
     "output_type": "stream",
     "text": [
      "Early stopping, best iteration is:\n",
      "[38]\tvalid_0's binary_logloss: 0.429791\tvalid_1's binary_logloss: 0.489273\n",
      "[LightGBM] [Info] Number of positive: 4593, number of negative: 16706\n",
      "[LightGBM] [Warning] Auto-choosing col-wise multi-threading, the overhead of testing was 0.012478 seconds.\n",
      "You can set `force_col_wise=true` to remove the overhead.\n",
      "[LightGBM] [Info] Total Bins 12184\n",
      "[LightGBM] [Info] Number of data points in the train set: 21299, number of used features: 244\n",
      "[LightGBM] [Info] [binary:BoostFromScore]: pavg=0.215644 -> initscore=-1.291235\n",
      "[LightGBM] [Info] Start training from score -1.291235\n",
      "Training until validation scores don't improve for 10 rounds\n"
     ]
    },
    {
     "name": "stderr",
     "output_type": "stream",
     "text": [
      "bagging, val_score: 0.488645:  60%|###############################8                     | 6/10 [00:11<00:07,  1.82s/it]\u001b[32m[I 2021-06-24 07:25:29,045]\u001b[0m Trial 32 finished with value: 0.4927378891600712 and parameters: {'bagging_fraction': 0.49218938959221126, 'bagging_freq': 7}. Best is trial 29 with value: 0.48874291096548833.\u001b[0m\n",
      "bagging, val_score: 0.488645:  60%|###############################8                     | 6/10 [00:11<00:07,  1.82s/it]"
     ]
    },
    {
     "name": "stdout",
     "output_type": "stream",
     "text": [
      "Early stopping, best iteration is:\n",
      "[24]\tvalid_0's binary_logloss: 0.449676\tvalid_1's binary_logloss: 0.492738\n",
      "[LightGBM] [Info] Number of positive: 4593, number of negative: 16706\n",
      "[LightGBM] [Warning] Auto-choosing col-wise multi-threading, the overhead of testing was 0.012890 seconds.\n",
      "You can set `force_col_wise=true` to remove the overhead.\n",
      "[LightGBM] [Info] Total Bins 12184\n",
      "[LightGBM] [Info] Number of data points in the train set: 21299, number of used features: 244\n",
      "[LightGBM] [Info] [binary:BoostFromScore]: pavg=0.215644 -> initscore=-1.291235\n",
      "[LightGBM] [Info] Start training from score -1.291235\n",
      "Training until validation scores don't improve for 10 rounds\n"
     ]
    },
    {
     "name": "stderr",
     "output_type": "stream",
     "text": [
      "bagging, val_score: 0.488645:  70%|#####################################                | 7/10 [00:12<00:05,  1.79s/it]\u001b[32m[I 2021-06-24 07:25:30,792]\u001b[0m Trial 33 finished with value: 0.49152113367748923 and parameters: {'bagging_fraction': 0.6284983815421943, 'bagging_freq': 7}. Best is trial 29 with value: 0.48874291096548833.\u001b[0m\n",
      "bagging, val_score: 0.488645:  70%|#####################################                | 7/10 [00:12<00:05,  1.79s/it]"
     ]
    },
    {
     "name": "stdout",
     "output_type": "stream",
     "text": [
      "Early stopping, best iteration is:\n",
      "[32]\tvalid_0's binary_logloss: 0.438834\tvalid_1's binary_logloss: 0.491521\n",
      "[LightGBM] [Info] Number of positive: 4593, number of negative: 16706\n",
      "[LightGBM] [Warning] Auto-choosing col-wise multi-threading, the overhead of testing was 0.014654 seconds.\n",
      "You can set `force_col_wise=true` to remove the overhead.\n",
      "[LightGBM] [Info] Total Bins 12184\n",
      "[LightGBM] [Info] Number of data points in the train set: 21299, number of used features: 244\n",
      "[LightGBM] [Info] [binary:BoostFromScore]: pavg=0.215644 -> initscore=-1.291235\n",
      "[LightGBM] [Info] Start training from score -1.291235\n",
      "Training until validation scores don't improve for 10 rounds\n"
     ]
    },
    {
     "name": "stderr",
     "output_type": "stream",
     "text": [
      "bagging, val_score: 0.488645:  80%|##########################################4          | 8/10 [00:14<00:03,  1.78s/it]\u001b[32m[I 2021-06-24 07:25:32,549]\u001b[0m Trial 34 finished with value: 0.49084346599425827 and parameters: {'bagging_fraction': 0.748128417591162, 'bagging_freq': 2}. Best is trial 29 with value: 0.48874291096548833.\u001b[0m\n",
      "bagging, val_score: 0.488645:  80%|##########################################4          | 8/10 [00:14<00:03,  1.78s/it]"
     ]
    },
    {
     "name": "stdout",
     "output_type": "stream",
     "text": [
      "Early stopping, best iteration is:\n",
      "[29]\tvalid_0's binary_logloss: 0.441167\tvalid_1's binary_logloss: 0.490843\n",
      "[LightGBM] [Info] Number of positive: 4593, number of negative: 16706\n",
      "[LightGBM] [Warning] Auto-choosing col-wise multi-threading, the overhead of testing was 0.013626 seconds.\n",
      "You can set `force_col_wise=true` to remove the overhead.\n",
      "[LightGBM] [Info] Total Bins 12184\n",
      "[LightGBM] [Info] Number of data points in the train set: 21299, number of used features: 244\n",
      "[LightGBM] [Info] [binary:BoostFromScore]: pavg=0.215644 -> initscore=-1.291235\n",
      "[LightGBM] [Info] Start training from score -1.291235\n",
      "Training until validation scores don't improve for 10 rounds\n"
     ]
    },
    {
     "name": "stderr",
     "output_type": "stream",
     "text": [
      "bagging, val_score: 0.488645:  90%|###############################################7     | 9/10 [00:16<00:01,  1.79s/it]\u001b[32m[I 2021-06-24 07:25:34,342]\u001b[0m Trial 35 finished with value: 0.4908672316055633 and parameters: {'bagging_fraction': 0.6526444926507033, 'bagging_freq': 4}. Best is trial 29 with value: 0.48874291096548833.\u001b[0m\n",
      "bagging, val_score: 0.488645:  90%|###############################################7     | 9/10 [00:16<00:01,  1.79s/it]"
     ]
    },
    {
     "name": "stdout",
     "output_type": "stream",
     "text": [
      "Early stopping, best iteration is:\n",
      "[35]\tvalid_0's binary_logloss: 0.4342\tvalid_1's binary_logloss: 0.490867\n",
      "[LightGBM] [Info] Number of positive: 4593, number of negative: 16706\n",
      "[LightGBM] [Warning] Auto-choosing col-wise multi-threading, the overhead of testing was 0.014200 seconds.\n",
      "You can set `force_col_wise=true` to remove the overhead.\n",
      "[LightGBM] [Info] Total Bins 12184\n",
      "[LightGBM] [Info] Number of data points in the train set: 21299, number of used features: 244\n",
      "[LightGBM] [Info] [binary:BoostFromScore]: pavg=0.215644 -> initscore=-1.291235\n",
      "[LightGBM] [Info] Start training from score -1.291235\n",
      "Training until validation scores don't improve for 10 rounds\n"
     ]
    },
    {
     "name": "stderr",
     "output_type": "stream",
     "text": [
      "bagging, val_score: 0.488645: 100%|####################################################| 10/10 [00:18<00:00,  1.81s/it]\u001b[32m[I 2021-06-24 07:25:36,193]\u001b[0m Trial 36 finished with value: 0.4917809132849665 and parameters: {'bagging_fraction': 0.5703417006359097, 'bagging_freq': 7}. Best is trial 29 with value: 0.48874291096548833.\u001b[0m\n",
      "bagging, val_score: 0.488645: 100%|####################################################| 10/10 [00:18<00:00,  1.83s/it]\n",
      "feature_fraction_stage2, val_score: 0.488645:   0%|                                              | 0/6 [00:00<?, ?it/s]"
     ]
    },
    {
     "name": "stdout",
     "output_type": "stream",
     "text": [
      "Early stopping, best iteration is:\n",
      "[37]\tvalid_0's binary_logloss: 0.433014\tvalid_1's binary_logloss: 0.491781\n",
      "[LightGBM] [Info] Number of positive: 4593, number of negative: 16706\n",
      "[LightGBM] [Warning] Auto-choosing col-wise multi-threading, the overhead of testing was 0.020097 seconds.\n",
      "You can set `force_col_wise=true` to remove the overhead.\n",
      "[LightGBM] [Info] Total Bins 12184\n",
      "[LightGBM] [Info] Number of data points in the train set: 21299, number of used features: 244\n",
      "[LightGBM] [Info] [binary:BoostFromScore]: pavg=0.215644 -> initscore=-1.291235\n",
      "[LightGBM] [Info] Start training from score -1.291235\n",
      "Training until validation scores don't improve for 10 rounds\n"
     ]
    },
    {
     "name": "stderr",
     "output_type": "stream",
     "text": [
      "feature_fraction_stage2, val_score: 0.488645:  17%|######3                               | 1/6 [00:01<00:09,  1.80s/it]\u001b[32m[I 2021-06-24 07:25:38,009]\u001b[0m Trial 37 finished with value: 0.4896345547859952 and parameters: {'feature_fraction': 0.6799999999999999}. Best is trial 37 with value: 0.4896345547859952.\u001b[0m\n",
      "feature_fraction_stage2, val_score: 0.488645:  17%|######3                               | 1/6 [00:01<00:09,  1.80s/it]"
     ]
    },
    {
     "name": "stdout",
     "output_type": "stream",
     "text": [
      "Early stopping, best iteration is:\n",
      "[34]\tvalid_0's binary_logloss: 0.434048\tvalid_1's binary_logloss: 0.489635\n",
      "[LightGBM] [Info] Number of positive: 4593, number of negative: 16706\n",
      "[LightGBM] [Warning] Auto-choosing col-wise multi-threading, the overhead of testing was 0.018547 seconds.\n",
      "You can set `force_col_wise=true` to remove the overhead.\n",
      "[LightGBM] [Info] Total Bins 12184\n",
      "[LightGBM] [Info] Number of data points in the train set: 21299, number of used features: 244\n",
      "[LightGBM] [Info] [binary:BoostFromScore]: pavg=0.215644 -> initscore=-1.291235\n",
      "[LightGBM] [Info] Start training from score -1.291235\n",
      "Training until validation scores don't improve for 10 rounds\n"
     ]
    },
    {
     "name": "stderr",
     "output_type": "stream",
     "text": [
      "feature_fraction_stage2, val_score: 0.488645:  33%|############6                         | 2/6 [00:03<00:07,  1.84s/it]\u001b[32m[I 2021-06-24 07:25:39,944]\u001b[0m Trial 38 finished with value: 0.48887352510601145 and parameters: {'feature_fraction': 0.52}. Best is trial 38 with value: 0.48887352510601145.\u001b[0m\n",
      "feature_fraction_stage2, val_score: 0.488645:  33%|############6                         | 2/6 [00:03<00:07,  1.84s/it]"
     ]
    },
    {
     "name": "stdout",
     "output_type": "stream",
     "text": [
      "Early stopping, best iteration is:\n",
      "[35]\tvalid_0's binary_logloss: 0.433956\tvalid_1's binary_logloss: 0.488874\n",
      "[LightGBM] [Info] Number of positive: 4593, number of negative: 16706\n",
      "[LightGBM] [Warning] Auto-choosing col-wise multi-threading, the overhead of testing was 0.024283 seconds.\n",
      "You can set `force_col_wise=true` to remove the overhead.\n",
      "[LightGBM] [Info] Total Bins 12184\n",
      "[LightGBM] [Info] Number of data points in the train set: 21299, number of used features: 244\n",
      "[LightGBM] [Info] [binary:BoostFromScore]: pavg=0.215644 -> initscore=-1.291235\n",
      "[LightGBM] [Info] Start training from score -1.291235\n",
      "Training until validation scores don't improve for 10 rounds\n"
     ]
    },
    {
     "name": "stderr",
     "output_type": "stream",
     "text": [
      "feature_fraction_stage2, val_score: 0.488645:  50%|###################                   | 3/6 [00:05<00:05,  1.87s/it]\u001b[32m[I 2021-06-24 07:25:41,871]\u001b[0m Trial 39 finished with value: 0.4894188664162287 and parameters: {'feature_fraction': 0.584}. Best is trial 38 with value: 0.48887352510601145.\u001b[0m\n",
      "feature_fraction_stage2, val_score: 0.488645:  50%|###################                   | 3/6 [00:05<00:05,  1.87s/it]"
     ]
    },
    {
     "name": "stdout",
     "output_type": "stream",
     "text": [
      "Early stopping, best iteration is:\n",
      "[35]\tvalid_0's binary_logloss: 0.433505\tvalid_1's binary_logloss: 0.489419\n",
      "[LightGBM] [Info] Number of positive: 4593, number of negative: 16706\n",
      "[LightGBM] [Warning] Auto-choosing col-wise multi-threading, the overhead of testing was 0.012842 seconds.\n",
      "You can set `force_col_wise=true` to remove the overhead.\n",
      "[LightGBM] [Info] Total Bins 12184\n",
      "[LightGBM] [Info] Number of data points in the train set: 21299, number of used features: 244\n",
      "[LightGBM] [Info] [binary:BoostFromScore]: pavg=0.215644 -> initscore=-1.291235\n",
      "[LightGBM] [Info] Start training from score -1.291235\n",
      "Training until validation scores don't improve for 10 rounds\n"
     ]
    },
    {
     "name": "stderr",
     "output_type": "stream",
     "text": [
      "feature_fraction_stage2, val_score: 0.488645:  67%|#########################3            | 4/6 [00:07<00:03,  1.86s/it]\u001b[32m[I 2021-06-24 07:25:43,715]\u001b[0m Trial 40 finished with value: 0.4894640618577092 and parameters: {'feature_fraction': 0.552}. Best is trial 38 with value: 0.48887352510601145.\u001b[0m\n",
      "feature_fraction_stage2, val_score: 0.488645:  67%|#########################3            | 4/6 [00:07<00:03,  1.86s/it]"
     ]
    },
    {
     "name": "stdout",
     "output_type": "stream",
     "text": [
      "Early stopping, best iteration is:\n",
      "[37]\tvalid_0's binary_logloss: 0.431469\tvalid_1's binary_logloss: 0.489464\n",
      "[LightGBM] [Info] Number of positive: 4593, number of negative: 16706\n",
      "[LightGBM] [Warning] Auto-choosing col-wise multi-threading, the overhead of testing was 0.015227 seconds.\n",
      "You can set `force_col_wise=true` to remove the overhead.\n",
      "[LightGBM] [Info] Total Bins 12184\n",
      "[LightGBM] [Info] Number of data points in the train set: 21299, number of used features: 244\n",
      "[LightGBM] [Info] [binary:BoostFromScore]: pavg=0.215644 -> initscore=-1.291235\n",
      "[LightGBM] [Info] Start training from score -1.291235\n",
      "Training until validation scores don't improve for 10 rounds\n"
     ]
    },
    {
     "name": "stderr",
     "output_type": "stream",
     "text": [
      "feature_fraction_stage2, val_score: 0.488645:  83%|###############################6      | 5/6 [00:09<00:01,  1.94s/it]\u001b[32m[I 2021-06-24 07:25:45,856]\u001b[0m Trial 41 finished with value: 0.4905481150938102 and parameters: {'feature_fraction': 0.616}. Best is trial 38 with value: 0.48887352510601145.\u001b[0m\n",
      "feature_fraction_stage2, val_score: 0.488645:  83%|###############################6      | 5/6 [00:09<00:01,  1.94s/it]"
     ]
    },
    {
     "name": "stdout",
     "output_type": "stream",
     "text": [
      "Early stopping, best iteration is:\n",
      "[39]\tvalid_0's binary_logloss: 0.428377\tvalid_1's binary_logloss: 0.490548\n",
      "[LightGBM] [Info] Number of positive: 4593, number of negative: 16706\n",
      "[LightGBM] [Warning] Auto-choosing col-wise multi-threading, the overhead of testing was 0.016177 seconds.\n",
      "You can set `force_col_wise=true` to remove the overhead.\n",
      "[LightGBM] [Info] Total Bins 12184\n",
      "[LightGBM] [Info] Number of data points in the train set: 21299, number of used features: 244\n",
      "[LightGBM] [Info] [binary:BoostFromScore]: pavg=0.215644 -> initscore=-1.291235\n",
      "[LightGBM] [Info] Start training from score -1.291235\n",
      "Training until validation scores don't improve for 10 rounds\n"
     ]
    },
    {
     "name": "stderr",
     "output_type": "stream",
     "text": [
      "feature_fraction_stage2, val_score: 0.488645: 100%|######################################| 6/6 [00:11<00:00,  1.91s/it]\u001b[32m[I 2021-06-24 07:25:47,673]\u001b[0m Trial 42 finished with value: 0.4894179686774646 and parameters: {'feature_fraction': 0.6479999999999999}. Best is trial 38 with value: 0.48887352510601145.\u001b[0m\n",
      "feature_fraction_stage2, val_score: 0.488645: 100%|######################################| 6/6 [00:11<00:00,  1.91s/it]\n",
      "regularization_factors, val_score: 0.488645:   0%|                                              | 0/20 [00:00<?, ?it/s]"
     ]
    },
    {
     "name": "stdout",
     "output_type": "stream",
     "text": [
      "Early stopping, best iteration is:\n",
      "[32]\tvalid_0's binary_logloss: 0.436338\tvalid_1's binary_logloss: 0.489418\n",
      "[LightGBM] [Info] Number of positive: 4593, number of negative: 16706\n",
      "[LightGBM] [Warning] Auto-choosing col-wise multi-threading, the overhead of testing was 0.015726 seconds.\n",
      "You can set `force_col_wise=true` to remove the overhead.\n",
      "[LightGBM] [Info] Total Bins 12184\n",
      "[LightGBM] [Info] Number of data points in the train set: 21299, number of used features: 244\n",
      "[LightGBM] [Info] [binary:BoostFromScore]: pavg=0.215644 -> initscore=-1.291235\n",
      "[LightGBM] [Info] Start training from score -1.291235\n",
      "Training until validation scores don't improve for 10 rounds\n"
     ]
    },
    {
     "name": "stderr",
     "output_type": "stream",
     "text": [
      "regularization_factors, val_score: 0.488640:   5%|#9                                    | 1/20 [00:02<00:45,  2.38s/it]\u001b[32m[I 2021-06-24 07:25:50,081]\u001b[0m Trial 43 finished with value: 0.48864007209971333 and parameters: {'lambda_l1': 1.5732712731817755e-07, 'lambda_l2': 1.5757805907107703e-07}. Best is trial 43 with value: 0.48864007209971333.\u001b[0m\n",
      "regularization_factors, val_score: 0.488640:   5%|#9                                    | 1/20 [00:02<00:45,  2.38s/it]"
     ]
    },
    {
     "name": "stdout",
     "output_type": "stream",
     "text": [
      "Early stopping, best iteration is:\n",
      "[50]\tvalid_0's binary_logloss: 0.418161\tvalid_1's binary_logloss: 0.48864\n",
      "[LightGBM] [Info] Number of positive: 4593, number of negative: 16706\n",
      "[LightGBM] [Warning] Auto-choosing col-wise multi-threading, the overhead of testing was 0.018448 seconds.\n",
      "You can set `force_col_wise=true` to remove the overhead.\n",
      "[LightGBM] [Info] Total Bins 12184\n",
      "[LightGBM] [Info] Number of data points in the train set: 21299, number of used features: 244\n",
      "[LightGBM] [Info] [binary:BoostFromScore]: pavg=0.215644 -> initscore=-1.291235\n",
      "[LightGBM] [Info] Start training from score -1.291235\n",
      "Training until validation scores don't improve for 10 rounds\n"
     ]
    },
    {
     "name": "stderr",
     "output_type": "stream",
     "text": [
      "regularization_factors, val_score: 0.488617:  10%|###8                                  | 2/20 [00:04<00:41,  2.33s/it]\u001b[32m[I 2021-06-24 07:25:52,269]\u001b[0m Trial 44 finished with value: 0.48861697718172603 and parameters: {'lambda_l1': 0.00276476684404968, 'lambda_l2': 4.660582976423018e-06}. Best is trial 44 with value: 0.48861697718172603.\u001b[0m\n",
      "regularization_factors, val_score: 0.488617:  10%|###8                                  | 2/20 [00:04<00:41,  2.33s/it]"
     ]
    },
    {
     "name": "stdout",
     "output_type": "stream",
     "text": [
      "Early stopping, best iteration is:\n",
      "[39]\tvalid_0's binary_logloss: 0.429096\tvalid_1's binary_logloss: 0.488617\n",
      "[LightGBM] [Info] Number of positive: 4593, number of negative: 16706\n",
      "[LightGBM] [Warning] Auto-choosing col-wise multi-threading, the overhead of testing was 0.026952 seconds.\n",
      "You can set `force_col_wise=true` to remove the overhead.\n",
      "[LightGBM] [Info] Total Bins 12184\n",
      "[LightGBM] [Info] Number of data points in the train set: 21299, number of used features: 244\n",
      "[LightGBM] [Info] [binary:BoostFromScore]: pavg=0.215644 -> initscore=-1.291235\n",
      "[LightGBM] [Info] Start training from score -1.291235\n",
      "Training until validation scores don't improve for 10 rounds\n"
     ]
    },
    {
     "name": "stderr",
     "output_type": "stream",
     "text": [
      "regularization_factors, val_score: 0.488617:  15%|#####7                                | 3/20 [00:07<00:41,  2.42s/it]\u001b[32m[I 2021-06-24 07:25:54,919]\u001b[0m Trial 45 finished with value: 0.4892316976445717 and parameters: {'lambda_l1': 2.076352897197164e-07, 'lambda_l2': 4.012564500669467}. Best is trial 44 with value: 0.48861697718172603.\u001b[0m\n",
      "regularization_factors, val_score: 0.488617:  15%|#####7                                | 3/20 [00:07<00:41,  2.42s/it]"
     ]
    },
    {
     "name": "stdout",
     "output_type": "stream",
     "text": [
      "Early stopping, best iteration is:\n",
      "[58]\tvalid_0's binary_logloss: 0.417772\tvalid_1's binary_logloss: 0.489232\n",
      "[LightGBM] [Info] Number of positive: 4593, number of negative: 16706\n",
      "[LightGBM] [Warning] Auto-choosing col-wise multi-threading, the overhead of testing was 0.022168 seconds.\n",
      "You can set `force_col_wise=true` to remove the overhead.\n",
      "[LightGBM] [Info] Total Bins 12184\n",
      "[LightGBM] [Info] Number of data points in the train set: 21299, number of used features: 244\n",
      "[LightGBM] [Info] [binary:BoostFromScore]: pavg=0.215644 -> initscore=-1.291235\n",
      "[LightGBM] [Info] Start training from score -1.291235\n",
      "Training until validation scores don't improve for 10 rounds\n"
     ]
    },
    {
     "name": "stderr",
     "output_type": "stream",
     "text": [
      "regularization_factors, val_score: 0.488617:  20%|#######6                              | 4/20 [00:09<00:38,  2.39s/it]\u001b[32m[I 2021-06-24 07:25:57,220]\u001b[0m Trial 46 finished with value: 0.4886400399661439 and parameters: {'lambda_l1': 1.1138716562245223e-06, 'lambda_l2': 9.63632814023577e-05}. Best is trial 44 with value: 0.48861697718172603.\u001b[0m\n",
      "regularization_factors, val_score: 0.488617:  20%|#######6                              | 4/20 [00:09<00:38,  2.39s/it]"
     ]
    },
    {
     "name": "stdout",
     "output_type": "stream",
     "text": [
      "Early stopping, best iteration is:\n",
      "[50]\tvalid_0's binary_logloss: 0.418162\tvalid_1's binary_logloss: 0.48864\n",
      "[LightGBM] [Info] Number of positive: 4593, number of negative: 16706\n",
      "[LightGBM] [Warning] Auto-choosing col-wise multi-threading, the overhead of testing was 0.014750 seconds.\n",
      "You can set `force_col_wise=true` to remove the overhead.\n",
      "[LightGBM] [Info] Total Bins 12184\n",
      "[LightGBM] [Info] Number of data points in the train set: 21299, number of used features: 244\n",
      "[LightGBM] [Info] [binary:BoostFromScore]: pavg=0.215644 -> initscore=-1.291235\n",
      "[LightGBM] [Info] Start training from score -1.291235\n",
      "Training until validation scores don't improve for 10 rounds\n"
     ]
    },
    {
     "name": "stderr",
     "output_type": "stream",
     "text": [
      "regularization_factors, val_score: 0.488617:  25%|#########5                            | 5/20 [00:11<00:34,  2.27s/it]\u001b[32m[I 2021-06-24 07:25:59,215]\u001b[0m Trial 47 finished with value: 0.4886170904609244 and parameters: {'lambda_l1': 0.0018745372468559564, 'lambda_l2': 7.911822669308556e-08}. Best is trial 44 with value: 0.48861697718172603.\u001b[0m\n",
      "regularization_factors, val_score: 0.488617:  25%|#########5                            | 5/20 [00:11<00:34,  2.27s/it]"
     ]
    },
    {
     "name": "stdout",
     "output_type": "stream",
     "text": [
      "Early stopping, best iteration is:\n",
      "[39]\tvalid_0's binary_logloss: 0.429093\tvalid_1's binary_logloss: 0.488617\n",
      "[LightGBM] [Info] Number of positive: 4593, number of negative: 16706\n",
      "[LightGBM] [Warning] Auto-choosing col-wise multi-threading, the overhead of testing was 0.020100 seconds.\n",
      "You can set `force_col_wise=true` to remove the overhead.\n",
      "[LightGBM] [Info] Total Bins 12184\n",
      "[LightGBM] [Info] Number of data points in the train set: 21299, number of used features: 244\n",
      "[LightGBM] [Info] [binary:BoostFromScore]: pavg=0.215644 -> initscore=-1.291235\n",
      "[LightGBM] [Info] Start training from score -1.291235\n",
      "Training until validation scores don't improve for 10 rounds\n"
     ]
    },
    {
     "name": "stderr",
     "output_type": "stream",
     "text": [
      "regularization_factors, val_score: 0.488617:  30%|###########4                          | 6/20 [00:13<00:31,  2.28s/it]\u001b[32m[I 2021-06-24 07:26:01,524]\u001b[0m Trial 48 finished with value: 0.4906434281864728 and parameters: {'lambda_l1': 2.7203583884364497, 'lambda_l2': 2.1508010107641342e-07}. Best is trial 44 with value: 0.48861697718172603.\u001b[0m\n",
      "regularization_factors, val_score: 0.488617:  30%|###########4                          | 6/20 [00:13<00:31,  2.28s/it]"
     ]
    },
    {
     "name": "stdout",
     "output_type": "stream",
     "text": [
      "Early stopping, best iteration is:\n",
      "[46]\tvalid_0's binary_logloss: 0.426651\tvalid_1's binary_logloss: 0.490643\n",
      "[LightGBM] [Info] Number of positive: 4593, number of negative: 16706\n",
      "[LightGBM] [Warning] Auto-choosing col-wise multi-threading, the overhead of testing was 0.014500 seconds.\n",
      "You can set `force_col_wise=true` to remove the overhead.\n",
      "[LightGBM] [Info] Total Bins 12184\n",
      "[LightGBM] [Info] Number of data points in the train set: 21299, number of used features: 244\n",
      "[LightGBM] [Info] [binary:BoostFromScore]: pavg=0.215644 -> initscore=-1.291235\n",
      "[LightGBM] [Info] Start training from score -1.291235\n",
      "Training until validation scores don't improve for 10 rounds\n"
     ]
    },
    {
     "name": "stderr",
     "output_type": "stream",
     "text": [
      "regularization_factors, val_score: 0.488617:  35%|#############3                        | 7/20 [00:15<00:29,  2.24s/it]\u001b[32m[I 2021-06-24 07:26:03,683]\u001b[0m Trial 49 finished with value: 0.4895775466690435 and parameters: {'lambda_l1': 0.006616517484226501, 'lambda_l2': 7.7013965536357105}. Best is trial 44 with value: 0.48861697718172603.\u001b[0m\n",
      "regularization_factors, val_score: 0.488617:  35%|#############3                        | 7/20 [00:15<00:29,  2.24s/it]"
     ]
    },
    {
     "name": "stdout",
     "output_type": "stream",
     "text": [
      "Early stopping, best iteration is:\n",
      "[39]\tvalid_0's binary_logloss: 0.436736\tvalid_1's binary_logloss: 0.489578\n",
      "[LightGBM] [Info] Number of positive: 4593, number of negative: 16706\n",
      "[LightGBM] [Warning] Auto-choosing col-wise multi-threading, the overhead of testing was 0.013233 seconds.\n",
      "You can set `force_col_wise=true` to remove the overhead.\n",
      "[LightGBM] [Info] Total Bins 12184\n",
      "[LightGBM] [Info] Number of data points in the train set: 21299, number of used features: 244\n",
      "[LightGBM] [Info] [binary:BoostFromScore]: pavg=0.215644 -> initscore=-1.291235\n",
      "[LightGBM] [Info] Start training from score -1.291235\n",
      "Training until validation scores don't improve for 10 rounds\n"
     ]
    },
    {
     "name": "stderr",
     "output_type": "stream",
     "text": [
      "regularization_factors, val_score: 0.488617:  40%|###############2                      | 8/20 [00:17<00:25,  2.14s/it]\u001b[32m[I 2021-06-24 07:26:05,573]\u001b[0m Trial 50 finished with value: 0.48984711152825317 and parameters: {'lambda_l1': 0.9211854238345278, 'lambda_l2': 0.00026121874875672976}. Best is trial 44 with value: 0.48861697718172603.\u001b[0m\n",
      "regularization_factors, val_score: 0.488617:  40%|###############2                      | 8/20 [00:17<00:25,  2.14s/it]"
     ]
    },
    {
     "name": "stdout",
     "output_type": "stream",
     "text": [
      "Early stopping, best iteration is:\n",
      "[26]\tvalid_0's binary_logloss: 0.446331\tvalid_1's binary_logloss: 0.489847\n",
      "[LightGBM] [Info] Number of positive: 4593, number of negative: 16706\n",
      "[LightGBM] [Warning] Auto-choosing col-wise multi-threading, the overhead of testing was 0.013473 seconds.\n",
      "You can set `force_col_wise=true` to remove the overhead.\n",
      "[LightGBM] [Info] Total Bins 12184\n",
      "[LightGBM] [Info] Number of data points in the train set: 21299, number of used features: 244\n",
      "[LightGBM] [Info] [binary:BoostFromScore]: pavg=0.215644 -> initscore=-1.291235\n",
      "[LightGBM] [Info] Start training from score -1.291235\n",
      "Training until validation scores don't improve for 10 rounds\n"
     ]
    },
    {
     "name": "stderr",
     "output_type": "stream",
     "text": [
      "regularization_factors, val_score: 0.487743:  45%|#################1                    | 9/20 [00:19<00:23,  2.12s/it]\u001b[32m[I 2021-06-24 07:26:07,633]\u001b[0m Trial 51 finished with value: 0.48774267563205187 and parameters: {'lambda_l1': 0.16961456138038775, 'lambda_l2': 0.0821584662044769}. Best is trial 51 with value: 0.48774267563205187.\u001b[0m\n",
      "regularization_factors, val_score: 0.487743:  45%|#################1                    | 9/20 [00:19<00:23,  2.12s/it]"
     ]
    },
    {
     "name": "stdout",
     "output_type": "stream",
     "text": [
      "Early stopping, best iteration is:\n",
      "[39]\tvalid_0's binary_logloss: 0.429294\tvalid_1's binary_logloss: 0.487743\n",
      "[LightGBM] [Info] Number of positive: 4593, number of negative: 16706\n",
      "[LightGBM] [Warning] Auto-choosing col-wise multi-threading, the overhead of testing was 0.013826 seconds.\n",
      "You can set `force_col_wise=true` to remove the overhead.\n",
      "[LightGBM] [Info] Total Bins 12184\n",
      "[LightGBM] [Info] Number of data points in the train set: 21299, number of used features: 244\n",
      "[LightGBM] [Info] [binary:BoostFromScore]: pavg=0.215644 -> initscore=-1.291235\n",
      "[LightGBM] [Info] Start training from score -1.291235\n",
      "Training until validation scores don't improve for 10 rounds\n"
     ]
    },
    {
     "name": "stderr",
     "output_type": "stream",
     "text": [
      "regularization_factors, val_score: 0.487743:  50%|##################5                  | 10/20 [00:21<00:20,  2.08s/it]\u001b[32m[I 2021-06-24 07:26:09,644]\u001b[0m Trial 52 finished with value: 0.488617083736672 and parameters: {'lambda_l1': 0.0019271607674033902, 'lambda_l2': 7.079697640219923e-07}. Best is trial 51 with value: 0.48774267563205187.\u001b[0m\n",
      "regularization_factors, val_score: 0.487743:  50%|##################5                  | 10/20 [00:21<00:20,  2.08s/it]"
     ]
    },
    {
     "name": "stdout",
     "output_type": "stream",
     "text": [
      "Early stopping, best iteration is:\n",
      "[39]\tvalid_0's binary_logloss: 0.429093\tvalid_1's binary_logloss: 0.488617\n",
      "[LightGBM] [Info] Number of positive: 4593, number of negative: 16706\n",
      "[LightGBM] [Warning] Auto-choosing col-wise multi-threading, the overhead of testing was 0.013654 seconds.\n",
      "You can set `force_col_wise=true` to remove the overhead.\n",
      "[LightGBM] [Info] Total Bins 12184\n",
      "[LightGBM] [Info] Number of data points in the train set: 21299, number of used features: 244\n",
      "[LightGBM] [Info] [binary:BoostFromScore]: pavg=0.215644 -> initscore=-1.291235\n",
      "[LightGBM] [Info] Start training from score -1.291235\n",
      "Training until validation scores don't improve for 10 rounds\n"
     ]
    },
    {
     "name": "stderr",
     "output_type": "stream",
     "text": [
      "regularization_factors, val_score: 0.487743:  55%|####################3                | 11/20 [00:23<00:18,  2.02s/it]\u001b[32m[I 2021-06-24 07:26:11,521]\u001b[0m Trial 53 finished with value: 0.48980356219974763 and parameters: {'lambda_l1': 0.20767485485466644, 'lambda_l2': 0.04327762210098259}. Best is trial 51 with value: 0.48774267563205187.\u001b[0m\n",
      "regularization_factors, val_score: 0.487743:  55%|####################3                | 11/20 [00:23<00:18,  2.02s/it]"
     ]
    },
    {
     "name": "stdout",
     "output_type": "stream",
     "text": [
      "Early stopping, best iteration is:\n",
      "[27]\tvalid_0's binary_logloss: 0.444042\tvalid_1's binary_logloss: 0.489804\n",
      "[LightGBM] [Info] Number of positive: 4593, number of negative: 16706\n",
      "[LightGBM] [Warning] Auto-choosing col-wise multi-threading, the overhead of testing was 0.013942 seconds.\n",
      "You can set `force_col_wise=true` to remove the overhead.\n",
      "[LightGBM] [Info] Total Bins 12184\n",
      "[LightGBM] [Info] Number of data points in the train set: 21299, number of used features: 244\n",
      "[LightGBM] [Info] [binary:BoostFromScore]: pavg=0.215644 -> initscore=-1.291235\n",
      "[LightGBM] [Info] Start training from score -1.291235\n",
      "Training until validation scores don't improve for 10 rounds\n"
     ]
    },
    {
     "name": "stderr",
     "output_type": "stream",
     "text": [
      "regularization_factors, val_score: 0.487743:  60%|######################2              | 12/20 [00:26<00:16,  2.08s/it]\u001b[32m[I 2021-06-24 07:26:13,734]\u001b[0m Trial 54 finished with value: 0.4887669700806651 and parameters: {'lambda_l1': 2.868329747114742e-05, 'lambda_l2': 0.02421947660623277}. Best is trial 51 with value: 0.48774267563205187.\u001b[0m\n",
      "regularization_factors, val_score: 0.487743:  60%|######################2              | 12/20 [00:26<00:16,  2.08s/it]"
     ]
    },
    {
     "name": "stdout",
     "output_type": "stream",
     "text": [
      "Early stopping, best iteration is:\n",
      "[44]\tvalid_0's binary_logloss: 0.42398\tvalid_1's binary_logloss: 0.488767\n",
      "[LightGBM] [Info] Number of positive: 4593, number of negative: 16706\n",
      "[LightGBM] [Warning] Auto-choosing col-wise multi-threading, the overhead of testing was 0.015026 seconds.\n",
      "You can set `force_col_wise=true` to remove the overhead.\n",
      "[LightGBM] [Info] Total Bins 12184\n",
      "[LightGBM] [Info] Number of data points in the train set: 21299, number of used features: 244\n",
      "[LightGBM] [Info] [binary:BoostFromScore]: pavg=0.215644 -> initscore=-1.291235\n",
      "[LightGBM] [Info] Start training from score -1.291235\n",
      "Training until validation scores don't improve for 10 rounds\n"
     ]
    },
    {
     "name": "stderr",
     "output_type": "stream",
     "text": [
      "regularization_factors, val_score: 0.487743:  65%|########################             | 13/20 [00:28<00:15,  2.16s/it]\u001b[32m[I 2021-06-24 07:26:16,079]\u001b[0m Trial 55 finished with value: 0.48847285791100775 and parameters: {'lambda_l1': 0.06665536824387112, 'lambda_l2': 9.797058434797079e-06}. Best is trial 51 with value: 0.48774267563205187.\u001b[0m\n",
      "regularization_factors, val_score: 0.487743:  65%|########################             | 13/20 [00:28<00:15,  2.16s/it]"
     ]
    },
    {
     "name": "stdout",
     "output_type": "stream",
     "text": [
      "Early stopping, best iteration is:\n",
      "[33]\tvalid_0's binary_logloss: 0.436154\tvalid_1's binary_logloss: 0.488473\n",
      "[LightGBM] [Info] Number of positive: 4593, number of negative: 16706\n",
      "[LightGBM] [Warning] Auto-choosing col-wise multi-threading, the overhead of testing was 0.021794 seconds.\n",
      "You can set `force_col_wise=true` to remove the overhead.\n",
      "[LightGBM] [Info] Total Bins 12184\n",
      "[LightGBM] [Info] Number of data points in the train set: 21299, number of used features: 244\n",
      "[LightGBM] [Info] [binary:BoostFromScore]: pavg=0.215644 -> initscore=-1.291235\n",
      "[LightGBM] [Info] Start training from score -1.291235\n",
      "Training until validation scores don't improve for 10 rounds\n"
     ]
    },
    {
     "name": "stderr",
     "output_type": "stream",
     "text": [
      "regularization_factors, val_score: 0.487743:  70%|#########################9           | 14/20 [00:30<00:12,  2.14s/it]\u001b[32m[I 2021-06-24 07:26:18,159]\u001b[0m Trial 56 finished with value: 0.4902086272798531 and parameters: {'lambda_l1': 0.21301882600375643, 'lambda_l2': 0.02131815871396434}. Best is trial 51 with value: 0.48774267563205187.\u001b[0m\n",
      "regularization_factors, val_score: 0.487743:  70%|#########################9           | 14/20 [00:30<00:12,  2.14s/it]"
     ]
    },
    {
     "name": "stdout",
     "output_type": "stream",
     "text": [
      "Early stopping, best iteration is:\n",
      "[29]\tvalid_0's binary_logloss: 0.441317\tvalid_1's binary_logloss: 0.490209\n",
      "[LightGBM] [Info] Number of positive: 4593, number of negative: 16706\n",
      "[LightGBM] [Warning] Auto-choosing col-wise multi-threading, the overhead of testing was 0.013003 seconds.\n",
      "You can set `force_col_wise=true` to remove the overhead.\n",
      "[LightGBM] [Info] Total Bins 12184\n",
      "[LightGBM] [Info] Number of data points in the train set: 21299, number of used features: 244\n",
      "[LightGBM] [Info] [binary:BoostFromScore]: pavg=0.215644 -> initscore=-1.291235\n",
      "[LightGBM] [Info] Start training from score -1.291235\n",
      "Training until validation scores don't improve for 10 rounds\n"
     ]
    },
    {
     "name": "stderr",
     "output_type": "stream",
     "text": [
      "regularization_factors, val_score: 0.487743:  75%|###########################7         | 15/20 [00:32<00:10,  2.05s/it]\u001b[32m[I 2021-06-24 07:26:20,017]\u001b[0m Trial 57 finished with value: 0.48957646505445535 and parameters: {'lambda_l1': 0.03993867238817212, 'lambda_l2': 1.2244954632596295e-05}. Best is trial 51 with value: 0.48774267563205187.\u001b[0m\n",
      "regularization_factors, val_score: 0.487743:  75%|###########################7         | 15/20 [00:32<00:10,  2.05s/it]"
     ]
    },
    {
     "name": "stdout",
     "output_type": "stream",
     "text": [
      "Early stopping, best iteration is:\n",
      "[26]\tvalid_0's binary_logloss: 0.44505\tvalid_1's binary_logloss: 0.489576\n",
      "[LightGBM] [Info] Number of positive: 4593, number of negative: 16706\n",
      "[LightGBM] [Warning] Auto-choosing col-wise multi-threading, the overhead of testing was 0.014621 seconds.\n",
      "You can set `force_col_wise=true` to remove the overhead.\n",
      "[LightGBM] [Info] Total Bins 12184\n",
      "[LightGBM] [Info] Number of data points in the train set: 21299, number of used features: 244\n",
      "[LightGBM] [Info] [binary:BoostFromScore]: pavg=0.215644 -> initscore=-1.291235\n",
      "[LightGBM] [Info] Start training from score -1.291235\n",
      "Training until validation scores don't improve for 10 rounds\n"
     ]
    },
    {
     "name": "stderr",
     "output_type": "stream",
     "text": [
      "regularization_factors, val_score: 0.487743:  80%|#############################6       | 16/20 [00:34<00:08,  2.15s/it]\u001b[32m[I 2021-06-24 07:26:22,390]\u001b[0m Trial 58 finished with value: 0.4885370954976466 and parameters: {'lambda_l1': 5.3263426872977255e-05, 'lambda_l2': 0.30286747815278775}. Best is trial 51 with value: 0.48774267563205187.\u001b[0m\n",
      "regularization_factors, val_score: 0.487743:  80%|#############################6       | 16/20 [00:34<00:08,  2.15s/it]"
     ]
    },
    {
     "name": "stdout",
     "output_type": "stream",
     "text": [
      "Early stopping, best iteration is:\n",
      "[57]\tvalid_0's binary_logloss: 0.412266\tvalid_1's binary_logloss: 0.488537\n",
      "[LightGBM] [Info] Number of positive: 4593, number of negative: 16706\n",
      "[LightGBM] [Warning] Auto-choosing col-wise multi-threading, the overhead of testing was 0.013576 seconds.\n",
      "You can set `force_col_wise=true` to remove the overhead.\n",
      "[LightGBM] [Info] Total Bins 12184\n",
      "[LightGBM] [Info] Number of data points in the train set: 21299, number of used features: 244\n",
      "[LightGBM] [Info] [binary:BoostFromScore]: pavg=0.215644 -> initscore=-1.291235\n",
      "[LightGBM] [Info] Start training from score -1.291235\n",
      "Training until validation scores don't improve for 10 rounds\n"
     ]
    },
    {
     "name": "stderr",
     "output_type": "stream",
     "text": [
      "regularization_factors, val_score: 0.487743:  85%|###############################4     | 17/20 [00:36<00:06,  2.12s/it]\u001b[32m[I 2021-06-24 07:26:24,454]\u001b[0m Trial 59 finished with value: 0.4908007432171419 and parameters: {'lambda_l1': 6.657132431895527, 'lambda_l2': 0.0018816921734644296}. Best is trial 51 with value: 0.48774267563205187.\u001b[0m\n",
      "regularization_factors, val_score: 0.487743:  85%|###############################4     | 17/20 [00:36<00:06,  2.12s/it]"
     ]
    },
    {
     "name": "stdout",
     "output_type": "stream",
     "text": [
      "Early stopping, best iteration is:\n",
      "[43]\tvalid_0's binary_logloss: 0.437685\tvalid_1's binary_logloss: 0.490801\n",
      "[LightGBM] [Info] Number of positive: 4593, number of negative: 16706\n",
      "[LightGBM] [Warning] Auto-choosing col-wise multi-threading, the overhead of testing was 0.013656 seconds.\n",
      "You can set `force_col_wise=true` to remove the overhead.\n",
      "[LightGBM] [Info] Total Bins 12184\n",
      "[LightGBM] [Info] Number of data points in the train set: 21299, number of used features: 244\n",
      "[LightGBM] [Info] [binary:BoostFromScore]: pavg=0.215644 -> initscore=-1.291235\n",
      "[LightGBM] [Info] Start training from score -1.291235\n",
      "Training until validation scores don't improve for 10 rounds\n"
     ]
    },
    {
     "name": "stderr",
     "output_type": "stream",
     "text": [
      "regularization_factors, val_score: 0.487743:  90%|#################################3   | 18/20 [00:38<00:04,  2.10s/it]\u001b[32m[I 2021-06-24 07:26:26,500]\u001b[0m Trial 60 finished with value: 0.48840650243351974 and parameters: {'lambda_l1': 0.04975809410793819, 'lambda_l2': 1.011934107084467e-08}. Best is trial 51 with value: 0.48774267563205187.\u001b[0m\n",
      "regularization_factors, val_score: 0.487743:  90%|#################################3   | 18/20 [00:38<00:04,  2.10s/it]"
     ]
    },
    {
     "name": "stdout",
     "output_type": "stream",
     "text": [
      "Early stopping, best iteration is:\n",
      "[39]\tvalid_0's binary_logloss: 0.429017\tvalid_1's binary_logloss: 0.488407\n",
      "[LightGBM] [Info] Number of positive: 4593, number of negative: 16706\n",
      "[LightGBM] [Warning] Auto-choosing col-wise multi-threading, the overhead of testing was 0.014462 seconds.\n",
      "You can set `force_col_wise=true` to remove the overhead.\n",
      "[LightGBM] [Info] Total Bins 12184\n",
      "[LightGBM] [Info] Number of data points in the train set: 21299, number of used features: 244\n",
      "[LightGBM] [Info] [binary:BoostFromScore]: pavg=0.215644 -> initscore=-1.291235\n",
      "[LightGBM] [Info] Start training from score -1.291235\n",
      "Training until validation scores don't improve for 10 rounds\n"
     ]
    },
    {
     "name": "stderr",
     "output_type": "stream",
     "text": [
      "regularization_factors, val_score: 0.487743:  95%|###################################1 | 19/20 [00:41<00:02,  2.22s/it]\u001b[32m[I 2021-06-24 07:26:29,007]\u001b[0m Trial 61 finished with value: 0.48855381094084566 and parameters: {'lambda_l1': 0.01960756161004166, 'lambda_l2': 0.918165314261095}. Best is trial 51 with value: 0.48774267563205187.\u001b[0m\n",
      "regularization_factors, val_score: 0.487743:  95%|###################################1 | 19/20 [00:41<00:02,  2.22s/it]"
     ]
    },
    {
     "name": "stdout",
     "output_type": "stream",
     "text": [
      "Early stopping, best iteration is:\n",
      "[62]\tvalid_0's binary_logloss: 0.410472\tvalid_1's binary_logloss: 0.488554\n",
      "[LightGBM] [Info] Number of positive: 4593, number of negative: 16706\n",
      "[LightGBM] [Warning] Auto-choosing col-wise multi-threading, the overhead of testing was 0.013008 seconds.\n",
      "You can set `force_col_wise=true` to remove the overhead.\n",
      "[LightGBM] [Info] Total Bins 12184\n",
      "[LightGBM] [Info] Number of data points in the train set: 21299, number of used features: 244\n",
      "[LightGBM] [Info] [binary:BoostFromScore]: pavg=0.215644 -> initscore=-1.291235\n",
      "[LightGBM] [Info] Start training from score -1.291235\n",
      "Training until validation scores don't improve for 10 rounds\n"
     ]
    },
    {
     "name": "stderr",
     "output_type": "stream",
     "text": [
      "regularization_factors, val_score: 0.487743: 100%|#####################################| 20/20 [00:43<00:00,  2.19s/it]\u001b[32m[I 2021-06-24 07:26:31,125]\u001b[0m Trial 62 finished with value: 0.4908724052769152 and parameters: {'lambda_l1': 9.291706586617996, 'lambda_l2': 0.005702423255092642}. Best is trial 51 with value: 0.48774267563205187.\u001b[0m\n",
      "regularization_factors, val_score: 0.487743: 100%|#####################################| 20/20 [00:43<00:00,  2.17s/it]\n",
      "min_data_in_leaf, val_score: 0.487743:   0%|                                                     | 0/5 [00:00<?, ?it/s]"
     ]
    },
    {
     "name": "stdout",
     "output_type": "stream",
     "text": [
      "Early stopping, best iteration is:\n",
      "[47]\tvalid_0's binary_logloss: 0.438655\tvalid_1's binary_logloss: 0.490872\n",
      "[LightGBM] [Info] Number of positive: 4593, number of negative: 16706\n",
      "[LightGBM] [Warning] Auto-choosing col-wise multi-threading, the overhead of testing was 0.016330 seconds.\n",
      "You can set `force_col_wise=true` to remove the overhead.\n",
      "[LightGBM] [Info] Total Bins 12184\n",
      "[LightGBM] [Info] Number of data points in the train set: 21299, number of used features: 244\n",
      "[LightGBM] [Info] [binary:BoostFromScore]: pavg=0.215644 -> initscore=-1.291235\n",
      "[LightGBM] [Info] Start training from score -1.291235\n",
      "Training until validation scores don't improve for 10 rounds\n"
     ]
    },
    {
     "name": "stderr",
     "output_type": "stream",
     "text": [
      "min_data_in_leaf, val_score: 0.487743:  20%|#########                                    | 1/5 [00:02<00:08,  2.01s/it]\u001b[32m[I 2021-06-24 07:26:33,146]\u001b[0m Trial 63 finished with value: 0.4884633749023643 and parameters: {'min_child_samples': 5}. Best is trial 63 with value: 0.4884633749023643.\u001b[0m\n",
      "min_data_in_leaf, val_score: 0.487743:  20%|#########                                    | 1/5 [00:02<00:08,  2.01s/it]"
     ]
    },
    {
     "name": "stdout",
     "output_type": "stream",
     "text": [
      "Early stopping, best iteration is:\n",
      "[31]\tvalid_0's binary_logloss: 0.438373\tvalid_1's binary_logloss: 0.488463\n",
      "[LightGBM] [Info] Number of positive: 4593, number of negative: 16706\n",
      "[LightGBM] [Warning] Auto-choosing col-wise multi-threading, the overhead of testing was 0.014839 seconds.\n",
      "You can set `force_col_wise=true` to remove the overhead.\n",
      "[LightGBM] [Info] Total Bins 12184\n",
      "[LightGBM] [Info] Number of data points in the train set: 21299, number of used features: 244\n",
      "[LightGBM] [Info] [binary:BoostFromScore]: pavg=0.215644 -> initscore=-1.291235\n",
      "[LightGBM] [Info] Start training from score -1.291235\n",
      "Training until validation scores don't improve for 10 rounds\n"
     ]
    },
    {
     "name": "stderr",
     "output_type": "stream",
     "text": [
      "min_data_in_leaf, val_score: 0.487743:  40%|##################                           | 2/5 [00:04<00:06,  2.04s/it]\u001b[32m[I 2021-06-24 07:26:35,262]\u001b[0m Trial 64 finished with value: 0.4894656423362952 and parameters: {'min_child_samples': 50}. Best is trial 63 with value: 0.4884633749023643.\u001b[0m\n",
      "min_data_in_leaf, val_score: 0.487743:  40%|##################                           | 2/5 [00:04<00:06,  2.04s/it]"
     ]
    },
    {
     "name": "stdout",
     "output_type": "stream",
     "text": [
      "Early stopping, best iteration is:\n",
      "[36]\tvalid_0's binary_logloss: 0.435357\tvalid_1's binary_logloss: 0.489466\n",
      "[LightGBM] [Info] Number of positive: 4593, number of negative: 16706\n",
      "[LightGBM] [Warning] Auto-choosing col-wise multi-threading, the overhead of testing was 0.024508 seconds.\n",
      "You can set `force_col_wise=true` to remove the overhead.\n",
      "[LightGBM] [Info] Total Bins 12184\n",
      "[LightGBM] [Info] Number of data points in the train set: 21299, number of used features: 244\n",
      "[LightGBM] [Info] [binary:BoostFromScore]: pavg=0.215644 -> initscore=-1.291235\n",
      "[LightGBM] [Info] Start training from score -1.291235\n",
      "Training until validation scores don't improve for 10 rounds\n"
     ]
    },
    {
     "name": "stderr",
     "output_type": "stream",
     "text": [
      "min_data_in_leaf, val_score: 0.487743:  60%|###########################                  | 3/5 [00:06<00:04,  2.05s/it]\u001b[32m[I 2021-06-24 07:26:37,336]\u001b[0m Trial 65 finished with value: 0.4896868996014601 and parameters: {'min_child_samples': 10}. Best is trial 63 with value: 0.4884633749023643.\u001b[0m\n",
      "min_data_in_leaf, val_score: 0.487743:  60%|###########################                  | 3/5 [00:06<00:04,  2.05s/it]"
     ]
    },
    {
     "name": "stdout",
     "output_type": "stream",
     "text": [
      "Early stopping, best iteration is:\n",
      "[26]\tvalid_0's binary_logloss: 0.445271\tvalid_1's binary_logloss: 0.489687\n",
      "[LightGBM] [Info] Number of positive: 4593, number of negative: 16706\n",
      "[LightGBM] [Warning] Auto-choosing col-wise multi-threading, the overhead of testing was 0.020532 seconds.\n",
      "You can set `force_col_wise=true` to remove the overhead.\n",
      "[LightGBM] [Info] Total Bins 12184\n",
      "[LightGBM] [Info] Number of data points in the train set: 21299, number of used features: 244\n",
      "[LightGBM] [Info] [binary:BoostFromScore]: pavg=0.215644 -> initscore=-1.291235\n",
      "[LightGBM] [Info] Start training from score -1.291235\n",
      "Training until validation scores don't improve for 10 rounds\n"
     ]
    },
    {
     "name": "stderr",
     "output_type": "stream",
     "text": [
      "min_data_in_leaf, val_score: 0.487743:  80%|####################################         | 4/5 [00:08<00:02,  2.04s/it]\u001b[32m[I 2021-06-24 07:26:39,336]\u001b[0m Trial 66 finished with value: 0.4891184517502416 and parameters: {'min_child_samples': 100}. Best is trial 63 with value: 0.4884633749023643.\u001b[0m\n",
      "min_data_in_leaf, val_score: 0.487743:  80%|####################################         | 4/5 [00:08<00:02,  2.04s/it]"
     ]
    },
    {
     "name": "stdout",
     "output_type": "stream",
     "text": [
      "Early stopping, best iteration is:\n",
      "[35]\tvalid_0's binary_logloss: 0.437805\tvalid_1's binary_logloss: 0.489118\n",
      "[LightGBM] [Info] Number of positive: 4593, number of negative: 16706\n",
      "[LightGBM] [Warning] Auto-choosing col-wise multi-threading, the overhead of testing was 0.022384 seconds.\n",
      "You can set `force_col_wise=true` to remove the overhead.\n",
      "[LightGBM] [Info] Total Bins 12184\n",
      "[LightGBM] [Info] Number of data points in the train set: 21299, number of used features: 244\n",
      "[LightGBM] [Info] [binary:BoostFromScore]: pavg=0.215644 -> initscore=-1.291235\n",
      "[LightGBM] [Info] Start training from score -1.291235\n",
      "Training until validation scores don't improve for 10 rounds\n"
     ]
    },
    {
     "name": "stderr",
     "output_type": "stream",
     "text": [
      "min_data_in_leaf, val_score: 0.487743: 100%|#############################################| 5/5 [00:10<00:00,  2.12s/it]\u001b[32m[I 2021-06-24 07:26:41,668]\u001b[0m Trial 67 finished with value: 0.48939362786607643 and parameters: {'min_child_samples': 25}. Best is trial 63 with value: 0.4884633749023643.\u001b[0m\n",
      "min_data_in_leaf, val_score: 0.487743: 100%|#############################################| 5/5 [00:10<00:00,  2.11s/it]"
     ]
    },
    {
     "name": "stdout",
     "output_type": "stream",
     "text": [
      "Early stopping, best iteration is:\n",
      "[56]\tvalid_0's binary_logloss: 0.412688\tvalid_1's binary_logloss: 0.489394\n"
     ]
    },
    {
     "name": "stderr",
     "output_type": "stream",
     "text": [
      "\n"
     ]
    }
   ],
   "source": [
    "import optuna.integration.lightgbm as lgb_o\n",
    "\n",
    "lgb_train = lgb_o.Dataset(X_train.values, y_train.values)\n",
    "lgb_valid = lgb_o.Dataset(X_valid.values, y_valid.values)\n",
    "\n",
    "params = {\n",
    "    'objective':'binary', #2値予測の場合\n",
    "    'random_state':100\n",
    "}\n",
    "\n",
    "lgb_clf_o = lgb_o.train(params, lgb_train,\n",
    "                        valid_sets=(lgb_train, lgb_valid), \n",
    "                        verbose_eval=100, \n",
    "                        early_stopping_rounds=10)"
   ]
  },
  {
   "cell_type": "code",
   "execution_count": 133,
   "metadata": {},
   "outputs": [
    {
     "data": {
      "text/plain": [
       "{'objective': 'binary',\n",
       " 'random_state': 100,\n",
       " 'feature_pre_filter': False,\n",
       " 'lambda_l1': 0.16961456138038775,\n",
       " 'lambda_l2': 0.0821584662044769,\n",
       " 'num_leaves': 31,\n",
       " 'feature_fraction': 0.6,\n",
       " 'bagging_fraction': 1.0,\n",
       " 'bagging_freq': 0,\n",
       " 'min_child_samples': 20,\n",
       " 'num_iterations': 1000,\n",
       " 'early_stopping_round': 10}"
      ]
     },
     "execution_count": 133,
     "metadata": {},
     "output_type": "execute_result"
    }
   ],
   "source": [
    "#最適化されたパラメータを確認\n",
    "lgb_clf_o.params"
   ]
  },
  {
   "cell_type": "markdown",
   "metadata": {},
   "source": [
    "## LightGBM"
   ]
  },
  {
   "cell_type": "code",
   "execution_count": 134,
   "metadata": {},
   "outputs": [],
   "source": [
    "#被説明変数をrankにし、訓練データとテストデータに分割\n",
    "train, test = split_data(results_d)\n",
    "X_train = train.drop(['rank','date'], axis=1)\n",
    "y_train = train['rank']\n",
    "X_test = test.drop(['rank','date'], axis=1)\n",
    "y_test = test['rank']"
   ]
  },
  {
   "cell_type": "code",
   "execution_count": 135,
   "metadata": {},
   "outputs": [
    {
     "name": "stderr",
     "output_type": "stream",
     "text": [
      "C:\\Users\\owner\\anaconda3\\lib\\site-packages\\lightgbm\\engine.py:148: UserWarning: Found `num_iterations` in params. Will use it instead of argument\n",
      "  _log_warning(\"Found `{}` in params. Will use it instead of argument\".format(alias))\n"
     ]
    },
    {
     "name": "stdout",
     "output_type": "stream",
     "text": [
      "[LightGBM] [Warning] feature_fraction is set=0.6, colsample_bytree=1.0 will be ignored. Current value: feature_fraction=0.6\n",
      "[LightGBM] [Warning] lambda_l1 is set=0.16961456138038775, reg_alpha=0.0 will be ignored. Current value: lambda_l1=0.16961456138038775\n",
      "[LightGBM] [Warning] bagging_fraction is set=1.0, subsample=1.0 will be ignored. Current value: bagging_fraction=1.0\n",
      "[LightGBM] [Warning] lambda_l2 is set=0.0821584662044769, reg_lambda=0.0 will be ignored. Current value: lambda_l2=0.0821584662044769\n",
      "[LightGBM] [Warning] bagging_freq is set=0, subsample_freq=0 will be ignored. Current value: bagging_freq=0\n"
     ]
    },
    {
     "data": {
      "text/plain": [
       "LGBMClassifier(bagging_fraction=1.0, bagging_freq=0, feature_fraction=0.6,\n",
       "               feature_pre_filter=False, lambda_l1=0.16961456138038775,\n",
       "               lambda_l2=0.0821584662044769, num_iterations=1000,\n",
       "               objective='binary', random_state=100)"
      ]
     },
     "execution_count": 135,
     "metadata": {},
     "output_type": "execute_result"
    }
   ],
   "source": [
    "import lightgbm as lgb\n",
    "from sklearn.metrics import roc_curve, roc_auc_score\n",
    "\n",
    "params = {'objective': 'binary',\n",
    " 'random_state': 100,\n",
    " 'feature_pre_filter': False,\n",
    " 'lambda_l1': 0.16961456138038775,\n",
    " 'lambda_l2': 0.0821584662044769,\n",
    " 'num_leaves': 31,\n",
    " 'feature_fraction': 0.6,\n",
    " 'bagging_fraction': 1.0,\n",
    " 'bagging_freq': 0,\n",
    " 'min_child_samples': 20,\n",
    " 'num_iterations': 1000}\n",
    "\n",
    "lgb_clf = lgb.LGBMClassifier(**params)\n",
    "lgb_clf.fit(X_train.values, y_train.values) "
   ]
  },
  {
   "cell_type": "markdown",
   "metadata": {},
   "source": [
    "## ModelEvaluatorクラス"
   ]
  },
  {
   "cell_type": "code",
   "execution_count": 128,
   "metadata": {
    "code_folding": []
   },
   "outputs": [],
   "source": [
    "from scipy.special import comb\n",
    "\n",
    "class ModelEvaluator:\n",
    "    def __init__(self, model, return_table, std=True):\n",
    "        self.model = model\n",
    "        self.tan = Return(return_table).tan\n",
    "        self.fuku = Return(return_table).fuku\n",
    "        self.umaren = Return(return_table).umaren\n",
    "        self.std = std\n",
    "        \n",
    "    def predict_proba(self, X):\n",
    "        proba = pd.Series(self.model.predict_proba(X)[:,1], index=X.index)\n",
    "        if self.std:\n",
    "            standard_scaler = lambda x: (x-x.mean())/x.std()\n",
    "            proba = proba.groupby(level=0).transform(standard_scaler) #標準化\n",
    "            proba = (proba - proba.min())/(proba.max() - proba.min()) #MinMaxスケーリング\n",
    "        return proba\n",
    "    \n",
    "    def predict(self, X, threshold=0.5):\n",
    "        y_pred = self.predict_proba(X)\n",
    "        return [0 if p<threshold else 1 for p in y_pred]\n",
    "    \n",
    "    def score(self, y_true, X):\n",
    "        return roc_auc_score(y_true, self.predict_proba(X))\n",
    "    \n",
    "    def feature_importance(self, X, n_display=20):\n",
    "        importances = pd.DataFrame({'features': X.columns, 'importance': self.model.feature_importances_})\n",
    "        return importances.sort_values('importance', ascending=False)[:n_display]\n",
    "    \n",
    "    def pred_table(self, X, threshold=0.5, bet_only=True):\n",
    "        pred_table = X.copy()[['馬番']]\n",
    "        pred_table['pred'] = self.predict(X, threshold)\n",
    "        if bet_only:\n",
    "            return pred_table[pred_table['pred']==1]['馬番']\n",
    "        else:\n",
    "            return pred_table\n",
    "    \n",
    "    def tan_return(self, X, threshold=0.5):\n",
    "        pred_table = self.pred_table(X, threshold)\n",
    "        n_bets = len(pred_table)\n",
    "        money = -100*n_bets\n",
    "        df = self.tan.copy()\n",
    "        df = df.merge(pred_table, left_index=True, right_index=True, how='right')\n",
    "       \n",
    "        money +=df[df['win']==df['馬番']]['return'].sum()\n",
    "        return n_bets, money\n",
    "            \n",
    "    def fuku_return(self, X, threshold=0.5):\n",
    "        pred_table = self.pred_table(X, threshold)\n",
    "        n_bets = len(pred_table)\n",
    "        money = -100*n_bets\n",
    "        df = self.fuku.copy()\n",
    "        df = df.merge(pred_table, left_index=True, right_index=True, how='right')\n",
    "        for i in range(3):\n",
    "            money +=df[df['win_{}'.format(i)]==df['馬番']]['return_{}'.format(i)].sum()\n",
    "        return n_bets, money\n",
    "    \n",
    "    def umaren_return(self, X, threshold=0.5):\n",
    "        pred_table = self.pred_table(X, threshold)\n",
    "        hit = {}\n",
    "        n_bets = 0\n",
    "        for race_id, preds in pred_table.groupby(level=0):\n",
    "            n_bets += comb(len(preds), 2) #レースごとに3着以内予想馬から2頭を選ぶ買い方の数\n",
    "            hit[race_id] = set(self.umaren.loc[race_id][['win_0', 'win_1']]).issubset(set(preds)) #bool値が入る\n",
    "        money = (self.umaren.index.map(hit).values * self.umaren['return']).sum()\n",
    "        return n_bets, money\n",
    "        "
   ]
  },
  {
   "cell_type": "code",
   "execution_count": 151,
   "metadata": {},
   "outputs": [],
   "source": [
    "me = ModelEvaluator(lgb_clf, return_tables)"
   ]
  },
  {
   "cell_type": "markdown",
   "metadata": {},
   "source": [
    "## 特徴量確認"
   ]
  },
  {
   "cell_type": "code",
   "execution_count": 152,
   "metadata": {
    "scrolled": true
   },
   "outputs": [
    {
     "data": {
      "text/html": [
       "<div>\n",
       "<style scoped>\n",
       "    .dataframe tbody tr th:only-of-type {\n",
       "        vertical-align: middle;\n",
       "    }\n",
       "\n",
       "    .dataframe tbody tr th {\n",
       "        vertical-align: top;\n",
       "    }\n",
       "\n",
       "    .dataframe thead th {\n",
       "        text-align: right;\n",
       "    }\n",
       "</style>\n",
       "<table border=\"1\" class=\"dataframe\">\n",
       "  <thead>\n",
       "    <tr style=\"text-align: right;\">\n",
       "      <th></th>\n",
       "      <th>features</th>\n",
       "      <th>importance</th>\n",
       "    </tr>\n",
       "  </thead>\n",
       "  <tbody>\n",
       "    <tr>\n",
       "      <th>8</th>\n",
       "      <td>賞金_5R</td>\n",
       "      <td>1798</td>\n",
       "    </tr>\n",
       "    <tr>\n",
       "      <th>7</th>\n",
       "      <td>着順_5R</td>\n",
       "      <td>1192</td>\n",
       "    </tr>\n",
       "    <tr>\n",
       "      <th>5</th>\n",
       "      <td>体重</td>\n",
       "      <td>898</td>\n",
       "    </tr>\n",
       "    <tr>\n",
       "      <th>1</th>\n",
       "      <td>馬番</td>\n",
       "      <td>871</td>\n",
       "    </tr>\n",
       "    <tr>\n",
       "      <th>6</th>\n",
       "      <td>体重増減</td>\n",
       "      <td>833</td>\n",
       "    </tr>\n",
       "    <tr>\n",
       "      <th>198</th>\n",
       "      <td>horse_id</td>\n",
       "      <td>692</td>\n",
       "    </tr>\n",
       "    <tr>\n",
       "      <th>200</th>\n",
       "      <td>peds_1</td>\n",
       "      <td>666</td>\n",
       "    </tr>\n",
       "    <tr>\n",
       "      <th>228</th>\n",
       "      <td>peds_29</td>\n",
       "      <td>600</td>\n",
       "    </tr>\n",
       "    <tr>\n",
       "      <th>259</th>\n",
       "      <td>peds_60</td>\n",
       "      <td>592</td>\n",
       "    </tr>\n",
       "    <tr>\n",
       "      <th>258</th>\n",
       "      <td>peds_59</td>\n",
       "      <td>587</td>\n",
       "    </tr>\n",
       "    <tr>\n",
       "      <th>204</th>\n",
       "      <td>peds_5</td>\n",
       "      <td>570</td>\n",
       "    </tr>\n",
       "    <tr>\n",
       "      <th>0</th>\n",
       "      <td>枠番</td>\n",
       "      <td>562</td>\n",
       "    </tr>\n",
       "    <tr>\n",
       "      <th>260</th>\n",
       "      <td>peds_61</td>\n",
       "      <td>554</td>\n",
       "    </tr>\n",
       "    <tr>\n",
       "      <th>212</th>\n",
       "      <td>peds_13</td>\n",
       "      <td>532</td>\n",
       "    </tr>\n",
       "    <tr>\n",
       "      <th>211</th>\n",
       "      <td>peds_12</td>\n",
       "      <td>531</td>\n",
       "    </tr>\n",
       "    <tr>\n",
       "      <th>227</th>\n",
       "      <td>peds_28</td>\n",
       "      <td>529</td>\n",
       "    </tr>\n",
       "    <tr>\n",
       "      <th>226</th>\n",
       "      <td>peds_27</td>\n",
       "      <td>520</td>\n",
       "    </tr>\n",
       "    <tr>\n",
       "      <th>256</th>\n",
       "      <td>peds_57</td>\n",
       "      <td>502</td>\n",
       "    </tr>\n",
       "    <tr>\n",
       "      <th>3</th>\n",
       "      <td>course_len</td>\n",
       "      <td>469</td>\n",
       "    </tr>\n",
       "    <tr>\n",
       "      <th>257</th>\n",
       "      <td>peds_58</td>\n",
       "      <td>450</td>\n",
       "    </tr>\n",
       "  </tbody>\n",
       "</table>\n",
       "</div>"
      ],
      "text/plain": [
       "       features  importance\n",
       "8         賞金_5R        1798\n",
       "7         着順_5R        1192\n",
       "5            体重         898\n",
       "1            馬番         871\n",
       "6          体重増減         833\n",
       "198    horse_id         692\n",
       "200      peds_1         666\n",
       "228     peds_29         600\n",
       "259     peds_60         592\n",
       "258     peds_59         587\n",
       "204      peds_5         570\n",
       "0            枠番         562\n",
       "260     peds_61         554\n",
       "212     peds_13         532\n",
       "211     peds_12         531\n",
       "227     peds_28         529\n",
       "226     peds_27         520\n",
       "256     peds_57         502\n",
       "3    course_len         469\n",
       "257     peds_58         450"
      ]
     },
     "execution_count": 152,
     "metadata": {},
     "output_type": "execute_result"
    }
   ],
   "source": [
    "me.feature_importance(X_test)"
   ]
  },
  {
   "cell_type": "markdown",
   "metadata": {},
   "source": [
    "## 回収率計算"
   ]
  },
  {
   "cell_type": "code",
   "execution_count": 141,
   "metadata": {
    "code_folding": []
   },
   "outputs": [],
   "source": [
    "def gain(return_func, X, n_samples=100, lower=50, min_threshold=0.5): \n",
    "    gain = {}\n",
    "    for i in tqdm(range(n_samples)):\n",
    "        threshold = min_threshold+ (1-min_threshold) * (i/n_samples) #threshold0.5から1までを100等分\n",
    "        n_bets, money =return_func(X, threshold)\n",
    "        if n_bets>lower:\n",
    "            gain[n_bets] = (n_bets*100+ money)/(n_bets*100)\n",
    "    return pd.Series(gain)"
   ]
  },
  {
   "cell_type": "code",
   "execution_count": 142,
   "metadata": {},
   "outputs": [],
   "source": [
    "def gain2(return_func, X, n_samples=100, lower=50, min_threshold=0.5): \n",
    "    gain = {}\n",
    "    for i in tqdm(range(n_samples)):\n",
    "        threshold = min_threshold+ (1-min_threshold) * (i/n_samples) #threshold0.5から1までを100等分\n",
    "        n_bets, money = return_func(X, threshold)\n",
    "        if n_bets>lower:\n",
    "            gain[threshold] = (n_bets*100+ money)/(n_bets*100)\n",
    "    return pd.Series(gain)"
   ]
  },
  {
   "cell_type": "code",
   "execution_count": 150,
   "metadata": {},
   "outputs": [
    {
     "data": {
      "text/plain": [
       "3120"
      ]
     },
     "execution_count": 150,
     "metadata": {},
     "output_type": "execute_result"
    }
   ],
   "source": [
    "me.umaren.index.nunique()"
   ]
  },
  {
   "cell_type": "code",
   "execution_count": 143,
   "metadata": {
    "collapsed": true
   },
   "outputs": [
    {
     "data": {
      "application/vnd.jupyter.widget-view+json": {
       "model_id": "2d75fecc7d174c5c822e34de6f6e7600",
       "version_major": 2,
       "version_minor": 0
      },
      "text/plain": [
       "HBox(children=(FloatProgress(value=0.0), HTML(value='')))"
      ]
     },
     "metadata": {},
     "output_type": "display_data"
    },
    {
     "name": "stdout",
     "output_type": "stream",
     "text": [
      "\n"
     ]
    },
    {
     "data": {
      "application/vnd.jupyter.widget-view+json": {
       "model_id": "93cfdcc41a6f437185db4a19b6095506",
       "version_major": 2,
       "version_minor": 0
      },
      "text/plain": [
       "HBox(children=(FloatProgress(value=0.0), HTML(value='')))"
      ]
     },
     "metadata": {},
     "output_type": "display_data"
    },
    {
     "name": "stdout",
     "output_type": "stream",
     "text": [
      "\n"
     ]
    },
    {
     "data": {
      "application/vnd.jupyter.widget-view+json": {
       "model_id": "88a503294d6746c79e712574f30a6866",
       "version_major": 2,
       "version_minor": 0
      },
      "text/plain": [
       "HBox(children=(FloatProgress(value=0.0), HTML(value='')))"
      ]
     },
     "metadata": {},
     "output_type": "display_data"
    },
    {
     "ename": "KeyError",
     "evalue": "'202106030811'",
     "output_type": "error",
     "traceback": [
      "\u001b[1;31m---------------------------------------------------------------------------\u001b[0m",
      "\u001b[1;31mKeyError\u001b[0m                                  Traceback (most recent call last)",
      "\u001b[1;32m~\\anaconda3\\lib\\site-packages\\pandas\\core\\indexes\\base.py\u001b[0m in \u001b[0;36mget_loc\u001b[1;34m(self, key, method, tolerance)\u001b[0m\n\u001b[0;32m   2645\u001b[0m             \u001b[1;32mtry\u001b[0m\u001b[1;33m:\u001b[0m\u001b[1;33m\u001b[0m\u001b[1;33m\u001b[0m\u001b[0m\n\u001b[1;32m-> 2646\u001b[1;33m                 \u001b[1;32mreturn\u001b[0m \u001b[0mself\u001b[0m\u001b[1;33m.\u001b[0m\u001b[0m_engine\u001b[0m\u001b[1;33m.\u001b[0m\u001b[0mget_loc\u001b[0m\u001b[1;33m(\u001b[0m\u001b[0mkey\u001b[0m\u001b[1;33m)\u001b[0m\u001b[1;33m\u001b[0m\u001b[1;33m\u001b[0m\u001b[0m\n\u001b[0m\u001b[0;32m   2647\u001b[0m             \u001b[1;32mexcept\u001b[0m \u001b[0mKeyError\u001b[0m\u001b[1;33m:\u001b[0m\u001b[1;33m\u001b[0m\u001b[1;33m\u001b[0m\u001b[0m\n",
      "\u001b[1;32mpandas\\_libs\\index.pyx\u001b[0m in \u001b[0;36mpandas._libs.index.IndexEngine.get_loc\u001b[1;34m()\u001b[0m\n",
      "\u001b[1;32mpandas\\_libs\\index.pyx\u001b[0m in \u001b[0;36mpandas._libs.index.IndexEngine.get_loc\u001b[1;34m()\u001b[0m\n",
      "\u001b[1;32mpandas\\_libs\\index.pyx\u001b[0m in \u001b[0;36mpandas._libs.index.IndexEngine._get_loc_duplicates\u001b[1;34m()\u001b[0m\n",
      "\u001b[1;32mpandas\\_libs\\index.pyx\u001b[0m in \u001b[0;36mpandas._libs.index.IndexEngine._maybe_get_bool_indexer\u001b[1;34m()\u001b[0m\n",
      "\u001b[1;31mKeyError\u001b[0m: '202106030811'",
      "\nDuring handling of the above exception, another exception occurred:\n",
      "\u001b[1;31mKeyError\u001b[0m                                  Traceback (most recent call last)",
      "\u001b[1;32m<ipython-input-143-284d3f3ca217>\u001b[0m in \u001b[0;36m<module>\u001b[1;34m\u001b[0m\n\u001b[0;32m      1\u001b[0m \u001b[0mtan\u001b[0m \u001b[1;33m=\u001b[0m \u001b[0mgain2\u001b[0m\u001b[1;33m(\u001b[0m\u001b[0mme\u001b[0m\u001b[1;33m.\u001b[0m\u001b[0mtan_return\u001b[0m\u001b[1;33m,\u001b[0m \u001b[0mX_test\u001b[0m\u001b[1;33m)\u001b[0m\u001b[1;33m\u001b[0m\u001b[1;33m\u001b[0m\u001b[0m\n\u001b[0;32m      2\u001b[0m \u001b[0mfuku\u001b[0m \u001b[1;33m=\u001b[0m \u001b[0mgain2\u001b[0m\u001b[1;33m(\u001b[0m\u001b[0mme\u001b[0m\u001b[1;33m.\u001b[0m\u001b[0mfuku_return\u001b[0m\u001b[1;33m,\u001b[0m \u001b[0mX_test\u001b[0m\u001b[1;33m)\u001b[0m\u001b[1;33m\u001b[0m\u001b[1;33m\u001b[0m\u001b[0m\n\u001b[1;32m----> 3\u001b[1;33m \u001b[0mumaren\u001b[0m \u001b[1;33m=\u001b[0m \u001b[0mgain2\u001b[0m\u001b[1;33m(\u001b[0m\u001b[0mme\u001b[0m\u001b[1;33m.\u001b[0m\u001b[0mumaren_return\u001b[0m\u001b[1;33m,\u001b[0m \u001b[0mX_test\u001b[0m\u001b[1;33m)\u001b[0m\u001b[1;33m\u001b[0m\u001b[1;33m\u001b[0m\u001b[0m\n\u001b[0m",
      "\u001b[1;32m<ipython-input-142-a1d5d779f5ce>\u001b[0m in \u001b[0;36mgain2\u001b[1;34m(return_func, X, n_samples, lower, min_threshold)\u001b[0m\n\u001b[0;32m      3\u001b[0m     \u001b[1;32mfor\u001b[0m \u001b[0mi\u001b[0m \u001b[1;32min\u001b[0m \u001b[0mtqdm\u001b[0m\u001b[1;33m(\u001b[0m\u001b[0mrange\u001b[0m\u001b[1;33m(\u001b[0m\u001b[0mn_samples\u001b[0m\u001b[1;33m)\u001b[0m\u001b[1;33m)\u001b[0m\u001b[1;33m:\u001b[0m\u001b[1;33m\u001b[0m\u001b[1;33m\u001b[0m\u001b[0m\n\u001b[0;32m      4\u001b[0m         \u001b[0mthreshold\u001b[0m \u001b[1;33m=\u001b[0m \u001b[0mmin_threshold\u001b[0m\u001b[1;33m+\u001b[0m \u001b[1;33m(\u001b[0m\u001b[1;36m1\u001b[0m\u001b[1;33m-\u001b[0m\u001b[0mmin_threshold\u001b[0m\u001b[1;33m)\u001b[0m \u001b[1;33m*\u001b[0m \u001b[1;33m(\u001b[0m\u001b[0mi\u001b[0m\u001b[1;33m/\u001b[0m\u001b[0mn_samples\u001b[0m\u001b[1;33m)\u001b[0m \u001b[1;31m#threshold0.5から1までを100等分\u001b[0m\u001b[1;33m\u001b[0m\u001b[1;33m\u001b[0m\u001b[0m\n\u001b[1;32m----> 5\u001b[1;33m         \u001b[0mn_bets\u001b[0m\u001b[1;33m,\u001b[0m \u001b[0mmoney\u001b[0m \u001b[1;33m=\u001b[0m \u001b[0mreturn_func\u001b[0m\u001b[1;33m(\u001b[0m\u001b[0mX\u001b[0m\u001b[1;33m,\u001b[0m \u001b[0mthreshold\u001b[0m\u001b[1;33m)\u001b[0m\u001b[1;33m\u001b[0m\u001b[1;33m\u001b[0m\u001b[0m\n\u001b[0m\u001b[0;32m      6\u001b[0m         \u001b[1;32mif\u001b[0m \u001b[0mn_bets\u001b[0m\u001b[1;33m>\u001b[0m\u001b[0mlower\u001b[0m\u001b[1;33m:\u001b[0m\u001b[1;33m\u001b[0m\u001b[1;33m\u001b[0m\u001b[0m\n\u001b[0;32m      7\u001b[0m             \u001b[0mgain\u001b[0m\u001b[1;33m[\u001b[0m\u001b[0mthreshold\u001b[0m\u001b[1;33m]\u001b[0m \u001b[1;33m=\u001b[0m \u001b[1;33m(\u001b[0m\u001b[0mn_bets\u001b[0m\u001b[1;33m*\u001b[0m\u001b[1;36m100\u001b[0m\u001b[1;33m+\u001b[0m \u001b[0mmoney\u001b[0m\u001b[1;33m)\u001b[0m\u001b[1;33m/\u001b[0m\u001b[1;33m(\u001b[0m\u001b[0mn_bets\u001b[0m\u001b[1;33m*\u001b[0m\u001b[1;36m100\u001b[0m\u001b[1;33m)\u001b[0m\u001b[1;33m\u001b[0m\u001b[1;33m\u001b[0m\u001b[0m\n",
      "\u001b[1;32m<ipython-input-128-162aeeafe4c8>\u001b[0m in \u001b[0;36mumaren_return\u001b[1;34m(self, X, threshold)\u001b[0m\n\u001b[0;32m     62\u001b[0m         \u001b[1;32mfor\u001b[0m \u001b[0mrace_id\u001b[0m\u001b[1;33m,\u001b[0m \u001b[0mpreds\u001b[0m \u001b[1;32min\u001b[0m \u001b[0mpred_table\u001b[0m\u001b[1;33m.\u001b[0m\u001b[0mgroupby\u001b[0m\u001b[1;33m(\u001b[0m\u001b[0mlevel\u001b[0m\u001b[1;33m=\u001b[0m\u001b[1;36m0\u001b[0m\u001b[1;33m)\u001b[0m\u001b[1;33m:\u001b[0m\u001b[1;33m\u001b[0m\u001b[1;33m\u001b[0m\u001b[0m\n\u001b[0;32m     63\u001b[0m             \u001b[0mn_bets\u001b[0m \u001b[1;33m+=\u001b[0m \u001b[0mcomb\u001b[0m\u001b[1;33m(\u001b[0m\u001b[0mlen\u001b[0m\u001b[1;33m(\u001b[0m\u001b[0mpreds\u001b[0m\u001b[1;33m)\u001b[0m\u001b[1;33m,\u001b[0m \u001b[1;36m2\u001b[0m\u001b[1;33m)\u001b[0m \u001b[1;31m#レースごとに3着以内予想馬から2頭を選ぶ買い方の数\u001b[0m\u001b[1;33m\u001b[0m\u001b[1;33m\u001b[0m\u001b[0m\n\u001b[1;32m---> 64\u001b[1;33m             \u001b[0mhit\u001b[0m\u001b[1;33m[\u001b[0m\u001b[0mrace_id\u001b[0m\u001b[1;33m]\u001b[0m \u001b[1;33m=\u001b[0m \u001b[0mset\u001b[0m\u001b[1;33m(\u001b[0m\u001b[0mself\u001b[0m\u001b[1;33m.\u001b[0m\u001b[0mumaren\u001b[0m\u001b[1;33m.\u001b[0m\u001b[0mloc\u001b[0m\u001b[1;33m[\u001b[0m\u001b[0mrace_id\u001b[0m\u001b[1;33m]\u001b[0m\u001b[1;33m[\u001b[0m\u001b[1;33m[\u001b[0m\u001b[1;34m'win_0'\u001b[0m\u001b[1;33m,\u001b[0m \u001b[1;34m'win_1'\u001b[0m\u001b[1;33m]\u001b[0m\u001b[1;33m]\u001b[0m\u001b[1;33m)\u001b[0m\u001b[1;33m.\u001b[0m\u001b[0missubset\u001b[0m\u001b[1;33m(\u001b[0m\u001b[0mset\u001b[0m\u001b[1;33m(\u001b[0m\u001b[0mpreds\u001b[0m\u001b[1;33m)\u001b[0m\u001b[1;33m)\u001b[0m \u001b[1;31m#bool値が入る\u001b[0m\u001b[1;33m\u001b[0m\u001b[1;33m\u001b[0m\u001b[0m\n\u001b[0m\u001b[0;32m     65\u001b[0m         \u001b[0mmoney\u001b[0m \u001b[1;33m=\u001b[0m \u001b[1;33m(\u001b[0m\u001b[0mself\u001b[0m\u001b[1;33m.\u001b[0m\u001b[0mumaren\u001b[0m\u001b[1;33m.\u001b[0m\u001b[0mindex\u001b[0m\u001b[1;33m.\u001b[0m\u001b[0mmap\u001b[0m\u001b[1;33m(\u001b[0m\u001b[0mhit\u001b[0m\u001b[1;33m)\u001b[0m\u001b[1;33m.\u001b[0m\u001b[0mvalues\u001b[0m \u001b[1;33m*\u001b[0m \u001b[0mself\u001b[0m\u001b[1;33m.\u001b[0m\u001b[0mumaren\u001b[0m\u001b[1;33m[\u001b[0m\u001b[1;34m'return'\u001b[0m\u001b[1;33m]\u001b[0m\u001b[1;33m)\u001b[0m\u001b[1;33m.\u001b[0m\u001b[0msum\u001b[0m\u001b[1;33m(\u001b[0m\u001b[1;33m)\u001b[0m\u001b[1;33m\u001b[0m\u001b[1;33m\u001b[0m\u001b[0m\n\u001b[0;32m     66\u001b[0m         \u001b[1;32mreturn\u001b[0m \u001b[0mn_bets\u001b[0m\u001b[1;33m,\u001b[0m \u001b[0mmoney\u001b[0m\u001b[1;33m\u001b[0m\u001b[1;33m\u001b[0m\u001b[0m\n",
      "\u001b[1;32m~\\anaconda3\\lib\\site-packages\\pandas\\core\\indexing.py\u001b[0m in \u001b[0;36m__getitem__\u001b[1;34m(self, key)\u001b[0m\n\u001b[0;32m   1765\u001b[0m \u001b[1;33m\u001b[0m\u001b[0m\n\u001b[0;32m   1766\u001b[0m             \u001b[0mmaybe_callable\u001b[0m \u001b[1;33m=\u001b[0m \u001b[0mcom\u001b[0m\u001b[1;33m.\u001b[0m\u001b[0mapply_if_callable\u001b[0m\u001b[1;33m(\u001b[0m\u001b[0mkey\u001b[0m\u001b[1;33m,\u001b[0m \u001b[0mself\u001b[0m\u001b[1;33m.\u001b[0m\u001b[0mobj\u001b[0m\u001b[1;33m)\u001b[0m\u001b[1;33m\u001b[0m\u001b[1;33m\u001b[0m\u001b[0m\n\u001b[1;32m-> 1767\u001b[1;33m             \u001b[1;32mreturn\u001b[0m \u001b[0mself\u001b[0m\u001b[1;33m.\u001b[0m\u001b[0m_getitem_axis\u001b[0m\u001b[1;33m(\u001b[0m\u001b[0mmaybe_callable\u001b[0m\u001b[1;33m,\u001b[0m \u001b[0maxis\u001b[0m\u001b[1;33m=\u001b[0m\u001b[0maxis\u001b[0m\u001b[1;33m)\u001b[0m\u001b[1;33m\u001b[0m\u001b[1;33m\u001b[0m\u001b[0m\n\u001b[0m\u001b[0;32m   1768\u001b[0m \u001b[1;33m\u001b[0m\u001b[0m\n\u001b[0;32m   1769\u001b[0m     \u001b[1;32mdef\u001b[0m \u001b[0m_is_scalar_access\u001b[0m\u001b[1;33m(\u001b[0m\u001b[0mself\u001b[0m\u001b[1;33m,\u001b[0m \u001b[0mkey\u001b[0m\u001b[1;33m:\u001b[0m \u001b[0mTuple\u001b[0m\u001b[1;33m)\u001b[0m\u001b[1;33m:\u001b[0m\u001b[1;33m\u001b[0m\u001b[1;33m\u001b[0m\u001b[0m\n",
      "\u001b[1;32m~\\anaconda3\\lib\\site-packages\\pandas\\core\\indexing.py\u001b[0m in \u001b[0;36m_getitem_axis\u001b[1;34m(self, key, axis)\u001b[0m\n\u001b[0;32m   1962\u001b[0m         \u001b[1;31m# fall thru to straight lookup\u001b[0m\u001b[1;33m\u001b[0m\u001b[1;33m\u001b[0m\u001b[1;33m\u001b[0m\u001b[0m\n\u001b[0;32m   1963\u001b[0m         \u001b[0mself\u001b[0m\u001b[1;33m.\u001b[0m\u001b[0m_validate_key\u001b[0m\u001b[1;33m(\u001b[0m\u001b[0mkey\u001b[0m\u001b[1;33m,\u001b[0m \u001b[0maxis\u001b[0m\u001b[1;33m)\u001b[0m\u001b[1;33m\u001b[0m\u001b[1;33m\u001b[0m\u001b[0m\n\u001b[1;32m-> 1964\u001b[1;33m         \u001b[1;32mreturn\u001b[0m \u001b[0mself\u001b[0m\u001b[1;33m.\u001b[0m\u001b[0m_get_label\u001b[0m\u001b[1;33m(\u001b[0m\u001b[0mkey\u001b[0m\u001b[1;33m,\u001b[0m \u001b[0maxis\u001b[0m\u001b[1;33m=\u001b[0m\u001b[0maxis\u001b[0m\u001b[1;33m)\u001b[0m\u001b[1;33m\u001b[0m\u001b[1;33m\u001b[0m\u001b[0m\n\u001b[0m\u001b[0;32m   1965\u001b[0m \u001b[1;33m\u001b[0m\u001b[0m\n\u001b[0;32m   1966\u001b[0m \u001b[1;33m\u001b[0m\u001b[0m\n",
      "\u001b[1;32m~\\anaconda3\\lib\\site-packages\\pandas\\core\\indexing.py\u001b[0m in \u001b[0;36m_get_label\u001b[1;34m(self, label, axis)\u001b[0m\n\u001b[0;32m    622\u001b[0m             \u001b[1;32mraise\u001b[0m \u001b[0mIndexingError\u001b[0m\u001b[1;33m(\u001b[0m\u001b[1;34m\"no slices here, handle elsewhere\"\u001b[0m\u001b[1;33m)\u001b[0m\u001b[1;33m\u001b[0m\u001b[1;33m\u001b[0m\u001b[0m\n\u001b[0;32m    623\u001b[0m \u001b[1;33m\u001b[0m\u001b[0m\n\u001b[1;32m--> 624\u001b[1;33m         \u001b[1;32mreturn\u001b[0m \u001b[0mself\u001b[0m\u001b[1;33m.\u001b[0m\u001b[0mobj\u001b[0m\u001b[1;33m.\u001b[0m\u001b[0m_xs\u001b[0m\u001b[1;33m(\u001b[0m\u001b[0mlabel\u001b[0m\u001b[1;33m,\u001b[0m \u001b[0maxis\u001b[0m\u001b[1;33m=\u001b[0m\u001b[0maxis\u001b[0m\u001b[1;33m)\u001b[0m\u001b[1;33m\u001b[0m\u001b[1;33m\u001b[0m\u001b[0m\n\u001b[0m\u001b[0;32m    625\u001b[0m \u001b[1;33m\u001b[0m\u001b[0m\n\u001b[0;32m    626\u001b[0m     \u001b[1;32mdef\u001b[0m \u001b[0m_get_loc\u001b[0m\u001b[1;33m(\u001b[0m\u001b[0mself\u001b[0m\u001b[1;33m,\u001b[0m \u001b[0mkey\u001b[0m\u001b[1;33m:\u001b[0m \u001b[0mint\u001b[0m\u001b[1;33m,\u001b[0m \u001b[0maxis\u001b[0m\u001b[1;33m:\u001b[0m \u001b[0mint\u001b[0m\u001b[1;33m)\u001b[0m\u001b[1;33m:\u001b[0m\u001b[1;33m\u001b[0m\u001b[1;33m\u001b[0m\u001b[0m\n",
      "\u001b[1;32m~\\anaconda3\\lib\\site-packages\\pandas\\core\\generic.py\u001b[0m in \u001b[0;36mxs\u001b[1;34m(self, key, axis, level, drop_level)\u001b[0m\n\u001b[0;32m   3535\u001b[0m             \u001b[0mloc\u001b[0m\u001b[1;33m,\u001b[0m \u001b[0mnew_index\u001b[0m \u001b[1;33m=\u001b[0m \u001b[0mself\u001b[0m\u001b[1;33m.\u001b[0m\u001b[0mindex\u001b[0m\u001b[1;33m.\u001b[0m\u001b[0mget_loc_level\u001b[0m\u001b[1;33m(\u001b[0m\u001b[0mkey\u001b[0m\u001b[1;33m,\u001b[0m \u001b[0mdrop_level\u001b[0m\u001b[1;33m=\u001b[0m\u001b[0mdrop_level\u001b[0m\u001b[1;33m)\u001b[0m\u001b[1;33m\u001b[0m\u001b[1;33m\u001b[0m\u001b[0m\n\u001b[0;32m   3536\u001b[0m         \u001b[1;32melse\u001b[0m\u001b[1;33m:\u001b[0m\u001b[1;33m\u001b[0m\u001b[1;33m\u001b[0m\u001b[0m\n\u001b[1;32m-> 3537\u001b[1;33m             \u001b[0mloc\u001b[0m \u001b[1;33m=\u001b[0m \u001b[0mself\u001b[0m\u001b[1;33m.\u001b[0m\u001b[0mindex\u001b[0m\u001b[1;33m.\u001b[0m\u001b[0mget_loc\u001b[0m\u001b[1;33m(\u001b[0m\u001b[0mkey\u001b[0m\u001b[1;33m)\u001b[0m\u001b[1;33m\u001b[0m\u001b[1;33m\u001b[0m\u001b[0m\n\u001b[0m\u001b[0;32m   3538\u001b[0m \u001b[1;33m\u001b[0m\u001b[0m\n\u001b[0;32m   3539\u001b[0m             \u001b[1;32mif\u001b[0m \u001b[0misinstance\u001b[0m\u001b[1;33m(\u001b[0m\u001b[0mloc\u001b[0m\u001b[1;33m,\u001b[0m \u001b[0mnp\u001b[0m\u001b[1;33m.\u001b[0m\u001b[0mndarray\u001b[0m\u001b[1;33m)\u001b[0m\u001b[1;33m:\u001b[0m\u001b[1;33m\u001b[0m\u001b[1;33m\u001b[0m\u001b[0m\n",
      "\u001b[1;32m~\\anaconda3\\lib\\site-packages\\pandas\\core\\indexes\\base.py\u001b[0m in \u001b[0;36mget_loc\u001b[1;34m(self, key, method, tolerance)\u001b[0m\n\u001b[0;32m   2646\u001b[0m                 \u001b[1;32mreturn\u001b[0m \u001b[0mself\u001b[0m\u001b[1;33m.\u001b[0m\u001b[0m_engine\u001b[0m\u001b[1;33m.\u001b[0m\u001b[0mget_loc\u001b[0m\u001b[1;33m(\u001b[0m\u001b[0mkey\u001b[0m\u001b[1;33m)\u001b[0m\u001b[1;33m\u001b[0m\u001b[1;33m\u001b[0m\u001b[0m\n\u001b[0;32m   2647\u001b[0m             \u001b[1;32mexcept\u001b[0m \u001b[0mKeyError\u001b[0m\u001b[1;33m:\u001b[0m\u001b[1;33m\u001b[0m\u001b[1;33m\u001b[0m\u001b[0m\n\u001b[1;32m-> 2648\u001b[1;33m                 \u001b[1;32mreturn\u001b[0m \u001b[0mself\u001b[0m\u001b[1;33m.\u001b[0m\u001b[0m_engine\u001b[0m\u001b[1;33m.\u001b[0m\u001b[0mget_loc\u001b[0m\u001b[1;33m(\u001b[0m\u001b[0mself\u001b[0m\u001b[1;33m.\u001b[0m\u001b[0m_maybe_cast_indexer\u001b[0m\u001b[1;33m(\u001b[0m\u001b[0mkey\u001b[0m\u001b[1;33m)\u001b[0m\u001b[1;33m)\u001b[0m\u001b[1;33m\u001b[0m\u001b[1;33m\u001b[0m\u001b[0m\n\u001b[0m\u001b[0;32m   2649\u001b[0m         \u001b[0mindexer\u001b[0m \u001b[1;33m=\u001b[0m \u001b[0mself\u001b[0m\u001b[1;33m.\u001b[0m\u001b[0mget_indexer\u001b[0m\u001b[1;33m(\u001b[0m\u001b[1;33m[\u001b[0m\u001b[0mkey\u001b[0m\u001b[1;33m]\u001b[0m\u001b[1;33m,\u001b[0m \u001b[0mmethod\u001b[0m\u001b[1;33m=\u001b[0m\u001b[0mmethod\u001b[0m\u001b[1;33m,\u001b[0m \u001b[0mtolerance\u001b[0m\u001b[1;33m=\u001b[0m\u001b[0mtolerance\u001b[0m\u001b[1;33m)\u001b[0m\u001b[1;33m\u001b[0m\u001b[1;33m\u001b[0m\u001b[0m\n\u001b[0;32m   2650\u001b[0m         \u001b[1;32mif\u001b[0m \u001b[0mindexer\u001b[0m\u001b[1;33m.\u001b[0m\u001b[0mndim\u001b[0m \u001b[1;33m>\u001b[0m \u001b[1;36m1\u001b[0m \u001b[1;32mor\u001b[0m \u001b[0mindexer\u001b[0m\u001b[1;33m.\u001b[0m\u001b[0msize\u001b[0m \u001b[1;33m>\u001b[0m \u001b[1;36m1\u001b[0m\u001b[1;33m:\u001b[0m\u001b[1;33m\u001b[0m\u001b[1;33m\u001b[0m\u001b[0m\n",
      "\u001b[1;32mpandas\\_libs\\index.pyx\u001b[0m in \u001b[0;36mpandas._libs.index.IndexEngine.get_loc\u001b[1;34m()\u001b[0m\n",
      "\u001b[1;32mpandas\\_libs\\index.pyx\u001b[0m in \u001b[0;36mpandas._libs.index.IndexEngine.get_loc\u001b[1;34m()\u001b[0m\n",
      "\u001b[1;32mpandas\\_libs\\index.pyx\u001b[0m in \u001b[0;36mpandas._libs.index.IndexEngine._get_loc_duplicates\u001b[1;34m()\u001b[0m\n",
      "\u001b[1;32mpandas\\_libs\\index.pyx\u001b[0m in \u001b[0;36mpandas._libs.index.IndexEngine._maybe_get_bool_indexer\u001b[1;34m()\u001b[0m\n",
      "\u001b[1;31mKeyError\u001b[0m: '202106030811'"
     ]
    }
   ],
   "source": [
    "tan = gain2(me.tan_return, X_test)\n",
    "fuku = gain2(me.fuku_return, X_test)"
   ]
  },
  {
   "cell_type": "code",
   "execution_count": 153,
   "metadata": {},
   "outputs": [
    {
     "data": {
      "application/vnd.jupyter.widget-view+json": {
       "model_id": "3d96cb0b5d0c4a148166bb641f2c4768",
       "version_major": 2,
       "version_minor": 0
      },
      "text/plain": [
       "HBox(children=(FloatProgress(value=0.0), HTML(value='')))"
      ]
     },
     "metadata": {},
     "output_type": "display_data"
    },
    {
     "name": "stdout",
     "output_type": "stream",
     "text": [
      "\n"
     ]
    }
   ],
   "source": [
    "umaren = gain2(me.umaren_return, X_test)"
   ]
  },
  {
   "cell_type": "code",
   "execution_count": 154,
   "metadata": {},
   "outputs": [
    {
     "data": {
      "text/plain": [
       "<matplotlib.axes._subplots.AxesSubplot at 0x1dad32ef808>"
      ]
     },
     "execution_count": 154,
     "metadata": {},
     "output_type": "execute_result"
    },
    {
     "data": {
      "image/png": "[encoded data removed]",
      "text/plain": [
       "<Figure size 432x288 with 1 Axes>"
      ]
     },
     "metadata": {
      "needs_background": "light"
     },
     "output_type": "display_data"
    }
   ],
   "source": [
    "tan.rename('tan').plot(legend=True)\n",
    "fuku.rename('fuku').plot(legend=True)\n",
    "umaren.rename('umaren').plot(legend=True)"
   ]
  },
  {
   "cell_type": "markdown",
   "metadata": {},
   "source": [
    "# 最新の出馬表を取得"
   ]
  },
  {
   "cell_type": "code",
   "execution_count": 106,
   "metadata": {},
   "outputs": [],
   "source": [
    "from selenium.webdriver import Chrome, ChromeOptions\n",
    "import chromedriver_binary\n",
    "\n",
    "class Entry_table:\n",
    "    def __init__(self):\n",
    "        self.entry_table = pd.DataFrame()\n",
    "    \n",
    "    def scraping_table(self, race_id_list):\n",
    "        options = ChromeOptions()\n",
    "        driver = Chrome(options=options)\n",
    "        \n",
    "        for race_id in race_id_list:\n",
    "            url = 'https://race.netkeiba.com/race/shutuba.html?race_id=' + race_id\n",
    "            driver.get(url)\n",
    "            elements = driver.find_elements_by_class_name('HorseList')\n",
    "            for element in elements:\n",
    "                tds = element.find_elements_by_tag_name('td')\n",
    "                row = []\n",
    "                for td in tds:\n",
    "                    row.append(td.text)\n",
    "                    if td.get_attribute('class') in ['HorseInfo', 'Jockey']:\n",
    "                        href = td.find_element_by_tag_name('a').get_attribute('href')\n",
    "                        row.append(re.findall(r'\\d+', href)[0])\n",
    "                self.entry_table = self.entry_table.append(pd.Series(row, name = race_id))\n",
    "            \n",
    "        driver.close()\n",
    "        \n",
    "    def preprocessing(self):\n",
    "        df = self.entry_table.copy()\n",
    "        df = df[[0,1,3,4,5,6,7,8,10,11,12]]\n",
    "        self.entry_table = df\n",
    "        self.entry_table = self.entry_table.set_axis(['枠', '馬番','馬名','horse_id','性齢','斤量','騎手','jockey_id','馬体重','予想オッズ','人気'], axis=1)\n",
    "        \n",
    "    def merge_horse_results(self, horse_results, columns, n_race=5):\n",
    "        for column in columns:\n",
    "            df = horse_results.groupby(level=0).head(n_race)\n",
    "            df = df.astype(str).groupby(level=0)[column].apply(lambda x: ','.join(x))\n",
    "            df = df.str.split(',', expand=True).add_prefix('{}_'.format(column))\n",
    "            self.entry_table = self.entry_table.merge(df, left_on='horse_id', right_index=True, how='left')"
   ]
  },
  {
   "cell_type": "code",
   "execution_count": 107,
   "metadata": {
    "collapsed": true
   },
   "outputs": [
    {
     "data": {
      "text/html": [
       "<div>\n",
       "<style scoped>\n",
       "    .dataframe tbody tr th:only-of-type {\n",
       "        vertical-align: middle;\n",
       "    }\n",
       "\n",
       "    .dataframe tbody tr th {\n",
       "        vertical-align: top;\n",
       "    }\n",
       "\n",
       "    .dataframe thead th {\n",
       "        text-align: right;\n",
       "    }\n",
       "</style>\n",
       "<table border=\"1\" class=\"dataframe\">\n",
       "  <thead>\n",
       "    <tr style=\"text-align: right;\">\n",
       "      <th></th>\n",
       "      <th>枠</th>\n",
       "      <th>馬番</th>\n",
       "      <th>馬名</th>\n",
       "      <th>horse_id</th>\n",
       "      <th>性齢</th>\n",
       "      <th>斤量</th>\n",
       "      <th>騎手</th>\n",
       "      <th>jockey_id</th>\n",
       "      <th>馬体重</th>\n",
       "      <th>予想オッズ</th>\n",
       "      <th>人気</th>\n",
       "    </tr>\n",
       "  </thead>\n",
       "  <tbody>\n",
       "    <tr>\n",
       "      <th>202105030609</th>\n",
       "      <td>1</td>\n",
       "      <td>1</td>\n",
       "      <td>ベスビアナイト</td>\n",
       "      <td>2017105590</td>\n",
       "      <td>セ4</td>\n",
       "      <td>54.0</td>\n",
       "      <td>菅原明</td>\n",
       "      <td>01179</td>\n",
       "      <td>490(+2)</td>\n",
       "      <td>6.7</td>\n",
       "      <td>5</td>\n",
       "    </tr>\n",
       "    <tr>\n",
       "      <th>202105030609</th>\n",
       "      <td>2</td>\n",
       "      <td>2</td>\n",
       "      <td>エドノフェリーチェ</td>\n",
       "      <td>2017104060</td>\n",
       "      <td>牝4</td>\n",
       "      <td>54.0</td>\n",
       "      <td>津村</td>\n",
       "      <td>01092</td>\n",
       "      <td>448(-4)</td>\n",
       "      <td>5.1</td>\n",
       "      <td>3</td>\n",
       "    </tr>\n",
       "    <tr>\n",
       "      <th>202105030609</th>\n",
       "      <td>3</td>\n",
       "      <td>3</td>\n",
       "      <td>ライル</td>\n",
       "      <td>2016104868</td>\n",
       "      <td>セ5</td>\n",
       "      <td>55.0</td>\n",
       "      <td>石川</td>\n",
       "      <td>01150</td>\n",
       "      <td>490(-10)</td>\n",
       "      <td>25.6</td>\n",
       "      <td>7</td>\n",
       "    </tr>\n",
       "    <tr>\n",
       "      <th>202105030609</th>\n",
       "      <td>4</td>\n",
       "      <td>4</td>\n",
       "      <td>アスティ</td>\n",
       "      <td>2016104998</td>\n",
       "      <td>セ5</td>\n",
       "      <td>54.0</td>\n",
       "      <td>江田照</td>\n",
       "      <td>00689</td>\n",
       "      <td>430(+4)</td>\n",
       "      <td>49.4</td>\n",
       "      <td>9</td>\n",
       "    </tr>\n",
       "    <tr>\n",
       "      <th>202105030609</th>\n",
       "      <td>5</td>\n",
       "      <td>5</td>\n",
       "      <td>エカテリンブルク</td>\n",
       "      <td>2017105500</td>\n",
       "      <td>牡4</td>\n",
       "      <td>54.0</td>\n",
       "      <td>石橋脩</td>\n",
       "      <td>01077</td>\n",
       "      <td>510(+4)</td>\n",
       "      <td>35.9</td>\n",
       "      <td>8</td>\n",
       "    </tr>\n",
       "    <tr>\n",
       "      <th>202105030609</th>\n",
       "      <td>6</td>\n",
       "      <td>6</td>\n",
       "      <td>ディスカバー</td>\n",
       "      <td>2014105545</td>\n",
       "      <td>セ7</td>\n",
       "      <td>53.0</td>\n",
       "      <td>原</td>\n",
       "      <td>01184</td>\n",
       "      <td>466(-2)</td>\n",
       "      <td>201.3</td>\n",
       "      <td>11</td>\n",
       "    </tr>\n",
       "    <tr>\n",
       "      <th>202105030609</th>\n",
       "      <td>6</td>\n",
       "      <td>7</td>\n",
       "      <td>ドリームスピリット</td>\n",
       "      <td>2015102790</td>\n",
       "      <td>牡6</td>\n",
       "      <td>54.0</td>\n",
       "      <td>ルメール</td>\n",
       "      <td>05339</td>\n",
       "      <td>500(-2)</td>\n",
       "      <td>6.5</td>\n",
       "      <td>4</td>\n",
       "    </tr>\n",
       "    <tr>\n",
       "      <th>202105030609</th>\n",
       "      <td>7</td>\n",
       "      <td>8</td>\n",
       "      <td>ヒルノダカール</td>\n",
       "      <td>2016100550</td>\n",
       "      <td>牡5</td>\n",
       "      <td>56.0</td>\n",
       "      <td>北村宏</td>\n",
       "      <td>01043</td>\n",
       "      <td>512(+4)</td>\n",
       "      <td>11.1</td>\n",
       "      <td>6</td>\n",
       "    </tr>\n",
       "    <tr>\n",
       "      <th>202105030609</th>\n",
       "      <td>7</td>\n",
       "      <td>9</td>\n",
       "      <td>ペレ</td>\n",
       "      <td>2016104614</td>\n",
       "      <td>牝5</td>\n",
       "      <td>54.0</td>\n",
       "      <td>Ｍデムーロ</td>\n",
       "      <td>05212</td>\n",
       "      <td>456(-2)</td>\n",
       "      <td>3.7</td>\n",
       "      <td>2</td>\n",
       "    </tr>\n",
       "    <tr>\n",
       "      <th>202105030609</th>\n",
       "      <td>8</td>\n",
       "      <td>10</td>\n",
       "      <td>レッドクーゲル</td>\n",
       "      <td>2016103041</td>\n",
       "      <td>牡5</td>\n",
       "      <td>53.0</td>\n",
       "      <td>吉田豊</td>\n",
       "      <td>00733</td>\n",
       "      <td>440(-4)</td>\n",
       "      <td>80.7</td>\n",
       "      <td>10</td>\n",
       "    </tr>\n",
       "    <tr>\n",
       "      <th>202105030609</th>\n",
       "      <td>8</td>\n",
       "      <td>11</td>\n",
       "      <td>リーブルミノル</td>\n",
       "      <td>2018105809</td>\n",
       "      <td>牡3</td>\n",
       "      <td>53.0</td>\n",
       "      <td>団野</td>\n",
       "      <td>01180</td>\n",
       "      <td>484(+14)</td>\n",
       "      <td>3.4</td>\n",
       "      <td>1</td>\n",
       "    </tr>\n",
       "  </tbody>\n",
       "</table>\n",
       "</div>"
      ],
      "text/plain": [
       "              枠  馬番         馬名    horse_id  性齢    斤量     騎手 jockey_id  \\\n",
       "202105030609  1   1    ベスビアナイト  2017105590  セ4  54.0    菅原明     01179   \n",
       "202105030609  2   2  エドノフェリーチェ  2017104060  牝4  54.0     津村     01092   \n",
       "202105030609  3   3        ライル  2016104868  セ5  55.0     石川     01150   \n",
       "202105030609  4   4       アスティ  2016104998  セ5  54.0    江田照     00689   \n",
       "202105030609  5   5   エカテリンブルク  2017105500  牡4  54.0    石橋脩     01077   \n",
       "202105030609  6   6     ディスカバー  2014105545  セ7  53.0      原     01184   \n",
       "202105030609  6   7  ドリームスピリット  2015102790  牡6  54.0   ルメール     05339   \n",
       "202105030609  7   8    ヒルノダカール  2016100550  牡5  56.0    北村宏     01043   \n",
       "202105030609  7   9         ペレ  2016104614  牝5  54.0  Ｍデムーロ     05212   \n",
       "202105030609  8  10    レッドクーゲル  2016103041  牡5  53.0    吉田豊     00733   \n",
       "202105030609  8  11    リーブルミノル  2018105809  牡3  53.0     団野     01180   \n",
       "\n",
       "                   馬体重  予想オッズ  人気  \n",
       "202105030609   490(+2)    6.7   5  \n",
       "202105030609   448(-4)    5.1   3  \n",
       "202105030609  490(-10)   25.6   7  \n",
       "202105030609   430(+4)   49.4   9  \n",
       "202105030609   510(+4)   35.9   8  \n",
       "202105030609   466(-2)  201.3  11  \n",
       "202105030609   500(-2)    6.5   4  \n",
       "202105030609   512(+4)   11.1   6  \n",
       "202105030609   456(-2)    3.7   2  \n",
       "202105030609   440(-4)   80.7  10  \n",
       "202105030609  484(+14)    3.4   1  "
      ]
     },
     "execution_count": 107,
     "metadata": {},
     "output_type": "execute_result"
    }
   ],
   "source": [
    "et = Entry_table()\n",
    "et.scraping_table(['202105030609'])\n",
    "et.preprocessing()\n",
    "et.entry_table"
   ]
  },
  {
   "cell_type": "code",
   "execution_count": null,
   "metadata": {},
   "outputs": [],
   "source": []
  }
 ],
 "metadata": {
  "kernelspec": {
   "display_name": "Python 3",
   "language": "python",
   "name": "python3"
  },
  "language_info": {
   "codemirror_mode": {
    "name": "ipython",
    "version": 3
   },
   "file_extension": ".py",
   "mimetype": "text/x-python",
   "name": "python",
   "nbconvert_exporter": "python",
   "pygments_lexer": "ipython3",
   "version": "3.7.6"
  },
  "toc": {
   "base_numbering": 1,
   "nav_menu": {},
   "number_sections": true,
   "sideBar": true,
   "skip_h1_title": false,
   "title_cell": "Table of Contents",
   "title_sidebar": "Contents",
   "toc_cell": false,
   "toc_position": {
    "height": "calc(100% - 180px)",
    "left": "10px",
    "top": "150px",
    "width": "273.188px"
   },
   "toc_section_display": true,
   "toc_window_display": true
  }
 },
 "nbformat": 4,
 "nbformat_minor": 4
}
