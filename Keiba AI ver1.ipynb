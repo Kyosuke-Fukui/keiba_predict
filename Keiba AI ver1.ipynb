{
 "cells": [
  {
   "cell_type": "markdown",
   "metadata": {},
   "source": [
    "# 各種インポート"
   ]
  },
  {
   "cell_type": "code",
   "execution_count": 309,
   "metadata": {},
   "outputs": [],
   "source": [
    "import pandas as pd\n",
    "import time\n",
    "from tqdm.notebook import tqdm_notebook as tqdm\n",
    "import requests\n",
    "from bs4 import BeautifulSoup\n",
    "import re\n",
    "import numpy as np"
   ]
  },
  {
   "cell_type": "markdown",
   "metadata": {},
   "source": [
    "# Update関数"
   ]
  },
  {
   "cell_type": "code",
   "execution_count": 287,
   "metadata": {
    "scrolled": true
   },
   "outputs": [],
   "source": [
    "def update(func, update_id_list, old_data, merge=False):\n",
    "    new_id_list = set(update_id_list) - (set(update_id_list) & set(old_data.index.unique().values))\n",
    "    df = func(new_id_list)\n",
    "    if merge:\n",
    "        df = pd.concat([df, old_data])    \n",
    "    return df"
   ]
  },
  {
   "cell_type": "markdown",
   "metadata": {},
   "source": [
    "# レース結果取得"
   ]
  },
  {
   "cell_type": "markdown",
   "metadata": {},
   "source": [
    "## 取得するレースのidを指定"
   ]
  },
  {
   "cell_type": "code",
   "execution_count": 4,
   "metadata": {},
   "outputs": [],
   "source": [
    "race_id_list = []\n",
    "for place in range(1,11,1):\n",
    "    for kai in range(1,6,1):\n",
    "        for day in range(1,9,1):\n",
    "            for r in range(1,13,1):\n",
    "                race_id = '2019' + str(place).zfill(2) + str(kai).zfill(2) + str(day).zfill(2) + str(r).zfill(2)\n",
    "                race_id_list.append(race_id)"
   ]
  },
  {
   "cell_type": "markdown",
   "metadata": {},
   "source": [
    "年＋場所（01:札幌,02:函館,03:福島,04:新潟,05:東京,06:中山,07:中京,08:京都,09:阪神,10:小倉）＋回＋月日＋ラウンド"
   ]
  },
  {
   "cell_type": "markdown",
   "metadata": {},
   "source": [
    "## スクレイピング"
   ]
  },
  {
   "cell_type": "code",
   "execution_count": 53,
   "metadata": {
    "code_folding": []
   },
   "outputs": [],
   "source": [
    "def scraping_race_result(id_list, pre_race_results={}):\n",
    "    race_results = pre_race_results\n",
    "    \n",
    "    for race_id in tqdm(id_list):\n",
    "        if race_id in pre_race_results.keys():\n",
    "            continue\n",
    "        try:\n",
    "            url='https://db.netkeiba.com/race/' + race_id\n",
    "            df = pd.read_html(url)[0]\n",
    "            \n",
    "            #horse_idとjockey_idを入れる\n",
    "            html = requests.get(url)\n",
    "            html.encoding = 'EUC-JP'\n",
    "            soup = BeautifulSoup(html.text, 'html.parser')\n",
    "            \n",
    "            horse_id_list = []\n",
    "            horse_a_list = soup.find('table',attrs={'summary':'レース結果'})\\\n",
    "                .find_all('a',attrs={'href':re.compile('^/horse')})\n",
    "            for a in horse_a_list:\n",
    "                horse_id = re.findall(r'\\d+', a['href'])\n",
    "                horse_id_list.append(horse_id[0])\n",
    "                \n",
    "            jockey_id_list = []\n",
    "            jockey_a_list = soup.find('table',attrs={'summary':'レース結果'})\\\n",
    "                .find_all('a',attrs={'href':re.compile('^/jockey')})\n",
    "            for a in jockey_a_list:\n",
    "                jockey_id = re.findall(r'\\d+', a['href'])\n",
    "                jockey_id_list.append(jockey_id[0])\n",
    "                \n",
    "            df['horse_id'] = horse_id_list\n",
    "            df['jockey_id'] = jockey_id_list\n",
    "            \n",
    "            race_results[race_id] = df\n",
    "            \n",
    "            time.sleep(0.1)\n",
    "        except IndexError:\n",
    "            continue\n",
    "        except:\n",
    "            break\n",
    "    return race_results"
   ]
  },
  {
   "cell_type": "markdown",
   "metadata": {},
   "source": [
    "## 辞書型からDataFrame型に変換"
   ]
  },
  {
   "cell_type": "code",
   "execution_count": 57,
   "metadata": {
    "code_folding": []
   },
   "outputs": [],
   "source": [
    "def dict_to_pd(data):\n",
    "    for key in data.keys():\n",
    "        data[key].index = [key]*len(data[key])\n",
    "    df = pd.concat([data[key] for key in data.keys()],sort=False)\n",
    "    return df"
   ]
  },
  {
   "cell_type": "markdown",
   "metadata": {},
   "source": [
    "## スクレイピング後のデータ"
   ]
  },
  {
   "cell_type": "code",
   "execution_count": 32,
   "metadata": {
    "collapsed": true
   },
   "outputs": [
    {
     "data": {
      "text/html": [
       "<div>\n",
       "<style scoped>\n",
       "    .dataframe tbody tr th:only-of-type {\n",
       "        vertical-align: middle;\n",
       "    }\n",
       "\n",
       "    .dataframe tbody tr th {\n",
       "        vertical-align: top;\n",
       "    }\n",
       "\n",
       "    .dataframe thead th {\n",
       "        text-align: right;\n",
       "    }\n",
       "</style>\n",
       "<table border=\"1\" class=\"dataframe\">\n",
       "  <thead>\n",
       "    <tr style=\"text-align: right;\">\n",
       "      <th></th>\n",
       "      <th>着順</th>\n",
       "      <th>枠番</th>\n",
       "      <th>馬番</th>\n",
       "      <th>馬名</th>\n",
       "      <th>性齢</th>\n",
       "      <th>斤量</th>\n",
       "      <th>騎手</th>\n",
       "      <th>タイム</th>\n",
       "      <th>着差</th>\n",
       "      <th>単勝</th>\n",
       "      <th>人気</th>\n",
       "      <th>馬体重</th>\n",
       "      <th>調教師</th>\n",
       "      <th>horse_id</th>\n",
       "      <th>jockey_id</th>\n",
       "    </tr>\n",
       "  </thead>\n",
       "  <tbody>\n",
       "    <tr>\n",
       "      <th>202106030811</th>\n",
       "      <td>1</td>\n",
       "      <td>4</td>\n",
       "      <td>7</td>\n",
       "      <td>エフフォーリア</td>\n",
       "      <td>牡3</td>\n",
       "      <td>57.0</td>\n",
       "      <td>横山武史</td>\n",
       "      <td>2:00.6</td>\n",
       "      <td>NaN</td>\n",
       "      <td>3.7</td>\n",
       "      <td>2.0</td>\n",
       "      <td>504(-10)</td>\n",
       "      <td>[東] 鹿戸雄一</td>\n",
       "      <td>2018105027</td>\n",
       "      <td>01170</td>\n",
       "    </tr>\n",
       "    <tr>\n",
       "      <th>202106030811</th>\n",
       "      <td>2</td>\n",
       "      <td>7</td>\n",
       "      <td>13</td>\n",
       "      <td>タイトルホルダー</td>\n",
       "      <td>牡3</td>\n",
       "      <td>57.0</td>\n",
       "      <td>田辺裕信</td>\n",
       "      <td>2:01.1</td>\n",
       "      <td>3</td>\n",
       "      <td>17</td>\n",
       "      <td>8.0</td>\n",
       "      <td>462(-4)</td>\n",
       "      <td>[東] 栗田徹</td>\n",
       "      <td>2018103559</td>\n",
       "      <td>01075</td>\n",
       "    </tr>\n",
       "    <tr>\n",
       "      <th>202106030811</th>\n",
       "      <td>3</td>\n",
       "      <td>2</td>\n",
       "      <td>3</td>\n",
       "      <td>ステラヴェローチェ</td>\n",
       "      <td>牡3</td>\n",
       "      <td>57.0</td>\n",
       "      <td>吉田隼人</td>\n",
       "      <td>2:01.1</td>\n",
       "      <td>クビ</td>\n",
       "      <td>14.3</td>\n",
       "      <td>6.0</td>\n",
       "      <td>500(0)</td>\n",
       "      <td>[西] 須貝尚介</td>\n",
       "      <td>2018104980</td>\n",
       "      <td>01095</td>\n",
       "    </tr>\n",
       "    <tr>\n",
       "      <th>202106030811</th>\n",
       "      <td>4</td>\n",
       "      <td>1</td>\n",
       "      <td>1</td>\n",
       "      <td>アドマイヤハダル</td>\n",
       "      <td>牡3</td>\n",
       "      <td>57.0</td>\n",
       "      <td>ルメール</td>\n",
       "      <td>2:01.2</td>\n",
       "      <td>クビ</td>\n",
       "      <td>8.8</td>\n",
       "      <td>3.0</td>\n",
       "      <td>482(-2)</td>\n",
       "      <td>[西] 大久保龍</td>\n",
       "      <td>2018105092</td>\n",
       "      <td>05339</td>\n",
       "    </tr>\n",
       "    <tr>\n",
       "      <th>202106030811</th>\n",
       "      <td>5</td>\n",
       "      <td>3</td>\n",
       "      <td>6</td>\n",
       "      <td>ヨーホーレイク</td>\n",
       "      <td>牡3</td>\n",
       "      <td>57.0</td>\n",
       "      <td>岩田望来</td>\n",
       "      <td>2:01.2</td>\n",
       "      <td>クビ</td>\n",
       "      <td>21.5</td>\n",
       "      <td>11.0</td>\n",
       "      <td>504(-2)</td>\n",
       "      <td>[西] 友道康夫</td>\n",
       "      <td>2018105012</td>\n",
       "      <td>01174</td>\n",
       "    </tr>\n",
       "  </tbody>\n",
       "</table>\n",
       "</div>"
      ],
      "text/plain": [
       "             着順  枠番  馬番         馬名  性齢    斤量    騎手     タイム   着差    単勝    人気  \\\n",
       "202106030811  1   4   7    エフフォーリア  牡3  57.0  横山武史  2:00.6  NaN   3.7   2.0   \n",
       "202106030811  2   7  13   タイトルホルダー  牡3  57.0  田辺裕信  2:01.1    3    17   8.0   \n",
       "202106030811  3   2   3  ステラヴェローチェ  牡3  57.0  吉田隼人  2:01.1   クビ  14.3   6.0   \n",
       "202106030811  4   1   1   アドマイヤハダル  牡3  57.0  ルメール  2:01.2   クビ   8.8   3.0   \n",
       "202106030811  5   3   6    ヨーホーレイク  牡3  57.0  岩田望来  2:01.2   クビ  21.5  11.0   \n",
       "\n",
       "                   馬体重       調教師    horse_id jockey_id  \n",
       "202106030811  504(-10)  [東] 鹿戸雄一  2018105027     01170  \n",
       "202106030811   462(-4)   [東] 栗田徹  2018103559     01075  \n",
       "202106030811    500(0)  [西] 須貝尚介  2018104980     01095  \n",
       "202106030811   482(-2)  [西] 大久保龍  2018105092     05339  \n",
       "202106030811   504(-2)  [西] 友道康夫  2018105012     01174  "
      ]
     },
     "execution_count": 32,
     "metadata": {},
     "output_type": "execute_result"
    }
   ],
   "source": [
    "results = pd.read_pickle('results_2020.pickle')\n",
    "results.head()"
   ]
  },
  {
   "cell_type": "markdown",
   "metadata": {},
   "source": [
    "# レース情報取得"
   ]
  },
  {
   "cell_type": "markdown",
   "metadata": {},
   "source": [
    "## 実際に取得できたレースのid"
   ]
  },
  {
   "cell_type": "code",
   "execution_count": 33,
   "metadata": {
    "scrolled": true
   },
   "outputs": [
    {
     "data": {
      "text/plain": [
       "Index(['202106030811', '202001010101', '202001010102', '202001010103',\n",
       "       '202001010104', '202001010105', '202001010106', '202001010107',\n",
       "       '202001010108', '202001010109',\n",
       "       ...\n",
       "       '202010020803', '202010020804', '202010020805', '202010020806',\n",
       "       '202010020807', '202010020808', '202010020809', '202010020810',\n",
       "       '202010020811', '202010020812'],\n",
       "      dtype='object', length=3121)"
      ]
     },
     "execution_count": 33,
     "metadata": {},
     "output_type": "execute_result"
    }
   ],
   "source": [
    "results.index.unique()"
   ]
  },
  {
   "cell_type": "markdown",
   "metadata": {},
   "source": [
    "## スクレイピング"
   ]
  },
  {
   "cell_type": "code",
   "execution_count": 9,
   "metadata": {
    "code_folding": []
   },
   "outputs": [],
   "source": [
    "def scrape_race_info(race_id_list):\n",
    "    race_infos = {}\n",
    "    \n",
    "    for race_id in tqdm(race_id_list):\n",
    "        try:\n",
    "            url = 'https://db.netkeiba.com/race/' +race_id\n",
    "            html = requests.get(url)\n",
    "            html.encoding = 'EUC-JP'\n",
    "            soup = BeautifulSoup(html.text, 'html.parser')\n",
    "\n",
    "            texts = soup.find('div',attrs=['class','data_intro']).find_all('p')[0].text + \\\n",
    "                soup.find('div',attrs=['class','data_intro']).find_all('p')[1].text\n",
    "            info = re.findall(r'\\w+', texts)\n",
    "            #infoに含まれるtextの内容によって項目を判断\n",
    "            info_dict = {}\n",
    "            for text in info:\n",
    "                if text in ['芝','ダート']:\n",
    "                    info_dict['race_type'] = text\n",
    "                if '障' in text:\n",
    "                    info_dict['race_type'] = '障害'\n",
    "                if 'm' in text:\n",
    "                    info_dict['course_len'] = re.findall(r'\\d+',text)[0]\n",
    "                if text in ['良','稍重','重','不良']:\n",
    "                    info_dict['ground_state'] = text\n",
    "                if text in ['曇','晴','雨','小雨','小雪','雪']:\n",
    "                    info_dict['weather'] = text\n",
    "                if '年' in text:\n",
    "                    info_dict['date'] = text\n",
    "            race_infos[race_id] = info_dict\n",
    "            time.sleep(0.1)\n",
    "        except IndexError:\n",
    "            continue\n",
    "        except:\n",
    "            break\n",
    "    return pd.DataFrame(race_infos).T"
   ]
  },
  {
   "cell_type": "markdown",
   "metadata": {},
   "source": [
    "## スクレイピング後のデータ"
   ]
  },
  {
   "cell_type": "code",
   "execution_count": 27,
   "metadata": {
    "scrolled": false
   },
   "outputs": [
    {
     "data": {
      "text/html": [
       "<div>\n",
       "<style scoped>\n",
       "    .dataframe tbody tr th:only-of-type {\n",
       "        vertical-align: middle;\n",
       "    }\n",
       "\n",
       "    .dataframe tbody tr th {\n",
       "        vertical-align: top;\n",
       "    }\n",
       "\n",
       "    .dataframe thead th {\n",
       "        text-align: right;\n",
       "    }\n",
       "</style>\n",
       "<table border=\"1\" class=\"dataframe\">\n",
       "  <thead>\n",
       "    <tr style=\"text-align: right;\">\n",
       "      <th></th>\n",
       "      <th>course_len</th>\n",
       "      <th>date</th>\n",
       "      <th>ground_state</th>\n",
       "      <th>race_type</th>\n",
       "      <th>weather</th>\n",
       "    </tr>\n",
       "  </thead>\n",
       "  <tbody>\n",
       "    <tr>\n",
       "      <th>202106030811</th>\n",
       "      <td>2000</td>\n",
       "      <td>2021年4月18日</td>\n",
       "      <td>稍重</td>\n",
       "      <td>芝</td>\n",
       "      <td>晴</td>\n",
       "    </tr>\n",
       "    <tr>\n",
       "      <th>202001010101</th>\n",
       "      <td>1800</td>\n",
       "      <td>2020年7月25日</td>\n",
       "      <td>良</td>\n",
       "      <td>芝</td>\n",
       "      <td>曇</td>\n",
       "    </tr>\n",
       "    <tr>\n",
       "      <th>202001010102</th>\n",
       "      <td>1700</td>\n",
       "      <td>2020年7月25日</td>\n",
       "      <td>良</td>\n",
       "      <td>ダート</td>\n",
       "      <td>曇</td>\n",
       "    </tr>\n",
       "    <tr>\n",
       "      <th>202001010103</th>\n",
       "      <td>1500</td>\n",
       "      <td>2020年7月25日</td>\n",
       "      <td>良</td>\n",
       "      <td>芝</td>\n",
       "      <td>曇</td>\n",
       "    </tr>\n",
       "    <tr>\n",
       "      <th>202001010104</th>\n",
       "      <td>1700</td>\n",
       "      <td>2020年7月25日</td>\n",
       "      <td>良</td>\n",
       "      <td>ダート</td>\n",
       "      <td>曇</td>\n",
       "    </tr>\n",
       "  </tbody>\n",
       "</table>\n",
       "</div>"
      ],
      "text/plain": [
       "             course_len        date ground_state race_type weather\n",
       "202106030811       2000  2021年4月18日           稍重         芝       晴\n",
       "202001010101       1800  2020年7月25日            良         芝       曇\n",
       "202001010102       1700  2020年7月25日            良       ダート       曇\n",
       "202001010103       1500  2020年7月25日            良         芝       曇\n",
       "202001010104       1700  2020年7月25日            良       ダート       曇"
      ]
     },
     "execution_count": 27,
     "metadata": {},
     "output_type": "execute_result"
    }
   ],
   "source": [
    "race_infos = pd.read_pickle('race_infos.pickle')\n",
    "race_infos.head()"
   ]
  },
  {
   "cell_type": "markdown",
   "metadata": {},
   "source": [
    "## レース結果にマージ"
   ]
  },
  {
   "cell_type": "code",
   "execution_count": 35,
   "metadata": {},
   "outputs": [],
   "source": [
    "results_m = results.merge(race_infos, left_index=True, right_index=True, how='inner')"
   ]
  },
  {
   "cell_type": "markdown",
   "metadata": {},
   "source": [
    "## 前処理"
   ]
  },
  {
   "cell_type": "code",
   "execution_count": 36,
   "metadata": {
    "code_folding": []
   },
   "outputs": [],
   "source": [
    "def preprocessing(race_result):\n",
    "    df = race_result.copy()\n",
    "    #着順から数字以外を含むデータを除く\n",
    "    df = df[-df[\"着順\"].astype(str).str.contains(\"\\D\")] \n",
    "    #性齢を性と齢に分ける\n",
    "    df[\"性\"] = df[\"性齢\"].map(lambda x: str(x)[0])\n",
    "    df[\"齢\"] = df[\"性齢\"].map(lambda x: str(x)[1:]).astype(int)\n",
    "    #馬体重を体重と体重増減に分ける\n",
    "    df[\"体重\"] = df[\"馬体重\"].str.split('(',expand=True)[0].astype(int)\n",
    "    df[\"体重増減\"] = df[\"馬体重\"].str.split('(',expand=True)[1].str[:-1].astype(int)\n",
    "    #型変換と不要列削除\n",
    "    df[\"単勝\"] = df[\"単勝\"].astype(float)\n",
    "    df[\"着順\"] = df[\"着順\"].astype(int)\n",
    "    df[\"人気\"] = df[\"人気\"].astype(int)\n",
    "    df.drop(['性齢','馬体重','タイム','着差','調教師'], axis=1,inplace=True)\n",
    "    df['date'] = pd.to_datetime(df['date'], format='%Y年%m月%d日')\n",
    "    df['course_len'] = df['course_len'].astype(int)\n",
    "    \n",
    "    return df"
   ]
  },
  {
   "cell_type": "code",
   "execution_count": 37,
   "metadata": {},
   "outputs": [],
   "source": [
    "results_p = preprocessing(results_m)"
   ]
  },
  {
   "cell_type": "markdown",
   "metadata": {},
   "source": [
    "## 前処理後のデータ"
   ]
  },
  {
   "cell_type": "code",
   "execution_count": 39,
   "metadata": {
    "scrolled": true
   },
   "outputs": [
    {
     "data": {
      "text/html": [
       "<div>\n",
       "<style scoped>\n",
       "    .dataframe tbody tr th:only-of-type {\n",
       "        vertical-align: middle;\n",
       "    }\n",
       "\n",
       "    .dataframe tbody tr th {\n",
       "        vertical-align: top;\n",
       "    }\n",
       "\n",
       "    .dataframe thead th {\n",
       "        text-align: right;\n",
       "    }\n",
       "</style>\n",
       "<table border=\"1\" class=\"dataframe\">\n",
       "  <thead>\n",
       "    <tr style=\"text-align: right;\">\n",
       "      <th></th>\n",
       "      <th>着順</th>\n",
       "      <th>枠番</th>\n",
       "      <th>馬番</th>\n",
       "      <th>馬名</th>\n",
       "      <th>斤量</th>\n",
       "      <th>騎手</th>\n",
       "      <th>単勝</th>\n",
       "      <th>人気</th>\n",
       "      <th>horse_id</th>\n",
       "      <th>jockey_id</th>\n",
       "      <th>course_len</th>\n",
       "      <th>date</th>\n",
       "      <th>ground_state</th>\n",
       "      <th>race_type</th>\n",
       "      <th>weather</th>\n",
       "      <th>性</th>\n",
       "      <th>齢</th>\n",
       "      <th>体重</th>\n",
       "      <th>体重増減</th>\n",
       "    </tr>\n",
       "  </thead>\n",
       "  <tbody>\n",
       "    <tr>\n",
       "      <th>202001010101</th>\n",
       "      <td>1</td>\n",
       "      <td>6</td>\n",
       "      <td>6</td>\n",
       "      <td>ウインルーア</td>\n",
       "      <td>54.0</td>\n",
       "      <td>横山武史</td>\n",
       "      <td>16.0</td>\n",
       "      <td>3</td>\n",
       "      <td>2018101626</td>\n",
       "      <td>01170</td>\n",
       "      <td>1800</td>\n",
       "      <td>2020-07-25</td>\n",
       "      <td>良</td>\n",
       "      <td>芝</td>\n",
       "      <td>曇</td>\n",
       "      <td>牝</td>\n",
       "      <td>2</td>\n",
       "      <td>438</td>\n",
       "      <td>4</td>\n",
       "    </tr>\n",
       "    <tr>\n",
       "      <th>202001010101</th>\n",
       "      <td>2</td>\n",
       "      <td>2</td>\n",
       "      <td>2</td>\n",
       "      <td>アークライト</td>\n",
       "      <td>54.0</td>\n",
       "      <td>ルメール</td>\n",
       "      <td>1.9</td>\n",
       "      <td>2</td>\n",
       "      <td>2018105193</td>\n",
       "      <td>05339</td>\n",
       "      <td>1800</td>\n",
       "      <td>2020-07-25</td>\n",
       "      <td>良</td>\n",
       "      <td>芝</td>\n",
       "      <td>曇</td>\n",
       "      <td>牡</td>\n",
       "      <td>2</td>\n",
       "      <td>510</td>\n",
       "      <td>0</td>\n",
       "    </tr>\n",
       "    <tr>\n",
       "      <th>202001010101</th>\n",
       "      <td>3</td>\n",
       "      <td>3</td>\n",
       "      <td>3</td>\n",
       "      <td>ギャラントウォリア</td>\n",
       "      <td>54.0</td>\n",
       "      <td>池添謙一</td>\n",
       "      <td>1.8</td>\n",
       "      <td>1</td>\n",
       "      <td>2018104800</td>\n",
       "      <td>01032</td>\n",
       "      <td>1800</td>\n",
       "      <td>2020-07-25</td>\n",
       "      <td>良</td>\n",
       "      <td>芝</td>\n",
       "      <td>曇</td>\n",
       "      <td>牡</td>\n",
       "      <td>2</td>\n",
       "      <td>482</td>\n",
       "      <td>-6</td>\n",
       "    </tr>\n",
       "    <tr>\n",
       "      <th>202001010101</th>\n",
       "      <td>4</td>\n",
       "      <td>1</td>\n",
       "      <td>1</td>\n",
       "      <td>ジュンブーケ</td>\n",
       "      <td>52.0</td>\n",
       "      <td>亀田温心</td>\n",
       "      <td>22.2</td>\n",
       "      <td>4</td>\n",
       "      <td>2018102410</td>\n",
       "      <td>01176</td>\n",
       "      <td>1800</td>\n",
       "      <td>2020-07-25</td>\n",
       "      <td>良</td>\n",
       "      <td>芝</td>\n",
       "      <td>曇</td>\n",
       "      <td>牝</td>\n",
       "      <td>2</td>\n",
       "      <td>442</td>\n",
       "      <td>0</td>\n",
       "    </tr>\n",
       "    <tr>\n",
       "      <th>202001010101</th>\n",
       "      <td>5</td>\n",
       "      <td>4</td>\n",
       "      <td>4</td>\n",
       "      <td>キタノマンゲツ</td>\n",
       "      <td>54.0</td>\n",
       "      <td>藤岡康太</td>\n",
       "      <td>55.7</td>\n",
       "      <td>5</td>\n",
       "      <td>2018100828</td>\n",
       "      <td>01116</td>\n",
       "      <td>1800</td>\n",
       "      <td>2020-07-25</td>\n",
       "      <td>良</td>\n",
       "      <td>芝</td>\n",
       "      <td>曇</td>\n",
       "      <td>牡</td>\n",
       "      <td>2</td>\n",
       "      <td>426</td>\n",
       "      <td>-8</td>\n",
       "    </tr>\n",
       "  </tbody>\n",
       "</table>\n",
       "</div>"
      ],
      "text/plain": [
       "              着順  枠番  馬番         馬名    斤量    騎手    単勝  人気    horse_id  \\\n",
       "202001010101   1   6   6     ウインルーア  54.0  横山武史  16.0   3  2018101626   \n",
       "202001010101   2   2   2     アークライト  54.0  ルメール   1.9   2  2018105193   \n",
       "202001010101   3   3   3  ギャラントウォリア  54.0  池添謙一   1.8   1  2018104800   \n",
       "202001010101   4   1   1     ジュンブーケ  52.0  亀田温心  22.2   4  2018102410   \n",
       "202001010101   5   4   4    キタノマンゲツ  54.0  藤岡康太  55.7   5  2018100828   \n",
       "\n",
       "             jockey_id  course_len       date ground_state race_type weather  \\\n",
       "202001010101     01170        1800 2020-07-25            良         芝       曇   \n",
       "202001010101     05339        1800 2020-07-25            良         芝       曇   \n",
       "202001010101     01032        1800 2020-07-25            良         芝       曇   \n",
       "202001010101     01176        1800 2020-07-25            良         芝       曇   \n",
       "202001010101     01116        1800 2020-07-25            良         芝       曇   \n",
       "\n",
       "              性  齢   体重  体重増減  \n",
       "202001010101  牝  2  438     4  \n",
       "202001010101  牡  2  510     0  \n",
       "202001010101  牡  2  482    -6  \n",
       "202001010101  牝  2  442     0  \n",
       "202001010101  牡  2  426    -8  "
      ]
     },
     "execution_count": 39,
     "metadata": {},
     "output_type": "execute_result"
    }
   ],
   "source": [
    "results_p.head()"
   ]
  },
  {
   "cell_type": "markdown",
   "metadata": {},
   "source": [
    "# 馬ごとの過去成績を取得"
   ]
  },
  {
   "cell_type": "markdown",
   "metadata": {},
   "source": [
    "## 取得する馬のidを指定"
   ]
  },
  {
   "cell_type": "code",
   "execution_count": 43,
   "metadata": {},
   "outputs": [
    {
     "data": {
      "text/plain": [
       "11344"
      ]
     },
     "execution_count": 43,
     "metadata": {},
     "output_type": "execute_result"
    }
   ],
   "source": [
    "horse_id_list = results_p['horse_id'].unique()\n",
    "len(horse_id_list)"
   ]
  },
  {
   "cell_type": "markdown",
   "metadata": {},
   "source": [
    "## スクレイピング"
   ]
  },
  {
   "cell_type": "code",
   "execution_count": 52,
   "metadata": {
    "code_folding": [
     0
    ]
   },
   "outputs": [],
   "source": [
    "def scraping_horse_result(id_list, pre_horse_results={}):\n",
    "    horse_results = pre_horse_results\n",
    "    \n",
    "    for horse_id in tqdm(id_list):\n",
    "        if horse_id in horse_results.keys():\n",
    "            continue\n",
    "        try:\n",
    "            url='https://db.netkeiba.com/horse/' + horse_id\n",
    "            df = pd.read_html(url)[3]\n",
    "            horse_results[horse_id] = df\n",
    "            time.sleep(0.1)\n",
    "        except IndexError:\n",
    "            continue\n",
    "        except:\n",
    "            break\n",
    "    return horse_results"
   ]
  },
  {
   "cell_type": "markdown",
   "metadata": {},
   "source": [
    "## データ更新時"
   ]
  },
  {
   "cell_type": "code",
   "execution_count": 53,
   "metadata": {},
   "outputs": [
    {
     "name": "stderr",
     "output_type": "stream",
     "text": [
      "C:\\Users\\owner\\anaconda3\\lib\\site-packages\\ipykernel_launcher.py:4: TqdmDeprecationWarning: This function will be removed in tqdm==5.0.0\n",
      "Please use `tqdm.notebook.tqdm` instead of `tqdm.tqdm_notebook`\n",
      "  after removing the cwd from sys.path.\n"
     ]
    },
    {
     "data": {
      "application/vnd.jupyter.widget-view+json": {
       "model_id": "9ca16dcb625249b2a8f8f210880da2bc",
       "version_major": 2,
       "version_minor": 0
      },
      "text/plain": [
       "HBox(children=(FloatProgress(value=0.0, max=45.0), HTML(value='')))"
      ]
     },
     "metadata": {},
     "output_type": "display_data"
    },
    {
     "name": "stdout",
     "output_type": "stream",
     "text": [
      "\n"
     ]
    }
   ],
   "source": [
    "horse_results_new = update(scraping_horse_result, horse_id_list, horse_results)"
   ]
  },
  {
   "cell_type": "code",
   "execution_count": 58,
   "metadata": {},
   "outputs": [],
   "source": [
    "horse_results_new = dict_to_pd(horse_results_new)"
   ]
  },
  {
   "cell_type": "code",
   "execution_count": 60,
   "metadata": {},
   "outputs": [],
   "source": [
    "horse_results = pd.concat([horse_results_new, horse_results])"
   ]
  },
  {
   "cell_type": "code",
   "execution_count": 63,
   "metadata": {},
   "outputs": [],
   "source": [
    "horse_results.to_pickle('horse_results.pickle')"
   ]
  },
  {
   "cell_type": "markdown",
   "metadata": {},
   "source": [
    "## スクレイピング後のデータ"
   ]
  },
  {
   "cell_type": "code",
   "execution_count": 69,
   "metadata": {},
   "outputs": [
    {
     "data": {
      "text/plain": [
       "11389"
      ]
     },
     "execution_count": 69,
     "metadata": {},
     "output_type": "execute_result"
    }
   ],
   "source": [
    "horse_results = pd.read_pickle('horse_results.pickle')\n",
    "horse_results.index.nunique()"
   ]
  },
  {
   "cell_type": "code",
   "execution_count": 175,
   "metadata": {},
   "outputs": [
    {
     "data": {
      "text/plain": [
       "Index(['日付', '開催', '天気', 'R', 'レース名', '映像', '頭数', '枠番', '馬番', 'オッズ', '人気',\n",
       "       '着順', '騎手', '斤量', '距離', '馬場', '馬場指数', 'タイム', '着差', 'ﾀｲﾑ指数', '通過', 'ペース',\n",
       "       '上り', '馬体重', '厩舎ｺﾒﾝﾄ', '備考', '勝ち馬(2着馬)', '賞金', '受賞歴'],\n",
       "      dtype='object')"
      ]
     },
     "execution_count": 175,
     "metadata": {},
     "output_type": "execute_result"
    }
   ],
   "source": [
    "horse_results.columns"
   ]
  },
  {
   "cell_type": "markdown",
   "metadata": {},
   "source": [
    "## HorseResultsクラス"
   ]
  },
  {
   "cell_type": "code",
   "execution_count": 178,
   "metadata": {
    "code_folding": [
     10,
     51,
     57
    ]
   },
   "outputs": [],
   "source": [
    "class HorseResults:\n",
    "    def __init__(self, horse_results):\n",
    "        self.horse_results = horse_results[['日付','R','賞金','開催','距離','タイム']]\n",
    "        self.preprocessing()\n",
    "        \n",
    "    @classmethod\n",
    "    def read_pickle(cls, path_list):\n",
    "        df = pd.concat([pd.read_pickle(path) for path in path_list])\n",
    "        return cls(df)\n",
    "        \n",
    "    def preprocessing(self):\n",
    "        df = self.horse_results.copy()\n",
    "        df = df[-df['R'].isnull()]\n",
    "        df['賞金'] = df['賞金'].fillna(0).astype('int')\n",
    "        df['日付'] = pd.to_datetime(df['日付'])\n",
    "        df.rename(columns={'R':'着順'}, inplace=True)\n",
    "        df['着順'] = df['着順'].astype('int')\n",
    "        \n",
    "#         #開催場所\n",
    "#         place_dict = {'札幌':'01', '函館':'02', '福島':'03', '新潟':'04', '東京':'05', \n",
    "#                       '中山':'06', '中京':'07', '京都':'08', '阪神':'09','小倉':'10'}\n",
    "#         df['開催'] = df['開催'].str.extract(r'(\\D+)')[0].map(place_dict).fillna('11')\n",
    "#         #距離\n",
    "#         df['距離'] = df['距離'].str.extract(r'(\\D+)')\n",
    "#         #タイム\n",
    "#         def to_second(x):\n",
    "#             info = re.findall(r'(\\d+)', str(x))\n",
    "#             if len(info)==3:\n",
    "#                 second = int(info[0]) * 60 + int(info[1])\n",
    "#             else:\n",
    "#                 second = 0        \n",
    "#             return second\n",
    "        \n",
    "#         df['タイム'] = df['タイム'].map(lambda x : to_second(x))\n",
    "        \n",
    "        self.horse_results = df\n",
    "    \n",
    "    def average(self, horse_id_list, date, n_samples='all'):\n",
    "#         target_df = self.horse_results.query('index in @horse_id_list')\n",
    "        target_df = self.horse_results[self.horse_results.index.isin(horse_id_list)]\n",
    "        #平均する対象をレース日付以前のうち直近n_samplesのデータのみに限定する（古いデータを反映させないため）\n",
    "        if n_samples=='all':\n",
    "            filtered_df = target_df[target_df['日付'] < date]\n",
    "        elif n_samples > 0:\n",
    "            filtered_df = target_df[target_df['日付'] < date].sort_values('日付', ascending=False).groupby(level=0).head(n_samples)\n",
    "        else:\n",
    "            raise Exception('n_samples must be >0')\n",
    "        \n",
    "        filtered_df = filtered_df.groupby(level=0)[['着順','賞金']].mean()\n",
    "        filtered_df.rename(columns={'着順':'着順_{}R'.format(n_samples),'賞金':'賞金_{}R'.format(n_samples)}, inplace=True)\n",
    "        return filtered_df\n",
    "    \n",
    "    def merge(self, results, date, n_samples):\n",
    "        df = results[results['date'] == date]\n",
    "        horse_id_list = df['horse_id']\n",
    "        merged_df = df.merge(self.average(horse_id_list, date, n_samples), left_on='horse_id', right_index=True, how='left')\n",
    "        return merged_df\n",
    "    \n",
    "    def merge_all(self, results, n_samples='all'):\n",
    "        date_list = results['date'].unique()\n",
    "        #レース結果の同じ日付のかたまりごとに1行ずつhorse_idにひもづくその日付以前の戦績の平均を算出し（average）、\n",
    "        #レース結果のかたまりにマージする(merge)という意味\n",
    "        merged_df = pd.concat([self.merge(results, date, n_samples) for date in tqdm(date_list)]) \n",
    "        return merged_df"
   ]
  },
  {
   "cell_type": "markdown",
   "metadata": {},
   "source": [
    "## レース結果にマージ"
   ]
  },
  {
   "cell_type": "code",
   "execution_count": 72,
   "metadata": {},
   "outputs": [
    {
     "data": {
      "application/vnd.jupyter.widget-view+json": {
       "model_id": "6bde03745e944f7d966012ebca036953",
       "version_major": 2,
       "version_minor": 0
      },
      "text/plain": [
       "HBox(children=(FloatProgress(value=0.0, max=105.0), HTML(value='')))"
      ]
     },
     "metadata": {},
     "output_type": "display_data"
    },
    {
     "name": "stdout",
     "output_type": "stream",
     "text": [
      "\n"
     ]
    }
   ],
   "source": [
    "hr = HorseResults(horse_results)\n",
    "results_5R = hr.merge_all(results_p, n_samples=5)"
   ]
  },
  {
   "cell_type": "markdown",
   "metadata": {},
   "source": [
    "## マージ後のデータ"
   ]
  },
  {
   "cell_type": "code",
   "execution_count": 73,
   "metadata": {},
   "outputs": [
    {
     "data": {
      "text/html": [
       "<div>\n",
       "<style scoped>\n",
       "    .dataframe tbody tr th:only-of-type {\n",
       "        vertical-align: middle;\n",
       "    }\n",
       "\n",
       "    .dataframe tbody tr th {\n",
       "        vertical-align: top;\n",
       "    }\n",
       "\n",
       "    .dataframe thead th {\n",
       "        text-align: right;\n",
       "    }\n",
       "</style>\n",
       "<table border=\"1\" class=\"dataframe\">\n",
       "  <thead>\n",
       "    <tr style=\"text-align: right;\">\n",
       "      <th></th>\n",
       "      <th>着順</th>\n",
       "      <th>枠番</th>\n",
       "      <th>馬番</th>\n",
       "      <th>馬名</th>\n",
       "      <th>斤量</th>\n",
       "      <th>騎手</th>\n",
       "      <th>単勝</th>\n",
       "      <th>人気</th>\n",
       "      <th>horse_id</th>\n",
       "      <th>jockey_id</th>\n",
       "      <th>...</th>\n",
       "      <th>date</th>\n",
       "      <th>ground_state</th>\n",
       "      <th>race_type</th>\n",
       "      <th>weather</th>\n",
       "      <th>性</th>\n",
       "      <th>齢</th>\n",
       "      <th>体重</th>\n",
       "      <th>体重増減</th>\n",
       "      <th>着順_5R</th>\n",
       "      <th>賞金_5R</th>\n",
       "    </tr>\n",
       "  </thead>\n",
       "  <tbody>\n",
       "    <tr>\n",
       "      <th>202001010101</th>\n",
       "      <td>1</td>\n",
       "      <td>6</td>\n",
       "      <td>6</td>\n",
       "      <td>ウインルーア</td>\n",
       "      <td>54.0</td>\n",
       "      <td>横山武史</td>\n",
       "      <td>16.0</td>\n",
       "      <td>3</td>\n",
       "      <td>2018101626</td>\n",
       "      <td>01170</td>\n",
       "      <td>...</td>\n",
       "      <td>2020-07-25</td>\n",
       "      <td>良</td>\n",
       "      <td>芝</td>\n",
       "      <td>曇</td>\n",
       "      <td>牝</td>\n",
       "      <td>2</td>\n",
       "      <td>438</td>\n",
       "      <td>4</td>\n",
       "      <td>6.0</td>\n",
       "      <td>0.0</td>\n",
       "    </tr>\n",
       "    <tr>\n",
       "      <th>202001010101</th>\n",
       "      <td>2</td>\n",
       "      <td>2</td>\n",
       "      <td>2</td>\n",
       "      <td>アークライト</td>\n",
       "      <td>54.0</td>\n",
       "      <td>ルメール</td>\n",
       "      <td>1.9</td>\n",
       "      <td>2</td>\n",
       "      <td>2018105193</td>\n",
       "      <td>05339</td>\n",
       "      <td>...</td>\n",
       "      <td>2020-07-25</td>\n",
       "      <td>良</td>\n",
       "      <td>芝</td>\n",
       "      <td>曇</td>\n",
       "      <td>牡</td>\n",
       "      <td>2</td>\n",
       "      <td>510</td>\n",
       "      <td>0</td>\n",
       "      <td>5.0</td>\n",
       "      <td>280.0</td>\n",
       "    </tr>\n",
       "    <tr>\n",
       "      <th>202001010101</th>\n",
       "      <td>3</td>\n",
       "      <td>3</td>\n",
       "      <td>3</td>\n",
       "      <td>ギャラントウォリア</td>\n",
       "      <td>54.0</td>\n",
       "      <td>池添謙一</td>\n",
       "      <td>1.8</td>\n",
       "      <td>1</td>\n",
       "      <td>2018104800</td>\n",
       "      <td>01032</td>\n",
       "      <td>...</td>\n",
       "      <td>2020-07-25</td>\n",
       "      <td>良</td>\n",
       "      <td>芝</td>\n",
       "      <td>曇</td>\n",
       "      <td>牡</td>\n",
       "      <td>2</td>\n",
       "      <td>482</td>\n",
       "      <td>-6</td>\n",
       "      <td>5.0</td>\n",
       "      <td>280.0</td>\n",
       "    </tr>\n",
       "    <tr>\n",
       "      <th>202001010101</th>\n",
       "      <td>4</td>\n",
       "      <td>1</td>\n",
       "      <td>1</td>\n",
       "      <td>ジュンブーケ</td>\n",
       "      <td>52.0</td>\n",
       "      <td>亀田温心</td>\n",
       "      <td>22.2</td>\n",
       "      <td>4</td>\n",
       "      <td>2018102410</td>\n",
       "      <td>01176</td>\n",
       "      <td>...</td>\n",
       "      <td>2020-07-25</td>\n",
       "      <td>良</td>\n",
       "      <td>芝</td>\n",
       "      <td>曇</td>\n",
       "      <td>牝</td>\n",
       "      <td>2</td>\n",
       "      <td>442</td>\n",
       "      <td>0</td>\n",
       "      <td>5.0</td>\n",
       "      <td>70.0</td>\n",
       "    </tr>\n",
       "    <tr>\n",
       "      <th>202001010101</th>\n",
       "      <td>5</td>\n",
       "      <td>4</td>\n",
       "      <td>4</td>\n",
       "      <td>キタノマンゲツ</td>\n",
       "      <td>54.0</td>\n",
       "      <td>藤岡康太</td>\n",
       "      <td>55.7</td>\n",
       "      <td>5</td>\n",
       "      <td>2018100828</td>\n",
       "      <td>01116</td>\n",
       "      <td>...</td>\n",
       "      <td>2020-07-25</td>\n",
       "      <td>良</td>\n",
       "      <td>芝</td>\n",
       "      <td>曇</td>\n",
       "      <td>牡</td>\n",
       "      <td>2</td>\n",
       "      <td>426</td>\n",
       "      <td>-8</td>\n",
       "      <td>5.0</td>\n",
       "      <td>0.0</td>\n",
       "    </tr>\n",
       "  </tbody>\n",
       "</table>\n",
       "<p>5 rows × 21 columns</p>\n",
       "</div>"
      ],
      "text/plain": [
       "              着順  枠番  馬番         馬名    斤量    騎手    単勝  人気    horse_id  \\\n",
       "202001010101   1   6   6     ウインルーア  54.0  横山武史  16.0   3  2018101626   \n",
       "202001010101   2   2   2     アークライト  54.0  ルメール   1.9   2  2018105193   \n",
       "202001010101   3   3   3  ギャラントウォリア  54.0  池添謙一   1.8   1  2018104800   \n",
       "202001010101   4   1   1     ジュンブーケ  52.0  亀田温心  22.2   4  2018102410   \n",
       "202001010101   5   4   4    キタノマンゲツ  54.0  藤岡康太  55.7   5  2018100828   \n",
       "\n",
       "             jockey_id  ...       date ground_state race_type weather  性  齢  \\\n",
       "202001010101     01170  ... 2020-07-25            良         芝       曇  牝  2   \n",
       "202001010101     05339  ... 2020-07-25            良         芝       曇  牡  2   \n",
       "202001010101     01032  ... 2020-07-25            良         芝       曇  牡  2   \n",
       "202001010101     01176  ... 2020-07-25            良         芝       曇  牝  2   \n",
       "202001010101     01116  ... 2020-07-25            良         芝       曇  牡  2   \n",
       "\n",
       "               体重  体重増減  着順_5R  賞金_5R  \n",
       "202001010101  438     4    6.0    0.0  \n",
       "202001010101  510     0    5.0  280.0  \n",
       "202001010101  482    -6    5.0  280.0  \n",
       "202001010101  442     0    5.0   70.0  \n",
       "202001010101  426    -8    5.0    0.0  \n",
       "\n",
       "[5 rows x 21 columns]"
      ]
     },
     "execution_count": 73,
     "metadata": {},
     "output_type": "execute_result"
    }
   ],
   "source": [
    "results_5R.head()"
   ]
  },
  {
   "cell_type": "markdown",
   "metadata": {},
   "source": [
    "# 払戻しデータを取得"
   ]
  },
  {
   "cell_type": "code",
   "execution_count": 87,
   "metadata": {},
   "outputs": [],
   "source": [
    "from urllib.request import urlopen\n",
    "\n",
    "def scraping_return_tables(id_list):\n",
    "    return_tables = {}\n",
    "    for race_id in tqdm(id_list):\n",
    "        try:\n",
    "            url='https://db.netkeiba.com/race/' + race_id\n",
    "            f = urlopen(url)\n",
    "            html = f.read()#バイト型の文字列\n",
    "            html = html.replace(b'<br />', b'br')\n",
    "            dfs = pd.read_html(html)\n",
    "            return_tables[race_id] = pd.concat([dfs[1], dfs[2]])\n",
    "            time.sleep(0.1)\n",
    "        except IndexError:\n",
    "            continue\n",
    "        except:\n",
    "            break\n",
    "            \n",
    "    for key in return_tables.keys():\n",
    "        return_tables[key].index = [key]*len(return_tables[key])\n",
    "        \n",
    "    return_tables_pd = pd.concat([return_tables[key] for key in return_tables.keys()],sort=False)\n",
    "    return return_tables_pd"
   ]
  },
  {
   "cell_type": "markdown",
   "metadata": {},
   "source": [
    "## スクレイピング後のデータ"
   ]
  },
  {
   "cell_type": "code",
   "execution_count": 146,
   "metadata": {},
   "outputs": [
    {
     "data": {
      "text/plain": [
       "3121"
      ]
     },
     "execution_count": 146,
     "metadata": {},
     "output_type": "execute_result"
    }
   ],
   "source": [
    "return_tables = pd.read_pickle('return_tables.pickle')\n",
    "return_tables.index.nunique()"
   ]
  },
  {
   "cell_type": "markdown",
   "metadata": {},
   "source": [
    "## 更新時"
   ]
  },
  {
   "cell_type": "code",
   "execution_count": 88,
   "metadata": {},
   "outputs": [
    {
     "data": {
      "application/vnd.jupyter.widget-view+json": {
       "model_id": "2bab17765e254891884c245d41200161",
       "version_major": 2,
       "version_minor": 0
      },
      "text/plain": [
       "HBox(children=(FloatProgress(value=0.0, max=1.0), HTML(value='')))"
      ]
     },
     "metadata": {},
     "output_type": "display_data"
    },
    {
     "name": "stdout",
     "output_type": "stream",
     "text": [
      "\n"
     ]
    }
   ],
   "source": [
    "return_tables_new = update(scraping_return_tables, results.index.unique(), return_tables, merge=True)"
   ]
  },
  {
   "cell_type": "code",
   "execution_count": 92,
   "metadata": {},
   "outputs": [],
   "source": [
    "return_tables_new.to_pickle('return_tables.pickle')"
   ]
  },
  {
   "cell_type": "markdown",
   "metadata": {},
   "source": [
    "## Returnクラス"
   ]
  },
  {
   "cell_type": "code",
   "execution_count": 137,
   "metadata": {
    "code_folding": [
     0
    ]
   },
   "outputs": [],
   "source": [
    "class Return:\n",
    "    def __init__(self, return_tables):\n",
    "        self.return_tables = return_tables\n",
    "    \n",
    "    @classmethod\n",
    "    def read_pickle(cls, path_list):\n",
    "        df = pd.concat([pd.read_pickle(path) for path in path_list])\n",
    "        return cls(df)\n",
    "    \n",
    "    @property\n",
    "    def tan(self):\n",
    "        tan = self.return_tables[self.return_tables[0] == '単勝'][[1,2]]\n",
    "        tan.columns = ['win', 'return']\n",
    "        \n",
    "        for column in tan.columns:\n",
    "            tan[column] = pd.to_numeric(tan[column], errors='coerce')\n",
    "        return tan\n",
    "    \n",
    "    @property\n",
    "    def fuku(self):\n",
    "        fuku = self.return_tables[self.return_tables[0] == '複勝'][[1,2]]\n",
    "        #勝ち馬の馬番\n",
    "        wins = fuku[1].str.split('br', expand = True).drop([3,4], axis=1)\n",
    "        wins.columns = ['win_0', 'win_1', 'win_2']\n",
    "        #払い戻し\n",
    "        returns = fuku[2].str.split('br', expand = True).drop([3,4], axis=1)\n",
    "        returns.columns = ['return_0', 'return_1', 'return_2']\n",
    "        \n",
    "        df = pd.concat([wins, returns], axis=1)\n",
    "        for column in df.columns:\n",
    "            df[column] = df[column].str.replace(',','')\n",
    "        return df.fillna(0).astype(int)\n",
    "    \n",
    "    @property\n",
    "    def umaren(self):\n",
    "        umaren = self.return_tables[self.return_tables[0] == '馬連'][[1,2]]\n",
    "        wins = umaren[1].str.split('-', expand = True)[[0,1]].add_prefix('win_')\n",
    "        returns = umaren[2].rename('return')\n",
    "        \n",
    "        df = pd.concat([wins, returns], axis=1)\n",
    "        return df.apply(lambda x: pd.to_numeric(x, errors='coerce')) #brを含むものをNaNにする"
   ]
  },
  {
   "cell_type": "code",
   "execution_count": 86,
   "metadata": {},
   "outputs": [],
   "source": [
    "rt = Return.read_pickle(['return_tables.pickle'])"
   ]
  },
  {
   "cell_type": "markdown",
   "metadata": {},
   "source": [
    "# 血統データ取得"
   ]
  },
  {
   "cell_type": "markdown",
   "metadata": {},
   "source": [
    "## スクレイピング"
   ]
  },
  {
   "cell_type": "code",
   "execution_count": 282,
   "metadata": {
    "code_folding": []
   },
   "outputs": [],
   "source": [
    "def scraping_peds(id_list, pre_peds={}):\n",
    "    peds = pre_peds\n",
    "    \n",
    "    for horse_id in tqdm(id_list):\n",
    "        if horse_id in pre_peds.keys():\n",
    "            continue\n",
    "        try:\n",
    "            url='https://db.netkeiba.com/horse/ped/' + horse_id\n",
    "            df = pd.read_html(url)[0]\n",
    "            generations = {}\n",
    "            for i in reversed(range(5)):\n",
    "                generations[i] = df[i] #若い世代から順に\n",
    "                df.drop([i], axis=1, inplace=True)\n",
    "                df = df.drop_duplicates()\n",
    "                \n",
    "            ped = pd.concat(generations[i] for i in range(5)).rename(horse_id)\n",
    "            peds[horse_id] = ped.reset_index(drop=True)\n",
    "            time.sleep(1)\n",
    "        except IndexError:\n",
    "            continue\n",
    "        except Exception as e:\n",
    "            print(e)\n",
    "            break\n",
    "    return peds"
   ]
  },
  {
   "cell_type": "markdown",
   "metadata": {},
   "source": [
    "## スクレイピング後のデータ"
   ]
  },
  {
   "cell_type": "code",
   "execution_count": 246,
   "metadata": {},
   "outputs": [
    {
     "data": {
      "text/plain": [
       "11389"
      ]
     },
     "execution_count": 246,
     "metadata": {},
     "output_type": "execute_result"
    }
   ],
   "source": [
    "horse_id_list = horse_results.index.unique()\n",
    "peds = scraping_peds(horse_id_list)\n",
    "\n",
    "#データフレーム型に変換\n",
    "peds = pd.concat([peds[horse_id] for horse_id in peds], axis=1).T\n",
    "peds = peds.add_prefix('peds_')"
   ]
  },
  {
   "cell_type": "code",
   "execution_count": 243,
   "metadata": {
    "scrolled": true
   },
   "outputs": [
    {
     "data": {
      "text/html": [
       "<div>\n",
       "<style scoped>\n",
       "    .dataframe tbody tr th:only-of-type {\n",
       "        vertical-align: middle;\n",
       "    }\n",
       "\n",
       "    .dataframe tbody tr th {\n",
       "        vertical-align: top;\n",
       "    }\n",
       "\n",
       "    .dataframe thead th {\n",
       "        text-align: right;\n",
       "    }\n",
       "</style>\n",
       "<table border=\"1\" class=\"dataframe\">\n",
       "  <thead>\n",
       "    <tr style=\"text-align: right;\">\n",
       "      <th></th>\n",
       "      <th>peds_0</th>\n",
       "      <th>peds_1</th>\n",
       "      <th>peds_2</th>\n",
       "      <th>peds_3</th>\n",
       "      <th>peds_4</th>\n",
       "      <th>peds_5</th>\n",
       "      <th>peds_6</th>\n",
       "      <th>peds_7</th>\n",
       "      <th>peds_8</th>\n",
       "      <th>peds_9</th>\n",
       "      <th>...</th>\n",
       "      <th>peds_52</th>\n",
       "      <th>peds_53</th>\n",
       "      <th>peds_54</th>\n",
       "      <th>peds_55</th>\n",
       "      <th>peds_56</th>\n",
       "      <th>peds_57</th>\n",
       "      <th>peds_58</th>\n",
       "      <th>peds_59</th>\n",
       "      <th>peds_60</th>\n",
       "      <th>peds_61</th>\n",
       "    </tr>\n",
       "  </thead>\n",
       "  <tbody>\n",
       "    <tr>\n",
       "      <th>2018101626</th>\n",
       "      <td>ゴールドシップ 2009 芦毛 [血統][産駒] Halo系</td>\n",
       "      <td>コスモエルデスト 2011 鹿毛 [血統][産駒] FNo.[14-f]</td>\n",
       "      <td>ステイゴールド 1994 黒鹿毛 [血統][産駒]</td>\n",
       "      <td>ポイントフラッグ 1998 芦毛 [血統][産駒]</td>\n",
       "      <td>ブラックホーク 1994 鹿毛 [血統][産駒]</td>\n",
       "      <td>ビューティアイ 2005 黒鹿毛 [血統][産駒]</td>\n",
       "      <td>サンデーサイレンス Sunday Silence(米) 1986 青鹿毛 [血統][産駒]</td>\n",
       "      <td>ゴールデンサッシュ 1988 栗毛 [血統][産駒]</td>\n",
       "      <td>メジロマックイーン 1987 芦毛 [血統][産駒]</td>\n",
       "      <td>パストラリズム 1987 黒鹿毛 [血統][産駒]</td>\n",
       "      <td>...</td>\n",
       "      <td>Chieftain</td>\n",
       "      <td>Level Sands</td>\n",
       "      <td>Halo</td>\n",
       "      <td>Wishing Well</td>\n",
       "      <td>Carr de Naskra</td>\n",
       "      <td>Mawgrit</td>\n",
       "      <td>Danzig</td>\n",
       "      <td>Razyana</td>\n",
       "      <td>リアルシャダイ</td>\n",
       "      <td>マックスビューティ</td>\n",
       "    </tr>\n",
       "    <tr>\n",
       "      <th>2018105193</th>\n",
       "      <td>ディープインパクト 2002 鹿毛 [血統][産駒] Halo系</td>\n",
       "      <td>ヒストリックスター 2005 鹿毛 [血統][産駒] FNo.[9-f]</td>\n",
       "      <td>サンデーサイレンス Sunday Silence(米) 1986 青鹿毛 [血統][産駒]</td>\n",
       "      <td>ウインドインハーヘア Wind in Her Hair(愛) 1991 鹿毛 [血統][産駒]</td>\n",
       "      <td>ファルブラヴ Falbrav(愛) 1998 鹿毛 [血統][産駒]</td>\n",
       "      <td>ベガ 1990 鹿毛 [血統][産駒]</td>\n",
       "      <td>Halo 1969 黒鹿毛 [血統][産駒]</td>\n",
       "      <td>Wishing Well 1975 鹿毛 [血統][産駒]</td>\n",
       "      <td>Alzao 1980 鹿毛 [血統][産駒]</td>\n",
       "      <td>Burghclere 1977 鹿毛 [血統][産駒]</td>\n",
       "      <td>...</td>\n",
       "      <td>Lithiot</td>\n",
       "      <td>Nenana Road</td>\n",
       "      <td>Kalamoun</td>\n",
       "      <td>State Pension</td>\n",
       "      <td>Hornbeam</td>\n",
       "      <td>Priddy Fair</td>\n",
       "      <td>Nearctic</td>\n",
       "      <td>Natalma</td>\n",
       "      <td>Tom Fool</td>\n",
       "      <td>Brazen</td>\n",
       "    </tr>\n",
       "    <tr>\n",
       "      <th>2018104800</th>\n",
       "      <td>スクリーンヒーロー 2004 栗毛 [血統][産駒] Roberto系</td>\n",
       "      <td>マルバイユ Marbye(愛) 2000 鹿毛 [血統][産駒] FNo.[9-f]</td>\n",
       "      <td>グラスワンダー 1995 栗毛 [血統][産駒]</td>\n",
       "      <td>ランニングヒロイン 1993 鹿毛 [血統][産駒]</td>\n",
       "      <td>Marju 1988 黒鹿毛 [血統][産駒]</td>\n",
       "      <td>Hambye 1994 鹿毛 [血統][産駒]</td>\n",
       "      <td>Silver Hawk 1979 鹿毛 [血統][産駒]</td>\n",
       "      <td>Ameriflora 1989 鹿毛 [血統][産駒]</td>\n",
       "      <td>サンデーサイレンス Sunday Silence(米) 1986 青鹿毛 [血統][産駒]</td>\n",
       "      <td>ダイナアクトレス 1983 鹿毛 [血統][産駒]</td>\n",
       "      <td>...</td>\n",
       "      <td>Welsh Pageant</td>\n",
       "      <td>Electric Flash</td>\n",
       "      <td>Sir Gaylord</td>\n",
       "      <td>Little Hut</td>\n",
       "      <td>Claude</td>\n",
       "      <td>Ribasha</td>\n",
       "      <td>Thatch</td>\n",
       "      <td>Last Call</td>\n",
       "      <td>Mummy's Pet</td>\n",
       "      <td>Goosie-Gantlet</td>\n",
       "    </tr>\n",
       "    <tr>\n",
       "      <th>2018102410</th>\n",
       "      <td>キズナ 2010 青鹿毛 [血統][産駒] Halo系</td>\n",
       "      <td>ヴィアレッタ 2011 鹿毛 [血統][産駒] FNo.[14-c]</td>\n",
       "      <td>ディープインパクト 2002 鹿毛 [血統][産駒]</td>\n",
       "      <td>キャットクイル Catequil(加) 1990 鹿毛 [血統][産駒]</td>\n",
       "      <td>Pivotal 1993 栗毛 [血統][産駒]</td>\n",
       "      <td>ヴァレッタ Valletta(英) 2006 鹿毛 [血統][産駒]</td>\n",
       "      <td>サンデーサイレンス Sunday Silence(米) 1986 青鹿毛 [血統][産駒]</td>\n",
       "      <td>ウインドインハーヘア Wind in Her Hair(愛) 1991 鹿毛 [血統][産駒]</td>\n",
       "      <td>Storm Cat (米) 1983 黒鹿毛 [血統][産駒]</td>\n",
       "      <td>Pacific Princess 1973 鹿毛 [血統][産駒]</td>\n",
       "      <td>...</td>\n",
       "      <td>Bustino</td>\n",
       "      <td>Zerbinetta</td>\n",
       "      <td>Danzig</td>\n",
       "      <td>Foreign Courier</td>\n",
       "      <td>Ahonoora</td>\n",
       "      <td>Balidaress</td>\n",
       "      <td>Arctic Tern</td>\n",
       "      <td>Beaune</td>\n",
       "      <td>Nureyev</td>\n",
       "      <td>Unite</td>\n",
       "    </tr>\n",
       "    <tr>\n",
       "      <th>2018100828</th>\n",
       "      <td>リオンディーズ 2013 黒鹿毛 [血統][産駒] Mr. Prospector系</td>\n",
       "      <td>スマートエンデバー 2010 栗毛 [血統][産駒] FNo.[12-c]</td>\n",
       "      <td>キングカメハメハ 2001 鹿毛 [血統][産駒]</td>\n",
       "      <td>シーザリオ 2002 青毛 [血統][産駒]</td>\n",
       "      <td>ファルブラヴ Falbrav(愛) 1998 鹿毛 [血統][産駒]</td>\n",
       "      <td>ディスコホール 1989 栗毛 [血統][産駒]</td>\n",
       "      <td>Kingmambo (米) 1990 鹿毛 [血統][産駒]</td>\n",
       "      <td>マンファス Manfath(愛) 1991 黒鹿毛 [血統][産駒]</td>\n",
       "      <td>スペシャルウィーク 1995 黒鹿毛 [血統][産駒]</td>\n",
       "      <td>キロフプリミエール Kirov Premiere(英) 1990 鹿毛 [血統][産駒]</td>\n",
       "      <td>...</td>\n",
       "      <td>Lithiot</td>\n",
       "      <td>Nenana Road</td>\n",
       "      <td>Nearctic</td>\n",
       "      <td>Natalma</td>\n",
       "      <td>Victoria Park</td>\n",
       "      <td>Lady Angela</td>\n",
       "      <td>Herbager</td>\n",
       "      <td>Silver Sari</td>\n",
       "      <td>Crimson Satan</td>\n",
       "      <td>Bright Prospect</td>\n",
       "    </tr>\n",
       "  </tbody>\n",
       "</table>\n",
       "<p>5 rows × 62 columns</p>\n",
       "</div>"
      ],
      "text/plain": [
       "                                               peds_0  \\\n",
       "2018101626             ゴールドシップ 2009 芦毛 [血統][産駒] Halo系   \n",
       "2018105193           ディープインパクト 2002 鹿毛 [血統][産駒] Halo系   \n",
       "2018104800        スクリーンヒーロー 2004 栗毛 [血統][産駒] Roberto系   \n",
       "2018102410                キズナ 2010 青鹿毛 [血統][産駒] Halo系   \n",
       "2018100828  リオンディーズ 2013 黒鹿毛 [血統][産駒] Mr. Prospector系   \n",
       "\n",
       "                                                peds_1  \\\n",
       "2018101626        コスモエルデスト 2011 鹿毛 [血統][産駒] FNo.[14-f]   \n",
       "2018105193        ヒストリックスター 2005 鹿毛 [血統][産駒] FNo.[9-f]   \n",
       "2018104800  マルバイユ Marbye(愛) 2000 鹿毛 [血統][産駒] FNo.[9-f]   \n",
       "2018102410          ヴィアレッタ 2011 鹿毛 [血統][産駒] FNo.[14-c]   \n",
       "2018100828       スマートエンデバー 2010 栗毛 [血統][産駒] FNo.[12-c]   \n",
       "\n",
       "                                                   peds_2  \\\n",
       "2018101626                      ステイゴールド 1994 黒鹿毛 [血統][産駒]   \n",
       "2018105193  サンデーサイレンス Sunday Silence(米) 1986 青鹿毛 [血統][産駒]   \n",
       "2018104800                       グラスワンダー 1995 栗毛 [血統][産駒]   \n",
       "2018102410                     ディープインパクト 2002 鹿毛 [血統][産駒]   \n",
       "2018100828                      キングカメハメハ 2001 鹿毛 [血統][産駒]   \n",
       "\n",
       "                                                     peds_3  \\\n",
       "2018101626                        ポイントフラッグ 1998 芦毛 [血統][産駒]   \n",
       "2018105193  ウインドインハーヘア Wind in Her Hair(愛) 1991 鹿毛 [血統][産駒]   \n",
       "2018104800                       ランニングヒロイン 1993 鹿毛 [血統][産駒]   \n",
       "2018102410             キャットクイル Catequil(加) 1990 鹿毛 [血統][産駒]   \n",
       "2018100828                           シーザリオ 2002 青毛 [血統][産駒]   \n",
       "\n",
       "                                        peds_4  \\\n",
       "2018101626            ブラックホーク 1994 鹿毛 [血統][産駒]   \n",
       "2018105193  ファルブラヴ Falbrav(愛) 1998 鹿毛 [血統][産駒]   \n",
       "2018104800             Marju 1988 黒鹿毛 [血統][産駒]   \n",
       "2018102410            Pivotal 1993 栗毛 [血統][産駒]   \n",
       "2018100828  ファルブラヴ Falbrav(愛) 1998 鹿毛 [血統][産駒]   \n",
       "\n",
       "                                        peds_5  \\\n",
       "2018101626           ビューティアイ 2005 黒鹿毛 [血統][産駒]   \n",
       "2018105193                 ベガ 1990 鹿毛 [血統][産駒]   \n",
       "2018104800             Hambye 1994 鹿毛 [血統][産駒]   \n",
       "2018102410  ヴァレッタ Valletta(英) 2006 鹿毛 [血統][産駒]   \n",
       "2018100828            ディスコホール 1989 栗毛 [血統][産駒]   \n",
       "\n",
       "                                                   peds_6  \\\n",
       "2018101626  サンデーサイレンス Sunday Silence(米) 1986 青鹿毛 [血統][産駒]   \n",
       "2018105193                         Halo 1969 黒鹿毛 [血統][産駒]   \n",
       "2018104800                   Silver Hawk 1979 鹿毛 [血統][産駒]   \n",
       "2018102410  サンデーサイレンス Sunday Silence(米) 1986 青鹿毛 [血統][産駒]   \n",
       "2018100828                 Kingmambo (米) 1990 鹿毛 [血統][産駒]   \n",
       "\n",
       "                                                     peds_7  \\\n",
       "2018101626                       ゴールデンサッシュ 1988 栗毛 [血統][産駒]   \n",
       "2018105193                    Wishing Well 1975 鹿毛 [血統][産駒]   \n",
       "2018104800                      Ameriflora 1989 鹿毛 [血統][産駒]   \n",
       "2018102410  ウインドインハーヘア Wind in Her Hair(愛) 1991 鹿毛 [血統][産駒]   \n",
       "2018100828               マンファス Manfath(愛) 1991 黒鹿毛 [血統][産駒]   \n",
       "\n",
       "                                                   peds_8  \\\n",
       "2018101626                     メジロマックイーン 1987 芦毛 [血統][産駒]   \n",
       "2018105193                         Alzao 1980 鹿毛 [血統][産駒]   \n",
       "2018104800  サンデーサイレンス Sunday Silence(米) 1986 青鹿毛 [血統][産駒]   \n",
       "2018102410                Storm Cat (米) 1983 黒鹿毛 [血統][産駒]   \n",
       "2018100828                    スペシャルウィーク 1995 黒鹿毛 [血統][産駒]   \n",
       "\n",
       "                                                  peds_9  ...        peds_52  \\\n",
       "2018101626                     パストラリズム 1987 黒鹿毛 [血統][産駒]  ...      Chieftain   \n",
       "2018105193                   Burghclere 1977 鹿毛 [血統][産駒]  ...        Lithiot   \n",
       "2018104800                     ダイナアクトレス 1983 鹿毛 [血統][産駒]  ...  Welsh Pageant   \n",
       "2018102410             Pacific Princess 1973 鹿毛 [血統][産駒]  ...        Bustino   \n",
       "2018100828  キロフプリミエール Kirov Premiere(英) 1990 鹿毛 [血統][産駒]  ...        Lithiot   \n",
       "\n",
       "                   peds_53      peds_54          peds_55         peds_56  \\\n",
       "2018101626     Level Sands         Halo     Wishing Well  Carr de Naskra   \n",
       "2018105193     Nenana Road     Kalamoun    State Pension        Hornbeam   \n",
       "2018104800  Electric Flash  Sir Gaylord       Little Hut          Claude   \n",
       "2018102410      Zerbinetta       Danzig  Foreign Courier        Ahonoora   \n",
       "2018100828     Nenana Road     Nearctic          Natalma   Victoria Park   \n",
       "\n",
       "                peds_57      peds_58      peds_59        peds_60  \\\n",
       "2018101626      Mawgrit       Danzig      Razyana        リアルシャダイ   \n",
       "2018105193  Priddy Fair     Nearctic      Natalma       Tom Fool   \n",
       "2018104800      Ribasha       Thatch    Last Call    Mummy's Pet   \n",
       "2018102410   Balidaress  Arctic Tern       Beaune        Nureyev   \n",
       "2018100828  Lady Angela     Herbager  Silver Sari  Crimson Satan   \n",
       "\n",
       "                    peds_61  \n",
       "2018101626        マックスビューティ  \n",
       "2018105193           Brazen  \n",
       "2018104800   Goosie-Gantlet  \n",
       "2018102410            Unite  \n",
       "2018100828  Bright Prospect  \n",
       "\n",
       "[5 rows x 62 columns]"
      ]
     },
     "execution_count": 243,
     "metadata": {},
     "output_type": "execute_result"
    }
   ],
   "source": [
    "peds = Peds.read_pickle(['peds.pickle'])\n",
    "peds = peds.peds\n",
    "peds.head()"
   ]
  },
  {
   "cell_type": "markdown",
   "metadata": {},
   "source": [
    "## Pedsクラス"
   ]
  },
  {
   "cell_type": "code",
   "execution_count": 326,
   "metadata": {},
   "outputs": [],
   "source": [
    "from sklearn.preprocessing import LabelEncoder\n",
    "\n",
    "class Peds:\n",
    "    def __init__(self, peds):\n",
    "        self.peds = peds\n",
    "        self.peds_en = pd.DataFrame()\n",
    "        \n",
    "    @classmethod\n",
    "    def read_pickle(cls, path_list):\n",
    "        df = pd.concat([pd.read_pickle(path) for path in path_list])\n",
    "        return cls(df)\n",
    "    \n",
    "    def encode(self):\n",
    "        df = self.peds.copy()\n",
    "        for column in df.columns:\n",
    "            df[column] = LabelEncoder().fit_transform(df[column].fillna('Na'))\n",
    "        self.peds_en = df.astype('category')"
   ]
  },
  {
   "cell_type": "markdown",
   "metadata": {},
   "source": [
    "## category型に変換"
   ]
  },
  {
   "cell_type": "code",
   "execution_count": 99,
   "metadata": {
    "scrolled": true
   },
   "outputs": [
    {
     "data": {
      "text/html": [
       "<div>\n",
       "<style scoped>\n",
       "    .dataframe tbody tr th:only-of-type {\n",
       "        vertical-align: middle;\n",
       "    }\n",
       "\n",
       "    .dataframe tbody tr th {\n",
       "        vertical-align: top;\n",
       "    }\n",
       "\n",
       "    .dataframe thead th {\n",
       "        text-align: right;\n",
       "    }\n",
       "</style>\n",
       "<table border=\"1\" class=\"dataframe\">\n",
       "  <thead>\n",
       "    <tr style=\"text-align: right;\">\n",
       "      <th></th>\n",
       "      <th>peds_0</th>\n",
       "      <th>peds_1</th>\n",
       "      <th>peds_2</th>\n",
       "      <th>peds_3</th>\n",
       "      <th>peds_4</th>\n",
       "      <th>peds_5</th>\n",
       "      <th>peds_6</th>\n",
       "      <th>peds_7</th>\n",
       "      <th>peds_8</th>\n",
       "      <th>peds_9</th>\n",
       "      <th>...</th>\n",
       "      <th>peds_52</th>\n",
       "      <th>peds_53</th>\n",
       "      <th>peds_54</th>\n",
       "      <th>peds_55</th>\n",
       "      <th>peds_56</th>\n",
       "      <th>peds_57</th>\n",
       "      <th>peds_58</th>\n",
       "      <th>peds_59</th>\n",
       "      <th>peds_60</th>\n",
       "      <th>peds_61</th>\n",
       "    </tr>\n",
       "  </thead>\n",
       "  <tbody>\n",
       "    <tr>\n",
       "      <th>2018101626</th>\n",
       "      <td>253</td>\n",
       "      <td>2123</td>\n",
       "      <td>165</td>\n",
       "      <td>370</td>\n",
       "      <td>762</td>\n",
       "      <td>4026</td>\n",
       "      <td>96</td>\n",
       "      <td>168</td>\n",
       "      <td>230</td>\n",
       "      <td>372</td>\n",
       "      <td>...</td>\n",
       "      <td>56</td>\n",
       "      <td>333</td>\n",
       "      <td>63</td>\n",
       "      <td>370</td>\n",
       "      <td>72</td>\n",
       "      <td>485</td>\n",
       "      <td>87</td>\n",
       "      <td>821</td>\n",
       "      <td>1312</td>\n",
       "      <td>3114</td>\n",
       "    </tr>\n",
       "    <tr>\n",
       "      <th>2018105193</th>\n",
       "      <td>338</td>\n",
       "      <td>4804</td>\n",
       "      <td>154</td>\n",
       "      <td>237</td>\n",
       "      <td>749</td>\n",
       "      <td>4445</td>\n",
       "      <td>35</td>\n",
       "      <td>152</td>\n",
       "      <td>6</td>\n",
       "      <td>33</td>\n",
       "      <td>...</td>\n",
       "      <td>182</td>\n",
       "      <td>415</td>\n",
       "      <td>78</td>\n",
       "      <td>330</td>\n",
       "      <td>178</td>\n",
       "      <td>617</td>\n",
       "      <td>246</td>\n",
       "      <td>668</td>\n",
       "      <td>926</td>\n",
       "      <td>305</td>\n",
       "    </tr>\n",
       "    <tr>\n",
       "      <th>2018104800</th>\n",
       "      <td>289</td>\n",
       "      <td>5971</td>\n",
       "      <td>145</td>\n",
       "      <td>396</td>\n",
       "      <td>279</td>\n",
       "      <td>489</td>\n",
       "      <td>75</td>\n",
       "      <td>3</td>\n",
       "      <td>198</td>\n",
       "      <td>356</td>\n",
       "      <td>...</td>\n",
       "      <td>374</td>\n",
       "      <td>162</td>\n",
       "      <td>155</td>\n",
       "      <td>190</td>\n",
       "      <td>88</td>\n",
       "      <td>672</td>\n",
       "      <td>389</td>\n",
       "      <td>538</td>\n",
       "      <td>561</td>\n",
       "      <td>923</td>\n",
       "    </tr>\n",
       "    <tr>\n",
       "      <th>2018102410</th>\n",
       "      <td>224</td>\n",
       "      <td>7325</td>\n",
       "      <td>175</td>\n",
       "      <td>256</td>\n",
       "      <td>346</td>\n",
       "      <td>5456</td>\n",
       "      <td>96</td>\n",
       "      <td>162</td>\n",
       "      <td>156</td>\n",
       "      <td>191</td>\n",
       "      <td>...</td>\n",
       "      <td>51</td>\n",
       "      <td>645</td>\n",
       "      <td>35</td>\n",
       "      <td>106</td>\n",
       "      <td>9</td>\n",
       "      <td>50</td>\n",
       "      <td>19</td>\n",
       "      <td>89</td>\n",
       "      <td>606</td>\n",
       "      <td>2418</td>\n",
       "    </tr>\n",
       "    <tr>\n",
       "      <th>2018100828</th>\n",
       "      <td>446</td>\n",
       "      <td>3244</td>\n",
       "      <td>141</td>\n",
       "      <td>291</td>\n",
       "      <td>749</td>\n",
       "      <td>3521</td>\n",
       "      <td>46</td>\n",
       "      <td>189</td>\n",
       "      <td>203</td>\n",
       "      <td>319</td>\n",
       "      <td>...</td>\n",
       "      <td>182</td>\n",
       "      <td>415</td>\n",
       "      <td>109</td>\n",
       "      <td>230</td>\n",
       "      <td>451</td>\n",
       "      <td>417</td>\n",
       "      <td>153</td>\n",
       "      <td>930</td>\n",
       "      <td>204</td>\n",
       "      <td>315</td>\n",
       "    </tr>\n",
       "  </tbody>\n",
       "</table>\n",
       "<p>5 rows × 62 columns</p>\n",
       "</div>"
      ],
      "text/plain": [
       "           peds_0 peds_1 peds_2 peds_3 peds_4 peds_5 peds_6 peds_7 peds_8  \\\n",
       "2018101626    253   2123    165    370    762   4026     96    168    230   \n",
       "2018105193    338   4804    154    237    749   4445     35    152      6   \n",
       "2018104800    289   5971    145    396    279    489     75      3    198   \n",
       "2018102410    224   7325    175    256    346   5456     96    162    156   \n",
       "2018100828    446   3244    141    291    749   3521     46    189    203   \n",
       "\n",
       "           peds_9  ... peds_52 peds_53 peds_54 peds_55 peds_56 peds_57  \\\n",
       "2018101626    372  ...      56     333      63     370      72     485   \n",
       "2018105193     33  ...     182     415      78     330     178     617   \n",
       "2018104800    356  ...     374     162     155     190      88     672   \n",
       "2018102410    191  ...      51     645      35     106       9      50   \n",
       "2018100828    319  ...     182     415     109     230     451     417   \n",
       "\n",
       "           peds_58 peds_59 peds_60 peds_61  \n",
       "2018101626      87     821    1312    3114  \n",
       "2018105193     246     668     926     305  \n",
       "2018104800     389     538     561     923  \n",
       "2018102410      19      89     606    2418  \n",
       "2018100828     153     930     204     315  \n",
       "\n",
       "[5 rows x 62 columns]"
      ]
     },
     "execution_count": 99,
     "metadata": {},
     "output_type": "execute_result"
    }
   ],
   "source": [
    "ped.encode()\n",
    "peds = ped.peds_en\n",
    "peds.head()"
   ]
  },
  {
   "cell_type": "markdown",
   "metadata": {},
   "source": [
    "## レース結果にマージ"
   ]
  },
  {
   "cell_type": "code",
   "execution_count": 100,
   "metadata": {
    "scrolled": true
   },
   "outputs": [
    {
     "data": {
      "text/html": [
       "<div>\n",
       "<style scoped>\n",
       "    .dataframe tbody tr th:only-of-type {\n",
       "        vertical-align: middle;\n",
       "    }\n",
       "\n",
       "    .dataframe tbody tr th {\n",
       "        vertical-align: top;\n",
       "    }\n",
       "\n",
       "    .dataframe thead th {\n",
       "        text-align: right;\n",
       "    }\n",
       "</style>\n",
       "<table border=\"1\" class=\"dataframe\">\n",
       "  <thead>\n",
       "    <tr style=\"text-align: right;\">\n",
       "      <th></th>\n",
       "      <th>着順</th>\n",
       "      <th>枠番</th>\n",
       "      <th>馬番</th>\n",
       "      <th>馬名</th>\n",
       "      <th>斤量</th>\n",
       "      <th>騎手</th>\n",
       "      <th>単勝</th>\n",
       "      <th>人気</th>\n",
       "      <th>horse_id</th>\n",
       "      <th>jockey_id</th>\n",
       "      <th>...</th>\n",
       "      <th>peds_52</th>\n",
       "      <th>peds_53</th>\n",
       "      <th>peds_54</th>\n",
       "      <th>peds_55</th>\n",
       "      <th>peds_56</th>\n",
       "      <th>peds_57</th>\n",
       "      <th>peds_58</th>\n",
       "      <th>peds_59</th>\n",
       "      <th>peds_60</th>\n",
       "      <th>peds_61</th>\n",
       "    </tr>\n",
       "  </thead>\n",
       "  <tbody>\n",
       "    <tr>\n",
       "      <th>202001010101</th>\n",
       "      <td>1</td>\n",
       "      <td>6</td>\n",
       "      <td>6</td>\n",
       "      <td>ウインルーア</td>\n",
       "      <td>54.0</td>\n",
       "      <td>横山武史</td>\n",
       "      <td>16.0</td>\n",
       "      <td>3</td>\n",
       "      <td>2018101626</td>\n",
       "      <td>01170</td>\n",
       "      <td>...</td>\n",
       "      <td>56</td>\n",
       "      <td>333</td>\n",
       "      <td>63</td>\n",
       "      <td>370</td>\n",
       "      <td>72</td>\n",
       "      <td>485</td>\n",
       "      <td>87</td>\n",
       "      <td>821</td>\n",
       "      <td>1312</td>\n",
       "      <td>3114</td>\n",
       "    </tr>\n",
       "    <tr>\n",
       "      <th>202001010101</th>\n",
       "      <td>2</td>\n",
       "      <td>2</td>\n",
       "      <td>2</td>\n",
       "      <td>アークライト</td>\n",
       "      <td>54.0</td>\n",
       "      <td>ルメール</td>\n",
       "      <td>1.9</td>\n",
       "      <td>2</td>\n",
       "      <td>2018105193</td>\n",
       "      <td>05339</td>\n",
       "      <td>...</td>\n",
       "      <td>182</td>\n",
       "      <td>415</td>\n",
       "      <td>78</td>\n",
       "      <td>330</td>\n",
       "      <td>178</td>\n",
       "      <td>617</td>\n",
       "      <td>246</td>\n",
       "      <td>668</td>\n",
       "      <td>926</td>\n",
       "      <td>305</td>\n",
       "    </tr>\n",
       "    <tr>\n",
       "      <th>202001010101</th>\n",
       "      <td>3</td>\n",
       "      <td>3</td>\n",
       "      <td>3</td>\n",
       "      <td>ギャラントウォリア</td>\n",
       "      <td>54.0</td>\n",
       "      <td>池添謙一</td>\n",
       "      <td>1.8</td>\n",
       "      <td>1</td>\n",
       "      <td>2018104800</td>\n",
       "      <td>01032</td>\n",
       "      <td>...</td>\n",
       "      <td>374</td>\n",
       "      <td>162</td>\n",
       "      <td>155</td>\n",
       "      <td>190</td>\n",
       "      <td>88</td>\n",
       "      <td>672</td>\n",
       "      <td>389</td>\n",
       "      <td>538</td>\n",
       "      <td>561</td>\n",
       "      <td>923</td>\n",
       "    </tr>\n",
       "    <tr>\n",
       "      <th>202001010101</th>\n",
       "      <td>4</td>\n",
       "      <td>1</td>\n",
       "      <td>1</td>\n",
       "      <td>ジュンブーケ</td>\n",
       "      <td>52.0</td>\n",
       "      <td>亀田温心</td>\n",
       "      <td>22.2</td>\n",
       "      <td>4</td>\n",
       "      <td>2018102410</td>\n",
       "      <td>01176</td>\n",
       "      <td>...</td>\n",
       "      <td>51</td>\n",
       "      <td>645</td>\n",
       "      <td>35</td>\n",
       "      <td>106</td>\n",
       "      <td>9</td>\n",
       "      <td>50</td>\n",
       "      <td>19</td>\n",
       "      <td>89</td>\n",
       "      <td>606</td>\n",
       "      <td>2418</td>\n",
       "    </tr>\n",
       "    <tr>\n",
       "      <th>202001010101</th>\n",
       "      <td>5</td>\n",
       "      <td>4</td>\n",
       "      <td>4</td>\n",
       "      <td>キタノマンゲツ</td>\n",
       "      <td>54.0</td>\n",
       "      <td>藤岡康太</td>\n",
       "      <td>55.7</td>\n",
       "      <td>5</td>\n",
       "      <td>2018100828</td>\n",
       "      <td>01116</td>\n",
       "      <td>...</td>\n",
       "      <td>182</td>\n",
       "      <td>415</td>\n",
       "      <td>109</td>\n",
       "      <td>230</td>\n",
       "      <td>451</td>\n",
       "      <td>417</td>\n",
       "      <td>153</td>\n",
       "      <td>930</td>\n",
       "      <td>204</td>\n",
       "      <td>315</td>\n",
       "    </tr>\n",
       "  </tbody>\n",
       "</table>\n",
       "<p>5 rows × 83 columns</p>\n",
       "</div>"
      ],
      "text/plain": [
       "              着順  枠番  馬番         馬名    斤量    騎手    単勝  人気    horse_id  \\\n",
       "202001010101   1   6   6     ウインルーア  54.0  横山武史  16.0   3  2018101626   \n",
       "202001010101   2   2   2     アークライト  54.0  ルメール   1.9   2  2018105193   \n",
       "202001010101   3   3   3  ギャラントウォリア  54.0  池添謙一   1.8   1  2018104800   \n",
       "202001010101   4   1   1     ジュンブーケ  52.0  亀田温心  22.2   4  2018102410   \n",
       "202001010101   5   4   4    キタノマンゲツ  54.0  藤岡康太  55.7   5  2018100828   \n",
       "\n",
       "             jockey_id  ...  peds_52 peds_53 peds_54 peds_55 peds_56 peds_57  \\\n",
       "202001010101     01170  ...       56     333      63     370      72     485   \n",
       "202001010101     05339  ...      182     415      78     330     178     617   \n",
       "202001010101     01032  ...      374     162     155     190      88     672   \n",
       "202001010101     01176  ...       51     645      35     106       9      50   \n",
       "202001010101     01116  ...      182     415     109     230     451     417   \n",
       "\n",
       "              peds_58  peds_59  peds_60  peds_61  \n",
       "202001010101       87      821     1312     3114  \n",
       "202001010101      246      668      926      305  \n",
       "202001010101      389      538      561      923  \n",
       "202001010101       19       89      606     2418  \n",
       "202001010101      153      930      204      315  \n",
       "\n",
       "[5 rows x 83 columns]"
      ]
     },
     "execution_count": 100,
     "metadata": {},
     "output_type": "execute_result"
    }
   ],
   "source": [
    "results_ped = results_5R.merge(peds, left_on='horse_id', right_index=True, how='left')\n",
    "results_ped.head()"
   ]
  },
  {
   "cell_type": "code",
   "execution_count": 103,
   "metadata": {},
   "outputs": [],
   "source": [
    "results_ped.to_pickle('results_ped.pickle')"
   ]
  },
  {
   "cell_type": "markdown",
   "metadata": {},
   "source": [
    "# 前処理"
   ]
  },
  {
   "cell_type": "markdown",
   "metadata": {},
   "source": [
    "## 3着以内に入るかどうかを判定するrank列を追加し、不要な列を削除"
   ]
  },
  {
   "cell_type": "code",
   "execution_count": 105,
   "metadata": {},
   "outputs": [],
   "source": [
    "results_ped[\"rank\"] = results_ped[\"着順\"].map(lambda x:1 if x <4 else 0)\n",
    "results_ped.drop([\"馬名\",\"着順\",\"騎手\",\"単勝\",\"人気\"],axis=1, inplace=True)"
   ]
  },
  {
   "cell_type": "code",
   "execution_count": 107,
   "metadata": {},
   "outputs": [
    {
     "name": "stdout",
     "output_type": "stream",
     "text": [
      "<class 'pandas.core.frame.DataFrame'>\n",
      "Index: 43255 entries, 202001010101 to 202106030811\n",
      "Data columns (total 79 columns):\n",
      " #   Column        Non-Null Count  Dtype         \n",
      "---  ------        --------------  -----         \n",
      " 0   枠番            43255 non-null  int64         \n",
      " 1   馬番            43255 non-null  int64         \n",
      " 2   斤量            43255 non-null  float64       \n",
      " 3   horse_id      43255 non-null  object        \n",
      " 4   jockey_id     43255 non-null  object        \n",
      " 5   course_len    43255 non-null  int32         \n",
      " 6   date          43255 non-null  datetime64[ns]\n",
      " 7   ground_state  43255 non-null  object        \n",
      " 8   race_type     43255 non-null  object        \n",
      " 9   weather       43255 non-null  object        \n",
      " 10  性             43255 non-null  object        \n",
      " 11  齢             43255 non-null  int32         \n",
      " 12  体重            43255 non-null  int32         \n",
      " 13  体重増減          43255 non-null  int32         \n",
      " 14  着順_5R         38795 non-null  float64       \n",
      " 15  賞金_5R         38795 non-null  float64       \n",
      " 16  peds_0        43255 non-null  category      \n",
      " 17  peds_1        43255 non-null  category      \n",
      " 18  peds_2        43255 non-null  category      \n",
      " 19  peds_3        43255 non-null  category      \n",
      " 20  peds_4        43255 non-null  category      \n",
      " 21  peds_5        43255 non-null  category      \n",
      " 22  peds_6        43255 non-null  category      \n",
      " 23  peds_7        43255 non-null  category      \n",
      " 24  peds_8        43255 non-null  category      \n",
      " 25  peds_9        43255 non-null  category      \n",
      " 26  peds_10       43255 non-null  category      \n",
      " 27  peds_11       43255 non-null  category      \n",
      " 28  peds_12       43255 non-null  category      \n",
      " 29  peds_13       43255 non-null  category      \n",
      " 30  peds_14       43255 non-null  category      \n",
      " 31  peds_15       43255 non-null  category      \n",
      " 32  peds_16       43255 non-null  category      \n",
      " 33  peds_17       43255 non-null  category      \n",
      " 34  peds_18       43255 non-null  category      \n",
      " 35  peds_19       43255 non-null  category      \n",
      " 36  peds_20       43255 non-null  category      \n",
      " 37  peds_21       43255 non-null  category      \n",
      " 38  peds_22       43255 non-null  category      \n",
      " 39  peds_23       43255 non-null  category      \n",
      " 40  peds_24       43255 non-null  category      \n",
      " 41  peds_25       43255 non-null  category      \n",
      " 42  peds_26       43255 non-null  category      \n",
      " 43  peds_27       43255 non-null  category      \n",
      " 44  peds_28       43255 non-null  category      \n",
      " 45  peds_29       43255 non-null  category      \n",
      " 46  peds_30       43255 non-null  category      \n",
      " 47  peds_31       43255 non-null  category      \n",
      " 48  peds_32       43255 non-null  category      \n",
      " 49  peds_33       43255 non-null  category      \n",
      " 50  peds_34       43255 non-null  category      \n",
      " 51  peds_35       43255 non-null  category      \n",
      " 52  peds_36       43255 non-null  category      \n",
      " 53  peds_37       43255 non-null  category      \n",
      " 54  peds_38       43255 non-null  category      \n",
      " 55  peds_39       43255 non-null  category      \n",
      " 56  peds_40       43255 non-null  category      \n",
      " 57  peds_41       43255 non-null  category      \n",
      " 58  peds_42       43255 non-null  category      \n",
      " 59  peds_43       43255 non-null  category      \n",
      " 60  peds_44       43255 non-null  category      \n",
      " 61  peds_45       43255 non-null  category      \n",
      " 62  peds_46       43255 non-null  category      \n",
      " 63  peds_47       43255 non-null  category      \n",
      " 64  peds_48       43255 non-null  category      \n",
      " 65  peds_49       43255 non-null  category      \n",
      " 66  peds_50       43255 non-null  category      \n",
      " 67  peds_51       43255 non-null  category      \n",
      " 68  peds_52       43255 non-null  category      \n",
      " 69  peds_53       43255 non-null  category      \n",
      " 70  peds_54       43255 non-null  category      \n",
      " 71  peds_55       43255 non-null  category      \n",
      " 72  peds_56       43255 non-null  category      \n",
      " 73  peds_57       43255 non-null  category      \n",
      " 74  peds_58       43255 non-null  category      \n",
      " 75  peds_59       43255 non-null  category      \n",
      " 76  peds_60       43255 non-null  category      \n",
      " 77  peds_61       43255 non-null  category      \n",
      " 78  rank          43255 non-null  int64         \n",
      "dtypes: category(62), datetime64[ns](1), float64(3), int32(4), int64(3), object(6)\n",
      "memory usage: 12.0+ MB\n"
     ]
    }
   ],
   "source": [
    "results_ped.info()"
   ]
  },
  {
   "cell_type": "markdown",
   "metadata": {},
   "source": [
    "## データをカテゴリ変数化、ダミー変数化"
   ]
  },
  {
   "cell_type": "code",
   "execution_count": 343,
   "metadata": {},
   "outputs": [],
   "source": [
    "df = results_ped.copy()\n",
    "\n",
    "target_columns = ['horse_id', 'jockey_id']\n",
    "\n",
    "for column in target_columns:\n",
    "    df[column] = LabelEncoder().fit_transform(df[column].fillna('Na'))\n",
    "    df[column] = df[column].astype('category')\n",
    "\n",
    "#category型の列はダミー変数化しない\n",
    "df_d = pd.get_dummies(df.select_dtypes(exclude='category'))\n",
    "results_d = pd.concat([df_d, df.select_dtypes(include='category')], axis=1)"
   ]
  },
  {
   "cell_type": "markdown",
   "metadata": {},
   "source": [
    "## 変換後のデータ"
   ]
  },
  {
   "cell_type": "code",
   "execution_count": 344,
   "metadata": {
    "scrolled": true
   },
   "outputs": [
    {
     "data": {
      "text/html": [
       "<div>\n",
       "<style scoped>\n",
       "    .dataframe tbody tr th:only-of-type {\n",
       "        vertical-align: middle;\n",
       "    }\n",
       "\n",
       "    .dataframe tbody tr th {\n",
       "        vertical-align: top;\n",
       "    }\n",
       "\n",
       "    .dataframe thead th {\n",
       "        text-align: right;\n",
       "    }\n",
       "</style>\n",
       "<table border=\"1\" class=\"dataframe\">\n",
       "  <thead>\n",
       "    <tr style=\"text-align: right;\">\n",
       "      <th></th>\n",
       "      <th>枠番</th>\n",
       "      <th>馬番</th>\n",
       "      <th>斤量</th>\n",
       "      <th>course_len</th>\n",
       "      <th>date</th>\n",
       "      <th>齢</th>\n",
       "      <th>体重</th>\n",
       "      <th>体重増減</th>\n",
       "      <th>着順_5R</th>\n",
       "      <th>賞金_5R</th>\n",
       "      <th>...</th>\n",
       "      <th>peds_52</th>\n",
       "      <th>peds_53</th>\n",
       "      <th>peds_54</th>\n",
       "      <th>peds_55</th>\n",
       "      <th>peds_56</th>\n",
       "      <th>peds_57</th>\n",
       "      <th>peds_58</th>\n",
       "      <th>peds_59</th>\n",
       "      <th>peds_60</th>\n",
       "      <th>peds_61</th>\n",
       "    </tr>\n",
       "  </thead>\n",
       "  <tbody>\n",
       "    <tr>\n",
       "      <th>202001010101</th>\n",
       "      <td>6</td>\n",
       "      <td>6</td>\n",
       "      <td>54.0</td>\n",
       "      <td>1800</td>\n",
       "      <td>2020-07-25</td>\n",
       "      <td>2</td>\n",
       "      <td>438</td>\n",
       "      <td>4</td>\n",
       "      <td>6.0</td>\n",
       "      <td>0.0</td>\n",
       "      <td>...</td>\n",
       "      <td>56</td>\n",
       "      <td>333</td>\n",
       "      <td>63</td>\n",
       "      <td>370</td>\n",
       "      <td>72</td>\n",
       "      <td>485</td>\n",
       "      <td>87</td>\n",
       "      <td>821</td>\n",
       "      <td>1312</td>\n",
       "      <td>3114</td>\n",
       "    </tr>\n",
       "    <tr>\n",
       "      <th>202001010101</th>\n",
       "      <td>2</td>\n",
       "      <td>2</td>\n",
       "      <td>54.0</td>\n",
       "      <td>1800</td>\n",
       "      <td>2020-07-25</td>\n",
       "      <td>2</td>\n",
       "      <td>510</td>\n",
       "      <td>0</td>\n",
       "      <td>5.0</td>\n",
       "      <td>280.0</td>\n",
       "      <td>...</td>\n",
       "      <td>182</td>\n",
       "      <td>415</td>\n",
       "      <td>78</td>\n",
       "      <td>330</td>\n",
       "      <td>178</td>\n",
       "      <td>617</td>\n",
       "      <td>246</td>\n",
       "      <td>668</td>\n",
       "      <td>926</td>\n",
       "      <td>305</td>\n",
       "    </tr>\n",
       "    <tr>\n",
       "      <th>202001010101</th>\n",
       "      <td>3</td>\n",
       "      <td>3</td>\n",
       "      <td>54.0</td>\n",
       "      <td>1800</td>\n",
       "      <td>2020-07-25</td>\n",
       "      <td>2</td>\n",
       "      <td>482</td>\n",
       "      <td>-6</td>\n",
       "      <td>5.0</td>\n",
       "      <td>280.0</td>\n",
       "      <td>...</td>\n",
       "      <td>374</td>\n",
       "      <td>162</td>\n",
       "      <td>155</td>\n",
       "      <td>190</td>\n",
       "      <td>88</td>\n",
       "      <td>672</td>\n",
       "      <td>389</td>\n",
       "      <td>538</td>\n",
       "      <td>561</td>\n",
       "      <td>923</td>\n",
       "    </tr>\n",
       "    <tr>\n",
       "      <th>202001010101</th>\n",
       "      <td>1</td>\n",
       "      <td>1</td>\n",
       "      <td>52.0</td>\n",
       "      <td>1800</td>\n",
       "      <td>2020-07-25</td>\n",
       "      <td>2</td>\n",
       "      <td>442</td>\n",
       "      <td>0</td>\n",
       "      <td>5.0</td>\n",
       "      <td>70.0</td>\n",
       "      <td>...</td>\n",
       "      <td>51</td>\n",
       "      <td>645</td>\n",
       "      <td>35</td>\n",
       "      <td>106</td>\n",
       "      <td>9</td>\n",
       "      <td>50</td>\n",
       "      <td>19</td>\n",
       "      <td>89</td>\n",
       "      <td>606</td>\n",
       "      <td>2418</td>\n",
       "    </tr>\n",
       "    <tr>\n",
       "      <th>202001010101</th>\n",
       "      <td>4</td>\n",
       "      <td>4</td>\n",
       "      <td>54.0</td>\n",
       "      <td>1800</td>\n",
       "      <td>2020-07-25</td>\n",
       "      <td>2</td>\n",
       "      <td>426</td>\n",
       "      <td>-8</td>\n",
       "      <td>5.0</td>\n",
       "      <td>0.0</td>\n",
       "      <td>...</td>\n",
       "      <td>182</td>\n",
       "      <td>415</td>\n",
       "      <td>109</td>\n",
       "      <td>230</td>\n",
       "      <td>451</td>\n",
       "      <td>417</td>\n",
       "      <td>153</td>\n",
       "      <td>930</td>\n",
       "      <td>204</td>\n",
       "      <td>315</td>\n",
       "    </tr>\n",
       "  </tbody>\n",
       "</table>\n",
       "<p>5 rows × 91 columns</p>\n",
       "</div>"
      ],
      "text/plain": [
       "              枠番  馬番    斤量  course_len       date  齢   体重  体重増減  着順_5R  賞金_5R  \\\n",
       "202001010101   6   6  54.0        1800 2020-07-25  2  438     4    6.0    0.0   \n",
       "202001010101   2   2  54.0        1800 2020-07-25  2  510     0    5.0  280.0   \n",
       "202001010101   3   3  54.0        1800 2020-07-25  2  482    -6    5.0  280.0   \n",
       "202001010101   1   1  52.0        1800 2020-07-25  2  442     0    5.0   70.0   \n",
       "202001010101   4   4  54.0        1800 2020-07-25  2  426    -8    5.0    0.0   \n",
       "\n",
       "              ...  peds_52  peds_53  peds_54  peds_55  peds_56  peds_57  \\\n",
       "202001010101  ...       56      333       63      370       72      485   \n",
       "202001010101  ...      182      415       78      330      178      617   \n",
       "202001010101  ...      374      162      155      190       88      672   \n",
       "202001010101  ...       51      645       35      106        9       50   \n",
       "202001010101  ...      182      415      109      230      451      417   \n",
       "\n",
       "              peds_58  peds_59  peds_60  peds_61  \n",
       "202001010101       87      821     1312     3114  \n",
       "202001010101      246      668      926      305  \n",
       "202001010101      389      538      561      923  \n",
       "202001010101       19       89      606     2418  \n",
       "202001010101      153      930      204      315  \n",
       "\n",
       "[5 rows x 91 columns]"
      ]
     },
     "execution_count": 344,
     "metadata": {},
     "output_type": "execute_result"
    }
   ],
   "source": [
    "results_d.head()"
   ]
  },
  {
   "cell_type": "code",
   "execution_count": 345,
   "metadata": {},
   "outputs": [],
   "source": [
    "results_d.to_pickle('results_d.pickle')"
   ]
  },
  {
   "cell_type": "markdown",
   "metadata": {},
   "source": [
    "# モデル作成と結果検証"
   ]
  },
  {
   "cell_type": "markdown",
   "metadata": {},
   "source": [
    "## パラメータチューニング"
   ]
  },
  {
   "cell_type": "code",
   "execution_count": 346,
   "metadata": {},
   "outputs": [],
   "source": [
    "#データを分割する関数\n",
    "def split_data(df, test_size=0.3):\n",
    "    sorted_id_list = df.sort_values('date').index.unique()\n",
    "    train_id_list = sorted_id_list[:round(len(sorted_id_list)*(1-test_size))]\n",
    "    test_id_list = sorted_id_list[round(len(sorted_id_list)*(1-test_size)):]\n",
    "    train =df.loc[train_id_list]\n",
    "    test = df.loc[test_id_list]\n",
    "    return train, test"
   ]
  },
  {
   "cell_type": "code",
   "execution_count": 347,
   "metadata": {},
   "outputs": [],
   "source": [
    "#訓練データ、検証データ、テストデータに分割\n",
    "train, test = split_data(results_d)\n",
    "train, valid = split_data(train)"
   ]
  },
  {
   "cell_type": "code",
   "execution_count": 348,
   "metadata": {},
   "outputs": [],
   "source": [
    "#それぞれ説明変数と被説明変数に分割\n",
    "X_train = train.drop(['rank', 'date'], axis=1)\n",
    "y_train = train['rank']\n",
    "X_valid = valid.drop(['rank', 'date'], axis=1)\n",
    "y_valid = valid['rank']\n",
    "X_test = test.drop(['rank', 'date'], axis=1)\n",
    "y_test = test['rank']"
   ]
  },
  {
   "cell_type": "markdown",
   "metadata": {},
   "source": [
    "* 訓練データ→検証データの学習をパラメータを変えながら実行\n",
    "* verbose_eval：何回の学習でパラメータを変えるか\n",
    "* early_stopping_rounds：パラメータの種類（下記では10）を変更しても精度が上がらない場合学習を止める"
   ]
  },
  {
   "cell_type": "code",
   "execution_count": 351,
   "metadata": {},
   "outputs": [
    {
     "name": "stderr",
     "output_type": "stream",
     "text": [
      "\u001b[32m[I 2021-06-24 22:28:57,834]\u001b[0m A new study created in memory with name: no-name-44961e5f-8ade-4929-a34d-81c60960c425\u001b[0m\n",
      "feature_fraction, val_score: inf:   0%|                                                          | 0/7 [00:00<?, ?it/s]"
     ]
    },
    {
     "name": "stdout",
     "output_type": "stream",
     "text": [
      "[LightGBM] [Info] Number of positive: 4593, number of negative: 16706\n",
      "[LightGBM] [Warning] Auto-choosing col-wise multi-threading, the overhead of testing was 0.011191 seconds.\n",
      "You can set `force_col_wise=true` to remove the overhead.\n",
      "[LightGBM] [Info] Total Bins 12024\n",
      "[LightGBM] [Info] Number of data points in the train set: 21299, number of used features: 89\n",
      "[LightGBM] [Info] [binary:BoostFromScore]: pavg=0.215644 -> initscore=-1.291235\n",
      "[LightGBM] [Info] Start training from score -1.291235\n",
      "Training until validation scores don't improve for 10 rounds\n",
      "Early stopping, best iteration is:\n",
      "[52]\tvalid_0's binary_logloss: 0.417985\tvalid_1's binary_logloss: 0.494286\n"
     ]
    },
    {
     "name": "stderr",
     "output_type": "stream",
     "text": [
      "feature_fraction, val_score: 0.494286:  14%|######4                                      | 1/7 [00:03<00:18,  3.05s/it]\u001b[32m[I 2021-06-24 22:29:02,089]\u001b[0m Trial 0 finished with value: 0.4942856162289208 and parameters: {'feature_fraction': 0.4}. Best is trial 0 with value: 0.4942856162289208.\u001b[0m\n",
      "feature_fraction, val_score: 0.494286:  14%|######4                                      | 1/7 [00:03<00:18,  3.05s/it]"
     ]
    },
    {
     "name": "stdout",
     "output_type": "stream",
     "text": [
      "[LightGBM] [Info] Number of positive: 4593, number of negative: 16706\n",
      "[LightGBM] [Warning] Auto-choosing col-wise multi-threading, the overhead of testing was 0.012873 seconds.\n",
      "You can set `force_col_wise=true` to remove the overhead.\n",
      "[LightGBM] [Info] Total Bins 12024\n",
      "[LightGBM] [Info] Number of data points in the train set: 21299, number of used features: 89\n",
      "[LightGBM] [Info] [binary:BoostFromScore]: pavg=0.215644 -> initscore=-1.291235\n",
      "[LightGBM] [Info] Start training from score -1.291235\n",
      "Training until validation scores don't improve for 10 rounds\n"
     ]
    },
    {
     "name": "stderr",
     "output_type": "stream",
     "text": [
      "feature_fraction, val_score: 0.491249:  29%|############8                                | 2/7 [00:04<00:12,  2.53s/it]\u001b[32m[I 2021-06-24 22:29:03,387]\u001b[0m Trial 1 finished with value: 0.4912487883027753 and parameters: {'feature_fraction': 0.6}. Best is trial 1 with value: 0.4912487883027753.\u001b[0m\n",
      "feature_fraction, val_score: 0.491249:  29%|############8                                | 2/7 [00:04<00:12,  2.53s/it]"
     ]
    },
    {
     "name": "stdout",
     "output_type": "stream",
     "text": [
      "Early stopping, best iteration is:\n",
      "[38]\tvalid_0's binary_logloss: 0.430235\tvalid_1's binary_logloss: 0.491249\n",
      "[LightGBM] [Info] Number of positive: 4593, number of negative: 16706\n",
      "[LightGBM] [Warning] Auto-choosing col-wise multi-threading, the overhead of testing was 0.013140 seconds.\n",
      "You can set `force_col_wise=true` to remove the overhead.\n",
      "[LightGBM] [Info] Total Bins 12024\n",
      "[LightGBM] [Info] Number of data points in the train set: 21299, number of used features: 89\n",
      "[LightGBM] [Info] [binary:BoostFromScore]: pavg=0.215644 -> initscore=-1.291235\n",
      "[LightGBM] [Info] Start training from score -1.291235\n",
      "Training until validation scores don't improve for 10 rounds\n"
     ]
    },
    {
     "name": "stderr",
     "output_type": "stream",
     "text": [
      "feature_fraction, val_score: 0.491249:  43%|###################2                         | 3/7 [00:05<00:08,  2.19s/it]\u001b[32m[I 2021-06-24 22:29:04,736]\u001b[0m Trial 2 finished with value: 0.49206861487678794 and parameters: {'feature_fraction': 0.7}. Best is trial 1 with value: 0.4912487883027753.\u001b[0m\n",
      "feature_fraction, val_score: 0.491249:  43%|###################2                         | 3/7 [00:05<00:08,  2.19s/it]"
     ]
    },
    {
     "name": "stdout",
     "output_type": "stream",
     "text": [
      "Early stopping, best iteration is:\n",
      "[30]\tvalid_0's binary_logloss: 0.438951\tvalid_1's binary_logloss: 0.492069\n",
      "[LightGBM] [Info] Number of positive: 4593, number of negative: 16706\n",
      "[LightGBM] [Warning] Auto-choosing col-wise multi-threading, the overhead of testing was 0.011883 seconds.\n",
      "You can set `force_col_wise=true` to remove the overhead.\n",
      "[LightGBM] [Info] Total Bins 12024\n",
      "[LightGBM] [Info] Number of data points in the train set: 21299, number of used features: 89\n",
      "[LightGBM] [Info] [binary:BoostFromScore]: pavg=0.215644 -> initscore=-1.291235\n",
      "[LightGBM] [Info] Start training from score -1.291235\n",
      "Training until validation scores don't improve for 10 rounds\n"
     ]
    },
    {
     "name": "stderr",
     "output_type": "stream",
     "text": [
      "feature_fraction, val_score: 0.491249:  57%|#########################7                   | 4/7 [00:07<00:05,  1.91s/it]\u001b[32m[I 2021-06-24 22:29:05,985]\u001b[0m Trial 3 finished with value: 0.49318438800118075 and parameters: {'feature_fraction': 0.5}. Best is trial 1 with value: 0.4912487883027753.\u001b[0m\n",
      "feature_fraction, val_score: 0.491249:  57%|#########################7                   | 4/7 [00:07<00:05,  1.91s/it]"
     ]
    },
    {
     "name": "stdout",
     "output_type": "stream",
     "text": [
      "Early stopping, best iteration is:\n",
      "[42]\tvalid_0's binary_logloss: 0.426457\tvalid_1's binary_logloss: 0.493184\n",
      "[LightGBM] [Info] Number of positive: 4593, number of negative: 16706\n",
      "[LightGBM] [Warning] Auto-choosing col-wise multi-threading, the overhead of testing was 0.014076 seconds.\n",
      "You can set `force_col_wise=true` to remove the overhead.\n",
      "[LightGBM] [Info] Total Bins 12024\n",
      "[LightGBM] [Info] Number of data points in the train set: 21299, number of used features: 89\n",
      "[LightGBM] [Info] [binary:BoostFromScore]: pavg=0.215644 -> initscore=-1.291235\n",
      "[LightGBM] [Info] Start training from score -1.291235\n",
      "Training until validation scores don't improve for 10 rounds\n"
     ]
    },
    {
     "name": "stderr",
     "output_type": "stream",
     "text": [
      "feature_fraction, val_score: 0.491249:  71%|################################1            | 5/7 [00:08<00:03,  1.74s/it]\u001b[32m[I 2021-06-24 22:29:07,319]\u001b[0m Trial 4 finished with value: 0.49167702575767275 and parameters: {'feature_fraction': 0.8}. Best is trial 1 with value: 0.4912487883027753.\u001b[0m\n",
      "feature_fraction, val_score: 0.491249:  71%|################################1            | 5/7 [00:08<00:03,  1.74s/it]"
     ]
    },
    {
     "name": "stdout",
     "output_type": "stream",
     "text": [
      "Early stopping, best iteration is:\n",
      "[40]\tvalid_0's binary_logloss: 0.425533\tvalid_1's binary_logloss: 0.491677\n",
      "[LightGBM] [Info] Number of positive: 4593, number of negative: 16706\n",
      "[LightGBM] [Warning] Auto-choosing col-wise multi-threading, the overhead of testing was 0.012893 seconds.\n",
      "You can set `force_col_wise=true` to remove the overhead.\n",
      "[LightGBM] [Info] Total Bins 12024\n",
      "[LightGBM] [Info] Number of data points in the train set: 21299, number of used features: 89\n",
      "[LightGBM] [Info] [binary:BoostFromScore]: pavg=0.215644 -> initscore=-1.291235\n",
      "[LightGBM] [Info] Start training from score -1.291235\n",
      "Training until validation scores don't improve for 10 rounds\n"
     ]
    },
    {
     "name": "stderr",
     "output_type": "stream",
     "text": [
      "feature_fraction, val_score: 0.491249:  86%|######################################5      | 6/7 [00:09<00:01,  1.54s/it]\u001b[32m[I 2021-06-24 22:29:08,412]\u001b[0m Trial 5 finished with value: 0.4936279824678844 and parameters: {'feature_fraction': 0.8999999999999999}. Best is trial 1 with value: 0.4912487883027753.\u001b[0m\n",
      "feature_fraction, val_score: 0.491249:  86%|######################################5      | 6/7 [00:09<00:01,  1.54s/it]"
     ]
    },
    {
     "name": "stdout",
     "output_type": "stream",
     "text": [
      "Early stopping, best iteration is:\n",
      "[24]\tvalid_0's binary_logloss: 0.446549\tvalid_1's binary_logloss: 0.493628\n",
      "[LightGBM] [Info] Number of positive: 4593, number of negative: 16706\n",
      "[LightGBM] [Warning] Auto-choosing col-wise multi-threading, the overhead of testing was 0.025878 seconds.\n",
      "You can set `force_col_wise=true` to remove the overhead.\n",
      "[LightGBM] [Info] Total Bins 12024\n",
      "[LightGBM] [Info] Number of data points in the train set: 21299, number of used features: 89\n",
      "[LightGBM] [Info] [binary:BoostFromScore]: pavg=0.215644 -> initscore=-1.291235\n",
      "[LightGBM] [Info] Start training from score -1.291235\n",
      "Training until validation scores don't improve for 10 rounds\n"
     ]
    },
    {
     "name": "stderr",
     "output_type": "stream",
     "text": [
      "feature_fraction, val_score: 0.491249: 100%|#############################################| 7/7 [00:10<00:00,  1.43s/it]\u001b[32m[I 2021-06-24 22:29:09,581]\u001b[0m Trial 6 finished with value: 0.49468954886855426 and parameters: {'feature_fraction': 1.0}. Best is trial 1 with value: 0.4912487883027753.\u001b[0m\n",
      "feature_fraction, val_score: 0.491249: 100%|#############################################| 7/7 [00:10<00:00,  1.52s/it]\n",
      "num_leaves, val_score: 0.491249:   0%|                                                          | 0/20 [00:00<?, ?it/s]"
     ]
    },
    {
     "name": "stdout",
     "output_type": "stream",
     "text": [
      "Early stopping, best iteration is:\n",
      "[24]\tvalid_0's binary_logloss: 0.44641\tvalid_1's binary_logloss: 0.49469\n",
      "[LightGBM] [Info] Number of positive: 4593, number of negative: 16706\n",
      "[LightGBM] [Warning] Auto-choosing col-wise multi-threading, the overhead of testing was 0.013108 seconds.\n",
      "You can set `force_col_wise=true` to remove the overhead.\n",
      "[LightGBM] [Info] Total Bins 12024\n",
      "[LightGBM] [Info] Number of data points in the train set: 21299, number of used features: 89\n",
      "[LightGBM] [Info] [binary:BoostFromScore]: pavg=0.215644 -> initscore=-1.291235\n",
      "[LightGBM] [Info] Start training from score -1.291235\n",
      "Training until validation scores don't improve for 10 rounds\n"
     ]
    },
    {
     "name": "stderr",
     "output_type": "stream",
     "text": [
      "num_leaves, val_score: 0.491249:   5%|##5                                               | 1/20 [00:01<00:28,  1.51s/it]\u001b[32m[I 2021-06-24 22:29:11,214]\u001b[0m Trial 7 finished with value: 0.4933144931024522 and parameters: {'num_leaves': 73}. Best is trial 7 with value: 0.4933144931024522.\u001b[0m\n",
      "num_leaves, val_score: 0.491249:   5%|##5                                               | 1/20 [00:01<00:28,  1.51s/it]"
     ]
    },
    {
     "name": "stdout",
     "output_type": "stream",
     "text": [
      "Early stopping, best iteration is:\n",
      "[36]\tvalid_0's binary_logloss: 0.379942\tvalid_1's binary_logloss: 0.493314\n",
      "[LightGBM] [Info] Number of positive: 4593, number of negative: 16706\n",
      "[LightGBM] [Warning] Auto-choosing col-wise multi-threading, the overhead of testing was 0.013056 seconds.\n",
      "You can set `force_col_wise=true` to remove the overhead.\n",
      "[LightGBM] [Info] Total Bins 12024\n",
      "[LightGBM] [Info] Number of data points in the train set: 21299, number of used features: 89\n",
      "[LightGBM] [Info] [binary:BoostFromScore]: pavg=0.215644 -> initscore=-1.291235\n",
      "[LightGBM] [Info] Start training from score -1.291235\n",
      "Training until validation scores don't improve for 10 rounds\n"
     ]
    },
    {
     "name": "stderr",
     "output_type": "stream",
     "text": [
      "num_leaves, val_score: 0.491249:  10%|#####                                             | 2/20 [00:02<00:24,  1.38s/it]\u001b[32m[I 2021-06-24 22:29:12,272]\u001b[0m Trial 8 finished with value: 0.49128621980196785 and parameters: {'num_leaves': 7}. Best is trial 8 with value: 0.49128621980196785.\u001b[0m\n",
      "num_leaves, val_score: 0.491249:  10%|#####                                             | 2/20 [00:02<00:24,  1.38s/it]"
     ]
    },
    {
     "name": "stdout",
     "output_type": "stream",
     "text": [
      "Early stopping, best iteration is:\n",
      "[68]\tvalid_0's binary_logloss: 0.464912\tvalid_1's binary_logloss: 0.491286\n",
      "[LightGBM] [Info] Number of positive: 4593, number of negative: 16706\n",
      "[LightGBM] [Warning] Auto-choosing col-wise multi-threading, the overhead of testing was 0.013115 seconds.\n",
      "You can set `force_col_wise=true` to remove the overhead.\n",
      "[LightGBM] [Info] Total Bins 12024\n",
      "[LightGBM] [Info] Number of data points in the train set: 21299, number of used features: 89\n",
      "[LightGBM] [Info] [binary:BoostFromScore]: pavg=0.215644 -> initscore=-1.291235\n",
      "[LightGBM] [Info] Start training from score -1.291235\n",
      "Training until validation scores don't improve for 10 rounds\n"
     ]
    },
    {
     "name": "stderr",
     "output_type": "stream",
     "text": [
      "num_leaves, val_score: 0.491249:  15%|#######5                                          | 3/20 [00:04<00:25,  1.49s/it]\u001b[32m[I 2021-06-24 22:29:14,029]\u001b[0m Trial 9 finished with value: 0.4991411843905017 and parameters: {'num_leaves': 236}. Best is trial 8 with value: 0.49128621980196785.\u001b[0m\n",
      "num_leaves, val_score: 0.491249:  15%|#######5                                          | 3/20 [00:04<00:25,  1.49s/it]"
     ]
    },
    {
     "name": "stdout",
     "output_type": "stream",
     "text": [
      "Early stopping, best iteration is:\n",
      "[19]\tvalid_0's binary_logloss: 0.337726\tvalid_1's binary_logloss: 0.499141\n",
      "[LightGBM] [Info] Number of positive: 4593, number of negative: 16706\n",
      "[LightGBM] [Warning] Auto-choosing col-wise multi-threading, the overhead of testing was 0.012670 seconds.\n",
      "You can set `force_col_wise=true` to remove the overhead.\n",
      "[LightGBM] [Info] Total Bins 12024\n",
      "[LightGBM] [Info] Number of data points in the train set: 21299, number of used features: 89\n",
      "[LightGBM] [Info] [binary:BoostFromScore]: pavg=0.215644 -> initscore=-1.291235\n",
      "[LightGBM] [Info] Start training from score -1.291235\n",
      "Training until validation scores don't improve for 10 rounds\n"
     ]
    },
    {
     "name": "stderr",
     "output_type": "stream",
     "text": [
      "num_leaves, val_score: 0.491249:  20%|##########                                        | 4/20 [00:05<00:22,  1.40s/it]\u001b[32m[I 2021-06-24 22:29:15,218]\u001b[0m Trial 10 finished with value: 0.49349588295304836 and parameters: {'num_leaves': 32}. Best is trial 8 with value: 0.49128621980196785.\u001b[0m\n",
      "num_leaves, val_score: 0.491249:  20%|##########                                        | 4/20 [00:05<00:22,  1.40s/it]"
     ]
    },
    {
     "name": "stdout",
     "output_type": "stream",
     "text": [
      "Early stopping, best iteration is:\n",
      "[27]\tvalid_0's binary_logloss: 0.443246\tvalid_1's binary_logloss: 0.493496\n",
      "[LightGBM] [Info] Number of positive: 4593, number of negative: 16706\n",
      "[LightGBM] [Warning] Auto-choosing col-wise multi-threading, the overhead of testing was 0.012838 seconds.\n",
      "You can set `force_col_wise=true` to remove the overhead.\n",
      "[LightGBM] [Info] Total Bins 12024\n",
      "[LightGBM] [Info] Number of data points in the train set: 21299, number of used features: 89\n",
      "[LightGBM] [Info] [binary:BoostFromScore]: pavg=0.215644 -> initscore=-1.291235\n",
      "[LightGBM] [Info] Start training from score -1.291235\n",
      "Training until validation scores don't improve for 10 rounds\n"
     ]
    },
    {
     "name": "stderr",
     "output_type": "stream",
     "text": [
      "num_leaves, val_score: 0.491249:  25%|############5                                     | 5/20 [00:07<00:21,  1.45s/it]\u001b[32m[I 2021-06-24 22:29:16,792]\u001b[0m Trial 11 finished with value: 0.4973456678832192 and parameters: {'num_leaves': 171}. Best is trial 8 with value: 0.49128621980196785.\u001b[0m\n",
      "num_leaves, val_score: 0.491249:  25%|############5                                     | 5/20 [00:07<00:21,  1.45s/it]"
     ]
    },
    {
     "name": "stdout",
     "output_type": "stream",
     "text": [
      "Early stopping, best iteration is:\n",
      "[21]\tvalid_0's binary_logloss: 0.355522\tvalid_1's binary_logloss: 0.497346\n",
      "[LightGBM] [Info] Number of positive: 4593, number of negative: 16706\n",
      "[LightGBM] [Warning] Auto-choosing col-wise multi-threading, the overhead of testing was 0.013220 seconds.\n",
      "You can set `force_col_wise=true` to remove the overhead.\n",
      "[LightGBM] [Info] Total Bins 12024\n",
      "[LightGBM] [Info] Number of data points in the train set: 21299, number of used features: 89\n",
      "[LightGBM] [Info] [binary:BoostFromScore]: pavg=0.215644 -> initscore=-1.291235\n",
      "[LightGBM] [Info] Start training from score -1.291235\n",
      "Training until validation scores don't improve for 10 rounds\n"
     ]
    },
    {
     "name": "stderr",
     "output_type": "stream",
     "text": [
      "num_leaves, val_score: 0.491249:  30%|###############                                   | 6/20 [00:08<00:21,  1.50s/it]\u001b[32m[I 2021-06-24 22:29:18,404]\u001b[0m Trial 12 finished with value: 0.49732385978498805 and parameters: {'num_leaves': 187}. Best is trial 8 with value: 0.49128621980196785.\u001b[0m\n",
      "num_leaves, val_score: 0.491249:  30%|###############                                   | 6/20 [00:08<00:21,  1.50s/it]"
     ]
    },
    {
     "name": "stdout",
     "output_type": "stream",
     "text": [
      "Early stopping, best iteration is:\n",
      "[21]\tvalid_0's binary_logloss: 0.349412\tvalid_1's binary_logloss: 0.497324\n",
      "[LightGBM] [Info] Number of positive: 4593, number of negative: 16706\n",
      "[LightGBM] [Warning] Auto-choosing col-wise multi-threading, the overhead of testing was 0.016416 seconds.\n",
      "You can set `force_col_wise=true` to remove the overhead.\n",
      "[LightGBM] [Info] Total Bins 12024\n",
      "[LightGBM] [Info] Number of data points in the train set: 21299, number of used features: 89\n",
      "[LightGBM] [Info] [binary:BoostFromScore]: pavg=0.215644 -> initscore=-1.291235\n",
      "[LightGBM] [Info] Start training from score -1.291235\n",
      "Training until validation scores don't improve for 10 rounds\n"
     ]
    },
    {
     "name": "stderr",
     "output_type": "stream",
     "text": [
      "num_leaves, val_score: 0.491249:  35%|#################5                                | 7/20 [00:09<00:18,  1.43s/it]\u001b[32m[I 2021-06-24 22:29:19,679]\u001b[0m Trial 13 finished with value: 0.49401841506064764 and parameters: {'num_leaves': 96}. Best is trial 8 with value: 0.49128621980196785.\u001b[0m\n",
      "num_leaves, val_score: 0.491249:  35%|#################5                                | 7/20 [00:09<00:18,  1.43s/it]"
     ]
    },
    {
     "name": "stdout",
     "output_type": "stream",
     "text": [
      "Early stopping, best iteration is:\n",
      "[21]\tvalid_0's binary_logloss: 0.400834\tvalid_1's binary_logloss: 0.494018\n",
      "[LightGBM] [Info] Number of positive: 4593, number of negative: 16706\n",
      "[LightGBM] [Warning] Auto-choosing col-wise multi-threading, the overhead of testing was 0.012553 seconds.\n",
      "You can set `force_col_wise=true` to remove the overhead.\n",
      "[LightGBM] [Info] Total Bins 12024\n",
      "[LightGBM] [Info] Number of data points in the train set: 21299, number of used features: 89\n",
      "[LightGBM] [Info] [binary:BoostFromScore]: pavg=0.215644 -> initscore=-1.291235\n",
      "[LightGBM] [Info] Start training from score -1.291235\n",
      "Training until validation scores don't improve for 10 rounds\n"
     ]
    },
    {
     "name": "stderr",
     "output_type": "stream",
     "text": [
      "num_leaves, val_score: 0.491249:  40%|####################                              | 8/20 [00:11<00:17,  1.50s/it]\u001b[32m[I 2021-06-24 22:29:21,332]\u001b[0m Trial 14 finished with value: 0.4990330917784394 and parameters: {'num_leaves': 214}. Best is trial 8 with value: 0.49128621980196785.\u001b[0m\n",
      "num_leaves, val_score: 0.491249:  40%|####################                              | 8/20 [00:11<00:17,  1.50s/it]"
     ]
    },
    {
     "name": "stdout",
     "output_type": "stream",
     "text": [
      "Early stopping, best iteration is:\n",
      "[20]\tvalid_0's binary_logloss: 0.34143\tvalid_1's binary_logloss: 0.499033\n",
      "[LightGBM] [Info] Number of positive: 4593, number of negative: 16706\n",
      "[LightGBM] [Warning] Auto-choosing col-wise multi-threading, the overhead of testing was 0.019666 seconds.\n",
      "You can set `force_col_wise=true` to remove the overhead.\n",
      "[LightGBM] [Info] Total Bins 12024\n",
      "[LightGBM] [Info] Number of data points in the train set: 21299, number of used features: 89\n",
      "[LightGBM] [Info] [binary:BoostFromScore]: pavg=0.215644 -> initscore=-1.291235\n",
      "[LightGBM] [Info] Start training from score -1.291235\n",
      "Training until validation scores don't improve for 10 rounds\n"
     ]
    },
    {
     "name": "stderr",
     "output_type": "stream",
     "text": [
      "num_leaves, val_score: 0.491249:  45%|######################5                           | 9/20 [00:12<00:16,  1.45s/it]\u001b[32m[I 2021-06-24 22:29:22,684]\u001b[0m Trial 15 finished with value: 0.49335153849305735 and parameters: {'num_leaves': 66}. Best is trial 8 with value: 0.49128621980196785.\u001b[0m\n",
      "num_leaves, val_score: 0.491249:  45%|######################5                           | 9/20 [00:12<00:16,  1.45s/it]"
     ]
    },
    {
     "name": "stdout",
     "output_type": "stream",
     "text": [
      "Early stopping, best iteration is:\n",
      "[29]\tvalid_0's binary_logloss: 0.40332\tvalid_1's binary_logloss: 0.493352\n",
      "[LightGBM] [Info] Number of positive: 4593, number of negative: 16706\n",
      "[LightGBM] [Warning] Auto-choosing col-wise multi-threading, the overhead of testing was 0.013259 seconds.\n",
      "You can set `force_col_wise=true` to remove the overhead.\n",
      "[LightGBM] [Info] Total Bins 12024\n",
      "[LightGBM] [Info] Number of data points in the train set: 21299, number of used features: 89\n",
      "[LightGBM] [Info] [binary:BoostFromScore]: pavg=0.215644 -> initscore=-1.291235\n",
      "[LightGBM] [Info] Start training from score -1.291235\n",
      "Training until validation scores don't improve for 10 rounds\n"
     ]
    },
    {
     "name": "stderr",
     "output_type": "stream",
     "text": [
      "num_leaves, val_score: 0.491249:  50%|########################5                        | 10/20 [00:14<00:14,  1.40s/it]\u001b[32m[I 2021-06-24 22:29:23,966]\u001b[0m Trial 16 finished with value: 0.49438204126603325 and parameters: {'num_leaves': 93}. Best is trial 8 with value: 0.49128621980196785.\u001b[0m\n",
      "num_leaves, val_score: 0.491249:  50%|########################5                        | 10/20 [00:14<00:14,  1.40s/it]"
     ]
    },
    {
     "name": "stdout",
     "output_type": "stream",
     "text": [
      "Early stopping, best iteration is:\n",
      "[21]\tvalid_0's binary_logloss: 0.40292\tvalid_1's binary_logloss: 0.494382\n",
      "[LightGBM] [Info] Number of positive: 4593, number of negative: 16706\n",
      "[LightGBM] [Warning] Auto-choosing col-wise multi-threading, the overhead of testing was 0.015588 seconds.\n",
      "You can set `force_col_wise=true` to remove the overhead.\n",
      "[LightGBM] [Info] Total Bins 12024\n",
      "[LightGBM] [Info] Number of data points in the train set: 21299, number of used features: 89\n",
      "[LightGBM] [Info] [binary:BoostFromScore]: pavg=0.215644 -> initscore=-1.291235\n",
      "[LightGBM] [Info] Start training from score -1.291235\n",
      "Training until validation scores don't improve for 10 rounds\n"
     ]
    },
    {
     "name": "stderr",
     "output_type": "stream",
     "text": [
      "num_leaves, val_score: 0.491249:  55%|##########################9                      | 11/20 [00:15<00:13,  1.49s/it]\u001b[32m[I 2021-06-24 22:29:25,648]\u001b[0m Trial 17 finished with value: 0.4918610007238633 and parameters: {'num_leaves': 4}. Best is trial 8 with value: 0.49128621980196785.\u001b[0m\n",
      "num_leaves, val_score: 0.491249:  55%|##########################9                      | 11/20 [00:15<00:13,  1.49s/it]"
     ]
    },
    {
     "name": "stdout",
     "output_type": "stream",
     "text": [
      "[100]\tvalid_0's binary_logloss: 0.471606\tvalid_1's binary_logloss: 0.492249\n",
      "Early stopping, best iteration is:\n",
      "[126]\tvalid_0's binary_logloss: 0.468242\tvalid_1's binary_logloss: 0.491861\n",
      "[LightGBM] [Info] Number of positive: 4593, number of negative: 16706\n",
      "[LightGBM] [Warning] Auto-choosing col-wise multi-threading, the overhead of testing was 0.012348 seconds.\n",
      "You can set `force_col_wise=true` to remove the overhead.\n",
      "[LightGBM] [Info] Total Bins 12024\n",
      "[LightGBM] [Info] Number of data points in the train set: 21299, number of used features: 89\n",
      "[LightGBM] [Info] [binary:BoostFromScore]: pavg=0.215644 -> initscore=-1.291235\n",
      "[LightGBM] [Info] Start training from score -1.291235\n",
      "Training until validation scores don't improve for 10 rounds\n"
     ]
    },
    {
     "name": "stderr",
     "output_type": "stream",
     "text": [
      "num_leaves, val_score: 0.491249:  60%|#############################4                   | 12/20 [00:16<00:10,  1.35s/it]\u001b[32m[I 2021-06-24 22:29:26,662]\u001b[0m Trial 18 finished with value: 0.49149827639265425 and parameters: {'num_leaves': 23}. Best is trial 8 with value: 0.49128621980196785.\u001b[0m\n",
      "num_leaves, val_score: 0.491249:  60%|#############################4                   | 12/20 [00:16<00:10,  1.35s/it]"
     ]
    },
    {
     "name": "stdout",
     "output_type": "stream",
     "text": [
      "Early stopping, best iteration is:\n",
      "[30]\tvalid_0's binary_logloss: 0.450916\tvalid_1's binary_logloss: 0.491498\n",
      "[LightGBM] [Info] Number of positive: 4593, number of negative: 16706\n",
      "[LightGBM] [Warning] Auto-choosing col-wise multi-threading, the overhead of testing was 0.015267 seconds.\n",
      "You can set `force_col_wise=true` to remove the overhead.\n",
      "[LightGBM] [Info] Total Bins 12024\n",
      "[LightGBM] [Info] Number of data points in the train set: 21299, number of used features: 89\n",
      "[LightGBM] [Info] [binary:BoostFromScore]: pavg=0.215644 -> initscore=-1.291235\n",
      "[LightGBM] [Info] Start training from score -1.291235\n",
      "Training until validation scores don't improve for 10 rounds\n"
     ]
    },
    {
     "name": "stderr",
     "output_type": "stream",
     "text": [
      "num_leaves, val_score: 0.491249:  65%|###############################8                 | 13/20 [00:18<00:09,  1.30s/it]\u001b[32m[I 2021-06-24 22:29:27,858]\u001b[0m Trial 19 finished with value: 0.4918610007238633 and parameters: {'num_leaves': 4}. Best is trial 8 with value: 0.49128621980196785.\u001b[0m\n",
      "num_leaves, val_score: 0.491249:  65%|###############################8                 | 13/20 [00:18<00:09,  1.30s/it]"
     ]
    },
    {
     "name": "stdout",
     "output_type": "stream",
     "text": [
      "[100]\tvalid_0's binary_logloss: 0.471606\tvalid_1's binary_logloss: 0.492249\n",
      "Early stopping, best iteration is:\n",
      "[126]\tvalid_0's binary_logloss: 0.468242\tvalid_1's binary_logloss: 0.491861\n",
      "[LightGBM] [Info] Number of positive: 4593, number of negative: 16706\n",
      "[LightGBM] [Warning] Auto-choosing col-wise multi-threading, the overhead of testing was 0.012569 seconds.\n",
      "You can set `force_col_wise=true` to remove the overhead.\n",
      "[LightGBM] [Info] Total Bins 12024\n",
      "[LightGBM] [Info] Number of data points in the train set: 21299, number of used features: 89\n",
      "[LightGBM] [Info] [binary:BoostFromScore]: pavg=0.215644 -> initscore=-1.291235\n",
      "[LightGBM] [Info] Start training from score -1.291235\n",
      "Training until validation scores don't improve for 10 rounds\n"
     ]
    },
    {
     "name": "stderr",
     "output_type": "stream",
     "text": [
      "num_leaves, val_score: 0.491249:  70%|##################################3              | 14/20 [00:19<00:07,  1.26s/it]\u001b[32m[I 2021-06-24 22:29:29,018]\u001b[0m Trial 20 finished with value: 0.4934011287433328 and parameters: {'num_leaves': 33}. Best is trial 8 with value: 0.49128621980196785.\u001b[0m\n",
      "num_leaves, val_score: 0.491249:  70%|##################################3              | 14/20 [00:19<00:07,  1.26s/it]"
     ]
    },
    {
     "name": "stdout",
     "output_type": "stream",
     "text": [
      "Early stopping, best iteration is:\n",
      "[39]\tvalid_0's binary_logloss: 0.425743\tvalid_1's binary_logloss: 0.493401\n",
      "[LightGBM] [Info] Number of positive: 4593, number of negative: 16706\n",
      "[LightGBM] [Warning] Auto-choosing col-wise multi-threading, the overhead of testing was 0.012757 seconds.\n",
      "You can set `force_col_wise=true` to remove the overhead.\n",
      "[LightGBM] [Info] Total Bins 12024\n",
      "[LightGBM] [Info] Number of data points in the train set: 21299, number of used features: 89\n",
      "[LightGBM] [Info] [binary:BoostFromScore]: pavg=0.215644 -> initscore=-1.291235\n",
      "[LightGBM] [Info] Start training from score -1.291235\n",
      "Training until validation scores don't improve for 10 rounds\n"
     ]
    },
    {
     "name": "stderr",
     "output_type": "stream",
     "text": [
      "num_leaves, val_score: 0.491249:  75%|####################################7            | 15/20 [00:20<00:06,  1.28s/it]\u001b[32m[I 2021-06-24 22:29:30,360]\u001b[0m Trial 21 finished with value: 0.496258215428922 and parameters: {'num_leaves': 131}. Best is trial 8 with value: 0.49128621980196785.\u001b[0m\n",
      "num_leaves, val_score: 0.491249:  75%|####################################7            | 15/20 [00:20<00:06,  1.28s/it]"
     ]
    },
    {
     "name": "stdout",
     "output_type": "stream",
     "text": [
      "Early stopping, best iteration is:\n",
      "[21]\tvalid_0's binary_logloss: 0.378822\tvalid_1's binary_logloss: 0.496258\n",
      "[LightGBM] [Info] Number of positive: 4593, number of negative: 16706\n",
      "[LightGBM] [Warning] Auto-choosing col-wise multi-threading, the overhead of testing was 0.014445 seconds.\n",
      "You can set `force_col_wise=true` to remove the overhead.\n",
      "[LightGBM] [Info] Total Bins 12024\n",
      "[LightGBM] [Info] Number of data points in the train set: 21299, number of used features: 89\n",
      "[LightGBM] [Info] [binary:BoostFromScore]: pavg=0.215644 -> initscore=-1.291235\n",
      "[LightGBM] [Info] Start training from score -1.291235\n",
      "Training until validation scores don't improve for 10 rounds\n"
     ]
    },
    {
     "name": "stderr",
     "output_type": "stream",
     "text": [
      "num_leaves, val_score: 0.491249:  80%|#######################################2         | 16/20 [00:21<00:04,  1.23s/it]\u001b[32m[I 2021-06-24 22:29:31,464]\u001b[0m Trial 22 finished with value: 0.49289046070243775 and parameters: {'num_leaves': 29}. Best is trial 8 with value: 0.49128621980196785.\u001b[0m\n",
      "num_leaves, val_score: 0.491249:  80%|#######################################2         | 16/20 [00:21<00:04,  1.23s/it]"
     ]
    },
    {
     "name": "stdout",
     "output_type": "stream",
     "text": [
      "Early stopping, best iteration is:\n",
      "[39]\tvalid_0's binary_logloss: 0.431977\tvalid_1's binary_logloss: 0.49289\n",
      "[LightGBM] [Info] Number of positive: 4593, number of negative: 16706\n",
      "[LightGBM] [Warning] Auto-choosing col-wise multi-threading, the overhead of testing was 0.012943 seconds.\n",
      "You can set `force_col_wise=true` to remove the overhead.\n",
      "[LightGBM] [Info] Total Bins 12024\n",
      "[LightGBM] [Info] Number of data points in the train set: 21299, number of used features: 89\n",
      "[LightGBM] [Info] [binary:BoostFromScore]: pavg=0.215644 -> initscore=-1.291235\n",
      "[LightGBM] [Info] Start training from score -1.291235\n",
      "Training until validation scores don't improve for 10 rounds\n"
     ]
    },
    {
     "name": "stderr",
     "output_type": "stream",
     "text": [
      "num_leaves, val_score: 0.491249:  85%|#########################################6       | 17/20 [00:23<00:03,  1.31s/it]\u001b[32m[I 2021-06-24 22:29:32,958]\u001b[0m Trial 23 finished with value: 0.49551602088999636 and parameters: {'num_leaves': 138}. Best is trial 8 with value: 0.49128621980196785.\u001b[0m\n",
      "num_leaves, val_score: 0.491249:  85%|#########################################6       | 17/20 [00:23<00:03,  1.31s/it]"
     ]
    },
    {
     "name": "stdout",
     "output_type": "stream",
     "text": [
      "Early stopping, best iteration is:\n",
      "[22]\tvalid_0's binary_logloss: 0.370569\tvalid_1's binary_logloss: 0.495516\n",
      "[LightGBM] [Info] Number of positive: 4593, number of negative: 16706\n",
      "[LightGBM] [Warning] Auto-choosing row-wise multi-threading, the overhead of testing was 0.008153 seconds.\n",
      "You can set `force_row_wise=true` to remove the overhead.\n",
      "And if memory is not enough, you can set `force_col_wise=true`.\n",
      "[LightGBM] [Info] Total Bins 12024\n",
      "[LightGBM] [Info] Number of data points in the train set: 21299, number of used features: 89\n",
      "[LightGBM] [Info] [binary:BoostFromScore]: pavg=0.215644 -> initscore=-1.291235\n",
      "[LightGBM] [Info] Start training from score -1.291235\n",
      "Training until validation scores don't improve for 10 rounds\n"
     ]
    },
    {
     "name": "stderr",
     "output_type": "stream",
     "text": [
      "num_leaves, val_score: 0.491249:  90%|############################################1    | 18/20 [00:24<00:02,  1.27s/it]\u001b[32m[I 2021-06-24 22:29:34,140]\u001b[0m Trial 24 finished with value: 0.4941957279008237 and parameters: {'num_leaves': 3}. Best is trial 8 with value: 0.49128621980196785.\u001b[0m\n",
      "num_leaves, val_score: 0.491249:  90%|############################################1    | 18/20 [00:24<00:02,  1.27s/it]"
     ]
    },
    {
     "name": "stdout",
     "output_type": "stream",
     "text": [
      "[100]\tvalid_0's binary_logloss: 0.477436\tvalid_1's binary_logloss: 0.494199\n",
      "Early stopping, best iteration is:\n",
      "[91]\tvalid_0's binary_logloss: 0.478265\tvalid_1's binary_logloss: 0.494196\n",
      "[LightGBM] [Info] Number of positive: 4593, number of negative: 16706\n",
      "[LightGBM] [Warning] Auto-choosing col-wise multi-threading, the overhead of testing was 0.012556 seconds.\n",
      "You can set `force_col_wise=true` to remove the overhead.\n",
      "[LightGBM] [Info] Total Bins 12024\n",
      "[LightGBM] [Info] Number of data points in the train set: 21299, number of used features: 89\n",
      "[LightGBM] [Info] [binary:BoostFromScore]: pavg=0.215644 -> initscore=-1.291235\n",
      "[LightGBM] [Info] Start training from score -1.291235\n",
      "Training until validation scores don't improve for 10 rounds\n"
     ]
    },
    {
     "name": "stderr",
     "output_type": "stream",
     "text": [
      "num_leaves, val_score: 0.491249:  95%|##############################################5  | 19/20 [00:25<00:01,  1.26s/it]\u001b[32m[I 2021-06-24 22:29:35,383]\u001b[0m Trial 25 finished with value: 0.49306272393427303 and parameters: {'num_leaves': 53}. Best is trial 8 with value: 0.49128621980196785.\u001b[0m\n",
      "num_leaves, val_score: 0.491249:  95%|##############################################5  | 19/20 [00:25<00:01,  1.26s/it]"
     ]
    },
    {
     "name": "stdout",
     "output_type": "stream",
     "text": [
      "Early stopping, best iteration is:\n",
      "[30]\tvalid_0's binary_logloss: 0.414182\tvalid_1's binary_logloss: 0.493063\n",
      "[LightGBM] [Info] Number of positive: 4593, number of negative: 16706\n",
      "[LightGBM] [Warning] Auto-choosing col-wise multi-threading, the overhead of testing was 0.012935 seconds.\n",
      "You can set `force_col_wise=true` to remove the overhead.\n",
      "[LightGBM] [Info] Total Bins 12024\n",
      "[LightGBM] [Info] Number of data points in the train set: 21299, number of used features: 89\n",
      "[LightGBM] [Info] [binary:BoostFromScore]: pavg=0.215644 -> initscore=-1.291235\n",
      "[LightGBM] [Info] Start training from score -1.291235\n",
      "Training until validation scores don't improve for 10 rounds\n"
     ]
    },
    {
     "name": "stderr",
     "output_type": "stream",
     "text": [
      "num_leaves, val_score: 0.491249: 100%|#################################################| 20/20 [00:26<00:00,  1.27s/it]\u001b[32m[I 2021-06-24 22:29:36,685]\u001b[0m Trial 26 finished with value: 0.49657534158088584 and parameters: {'num_leaves': 102}. Best is trial 8 with value: 0.49128621980196785.\u001b[0m\n",
      "num_leaves, val_score: 0.491249: 100%|#################################################| 20/20 [00:26<00:00,  1.35s/it]\n",
      "bagging, val_score: 0.491249:   0%|                                                             | 0/10 [00:00<?, ?it/s]"
     ]
    },
    {
     "name": "stdout",
     "output_type": "stream",
     "text": [
      "Early stopping, best iteration is:\n",
      "[21]\tvalid_0's binary_logloss: 0.396348\tvalid_1's binary_logloss: 0.496575\n",
      "[LightGBM] [Info] Number of positive: 4593, number of negative: 16706\n",
      "[LightGBM] [Warning] Auto-choosing col-wise multi-threading, the overhead of testing was 0.019365 seconds.\n",
      "You can set `force_col_wise=true` to remove the overhead.\n",
      "[LightGBM] [Info] Total Bins 12024\n",
      "[LightGBM] [Info] Number of data points in the train set: 21299, number of used features: 89\n",
      "[LightGBM] [Info] [binary:BoostFromScore]: pavg=0.215644 -> initscore=-1.291235\n",
      "[LightGBM] [Info] Start training from score -1.291235\n",
      "Training until validation scores don't improve for 10 rounds\n"
     ]
    },
    {
     "name": "stderr",
     "output_type": "stream",
     "text": [
      "bagging, val_score: 0.491249:  10%|#####3                                               | 1/10 [00:01<00:10,  1.22s/it]\u001b[32m[I 2021-06-24 22:29:37,937]\u001b[0m Trial 27 finished with value: 0.49365470574554066 and parameters: {'bagging_fraction': 0.6414187888114178, 'bagging_freq': 3}. Best is trial 27 with value: 0.49365470574554066.\u001b[0m\n",
      "bagging, val_score: 0.491249:  10%|#####3                                               | 1/10 [00:01<00:10,  1.22s/it]"
     ]
    },
    {
     "name": "stdout",
     "output_type": "stream",
     "text": [
      "Early stopping, best iteration is:\n",
      "[36]\tvalid_0's binary_logloss: 0.433277\tvalid_1's binary_logloss: 0.493655\n",
      "[LightGBM] [Info] Number of positive: 4593, number of negative: 16706\n",
      "[LightGBM] [Warning] Auto-choosing col-wise multi-threading, the overhead of testing was 0.012441 seconds.\n",
      "You can set `force_col_wise=true` to remove the overhead.\n",
      "[LightGBM] [Info] Total Bins 12024\n",
      "[LightGBM] [Info] Number of data points in the train set: 21299, number of used features: 89\n",
      "[LightGBM] [Info] [binary:BoostFromScore]: pavg=0.215644 -> initscore=-1.291235\n",
      "[LightGBM] [Info] Start training from score -1.291235\n",
      "Training until validation scores don't improve for 10 rounds\n"
     ]
    },
    {
     "name": "stderr",
     "output_type": "stream",
     "text": [
      "bagging, val_score: 0.491249:  20%|##########6                                          | 2/10 [00:02<00:09,  1.19s/it]\u001b[32m[I 2021-06-24 22:29:39,033]\u001b[0m Trial 28 finished with value: 0.49336258824785373 and parameters: {'bagging_fraction': 0.9840623841676345, 'bagging_freq': 5}. Best is trial 28 with value: 0.49336258824785373.\u001b[0m\n",
      "bagging, val_score: 0.491249:  20%|##########6                                          | 2/10 [00:02<00:09,  1.19s/it]"
     ]
    },
    {
     "name": "stdout",
     "output_type": "stream",
     "text": [
      "Early stopping, best iteration is:\n",
      "[29]\tvalid_0's binary_logloss: 0.440847\tvalid_1's binary_logloss: 0.493363\n",
      "[LightGBM] [Info] Number of positive: 4593, number of negative: 16706\n",
      "[LightGBM] [Warning] Auto-choosing col-wise multi-threading, the overhead of testing was 0.012349 seconds.\n",
      "You can set `force_col_wise=true` to remove the overhead.\n",
      "[LightGBM] [Info] Total Bins 12024\n",
      "[LightGBM] [Info] Number of data points in the train set: 21299, number of used features: 89\n",
      "[LightGBM] [Info] [binary:BoostFromScore]: pavg=0.215644 -> initscore=-1.291235\n",
      "[LightGBM] [Info] Start training from score -1.291235\n",
      "Training until validation scores don't improve for 10 rounds\n"
     ]
    },
    {
     "name": "stderr",
     "output_type": "stream",
     "text": [
      "bagging, val_score: 0.491249:  30%|###############9                                     | 3/10 [00:03<00:08,  1.15s/it]\u001b[32m[I 2021-06-24 22:29:40,097]\u001b[0m Trial 29 finished with value: 0.49547788141375154 and parameters: {'bagging_fraction': 0.6371666427216767, 'bagging_freq': 1}. Best is trial 28 with value: 0.49336258824785373.\u001b[0m\n",
      "bagging, val_score: 0.491249:  30%|###############9                                     | 3/10 [00:03<00:08,  1.15s/it]"
     ]
    },
    {
     "name": "stdout",
     "output_type": "stream",
     "text": [
      "Early stopping, best iteration is:\n",
      "[33]\tvalid_0's binary_logloss: 0.437474\tvalid_1's binary_logloss: 0.495478\n",
      "[LightGBM] [Info] Number of positive: 4593, number of negative: 16706\n",
      "[LightGBM] [Warning] Auto-choosing col-wise multi-threading, the overhead of testing was 0.016621 seconds.\n",
      "You can set `force_col_wise=true` to remove the overhead.\n",
      "[LightGBM] [Info] Total Bins 12024\n",
      "[LightGBM] [Info] Number of data points in the train set: 21299, number of used features: 89\n",
      "[LightGBM] [Info] [binary:BoostFromScore]: pavg=0.215644 -> initscore=-1.291235\n",
      "[LightGBM] [Info] Start training from score -1.291235\n",
      "Training until validation scores don't improve for 10 rounds\n"
     ]
    },
    {
     "name": "stderr",
     "output_type": "stream",
     "text": [
      "bagging, val_score: 0.491249:  40%|#####################2                               | 4/10 [00:04<00:06,  1.11s/it]\u001b[32m[I 2021-06-24 22:29:41,105]\u001b[0m Trial 30 finished with value: 0.49781809720347175 and parameters: {'bagging_fraction': 0.45742669123613144, 'bagging_freq': 7}. Best is trial 28 with value: 0.49336258824785373.\u001b[0m\n",
      "bagging, val_score: 0.491249:  40%|#####################2                               | 4/10 [00:04<00:06,  1.11s/it]"
     ]
    },
    {
     "name": "stdout",
     "output_type": "stream",
     "text": [
      "Early stopping, best iteration is:\n",
      "[28]\tvalid_0's binary_logloss: 0.445587\tvalid_1's binary_logloss: 0.497818\n",
      "[LightGBM] [Info] Number of positive: 4593, number of negative: 16706\n",
      "[LightGBM] [Warning] Auto-choosing col-wise multi-threading, the overhead of testing was 0.012275 seconds.\n",
      "You can set `force_col_wise=true` to remove the overhead.\n",
      "[LightGBM] [Info] Total Bins 12024\n",
      "[LightGBM] [Info] Number of data points in the train set: 21299, number of used features: 89\n",
      "[LightGBM] [Info] [binary:BoostFromScore]: pavg=0.215644 -> initscore=-1.291235\n",
      "[LightGBM] [Info] Start training from score -1.291235\n",
      "Training until validation scores don't improve for 10 rounds\n"
     ]
    },
    {
     "name": "stderr",
     "output_type": "stream",
     "text": [
      "bagging, val_score: 0.491249:  50%|##########################5                          | 5/10 [00:05<00:05,  1.09s/it]\u001b[32m[I 2021-06-24 22:29:42,151]\u001b[0m Trial 31 finished with value: 0.49611383610604 and parameters: {'bagging_fraction': 0.6429984876604726, 'bagging_freq': 7}. Best is trial 28 with value: 0.49336258824785373.\u001b[0m\n",
      "bagging, val_score: 0.491249:  50%|##########################5                          | 5/10 [00:05<00:05,  1.09s/it]"
     ]
    },
    {
     "name": "stdout",
     "output_type": "stream",
     "text": [
      "Early stopping, best iteration is:\n",
      "[33]\tvalid_0's binary_logloss: 0.437111\tvalid_1's binary_logloss: 0.496114\n",
      "[LightGBM] [Info] Number of positive: 4593, number of negative: 16706\n",
      "[LightGBM] [Warning] Auto-choosing col-wise multi-threading, the overhead of testing was 0.012544 seconds.\n",
      "You can set `force_col_wise=true` to remove the overhead.\n",
      "[LightGBM] [Info] Total Bins 12024\n",
      "[LightGBM] [Info] Number of data points in the train set: 21299, number of used features: 89\n",
      "[LightGBM] [Info] [binary:BoostFromScore]: pavg=0.215644 -> initscore=-1.291235\n",
      "[LightGBM] [Info] Start training from score -1.291235\n",
      "Training until validation scores don't improve for 10 rounds\n"
     ]
    },
    {
     "name": "stderr",
     "output_type": "stream",
     "text": [
      "bagging, val_score: 0.491249:  60%|###############################8                     | 6/10 [00:06<00:04,  1.08s/it]\u001b[32m[I 2021-06-24 22:29:43,200]\u001b[0m Trial 32 finished with value: 0.49765683323879717 and parameters: {'bagging_fraction': 0.46828995137288054, 'bagging_freq': 6}. Best is trial 28 with value: 0.49336258824785373.\u001b[0m\n",
      "bagging, val_score: 0.491249:  60%|###############################8                     | 6/10 [00:06<00:04,  1.08s/it]"
     ]
    },
    {
     "name": "stdout",
     "output_type": "stream",
     "text": [
      "Early stopping, best iteration is:\n",
      "[28]\tvalid_0's binary_logloss: 0.446297\tvalid_1's binary_logloss: 0.497657\n",
      "[LightGBM] [Info] Number of positive: 4593, number of negative: 16706\n",
      "[LightGBM] [Warning] Auto-choosing col-wise multi-threading, the overhead of testing was 0.013284 seconds.\n",
      "You can set `force_col_wise=true` to remove the overhead.\n",
      "[LightGBM] [Info] Total Bins 12024\n",
      "[LightGBM] [Info] Number of data points in the train set: 21299, number of used features: 89\n",
      "[LightGBM] [Info] [binary:BoostFromScore]: pavg=0.215644 -> initscore=-1.291235\n",
      "[LightGBM] [Info] Start training from score -1.291235\n",
      "Training until validation scores don't improve for 10 rounds\n"
     ]
    },
    {
     "name": "stderr",
     "output_type": "stream",
     "text": [
      "bagging, val_score: 0.491249:  70%|#####################################                | 7/10 [00:07<00:03,  1.07s/it]\u001b[32m[I 2021-06-24 22:29:44,259]\u001b[0m Trial 33 finished with value: 0.49436793017847125 and parameters: {'bagging_fraction': 0.842115033087828, 'bagging_freq': 6}. Best is trial 28 with value: 0.49336258824785373.\u001b[0m\n",
      "bagging, val_score: 0.491249:  70%|#####################################                | 7/10 [00:07<00:03,  1.07s/it]"
     ]
    },
    {
     "name": "stdout",
     "output_type": "stream",
     "text": [
      "Early stopping, best iteration is:\n",
      "[28]\tvalid_0's binary_logloss: 0.443034\tvalid_1's binary_logloss: 0.494368\n",
      "[LightGBM] [Info] Number of positive: 4593, number of negative: 16706\n",
      "[LightGBM] [Warning] Auto-choosing col-wise multi-threading, the overhead of testing was 0.012512 seconds.\n",
      "You can set `force_col_wise=true` to remove the overhead.\n",
      "[LightGBM] [Info] Total Bins 12024\n",
      "[LightGBM] [Info] Number of data points in the train set: 21299, number of used features: 89\n",
      "[LightGBM] [Info] [binary:BoostFromScore]: pavg=0.215644 -> initscore=-1.291235\n",
      "[LightGBM] [Info] Start training from score -1.291235\n",
      "Training until validation scores don't improve for 10 rounds\n"
     ]
    },
    {
     "name": "stderr",
     "output_type": "stream",
     "text": [
      "bagging, val_score: 0.491249:  80%|##########################################4          | 8/10 [00:08<00:02,  1.06s/it]\u001b[32m[I 2021-06-24 22:29:45,297]\u001b[0m Trial 34 finished with value: 0.49546525080209325 and parameters: {'bagging_fraction': 0.47556879046780864, 'bagging_freq': 7}. Best is trial 28 with value: 0.49336258824785373.\u001b[0m\n",
      "bagging, val_score: 0.491249:  80%|##########################################4          | 8/10 [00:08<00:02,  1.06s/it]"
     ]
    },
    {
     "name": "stdout",
     "output_type": "stream",
     "text": [
      "Early stopping, best iteration is:\n",
      "[37]\tvalid_0's binary_logloss: 0.435271\tvalid_1's binary_logloss: 0.495465\n",
      "[LightGBM] [Info] Number of positive: 4593, number of negative: 16706\n",
      "[LightGBM] [Warning] Auto-choosing col-wise multi-threading, the overhead of testing was 0.014639 seconds.\n",
      "You can set `force_col_wise=true` to remove the overhead.\n",
      "[LightGBM] [Info] Total Bins 12024\n",
      "[LightGBM] [Info] Number of data points in the train set: 21299, number of used features: 89\n",
      "[LightGBM] [Info] [binary:BoostFromScore]: pavg=0.215644 -> initscore=-1.291235\n",
      "[LightGBM] [Info] Start training from score -1.291235\n",
      "Training until validation scores don't improve for 10 rounds\n"
     ]
    },
    {
     "name": "stderr",
     "output_type": "stream",
     "text": [
      "bagging, val_score: 0.491249:  90%|###############################################7     | 9/10 [00:09<00:01,  1.04s/it]\u001b[32m[I 2021-06-24 22:29:46,292]\u001b[0m Trial 35 finished with value: 0.49446753747243766 and parameters: {'bagging_fraction': 0.569342871625464, 'bagging_freq': 5}. Best is trial 28 with value: 0.49336258824785373.\u001b[0m\n",
      "bagging, val_score: 0.491249:  90%|###############################################7     | 9/10 [00:09<00:01,  1.04s/it]"
     ]
    },
    {
     "name": "stdout",
     "output_type": "stream",
     "text": [
      "Early stopping, best iteration is:\n",
      "[32]\tvalid_0's binary_logloss: 0.439255\tvalid_1's binary_logloss: 0.494468\n",
      "[LightGBM] [Info] Number of positive: 4593, number of negative: 16706\n",
      "[LightGBM] [Warning] Auto-choosing col-wise multi-threading, the overhead of testing was 0.012470 seconds.\n",
      "You can set `force_col_wise=true` to remove the overhead.\n",
      "[LightGBM] [Info] Total Bins 12024\n",
      "[LightGBM] [Info] Number of data points in the train set: 21299, number of used features: 89\n",
      "[LightGBM] [Info] [binary:BoostFromScore]: pavg=0.215644 -> initscore=-1.291235\n",
      "[LightGBM] [Info] Start training from score -1.291235\n",
      "Training until validation scores don't improve for 10 rounds\n"
     ]
    },
    {
     "name": "stderr",
     "output_type": "stream",
     "text": [
      "bagging, val_score: 0.491249: 100%|####################################################| 10/10 [00:10<00:00,  1.05s/it]\u001b[32m[I 2021-06-24 22:29:47,363]\u001b[0m Trial 36 finished with value: 0.49453514162701373 and parameters: {'bagging_fraction': 0.540999138221115, 'bagging_freq': 7}. Best is trial 28 with value: 0.49336258824785373.\u001b[0m\n",
      "bagging, val_score: 0.491249: 100%|####################################################| 10/10 [00:10<00:00,  1.07s/it]\n",
      "feature_fraction_stage2, val_score: 0.491249:   0%|                                              | 0/6 [00:00<?, ?it/s]"
     ]
    },
    {
     "name": "stdout",
     "output_type": "stream",
     "text": [
      "Early stopping, best iteration is:\n",
      "[37]\tvalid_0's binary_logloss: 0.433372\tvalid_1's binary_logloss: 0.494535\n",
      "[LightGBM] [Info] Number of positive: 4593, number of negative: 16706\n",
      "[LightGBM] [Warning] Auto-choosing col-wise multi-threading, the overhead of testing was 0.012658 seconds.\n",
      "You can set `force_col_wise=true` to remove the overhead.\n",
      "[LightGBM] [Info] Total Bins 12024\n",
      "[LightGBM] [Info] Number of data points in the train set: 21299, number of used features: 89\n",
      "[LightGBM] [Info] [binary:BoostFromScore]: pavg=0.215644 -> initscore=-1.291235\n",
      "[LightGBM] [Info] Start training from score -1.291235\n",
      "Training until validation scores don't improve for 10 rounds\n"
     ]
    },
    {
     "name": "stderr",
     "output_type": "stream",
     "text": [
      "feature_fraction_stage2, val_score: 0.490843:  17%|######3                               | 1/6 [00:01<00:05,  1.13s/it]\u001b[32m[I 2021-06-24 22:29:48,557]\u001b[0m Trial 37 finished with value: 0.4908429936614127 and parameters: {'feature_fraction': 0.6479999999999999}. Best is trial 37 with value: 0.4908429936614127.\u001b[0m\n",
      "feature_fraction_stage2, val_score: 0.490843:  17%|######3                               | 1/6 [00:01<00:05,  1.13s/it]"
     ]
    },
    {
     "name": "stdout",
     "output_type": "stream",
     "text": [
      "Early stopping, best iteration is:\n",
      "[39]\tvalid_0's binary_logloss: 0.428366\tvalid_1's binary_logloss: 0.490843\n",
      "[LightGBM] [Info] Number of positive: 4593, number of negative: 16706\n",
      "[LightGBM] [Warning] Auto-choosing col-wise multi-threading, the overhead of testing was 0.018919 seconds.\n",
      "You can set `force_col_wise=true` to remove the overhead.\n",
      "[LightGBM] [Info] Total Bins 12024\n",
      "[LightGBM] [Info] Number of data points in the train set: 21299, number of used features: 89\n",
      "[LightGBM] [Info] [binary:BoostFromScore]: pavg=0.215644 -> initscore=-1.291235\n",
      "[LightGBM] [Info] Start training from score -1.291235\n",
      "Training until validation scores don't improve for 10 rounds\n"
     ]
    },
    {
     "name": "stderr",
     "output_type": "stream",
     "text": [
      "feature_fraction_stage2, val_score: 0.490843:  33%|############6                         | 2/6 [00:02<00:04,  1.11s/it]\u001b[32m[I 2021-06-24 22:29:49,608]\u001b[0m Trial 38 finished with value: 0.49208033820633085 and parameters: {'feature_fraction': 0.6799999999999999}. Best is trial 37 with value: 0.4908429936614127.\u001b[0m\n",
      "feature_fraction_stage2, val_score: 0.490843:  33%|############6                         | 2/6 [00:02<00:04,  1.11s/it]"
     ]
    },
    {
     "name": "stdout",
     "output_type": "stream",
     "text": [
      "Early stopping, best iteration is:\n",
      "[29]\tvalid_0's binary_logloss: 0.440481\tvalid_1's binary_logloss: 0.49208\n",
      "[LightGBM] [Info] Number of positive: 4593, number of negative: 16706\n",
      "[LightGBM] [Warning] Auto-choosing col-wise multi-threading, the overhead of testing was 0.015204 seconds.\n",
      "You can set `force_col_wise=true` to remove the overhead.\n",
      "[LightGBM] [Info] Total Bins 12024\n",
      "[LightGBM] [Info] Number of data points in the train set: 21299, number of used features: 89\n",
      "[LightGBM] [Info] [binary:BoostFromScore]: pavg=0.215644 -> initscore=-1.291235\n",
      "[LightGBM] [Info] Start training from score -1.291235\n",
      "Training until validation scores don't improve for 10 rounds\n"
     ]
    },
    {
     "name": "stderr",
     "output_type": "stream",
     "text": [
      "feature_fraction_stage2, val_score: 0.490843:  50%|###################                   | 3/6 [00:03<00:03,  1.14s/it]\u001b[32m[I 2021-06-24 22:29:50,827]\u001b[0m Trial 39 finished with value: 0.4928623660751519 and parameters: {'feature_fraction': 0.616}. Best is trial 37 with value: 0.4908429936614127.\u001b[0m\n",
      "feature_fraction_stage2, val_score: 0.490843:  50%|###################                   | 3/6 [00:03<00:03,  1.14s/it]"
     ]
    },
    {
     "name": "stdout",
     "output_type": "stream",
     "text": [
      "Early stopping, best iteration is:\n",
      "[45]\tvalid_0's binary_logloss: 0.421613\tvalid_1's binary_logloss: 0.492862\n",
      "[LightGBM] [Info] Number of positive: 4593, number of negative: 16706\n",
      "[LightGBM] [Warning] Auto-choosing col-wise multi-threading, the overhead of testing was 0.011180 seconds.\n",
      "You can set `force_col_wise=true` to remove the overhead.\n",
      "[LightGBM] [Info] Total Bins 12024\n",
      "[LightGBM] [Info] Number of data points in the train set: 21299, number of used features: 89\n",
      "[LightGBM] [Info] [binary:BoostFromScore]: pavg=0.215644 -> initscore=-1.291235\n",
      "[LightGBM] [Info] Start training from score -1.291235\n",
      "Training until validation scores don't improve for 10 rounds\n"
     ]
    },
    {
     "name": "stderr",
     "output_type": "stream",
     "text": [
      "feature_fraction_stage2, val_score: 0.490843:  67%|#########################3            | 4/6 [00:04<00:02,  1.13s/it]\u001b[32m[I 2021-06-24 22:29:51,918]\u001b[0m Trial 40 finished with value: 0.4926849918065575 and parameters: {'feature_fraction': 0.552}. Best is trial 37 with value: 0.4908429936614127.\u001b[0m\n",
      "feature_fraction_stage2, val_score: 0.490843:  67%|#########################3            | 4/6 [00:04<00:02,  1.13s/it]"
     ]
    },
    {
     "name": "stdout",
     "output_type": "stream",
     "text": [
      "Early stopping, best iteration is:\n",
      "[39]\tvalid_0's binary_logloss: 0.429249\tvalid_1's binary_logloss: 0.492685\n",
      "[LightGBM] [Info] Number of positive: 4593, number of negative: 16706\n",
      "[LightGBM] [Warning] Auto-choosing col-wise multi-threading, the overhead of testing was 0.011407 seconds.\n",
      "You can set `force_col_wise=true` to remove the overhead.\n",
      "[LightGBM] [Info] Total Bins 12024\n",
      "[LightGBM] [Info] Number of data points in the train set: 21299, number of used features: 89\n",
      "[LightGBM] [Info] [binary:BoostFromScore]: pavg=0.215644 -> initscore=-1.291235\n",
      "[LightGBM] [Info] Start training from score -1.291235\n",
      "Training until validation scores don't improve for 10 rounds\n"
     ]
    },
    {
     "name": "stderr",
     "output_type": "stream",
     "text": [
      "feature_fraction_stage2, val_score: 0.490843:  83%|###############################6      | 5/6 [00:05<00:01,  1.15s/it]\u001b[32m[I 2021-06-24 22:29:53,119]\u001b[0m Trial 41 finished with value: 0.49267062334689476 and parameters: {'feature_fraction': 0.52}. Best is trial 37 with value: 0.4908429936614127.\u001b[0m\n",
      "feature_fraction_stage2, val_score: 0.490843:  83%|###############################6      | 5/6 [00:05<00:01,  1.15s/it]"
     ]
    },
    {
     "name": "stdout",
     "output_type": "stream",
     "text": [
      "Early stopping, best iteration is:\n",
      "[42]\tvalid_0's binary_logloss: 0.425692\tvalid_1's binary_logloss: 0.492671\n",
      "[LightGBM] [Info] Number of positive: 4593, number of negative: 16706\n",
      "[LightGBM] [Warning] Auto-choosing col-wise multi-threading, the overhead of testing was 0.017352 seconds.\n",
      "You can set `force_col_wise=true` to remove the overhead.\n",
      "[LightGBM] [Info] Total Bins 12024\n",
      "[LightGBM] [Info] Number of data points in the train set: 21299, number of used features: 89\n",
      "[LightGBM] [Info] [binary:BoostFromScore]: pavg=0.215644 -> initscore=-1.291235\n",
      "[LightGBM] [Info] Start training from score -1.291235\n",
      "Training until validation scores don't improve for 10 rounds\n"
     ]
    },
    {
     "name": "stderr",
     "output_type": "stream",
     "text": [
      "feature_fraction_stage2, val_score: 0.490843: 100%|######################################| 6/6 [00:06<00:00,  1.14s/it]\u001b[32m[I 2021-06-24 22:29:54,250]\u001b[0m Trial 42 finished with value: 0.49163196845413626 and parameters: {'feature_fraction': 0.584}. Best is trial 37 with value: 0.4908429936614127.\u001b[0m\n",
      "feature_fraction_stage2, val_score: 0.490843: 100%|######################################| 6/6 [00:06<00:00,  1.14s/it]\n",
      "regularization_factors, val_score: 0.490843:   0%|                                              | 0/20 [00:00<?, ?it/s]"
     ]
    },
    {
     "name": "stdout",
     "output_type": "stream",
     "text": [
      "Early stopping, best iteration is:\n",
      "[39]\tvalid_0's binary_logloss: 0.428737\tvalid_1's binary_logloss: 0.491632\n",
      "[LightGBM] [Info] Number of positive: 4593, number of negative: 16706\n",
      "[LightGBM] [Warning] Auto-choosing col-wise multi-threading, the overhead of testing was 0.013161 seconds.\n",
      "You can set `force_col_wise=true` to remove the overhead.\n",
      "[LightGBM] [Info] Total Bins 12024\n",
      "[LightGBM] [Info] Number of data points in the train set: 21299, number of used features: 89\n",
      "[LightGBM] [Info] [binary:BoostFromScore]: pavg=0.215644 -> initscore=-1.291235\n",
      "[LightGBM] [Info] Start training from score -1.291235\n",
      "Training until validation scores don't improve for 10 rounds\n"
     ]
    },
    {
     "name": "stderr",
     "output_type": "stream",
     "text": [
      "regularization_factors, val_score: 0.490843:   5%|#9                                    | 1/20 [00:01<00:23,  1.26s/it]\u001b[32m[I 2021-06-24 22:29:55,518]\u001b[0m Trial 43 finished with value: 0.49084260707702154 and parameters: {'lambda_l1': 0.0022691212969404373, 'lambda_l2': 1.5093422566993636e-06}. Best is trial 43 with value: 0.49084260707702154.\u001b[0m\n",
      "regularization_factors, val_score: 0.490843:   5%|#9                                    | 1/20 [00:01<00:23,  1.26s/it]"
     ]
    },
    {
     "name": "stdout",
     "output_type": "stream",
     "text": [
      "Early stopping, best iteration is:\n",
      "[39]\tvalid_0's binary_logloss: 0.428373\tvalid_1's binary_logloss: 0.490843\n",
      "[LightGBM] [Info] Number of positive: 4593, number of negative: 16706\n",
      "[LightGBM] [Warning] Auto-choosing col-wise multi-threading, the overhead of testing was 0.016555 seconds.\n",
      "You can set `force_col_wise=true` to remove the overhead.\n",
      "[LightGBM] [Info] Total Bins 12024\n",
      "[LightGBM] [Info] Number of data points in the train set: 21299, number of used features: 89\n",
      "[LightGBM] [Info] [binary:BoostFromScore]: pavg=0.215644 -> initscore=-1.291235\n",
      "[LightGBM] [Info] Start training from score -1.291235\n",
      "Training until validation scores don't improve for 10 rounds\n"
     ]
    },
    {
     "name": "stderr",
     "output_type": "stream",
     "text": [
      "regularization_factors, val_score: 0.490843:  10%|###8                                  | 2/20 [00:02<00:22,  1.25s/it]\u001b[32m[I 2021-06-24 22:29:56,745]\u001b[0m Trial 44 finished with value: 0.49178583886849025 and parameters: {'lambda_l1': 0.004721442193180694, 'lambda_l2': 6.82297618415248e-05}. Best is trial 43 with value: 0.49084260707702154.\u001b[0m\n",
      "regularization_factors, val_score: 0.490843:  10%|###8                                  | 2/20 [00:02<00:22,  1.25s/it]"
     ]
    },
    {
     "name": "stdout",
     "output_type": "stream",
     "text": [
      "Early stopping, best iteration is:\n",
      "[39]\tvalid_0's binary_logloss: 0.427342\tvalid_1's binary_logloss: 0.491786\n",
      "[LightGBM] [Info] Number of positive: 4593, number of negative: 16706\n",
      "[LightGBM] [Warning] Auto-choosing col-wise multi-threading, the overhead of testing was 0.014520 seconds.\n",
      "You can set `force_col_wise=true` to remove the overhead.\n",
      "[LightGBM] [Info] Total Bins 12024\n",
      "[LightGBM] [Info] Number of data points in the train set: 21299, number of used features: 89\n",
      "[LightGBM] [Info] [binary:BoostFromScore]: pavg=0.215644 -> initscore=-1.291235\n",
      "[LightGBM] [Info] Start training from score -1.291235\n",
      "Training until validation scores don't improve for 10 rounds\n"
     ]
    },
    {
     "name": "stderr",
     "output_type": "stream",
     "text": [
      "regularization_factors, val_score: 0.490843:  15%|#####7                                | 3/20 [00:03<00:21,  1.25s/it]\u001b[32m[I 2021-06-24 22:29:58,015]\u001b[0m Trial 45 finished with value: 0.4911300584294126 and parameters: {'lambda_l1': 0.017737264313284644, 'lambda_l2': 7.578028902298339e-05}. Best is trial 43 with value: 0.49084260707702154.\u001b[0m\n",
      "regularization_factors, val_score: 0.490843:  15%|#####7                                | 3/20 [00:03<00:21,  1.25s/it]"
     ]
    },
    {
     "name": "stdout",
     "output_type": "stream",
     "text": [
      "Early stopping, best iteration is:\n",
      "[39]\tvalid_0's binary_logloss: 0.427464\tvalid_1's binary_logloss: 0.49113\n",
      "[LightGBM] [Info] Number of positive: 4593, number of negative: 16706\n",
      "[LightGBM] [Warning] Auto-choosing col-wise multi-threading, the overhead of testing was 0.016122 seconds.\n",
      "You can set `force_col_wise=true` to remove the overhead.\n",
      "[LightGBM] [Info] Total Bins 12024\n",
      "[LightGBM] [Info] Number of data points in the train set: 21299, number of used features: 89\n",
      "[LightGBM] [Info] [binary:BoostFromScore]: pavg=0.215644 -> initscore=-1.291235\n",
      "[LightGBM] [Info] Start training from score -1.291235\n",
      "Training until validation scores don't improve for 10 rounds\n"
     ]
    },
    {
     "name": "stderr",
     "output_type": "stream",
     "text": [
      "regularization_factors, val_score: 0.490843:  20%|#######6                              | 4/20 [00:05<00:20,  1.26s/it]\u001b[32m[I 2021-06-24 22:29:59,280]\u001b[0m Trial 46 finished with value: 0.49226281073498673 and parameters: {'lambda_l1': 0.06050852992675946, 'lambda_l2': 4.36898694929473e-06}. Best is trial 43 with value: 0.49084260707702154.\u001b[0m\n",
      "regularization_factors, val_score: 0.490843:  20%|#######6                              | 4/20 [00:05<00:20,  1.26s/it]"
     ]
    },
    {
     "name": "stdout",
     "output_type": "stream",
     "text": [
      "Early stopping, best iteration is:\n",
      "[41]\tvalid_0's binary_logloss: 0.426024\tvalid_1's binary_logloss: 0.492263\n",
      "[LightGBM] [Info] Number of positive: 4593, number of negative: 16706\n",
      "[LightGBM] [Warning] Auto-choosing col-wise multi-threading, the overhead of testing was 0.015425 seconds.\n",
      "You can set `force_col_wise=true` to remove the overhead.\n",
      "[LightGBM] [Info] Total Bins 12024\n",
      "[LightGBM] [Info] Number of data points in the train set: 21299, number of used features: 89\n",
      "[LightGBM] [Info] [binary:BoostFromScore]: pavg=0.215644 -> initscore=-1.291235\n",
      "[LightGBM] [Info] Start training from score -1.291235\n",
      "Training until validation scores don't improve for 10 rounds\n"
     ]
    },
    {
     "name": "stderr",
     "output_type": "stream",
     "text": [
      "regularization_factors, val_score: 0.490843:  25%|#########5                            | 5/20 [00:06<00:18,  1.25s/it]\u001b[32m[I 2021-06-24 22:30:00,509]\u001b[0m Trial 47 finished with value: 0.4908429761830425 and parameters: {'lambda_l1': 0.00010191951199867243, 'lambda_l2': 3.949987195387564e-07}. Best is trial 43 with value: 0.49084260707702154.\u001b[0m\n",
      "regularization_factors, val_score: 0.490843:  25%|#########5                            | 5/20 [00:06<00:18,  1.25s/it]"
     ]
    },
    {
     "name": "stdout",
     "output_type": "stream",
     "text": [
      "Early stopping, best iteration is:\n",
      "[39]\tvalid_0's binary_logloss: 0.428366\tvalid_1's binary_logloss: 0.490843\n",
      "[LightGBM] [Info] Number of positive: 4593, number of negative: 16706\n",
      "[LightGBM] [Warning] Auto-choosing col-wise multi-threading, the overhead of testing was 0.019817 seconds.\n",
      "You can set `force_col_wise=true` to remove the overhead.\n",
      "[LightGBM] [Info] Total Bins 12024\n",
      "[LightGBM] [Info] Number of data points in the train set: 21299, number of used features: 89\n",
      "[LightGBM] [Info] [binary:BoostFromScore]: pavg=0.215644 -> initscore=-1.291235\n",
      "[LightGBM] [Info] Start training from score -1.291235\n",
      "Training until validation scores don't improve for 10 rounds\n"
     ]
    },
    {
     "name": "stderr",
     "output_type": "stream",
     "text": [
      "regularization_factors, val_score: 0.490843:  30%|###########4                          | 6/20 [00:07<00:17,  1.23s/it]\u001b[32m[I 2021-06-24 22:30:01,701]\u001b[0m Trial 48 finished with value: 0.49223753158907807 and parameters: {'lambda_l1': 1.5426665225814503e-08, 'lambda_l2': 0.029711594726138414}. Best is trial 43 with value: 0.49084260707702154.\u001b[0m\n",
      "regularization_factors, val_score: 0.490843:  30%|###########4                          | 6/20 [00:07<00:17,  1.23s/it]"
     ]
    },
    {
     "name": "stdout",
     "output_type": "stream",
     "text": [
      "Early stopping, best iteration is:\n",
      "[36]\tvalid_0's binary_logloss: 0.431453\tvalid_1's binary_logloss: 0.492238\n",
      "[LightGBM] [Info] Number of positive: 4593, number of negative: 16706\n",
      "[LightGBM] [Warning] Auto-choosing col-wise multi-threading, the overhead of testing was 0.012758 seconds.\n",
      "You can set `force_col_wise=true` to remove the overhead.\n",
      "[LightGBM] [Info] Total Bins 12024\n",
      "[LightGBM] [Info] Number of data points in the train set: 21299, number of used features: 89\n",
      "[LightGBM] [Info] [binary:BoostFromScore]: pavg=0.215644 -> initscore=-1.291235\n",
      "[LightGBM] [Info] Start training from score -1.291235\n",
      "Training until validation scores don't improve for 10 rounds\n"
     ]
    },
    {
     "name": "stderr",
     "output_type": "stream",
     "text": [
      "regularization_factors, val_score: 0.490843:  35%|#############3                        | 7/20 [00:08<00:16,  1.23s/it]\u001b[32m[I 2021-06-24 22:30:02,929]\u001b[0m Trial 49 finished with value: 0.49084296433232777 and parameters: {'lambda_l1': 8.257611848424996e-08, 'lambda_l2': 9.877483535877338e-05}. Best is trial 43 with value: 0.49084260707702154.\u001b[0m\n",
      "regularization_factors, val_score: 0.490843:  35%|#############3                        | 7/20 [00:08<00:16,  1.23s/it]"
     ]
    },
    {
     "name": "stdout",
     "output_type": "stream",
     "text": [
      "Early stopping, best iteration is:\n",
      "[39]\tvalid_0's binary_logloss: 0.428367\tvalid_1's binary_logloss: 0.490843\n",
      "[LightGBM] [Info] Number of positive: 4593, number of negative: 16706\n",
      "[LightGBM] [Warning] Auto-choosing col-wise multi-threading, the overhead of testing was 0.012969 seconds.\n",
      "You can set `force_col_wise=true` to remove the overhead.\n",
      "[LightGBM] [Info] Total Bins 12024\n",
      "[LightGBM] [Info] Number of data points in the train set: 21299, number of used features: 89\n",
      "[LightGBM] [Info] [binary:BoostFromScore]: pavg=0.215644 -> initscore=-1.291235\n",
      "[LightGBM] [Info] Start training from score -1.291235\n",
      "Training until validation scores don't improve for 10 rounds\n"
     ]
    },
    {
     "name": "stderr",
     "output_type": "stream",
     "text": [
      "regularization_factors, val_score: 0.490843:  40%|###############2                      | 8/20 [00:09<00:14,  1.23s/it]\u001b[32m[I 2021-06-24 22:30:04,152]\u001b[0m Trial 50 finished with value: 0.49084299362983536 and parameters: {'lambda_l1': 1.2692097285955769e-07, 'lambda_l2': 3.3465040298310997e-08}. Best is trial 43 with value: 0.49084260707702154.\u001b[0m\n",
      "regularization_factors, val_score: 0.490843:  40%|###############2                      | 8/20 [00:09<00:14,  1.23s/it]"
     ]
    },
    {
     "name": "stdout",
     "output_type": "stream",
     "text": [
      "Early stopping, best iteration is:\n",
      "[39]\tvalid_0's binary_logloss: 0.428366\tvalid_1's binary_logloss: 0.490843\n",
      "[LightGBM] [Info] Number of positive: 4593, number of negative: 16706\n",
      "[LightGBM] [Warning] Auto-choosing col-wise multi-threading, the overhead of testing was 0.014987 seconds.\n",
      "You can set `force_col_wise=true` to remove the overhead.\n",
      "[LightGBM] [Info] Total Bins 12024\n",
      "[LightGBM] [Info] Number of data points in the train set: 21299, number of used features: 89\n",
      "[LightGBM] [Info] [binary:BoostFromScore]: pavg=0.215644 -> initscore=-1.291235\n",
      "[LightGBM] [Info] Start training from score -1.291235\n",
      "Training until validation scores don't improve for 10 rounds\n"
     ]
    },
    {
     "name": "stderr",
     "output_type": "stream",
     "text": [
      "regularization_factors, val_score: 0.490843:  45%|#################1                    | 9/20 [00:11<00:13,  1.22s/it]\u001b[32m[I 2021-06-24 22:30:05,336]\u001b[0m Trial 51 finished with value: 0.4922362186177201 and parameters: {'lambda_l1': 3.400948910823334e-07, 'lambda_l2': 0.03440868626590311}. Best is trial 43 with value: 0.49084260707702154.\u001b[0m\n",
      "regularization_factors, val_score: 0.490843:  45%|#################1                    | 9/20 [00:11<00:13,  1.22s/it]"
     ]
    },
    {
     "name": "stdout",
     "output_type": "stream",
     "text": [
      "Early stopping, best iteration is:\n",
      "[36]\tvalid_0's binary_logloss: 0.431472\tvalid_1's binary_logloss: 0.492236\n",
      "[LightGBM] [Info] Number of positive: 4593, number of negative: 16706\n",
      "[LightGBM] [Warning] Auto-choosing col-wise multi-threading, the overhead of testing was 0.017795 seconds.\n",
      "You can set `force_col_wise=true` to remove the overhead.\n",
      "[LightGBM] [Info] Total Bins 12024\n",
      "[LightGBM] [Info] Number of data points in the train set: 21299, number of used features: 89\n",
      "[LightGBM] [Info] [binary:BoostFromScore]: pavg=0.215644 -> initscore=-1.291235\n",
      "[LightGBM] [Info] Start training from score -1.291235\n",
      "Training until validation scores don't improve for 10 rounds\n"
     ]
    },
    {
     "name": "stderr",
     "output_type": "stream",
     "text": [
      "regularization_factors, val_score: 0.490843:  50%|##################5                  | 10/20 [00:12<00:12,  1.21s/it]\u001b[32m[I 2021-06-24 22:30:06,525]\u001b[0m Trial 52 finished with value: 0.4908429935516017 and parameters: {'lambda_l1': 8.40195507187818e-08, 'lambda_l2': 3.008970208874965e-07}. Best is trial 43 with value: 0.49084260707702154.\u001b[0m\n",
      "regularization_factors, val_score: 0.490843:  50%|##################5                  | 10/20 [00:12<00:12,  1.21s/it]"
     ]
    },
    {
     "name": "stdout",
     "output_type": "stream",
     "text": [
      "Early stopping, best iteration is:\n",
      "[39]\tvalid_0's binary_logloss: 0.428366\tvalid_1's binary_logloss: 0.490843\n",
      "[LightGBM] [Info] Number of positive: 4593, number of negative: 16706\n",
      "[LightGBM] [Warning] Auto-choosing col-wise multi-threading, the overhead of testing was 0.026630 seconds.\n",
      "You can set `force_col_wise=true` to remove the overhead.\n",
      "[LightGBM] [Info] Total Bins 12024\n",
      "[LightGBM] [Info] Number of data points in the train set: 21299, number of used features: 89\n",
      "[LightGBM] [Info] [binary:BoostFromScore]: pavg=0.215644 -> initscore=-1.291235\n",
      "[LightGBM] [Info] Start training from score -1.291235\n",
      "Training until validation scores don't improve for 10 rounds\n"
     ]
    },
    {
     "name": "stderr",
     "output_type": "stream",
     "text": [
      "regularization_factors, val_score: 0.490843:  55%|####################3                | 11/20 [00:13<00:11,  1.24s/it]\u001b[32m[I 2021-06-24 22:30:07,832]\u001b[0m Trial 53 finished with value: 0.49130551478341666 and parameters: {'lambda_l1': 2.6924704964481703e-05, 'lambda_l2': 2.254579548783477}. Best is trial 43 with value: 0.49084260707702154.\u001b[0m\n",
      "regularization_factors, val_score: 0.490843:  55%|####################3                | 11/20 [00:13<00:11,  1.24s/it]"
     ]
    },
    {
     "name": "stdout",
     "output_type": "stream",
     "text": [
      "Early stopping, best iteration is:\n",
      "[44]\tvalid_0's binary_logloss: 0.427214\tvalid_1's binary_logloss: 0.491306\n",
      "[LightGBM] [Info] Number of positive: 4593, number of negative: 16706\n",
      "[LightGBM] [Warning] Auto-choosing col-wise multi-threading, the overhead of testing was 0.015014 seconds.\n",
      "You can set `force_col_wise=true` to remove the overhead.\n",
      "[LightGBM] [Info] Total Bins 12024\n",
      "[LightGBM] [Info] Number of data points in the train set: 21299, number of used features: 89\n",
      "[LightGBM] [Info] [binary:BoostFromScore]: pavg=0.215644 -> initscore=-1.291235\n",
      "[LightGBM] [Info] Start training from score -1.291235\n",
      "Training until validation scores don't improve for 10 rounds\n"
     ]
    },
    {
     "name": "stderr",
     "output_type": "stream",
     "text": [
      "regularization_factors, val_score: 0.490010:  60%|######################2              | 12/20 [00:14<00:10,  1.25s/it]\u001b[32m[I 2021-06-24 22:30:09,120]\u001b[0m Trial 54 finished with value: 0.49000951740814025 and parameters: {'lambda_l1': 1.658465046145148, 'lambda_l2': 0.0060537731975444506}. Best is trial 54 with value: 0.49000951740814025.\u001b[0m\n",
      "regularization_factors, val_score: 0.490010:  60%|######################2              | 12/20 [00:14<00:10,  1.25s/it]"
     ]
    },
    {
     "name": "stdout",
     "output_type": "stream",
     "text": [
      "Early stopping, best iteration is:\n",
      "[44]\tvalid_0's binary_logloss: 0.425948\tvalid_1's binary_logloss: 0.49001\n",
      "[LightGBM] [Info] Number of positive: 4593, number of negative: 16706\n",
      "[LightGBM] [Warning] Auto-choosing col-wise multi-threading, the overhead of testing was 0.015716 seconds.\n",
      "You can set `force_col_wise=true` to remove the overhead.\n",
      "[LightGBM] [Info] Total Bins 12024\n",
      "[LightGBM] [Info] Number of data points in the train set: 21299, number of used features: 89\n",
      "[LightGBM] [Info] [binary:BoostFromScore]: pavg=0.215644 -> initscore=-1.291235\n",
      "[LightGBM] [Info] Start training from score -1.291235\n",
      "Training until validation scores don't improve for 10 rounds\n"
     ]
    },
    {
     "name": "stderr",
     "output_type": "stream",
     "text": [
      "regularization_factors, val_score: 0.490010:  65%|########################             | 13/20 [00:16<00:08,  1.25s/it]\u001b[32m[I 2021-06-24 22:30:10,369]\u001b[0m Trial 55 finished with value: 0.49241315463725843 and parameters: {'lambda_l1': 6.246304629177653, 'lambda_l2': 0.007619680771420195}. Best is trial 54 with value: 0.49000951740814025.\u001b[0m\n",
      "regularization_factors, val_score: 0.490010:  65%|########################             | 13/20 [00:16<00:08,  1.25s/it]"
     ]
    },
    {
     "name": "stdout",
     "output_type": "stream",
     "text": [
      "Early stopping, best iteration is:\n",
      "[40]\tvalid_0's binary_logloss: 0.439529\tvalid_1's binary_logloss: 0.492413\n",
      "[LightGBM] [Info] Number of positive: 4593, number of negative: 16706\n",
      "[LightGBM] [Warning] Auto-choosing col-wise multi-threading, the overhead of testing was 0.012544 seconds.\n",
      "You can set `force_col_wise=true` to remove the overhead.\n",
      "[LightGBM] [Info] Total Bins 12024\n",
      "[LightGBM] [Info] Number of data points in the train set: 21299, number of used features: 89\n",
      "[LightGBM] [Info] [binary:BoostFromScore]: pavg=0.215644 -> initscore=-1.291235\n",
      "[LightGBM] [Info] Start training from score -1.291235\n",
      "Training until validation scores don't improve for 10 rounds\n"
     ]
    },
    {
     "name": "stderr",
     "output_type": "stream",
     "text": [
      "regularization_factors, val_score: 0.490010:  70%|#########################9           | 14/20 [00:17<00:07,  1.25s/it]\u001b[32m[I 2021-06-24 22:30:11,621]\u001b[0m Trial 56 finished with value: 0.4922383264585598 and parameters: {'lambda_l1': 9.726010126024066, 'lambda_l2': 0.000934204281269854}. Best is trial 54 with value: 0.49000951740814025.\u001b[0m\n",
      "regularization_factors, val_score: 0.490010:  70%|#########################9           | 14/20 [00:17<00:07,  1.25s/it]"
     ]
    },
    {
     "name": "stdout",
     "output_type": "stream",
     "text": [
      "Early stopping, best iteration is:\n",
      "[39]\tvalid_0's binary_logloss: 0.445422\tvalid_1's binary_logloss: 0.492238\n",
      "[LightGBM] [Info] Number of positive: 4593, number of negative: 16706\n",
      "[LightGBM] [Warning] Auto-choosing col-wise multi-threading, the overhead of testing was 0.016082 seconds.\n",
      "You can set `force_col_wise=true` to remove the overhead.\n",
      "[LightGBM] [Info] Total Bins 12024\n",
      "[LightGBM] [Info] Number of data points in the train set: 21299, number of used features: 89\n",
      "[LightGBM] [Info] [binary:BoostFromScore]: pavg=0.215644 -> initscore=-1.291235\n",
      "[LightGBM] [Info] Start training from score -1.291235\n",
      "Training until validation scores don't improve for 10 rounds\n"
     ]
    },
    {
     "name": "stderr",
     "output_type": "stream",
     "text": [
      "regularization_factors, val_score: 0.490010:  75%|###########################7         | 15/20 [00:18<00:06,  1.29s/it]\u001b[32m[I 2021-06-24 22:30:12,987]\u001b[0m Trial 57 finished with value: 0.4912769218484621 and parameters: {'lambda_l1': 0.5612332376635889, 'lambda_l2': 4.403625734553216}. Best is trial 54 with value: 0.49000951740814025.\u001b[0m\n",
      "regularization_factors, val_score: 0.490010:  75%|###########################7         | 15/20 [00:18<00:06,  1.29s/it]"
     ]
    },
    {
     "name": "stdout",
     "output_type": "stream",
     "text": [
      "Early stopping, best iteration is:\n",
      "[39]\tvalid_0's binary_logloss: 0.434557\tvalid_1's binary_logloss: 0.491277\n",
      "[LightGBM] [Info] Number of positive: 4593, number of negative: 16706\n",
      "[LightGBM] [Warning] Auto-choosing col-wise multi-threading, the overhead of testing was 0.016064 seconds.\n",
      "You can set `force_col_wise=true` to remove the overhead.\n",
      "[LightGBM] [Info] Total Bins 12024\n",
      "[LightGBM] [Info] Number of data points in the train set: 21299, number of used features: 89\n",
      "[LightGBM] [Info] [binary:BoostFromScore]: pavg=0.215644 -> initscore=-1.291235\n",
      "[LightGBM] [Info] Start training from score -1.291235\n",
      "Training until validation scores don't improve for 10 rounds\n"
     ]
    },
    {
     "name": "stderr",
     "output_type": "stream",
     "text": [
      "regularization_factors, val_score: 0.490010:  80%|#############################6       | 16/20 [00:20<00:05,  1.33s/it]\u001b[32m[I 2021-06-24 22:30:14,409]\u001b[0m Trial 58 finished with value: 0.490698994087651 and parameters: {'lambda_l1': 0.0011784207580804345, 'lambda_l2': 0.2882183755557036}. Best is trial 54 with value: 0.49000951740814025.\u001b[0m\n",
      "regularization_factors, val_score: 0.490010:  80%|#############################6       | 16/20 [00:20<00:05,  1.33s/it]"
     ]
    },
    {
     "name": "stdout",
     "output_type": "stream",
     "text": [
      "Early stopping, best iteration is:\n",
      "[40]\tvalid_0's binary_logloss: 0.428008\tvalid_1's binary_logloss: 0.490699\n",
      "[LightGBM] [Info] Number of positive: 4593, number of negative: 16706\n",
      "[LightGBM] [Warning] Auto-choosing col-wise multi-threading, the overhead of testing was 0.016342 seconds.\n",
      "You can set `force_col_wise=true` to remove the overhead.\n",
      "[LightGBM] [Info] Total Bins 12024\n",
      "[LightGBM] [Info] Number of data points in the train set: 21299, number of used features: 89\n",
      "[LightGBM] [Info] [binary:BoostFromScore]: pavg=0.215644 -> initscore=-1.291235\n",
      "[LightGBM] [Info] Start training from score -1.291235\n",
      "Training until validation scores don't improve for 10 rounds\n"
     ]
    },
    {
     "name": "stderr",
     "output_type": "stream",
     "text": [
      "regularization_factors, val_score: 0.490010:  85%|###############################4     | 17/20 [00:21<00:03,  1.32s/it]\u001b[32m[I 2021-06-24 22:30:15,724]\u001b[0m Trial 59 finished with value: 0.4911889932736681 and parameters: {'lambda_l1': 1.2462163508594475e-05, 'lambda_l2': 0.25635679124437244}. Best is trial 54 with value: 0.49000951740814025.\u001b[0m\n",
      "regularization_factors, val_score: 0.490010:  85%|###############################4     | 17/20 [00:21<00:03,  1.32s/it]"
     ]
    },
    {
     "name": "stdout",
     "output_type": "stream",
     "text": [
      "Early stopping, best iteration is:\n",
      "[39]\tvalid_0's binary_logloss: 0.428726\tvalid_1's binary_logloss: 0.491189\n",
      "[LightGBM] [Info] Number of positive: 4593, number of negative: 16706\n",
      "[LightGBM] [Warning] Auto-choosing col-wise multi-threading, the overhead of testing was 0.014905 seconds.\n",
      "You can set `force_col_wise=true` to remove the overhead.\n",
      "[LightGBM] [Info] Total Bins 12024\n",
      "[LightGBM] [Info] Number of data points in the train set: 21299, number of used features: 89\n",
      "[LightGBM] [Info] [binary:BoostFromScore]: pavg=0.215644 -> initscore=-1.291235\n",
      "[LightGBM] [Info] Start training from score -1.291235\n",
      "Training until validation scores don't improve for 10 rounds\n"
     ]
    },
    {
     "name": "stderr",
     "output_type": "stream",
     "text": [
      "regularization_factors, val_score: 0.490010:  90%|#################################3   | 18/20 [00:22<00:02,  1.33s/it]\u001b[32m[I 2021-06-24 22:30:17,079]\u001b[0m Trial 60 finished with value: 0.4909643185661707 and parameters: {'lambda_l1': 0.4076929473637614, 'lambda_l2': 0.5305058927674965}. Best is trial 54 with value: 0.49000951740814025.\u001b[0m\n",
      "regularization_factors, val_score: 0.490010:  90%|#################################3   | 18/20 [00:22<00:02,  1.33s/it]"
     ]
    },
    {
     "name": "stdout",
     "output_type": "stream",
     "text": [
      "Early stopping, best iteration is:\n",
      "[43]\tvalid_0's binary_logloss: 0.425222\tvalid_1's binary_logloss: 0.490964\n",
      "[LightGBM] [Info] Number of positive: 4593, number of negative: 16706\n",
      "[LightGBM] [Warning] Auto-choosing col-wise multi-threading, the overhead of testing was 0.016926 seconds.\n",
      "You can set `force_col_wise=true` to remove the overhead.\n",
      "[LightGBM] [Info] Total Bins 12024\n",
      "[LightGBM] [Info] Number of data points in the train set: 21299, number of used features: 89\n",
      "[LightGBM] [Info] [binary:BoostFromScore]: pavg=0.215644 -> initscore=-1.291235\n",
      "[LightGBM] [Info] Start training from score -1.291235\n",
      "Training until validation scores don't improve for 10 rounds\n"
     ]
    },
    {
     "name": "stderr",
     "output_type": "stream",
     "text": [
      "regularization_factors, val_score: 0.490010:  95%|###################################1 | 19/20 [00:24<00:01,  1.31s/it]\u001b[32m[I 2021-06-24 22:30:18,335]\u001b[0m Trial 61 finished with value: 0.4908424064212393 and parameters: {'lambda_l1': 0.0004988111227042922, 'lambda_l2': 0.0016936250867072233}. Best is trial 54 with value: 0.49000951740814025.\u001b[0m\n",
      "regularization_factors, val_score: 0.490010:  95%|###################################1 | 19/20 [00:24<00:01,  1.31s/it]"
     ]
    },
    {
     "name": "stdout",
     "output_type": "stream",
     "text": [
      "Early stopping, best iteration is:\n",
      "[39]\tvalid_0's binary_logloss: 0.428375\tvalid_1's binary_logloss: 0.490842\n",
      "[LightGBM] [Info] Number of positive: 4593, number of negative: 16706\n",
      "[LightGBM] [Warning] Auto-choosing col-wise multi-threading, the overhead of testing was 0.015747 seconds.\n",
      "You can set `force_col_wise=true` to remove the overhead.\n",
      "[LightGBM] [Info] Total Bins 12024\n",
      "[LightGBM] [Info] Number of data points in the train set: 21299, number of used features: 89\n",
      "[LightGBM] [Info] [binary:BoostFromScore]: pavg=0.215644 -> initscore=-1.291235\n",
      "[LightGBM] [Info] Start training from score -1.291235\n",
      "Training until validation scores don't improve for 10 rounds\n"
     ]
    },
    {
     "name": "stderr",
     "output_type": "stream",
     "text": [
      "regularization_factors, val_score: 0.490010: 100%|#####################################| 20/20 [00:25<00:00,  1.30s/it]\u001b[32m[I 2021-06-24 22:30:19,604]\u001b[0m Trial 62 finished with value: 0.490965882926264 and parameters: {'lambda_l1': 1.4998946086434485e-06, 'lambda_l2': 0.13207937669143183}. Best is trial 54 with value: 0.49000951740814025.\u001b[0m\n",
      "regularization_factors, val_score: 0.490010: 100%|#####################################| 20/20 [00:25<00:00,  1.27s/it]\n",
      "min_data_in_leaf, val_score: 0.490010:   0%|                                                     | 0/5 [00:00<?, ?it/s]"
     ]
    },
    {
     "name": "stdout",
     "output_type": "stream",
     "text": [
      "Early stopping, best iteration is:\n",
      "[40]\tvalid_0's binary_logloss: 0.427325\tvalid_1's binary_logloss: 0.490966\n",
      "[LightGBM] [Info] Number of positive: 4593, number of negative: 16706\n",
      "[LightGBM] [Warning] Auto-choosing col-wise multi-threading, the overhead of testing was 0.012322 seconds.\n",
      "You can set `force_col_wise=true` to remove the overhead.\n",
      "[LightGBM] [Info] Total Bins 12024\n",
      "[LightGBM] [Info] Number of data points in the train set: 21299, number of used features: 89\n",
      "[LightGBM] [Info] [binary:BoostFromScore]: pavg=0.215644 -> initscore=-1.291235\n",
      "[LightGBM] [Info] Start training from score -1.291235\n",
      "Training until validation scores don't improve for 10 rounds\n"
     ]
    },
    {
     "name": "stderr",
     "output_type": "stream",
     "text": [
      "min_data_in_leaf, val_score: 0.490010:  20%|#########                                    | 1/5 [00:01<00:05,  1.30s/it]\u001b[32m[I 2021-06-24 22:30:20,932]\u001b[0m Trial 63 finished with value: 0.4912597213446713 and parameters: {'min_child_samples': 10}. Best is trial 63 with value: 0.4912597213446713.\u001b[0m\n",
      "min_data_in_leaf, val_score: 0.490010:  20%|#########                                    | 1/5 [00:01<00:05,  1.30s/it]"
     ]
    },
    {
     "name": "stdout",
     "output_type": "stream",
     "text": [
      "Early stopping, best iteration is:\n",
      "[39]\tvalid_0's binary_logloss: 0.43063\tvalid_1's binary_logloss: 0.49126\n",
      "[LightGBM] [Info] Number of positive: 4593, number of negative: 16706\n",
      "[LightGBM] [Warning] Auto-choosing col-wise multi-threading, the overhead of testing was 0.012742 seconds.\n",
      "You can set `force_col_wise=true` to remove the overhead.\n",
      "[LightGBM] [Info] Total Bins 12024\n",
      "[LightGBM] [Info] Number of data points in the train set: 21299, number of used features: 89\n",
      "[LightGBM] [Info] [binary:BoostFromScore]: pavg=0.215644 -> initscore=-1.291235\n",
      "[LightGBM] [Info] Start training from score -1.291235\n",
      "Training until validation scores don't improve for 10 rounds\n"
     ]
    },
    {
     "name": "stderr",
     "output_type": "stream",
     "text": [
      "min_data_in_leaf, val_score: 0.490010:  40%|##################                           | 2/5 [00:02<00:03,  1.31s/it]\u001b[32m[I 2021-06-24 22:30:22,259]\u001b[0m Trial 64 finished with value: 0.49288066093207233 and parameters: {'min_child_samples': 100}. Best is trial 63 with value: 0.4912597213446713.\u001b[0m\n",
      "min_data_in_leaf, val_score: 0.490010:  40%|##################                           | 2/5 [00:02<00:03,  1.31s/it]"
     ]
    },
    {
     "name": "stdout",
     "output_type": "stream",
     "text": [
      "Early stopping, best iteration is:\n",
      "[48]\tvalid_0's binary_logloss: 0.424409\tvalid_1's binary_logloss: 0.492881\n",
      "[LightGBM] [Info] Number of positive: 4593, number of negative: 16706\n",
      "[LightGBM] [Warning] Auto-choosing col-wise multi-threading, the overhead of testing was 0.017488 seconds.\n",
      "You can set `force_col_wise=true` to remove the overhead.\n",
      "[LightGBM] [Info] Total Bins 12024\n",
      "[LightGBM] [Info] Number of data points in the train set: 21299, number of used features: 89\n",
      "[LightGBM] [Info] [binary:BoostFromScore]: pavg=0.215644 -> initscore=-1.291235\n",
      "[LightGBM] [Info] Start training from score -1.291235\n",
      "Training until validation scores don't improve for 10 rounds\n"
     ]
    },
    {
     "name": "stderr",
     "output_type": "stream",
     "text": [
      "min_data_in_leaf, val_score: 0.490010:  60%|###########################                  | 3/5 [00:03<00:02,  1.30s/it]\u001b[32m[I 2021-06-24 22:30:23,543]\u001b[0m Trial 65 finished with value: 0.491141530264772 and parameters: {'min_child_samples': 25}. Best is trial 65 with value: 0.491141530264772.\u001b[0m\n",
      "min_data_in_leaf, val_score: 0.490010:  60%|###########################                  | 3/5 [00:03<00:02,  1.30s/it]"
     ]
    },
    {
     "name": "stdout",
     "output_type": "stream",
     "text": [
      "Early stopping, best iteration is:\n",
      "[41]\tvalid_0's binary_logloss: 0.429129\tvalid_1's binary_logloss: 0.491142\n",
      "[LightGBM] [Info] Number of positive: 4593, number of negative: 16706\n",
      "[LightGBM] [Warning] Auto-choosing col-wise multi-threading, the overhead of testing was 0.020693 seconds.\n",
      "You can set `force_col_wise=true` to remove the overhead.\n",
      "[LightGBM] [Info] Total Bins 12024\n",
      "[LightGBM] [Info] Number of data points in the train set: 21299, number of used features: 89\n",
      "[LightGBM] [Info] [binary:BoostFromScore]: pavg=0.215644 -> initscore=-1.291235\n",
      "[LightGBM] [Info] Start training from score -1.291235\n",
      "Training until validation scores don't improve for 10 rounds\n"
     ]
    },
    {
     "name": "stderr",
     "output_type": "stream",
     "text": [
      "min_data_in_leaf, val_score: 0.490010:  80%|####################################         | 4/5 [00:05<00:01,  1.26s/it]\u001b[32m[I 2021-06-24 22:30:24,701]\u001b[0m Trial 66 finished with value: 0.49185268703451684 and parameters: {'min_child_samples': 50}. Best is trial 65 with value: 0.491141530264772.\u001b[0m\n",
      "min_data_in_leaf, val_score: 0.490010:  80%|####################################         | 4/5 [00:05<00:01,  1.26s/it]"
     ]
    },
    {
     "name": "stdout",
     "output_type": "stream",
     "text": [
      "Early stopping, best iteration is:\n",
      "[34]\tvalid_0's binary_logloss: 0.43822\tvalid_1's binary_logloss: 0.491853\n",
      "[LightGBM] [Info] Number of positive: 4593, number of negative: 16706\n",
      "[LightGBM] [Warning] Auto-choosing col-wise multi-threading, the overhead of testing was 0.015017 seconds.\n",
      "You can set `force_col_wise=true` to remove the overhead.\n",
      "[LightGBM] [Info] Total Bins 12024\n",
      "[LightGBM] [Info] Number of data points in the train set: 21299, number of used features: 89\n",
      "[LightGBM] [Info] [binary:BoostFromScore]: pavg=0.215644 -> initscore=-1.291235\n",
      "[LightGBM] [Info] Start training from score -1.291235\n",
      "Training until validation scores don't improve for 10 rounds\n"
     ]
    },
    {
     "name": "stderr",
     "output_type": "stream",
     "text": [
      "min_data_in_leaf, val_score: 0.490010: 100%|#############################################| 5/5 [00:06<00:00,  1.27s/it]\u001b[32m[I 2021-06-24 22:30:26,006]\u001b[0m Trial 67 finished with value: 0.49008661758465144 and parameters: {'min_child_samples': 5}. Best is trial 67 with value: 0.49008661758465144.\u001b[0m\n",
      "min_data_in_leaf, val_score: 0.490010: 100%|#############################################| 5/5 [00:06<00:00,  1.28s/it]"
     ]
    },
    {
     "name": "stdout",
     "output_type": "stream",
     "text": [
      "Early stopping, best iteration is:\n",
      "[40]\tvalid_0's binary_logloss: 0.430199\tvalid_1's binary_logloss: 0.490087\n"
     ]
    },
    {
     "name": "stderr",
     "output_type": "stream",
     "text": [
      "\n"
     ]
    }
   ],
   "source": [
    "import optuna.integration.lightgbm as lgb_o\n",
    "\n",
    "lgb_train = lgb_o.Dataset(X_train.values, y_train.values)\n",
    "lgb_valid = lgb_o.Dataset(X_valid.values, y_valid.values)\n",
    "\n",
    "params = {\n",
    "    'objective':'binary', #2値予測の場合\n",
    "    'random_state':100\n",
    "}\n",
    "\n",
    "lgb_clf_o = lgb_o.train(params, lgb_train,\n",
    "                        valid_sets=(lgb_train, lgb_valid), \n",
    "                        verbose_eval=100, \n",
    "                        early_stopping_rounds=10)"
   ]
  },
  {
   "cell_type": "code",
   "execution_count": 352,
   "metadata": {},
   "outputs": [
    {
     "data": {
      "text/plain": [
       "{'objective': 'binary',\n",
       " 'random_state': 100,\n",
       " 'feature_pre_filter': False,\n",
       " 'lambda_l1': 1.658465046145148,\n",
       " 'lambda_l2': 0.0060537731975444506,\n",
       " 'num_leaves': 31,\n",
       " 'feature_fraction': 0.6479999999999999,\n",
       " 'bagging_fraction': 1.0,\n",
       " 'bagging_freq': 0,\n",
       " 'min_child_samples': 20,\n",
       " 'num_iterations': 1000,\n",
       " 'early_stopping_round': 10}"
      ]
     },
     "execution_count": 352,
     "metadata": {},
     "output_type": "execute_result"
    }
   ],
   "source": [
    "#最適化されたパラメータを確認\n",
    "lgb_clf_o.params"
   ]
  },
  {
   "cell_type": "markdown",
   "metadata": {},
   "source": [
    "## LightGBM"
   ]
  },
  {
   "cell_type": "code",
   "execution_count": 353,
   "metadata": {},
   "outputs": [],
   "source": [
    "#被説明変数をrankにし、訓練データとテストデータに分割\n",
    "train, test = split_data(results_d)\n",
    "X_train = train.drop(['rank','date'], axis=1)\n",
    "y_train = train['rank']\n",
    "X_test = test.drop(['rank','date'], axis=1)\n",
    "y_test = test['rank']"
   ]
  },
  {
   "cell_type": "code",
   "execution_count": 354,
   "metadata": {},
   "outputs": [
    {
     "name": "stderr",
     "output_type": "stream",
     "text": [
      "C:\\Users\\owner\\anaconda3\\lib\\site-packages\\lightgbm\\engine.py:148: UserWarning: Found `num_iterations` in params. Will use it instead of argument\n",
      "  _log_warning(\"Found `{}` in params. Will use it instead of argument\".format(alias))\n"
     ]
    },
    {
     "name": "stdout",
     "output_type": "stream",
     "text": [
      "[LightGBM] [Warning] feature_fraction is set=0.6479999999999999, colsample_bytree=1.0 will be ignored. Current value: feature_fraction=0.6479999999999999\n",
      "[LightGBM] [Warning] lambda_l1 is set=1.658465046145148, reg_alpha=0.0 will be ignored. Current value: lambda_l1=1.658465046145148\n",
      "[LightGBM] [Warning] bagging_fraction is set=1.0, subsample=1.0 will be ignored. Current value: bagging_fraction=1.0\n",
      "[LightGBM] [Warning] lambda_l2 is set=0.0060537731975444506, reg_lambda=0.0 will be ignored. Current value: lambda_l2=0.0060537731975444506\n",
      "[LightGBM] [Warning] bagging_freq is set=0, subsample_freq=0 will be ignored. Current value: bagging_freq=0\n"
     ]
    },
    {
     "data": {
      "text/plain": [
       "LGBMClassifier(bagging_fraction=1.0, bagging_freq=0,\n",
       "               feature_fraction=0.6479999999999999, feature_pre_filter=False,\n",
       "               lambda_l1=1.658465046145148, lambda_l2=0.0060537731975444506,\n",
       "               num_iterations=1000, objective='binary', random_state=100)"
      ]
     },
     "execution_count": 354,
     "metadata": {},
     "output_type": "execute_result"
    }
   ],
   "source": [
    "import lightgbm as lgb\n",
    "from sklearn.metrics import roc_curve, roc_auc_score\n",
    "\n",
    "params = {'objective': 'binary',\n",
    " 'random_state': 100,\n",
    " 'feature_pre_filter': False,\n",
    " 'lambda_l1': 1.658465046145148,\n",
    " 'lambda_l2': 0.0060537731975444506,\n",
    " 'num_leaves': 31,\n",
    " 'feature_fraction': 0.6479999999999999,\n",
    " 'bagging_fraction': 1.0,\n",
    " 'bagging_freq': 0,\n",
    " 'min_child_samples': 20,\n",
    " 'num_iterations': 1000}\n",
    "\n",
    "lgb_clf = lgb.LGBMClassifier(**params)\n",
    "lgb_clf.fit(X_train.values, y_train.values) "
   ]
  },
  {
   "cell_type": "markdown",
   "metadata": {},
   "source": [
    "## ModelEvaluatorクラス"
   ]
  },
  {
   "cell_type": "code",
   "execution_count": 128,
   "metadata": {
    "code_folding": []
   },
   "outputs": [],
   "source": [
    "from scipy.special import comb\n",
    "\n",
    "class ModelEvaluator:\n",
    "    def __init__(self, model, return_table, std=True):\n",
    "        self.model = model\n",
    "        self.tan = Return(return_table).tan\n",
    "        self.fuku = Return(return_table).fuku\n",
    "        self.umaren = Return(return_table).umaren\n",
    "        self.std = std\n",
    "        \n",
    "    def predict_proba(self, X):\n",
    "        proba = pd.Series(self.model.predict_proba(X)[:,1], index=X.index)\n",
    "        if self.std:\n",
    "            standard_scaler = lambda x: (x-x.mean())/x.std()\n",
    "            proba = proba.groupby(level=0).transform(standard_scaler) #標準化\n",
    "            proba = (proba - proba.min())/(proba.max() - proba.min()) #MinMaxスケーリング\n",
    "        return proba\n",
    "    \n",
    "    def predict(self, X, threshold=0.5):\n",
    "        y_pred = self.predict_proba(X)\n",
    "        return [0 if p<threshold else 1 for p in y_pred]\n",
    "    \n",
    "    def score(self, y_true, X):\n",
    "        return roc_auc_score(y_true, self.predict_proba(X))\n",
    "    \n",
    "    def feature_importance(self, X, n_display=20):\n",
    "        importances = pd.DataFrame({'features': X.columns, 'importance': self.model.feature_importances_})\n",
    "        return importances.sort_values('importance', ascending=False)[:n_display]\n",
    "    \n",
    "    def pred_table(self, X, threshold=0.5, bet_only=True):\n",
    "        pred_table = X.copy()[['馬番']]\n",
    "        pred_table['pred'] = self.predict(X, threshold)\n",
    "        if bet_only:\n",
    "            return pred_table[pred_table['pred']==1]['馬番']\n",
    "        else:\n",
    "            return pred_table\n",
    "    \n",
    "    def tan_return(self, X, threshold=0.5):\n",
    "        pred_table = self.pred_table(X, threshold)\n",
    "        n_bets = len(pred_table)\n",
    "        money = -100*n_bets\n",
    "        df = self.tan.copy()\n",
    "        df = df.merge(pred_table, left_index=True, right_index=True, how='right')\n",
    "       \n",
    "        money +=df[df['win']==df['馬番']]['return'].sum()\n",
    "        return n_bets, money\n",
    "            \n",
    "    def fuku_return(self, X, threshold=0.5):\n",
    "        pred_table = self.pred_table(X, threshold)\n",
    "        n_bets = len(pred_table)\n",
    "        money = -100*n_bets\n",
    "        df = self.fuku.copy()\n",
    "        df = df.merge(pred_table, left_index=True, right_index=True, how='right')\n",
    "        for i in range(3):\n",
    "            money +=df[df['win_{}'.format(i)]==df['馬番']]['return_{}'.format(i)].sum()\n",
    "        return n_bets, money\n",
    "    \n",
    "    def umaren_return(self, X, threshold=0.5):\n",
    "        pred_table = self.pred_table(X, threshold)\n",
    "        hit = {}\n",
    "        n_bets = 0\n",
    "        for race_id, preds in pred_table.groupby(level=0):\n",
    "            n_bets += comb(len(preds), 2) #レースごとに3着以内予想馬から2頭を選ぶ買い方の数\n",
    "            hit[race_id] = set(self.umaren.loc[race_id][['win_0', 'win_1']]).issubset(set(preds)) #bool値が入る\n",
    "        money = (self.umaren.index.map(hit).values * self.umaren['return']).sum()\n",
    "        return n_bets, money\n",
    "        "
   ]
  },
  {
   "cell_type": "code",
   "execution_count": 355,
   "metadata": {},
   "outputs": [],
   "source": [
    "me = ModelEvaluator(lgb_clf, return_tables)"
   ]
  },
  {
   "cell_type": "markdown",
   "metadata": {},
   "source": [
    "## 特徴量確認"
   ]
  },
  {
   "cell_type": "code",
   "execution_count": 356,
   "metadata": {
    "scrolled": true
   },
   "outputs": [
    {
     "data": {
      "text/html": [
       "<div>\n",
       "<style scoped>\n",
       "    .dataframe tbody tr th:only-of-type {\n",
       "        vertical-align: middle;\n",
       "    }\n",
       "\n",
       "    .dataframe tbody tr th {\n",
       "        vertical-align: top;\n",
       "    }\n",
       "\n",
       "    .dataframe thead th {\n",
       "        text-align: right;\n",
       "    }\n",
       "</style>\n",
       "<table border=\"1\" class=\"dataframe\">\n",
       "  <thead>\n",
       "    <tr style=\"text-align: right;\">\n",
       "      <th></th>\n",
       "      <th>features</th>\n",
       "      <th>importance</th>\n",
       "    </tr>\n",
       "  </thead>\n",
       "  <tbody>\n",
       "    <tr>\n",
       "      <th>8</th>\n",
       "      <td>賞金_5R</td>\n",
       "      <td>1826</td>\n",
       "    </tr>\n",
       "    <tr>\n",
       "      <th>26</th>\n",
       "      <td>jockey_id</td>\n",
       "      <td>1379</td>\n",
       "    </tr>\n",
       "    <tr>\n",
       "      <th>7</th>\n",
       "      <td>着順_5R</td>\n",
       "      <td>1157</td>\n",
       "    </tr>\n",
       "    <tr>\n",
       "      <th>5</th>\n",
       "      <td>体重</td>\n",
       "      <td>963</td>\n",
       "    </tr>\n",
       "    <tr>\n",
       "      <th>1</th>\n",
       "      <td>馬番</td>\n",
       "      <td>807</td>\n",
       "    </tr>\n",
       "    <tr>\n",
       "      <th>25</th>\n",
       "      <td>horse_id</td>\n",
       "      <td>743</td>\n",
       "    </tr>\n",
       "    <tr>\n",
       "      <th>6</th>\n",
       "      <td>体重増減</td>\n",
       "      <td>732</td>\n",
       "    </tr>\n",
       "    <tr>\n",
       "      <th>28</th>\n",
       "      <td>peds_1</td>\n",
       "      <td>693</td>\n",
       "    </tr>\n",
       "    <tr>\n",
       "      <th>32</th>\n",
       "      <td>peds_5</td>\n",
       "      <td>682</td>\n",
       "    </tr>\n",
       "    <tr>\n",
       "      <th>86</th>\n",
       "      <td>peds_59</td>\n",
       "      <td>651</td>\n",
       "    </tr>\n",
       "    <tr>\n",
       "      <th>88</th>\n",
       "      <td>peds_61</td>\n",
       "      <td>607</td>\n",
       "    </tr>\n",
       "    <tr>\n",
       "      <th>56</th>\n",
       "      <td>peds_29</td>\n",
       "      <td>594</td>\n",
       "    </tr>\n",
       "    <tr>\n",
       "      <th>87</th>\n",
       "      <td>peds_60</td>\n",
       "      <td>593</td>\n",
       "    </tr>\n",
       "    <tr>\n",
       "      <th>40</th>\n",
       "      <td>peds_13</td>\n",
       "      <td>574</td>\n",
       "    </tr>\n",
       "    <tr>\n",
       "      <th>85</th>\n",
       "      <td>peds_58</td>\n",
       "      <td>542</td>\n",
       "    </tr>\n",
       "    <tr>\n",
       "      <th>55</th>\n",
       "      <td>peds_28</td>\n",
       "      <td>534</td>\n",
       "    </tr>\n",
       "    <tr>\n",
       "      <th>84</th>\n",
       "      <td>peds_57</td>\n",
       "      <td>534</td>\n",
       "    </tr>\n",
       "    <tr>\n",
       "      <th>39</th>\n",
       "      <td>peds_12</td>\n",
       "      <td>531</td>\n",
       "    </tr>\n",
       "    <tr>\n",
       "      <th>54</th>\n",
       "      <td>peds_27</td>\n",
       "      <td>528</td>\n",
       "    </tr>\n",
       "    <tr>\n",
       "      <th>3</th>\n",
       "      <td>course_len</td>\n",
       "      <td>503</td>\n",
       "    </tr>\n",
       "  </tbody>\n",
       "</table>\n",
       "</div>"
      ],
      "text/plain": [
       "      features  importance\n",
       "8        賞金_5R        1826\n",
       "26   jockey_id        1379\n",
       "7        着順_5R        1157\n",
       "5           体重         963\n",
       "1           馬番         807\n",
       "25    horse_id         743\n",
       "6         体重増減         732\n",
       "28      peds_1         693\n",
       "32      peds_5         682\n",
       "86     peds_59         651\n",
       "88     peds_61         607\n",
       "56     peds_29         594\n",
       "87     peds_60         593\n",
       "40     peds_13         574\n",
       "85     peds_58         542\n",
       "55     peds_28         534\n",
       "84     peds_57         534\n",
       "39     peds_12         531\n",
       "54     peds_27         528\n",
       "3   course_len         503"
      ]
     },
     "execution_count": 356,
     "metadata": {},
     "output_type": "execute_result"
    }
   ],
   "source": [
    "me.feature_importance(X_test)"
   ]
  },
  {
   "cell_type": "markdown",
   "metadata": {},
   "source": [
    "## 回収率計算"
   ]
  },
  {
   "cell_type": "code",
   "execution_count": 141,
   "metadata": {
    "code_folding": []
   },
   "outputs": [],
   "source": [
    "def gain(return_func, X, n_samples=100, lower=50, min_threshold=0.5): \n",
    "    gain = {}\n",
    "    for i in tqdm(range(n_samples)):\n",
    "        threshold = min_threshold+ (1-min_threshold) * (i/n_samples) #threshold0.5から1までを100等分\n",
    "        n_bets, money =return_func(X, threshold)\n",
    "        if n_bets>lower:\n",
    "            gain[n_bets] = (n_bets*100+ money)/(n_bets*100)\n",
    "    return pd.Series(gain)"
   ]
  },
  {
   "cell_type": "code",
   "execution_count": 142,
   "metadata": {},
   "outputs": [],
   "source": [
    "def gain2(return_func, X, n_samples=100, lower=50, min_threshold=0.5): \n",
    "    gain = {}\n",
    "    for i in tqdm(range(n_samples)):\n",
    "        threshold = min_threshold+ (1-min_threshold) * (i/n_samples) #threshold0.5から1までを100等分\n",
    "        n_bets, money = return_func(X, threshold)\n",
    "        if n_bets>lower:\n",
    "            gain[threshold] = (n_bets*100+ money)/(n_bets*100)\n",
    "    return pd.Series(gain)"
   ]
  },
  {
   "cell_type": "code",
   "execution_count": 357,
   "metadata": {},
   "outputs": [
    {
     "data": {
      "application/vnd.jupyter.widget-view+json": {
       "model_id": "6ed6c2d816754d21bb1abe295dd99f07",
       "version_major": 2,
       "version_minor": 0
      },
      "text/plain": [
       "HBox(children=(FloatProgress(value=0.0), HTML(value='')))"
      ]
     },
     "metadata": {},
     "output_type": "display_data"
    },
    {
     "name": "stdout",
     "output_type": "stream",
     "text": [
      "\n"
     ]
    },
    {
     "data": {
      "application/vnd.jupyter.widget-view+json": {
       "model_id": "0706e0bd545840fa836d55afe694899d",
       "version_major": 2,
       "version_minor": 0
      },
      "text/plain": [
       "HBox(children=(FloatProgress(value=0.0), HTML(value='')))"
      ]
     },
     "metadata": {},
     "output_type": "display_data"
    },
    {
     "name": "stdout",
     "output_type": "stream",
     "text": [
      "\n"
     ]
    }
   ],
   "source": [
    "tan = gain2(me.tan_return, X_test)\n",
    "fuku = gain2(me.fuku_return, X_test)"
   ]
  },
  {
   "cell_type": "code",
   "execution_count": 359,
   "metadata": {},
   "outputs": [
    {
     "data": {
      "application/vnd.jupyter.widget-view+json": {
       "model_id": "605523fc67b34b3f850eb9908358e080",
       "version_major": 2,
       "version_minor": 0
      },
      "text/plain": [
       "HBox(children=(FloatProgress(value=0.0), HTML(value='')))"
      ]
     },
     "metadata": {},
     "output_type": "display_data"
    },
    {
     "name": "stdout",
     "output_type": "stream",
     "text": [
      "\n"
     ]
    }
   ],
   "source": [
    "umaren = gain2(me.umaren_return, X_test)"
   ]
  },
  {
   "cell_type": "code",
   "execution_count": 360,
   "metadata": {},
   "outputs": [
    {
     "data": {
      "text/plain": [
       "<matplotlib.axes._subplots.AxesSubplot at 0x1dad4660d88>"
      ]
     },
     "execution_count": 360,
     "metadata": {},
     "output_type": "execute_result"
    },
    {
     "data": {
      "image/png": "[encoded data removed]",
      "text/plain": [
       "<Figure size 432x288 with 1 Axes>"
      ]
     },
     "metadata": {
      "needs_background": "light"
     },
     "output_type": "display_data"
    }
   ],
   "source": [
    "tan.rename('tan').plot(legend=True)\n",
    "fuku.rename('fuku').plot(legend=True)\n",
    "umaren.rename('umaren').plot(legend=True)"
   ]
  },
  {
   "cell_type": "markdown",
   "metadata": {},
   "source": [
    "# 最新の出馬表を取得"
   ]
  },
  {
   "cell_type": "code",
   "execution_count": 106,
   "metadata": {
    "code_folding": [
     0
    ]
   },
   "outputs": [],
   "source": [
    "# from selenium.webdriver import Chrome, ChromeOptions\n",
    "# import chromedriver_binary\n",
    "\n",
    "# class Entry_table:\n",
    "#     def __init__(self):\n",
    "#         self.entry_table = pd.DataFrame()\n",
    "    \n",
    "#     def scraping_table(self, race_id_list):\n",
    "#         options = ChromeOptions()\n",
    "#         driver = Chrome(options=options)\n",
    "        \n",
    "#         for race_id in race_id_list:\n",
    "#             url = 'https://race.netkeiba.com/race/shutuba.html?race_id=' + race_id\n",
    "#             driver.get(url)\n",
    "#             elements = driver.find_elements_by_class_name('HorseList')\n",
    "#             for element in elements:\n",
    "#                 tds = element.find_elements_by_tag_name('td')\n",
    "#                 row = []\n",
    "#                 for td in tds:\n",
    "#                     row.append(td.text)\n",
    "#                     if td.get_attribute('class') in ['HorseInfo', 'Jockey']:\n",
    "#                         href = td.find_element_by_tag_name('a').get_attribute('href')\n",
    "#                         row.append(re.findall(r'\\d+', href)[0])\n",
    "#                 self.entry_table = self.entry_table.append(pd.Series(row, name = race_id))\n",
    "            \n",
    "#         driver.close()\n",
    "        \n",
    "#     def preprocessing(self):\n",
    "#         df = self.entry_table.copy()\n",
    "#         df = df[[0,1,3,4,5,6,7,8,10,11,12]]\n",
    "#         self.entry_table = df\n",
    "#         self.entry_table = self.entry_table.set_axis(['枠', '馬番','馬名','horse_id','性齢','斤量','騎手','jockey_id','馬体重','予想オッズ','人気'], axis=1)\n",
    "        \n",
    "#     def merge_horse_results(self, horse_results, columns, n_race=5):\n",
    "#         for column in columns:\n",
    "#             df = horse_results.groupby(level=0).head(n_race)\n",
    "#             df = df.astype(str).groupby(level=0)[column].apply(lambda x: ','.join(x))\n",
    "#             df = df.str.split(',', expand=True).add_prefix('{}_'.format(column))\n",
    "#             self.entry_table = self.entry_table.merge(df, left_on='horse_id', right_index=True, how='left')"
   ]
  },
  {
   "cell_type": "code",
   "execution_count": 107,
   "metadata": {
    "collapsed": true
   },
   "outputs": [
    {
     "data": {
      "text/html": [
       "<div>\n",
       "<style scoped>\n",
       "    .dataframe tbody tr th:only-of-type {\n",
       "        vertical-align: middle;\n",
       "    }\n",
       "\n",
       "    .dataframe tbody tr th {\n",
       "        vertical-align: top;\n",
       "    }\n",
       "\n",
       "    .dataframe thead th {\n",
       "        text-align: right;\n",
       "    }\n",
       "</style>\n",
       "<table border=\"1\" class=\"dataframe\">\n",
       "  <thead>\n",
       "    <tr style=\"text-align: right;\">\n",
       "      <th></th>\n",
       "      <th>枠</th>\n",
       "      <th>馬番</th>\n",
       "      <th>馬名</th>\n",
       "      <th>horse_id</th>\n",
       "      <th>性齢</th>\n",
       "      <th>斤量</th>\n",
       "      <th>騎手</th>\n",
       "      <th>jockey_id</th>\n",
       "      <th>馬体重</th>\n",
       "      <th>予想オッズ</th>\n",
       "      <th>人気</th>\n",
       "    </tr>\n",
       "  </thead>\n",
       "  <tbody>\n",
       "    <tr>\n",
       "      <th>202105030609</th>\n",
       "      <td>1</td>\n",
       "      <td>1</td>\n",
       "      <td>ベスビアナイト</td>\n",
       "      <td>2017105590</td>\n",
       "      <td>セ4</td>\n",
       "      <td>54.0</td>\n",
       "      <td>菅原明</td>\n",
       "      <td>01179</td>\n",
       "      <td>490(+2)</td>\n",
       "      <td>6.7</td>\n",
       "      <td>5</td>\n",
       "    </tr>\n",
       "    <tr>\n",
       "      <th>202105030609</th>\n",
       "      <td>2</td>\n",
       "      <td>2</td>\n",
       "      <td>エドノフェリーチェ</td>\n",
       "      <td>2017104060</td>\n",
       "      <td>牝4</td>\n",
       "      <td>54.0</td>\n",
       "      <td>津村</td>\n",
       "      <td>01092</td>\n",
       "      <td>448(-4)</td>\n",
       "      <td>5.1</td>\n",
       "      <td>3</td>\n",
       "    </tr>\n",
       "    <tr>\n",
       "      <th>202105030609</th>\n",
       "      <td>3</td>\n",
       "      <td>3</td>\n",
       "      <td>ライル</td>\n",
       "      <td>2016104868</td>\n",
       "      <td>セ5</td>\n",
       "      <td>55.0</td>\n",
       "      <td>石川</td>\n",
       "      <td>01150</td>\n",
       "      <td>490(-10)</td>\n",
       "      <td>25.6</td>\n",
       "      <td>7</td>\n",
       "    </tr>\n",
       "    <tr>\n",
       "      <th>202105030609</th>\n",
       "      <td>4</td>\n",
       "      <td>4</td>\n",
       "      <td>アスティ</td>\n",
       "      <td>2016104998</td>\n",
       "      <td>セ5</td>\n",
       "      <td>54.0</td>\n",
       "      <td>江田照</td>\n",
       "      <td>00689</td>\n",
       "      <td>430(+4)</td>\n",
       "      <td>49.4</td>\n",
       "      <td>9</td>\n",
       "    </tr>\n",
       "    <tr>\n",
       "      <th>202105030609</th>\n",
       "      <td>5</td>\n",
       "      <td>5</td>\n",
       "      <td>エカテリンブルク</td>\n",
       "      <td>2017105500</td>\n",
       "      <td>牡4</td>\n",
       "      <td>54.0</td>\n",
       "      <td>石橋脩</td>\n",
       "      <td>01077</td>\n",
       "      <td>510(+4)</td>\n",
       "      <td>35.9</td>\n",
       "      <td>8</td>\n",
       "    </tr>\n",
       "    <tr>\n",
       "      <th>202105030609</th>\n",
       "      <td>6</td>\n",
       "      <td>6</td>\n",
       "      <td>ディスカバー</td>\n",
       "      <td>2014105545</td>\n",
       "      <td>セ7</td>\n",
       "      <td>53.0</td>\n",
       "      <td>原</td>\n",
       "      <td>01184</td>\n",
       "      <td>466(-2)</td>\n",
       "      <td>201.3</td>\n",
       "      <td>11</td>\n",
       "    </tr>\n",
       "    <tr>\n",
       "      <th>202105030609</th>\n",
       "      <td>6</td>\n",
       "      <td>7</td>\n",
       "      <td>ドリームスピリット</td>\n",
       "      <td>2015102790</td>\n",
       "      <td>牡6</td>\n",
       "      <td>54.0</td>\n",
       "      <td>ルメール</td>\n",
       "      <td>05339</td>\n",
       "      <td>500(-2)</td>\n",
       "      <td>6.5</td>\n",
       "      <td>4</td>\n",
       "    </tr>\n",
       "    <tr>\n",
       "      <th>202105030609</th>\n",
       "      <td>7</td>\n",
       "      <td>8</td>\n",
       "      <td>ヒルノダカール</td>\n",
       "      <td>2016100550</td>\n",
       "      <td>牡5</td>\n",
       "      <td>56.0</td>\n",
       "      <td>北村宏</td>\n",
       "      <td>01043</td>\n",
       "      <td>512(+4)</td>\n",
       "      <td>11.1</td>\n",
       "      <td>6</td>\n",
       "    </tr>\n",
       "    <tr>\n",
       "      <th>202105030609</th>\n",
       "      <td>7</td>\n",
       "      <td>9</td>\n",
       "      <td>ペレ</td>\n",
       "      <td>2016104614</td>\n",
       "      <td>牝5</td>\n",
       "      <td>54.0</td>\n",
       "      <td>Ｍデムーロ</td>\n",
       "      <td>05212</td>\n",
       "      <td>456(-2)</td>\n",
       "      <td>3.7</td>\n",
       "      <td>2</td>\n",
       "    </tr>\n",
       "    <tr>\n",
       "      <th>202105030609</th>\n",
       "      <td>8</td>\n",
       "      <td>10</td>\n",
       "      <td>レッドクーゲル</td>\n",
       "      <td>2016103041</td>\n",
       "      <td>牡5</td>\n",
       "      <td>53.0</td>\n",
       "      <td>吉田豊</td>\n",
       "      <td>00733</td>\n",
       "      <td>440(-4)</td>\n",
       "      <td>80.7</td>\n",
       "      <td>10</td>\n",
       "    </tr>\n",
       "    <tr>\n",
       "      <th>202105030609</th>\n",
       "      <td>8</td>\n",
       "      <td>11</td>\n",
       "      <td>リーブルミノル</td>\n",
       "      <td>2018105809</td>\n",
       "      <td>牡3</td>\n",
       "      <td>53.0</td>\n",
       "      <td>団野</td>\n",
       "      <td>01180</td>\n",
       "      <td>484(+14)</td>\n",
       "      <td>3.4</td>\n",
       "      <td>1</td>\n",
       "    </tr>\n",
       "  </tbody>\n",
       "</table>\n",
       "</div>"
      ],
      "text/plain": [
       "              枠  馬番         馬名    horse_id  性齢    斤量     騎手 jockey_id  \\\n",
       "202105030609  1   1    ベスビアナイト  2017105590  セ4  54.0    菅原明     01179   \n",
       "202105030609  2   2  エドノフェリーチェ  2017104060  牝4  54.0     津村     01092   \n",
       "202105030609  3   3        ライル  2016104868  セ5  55.0     石川     01150   \n",
       "202105030609  4   4       アスティ  2016104998  セ5  54.0    江田照     00689   \n",
       "202105030609  5   5   エカテリンブルク  2017105500  牡4  54.0    石橋脩     01077   \n",
       "202105030609  6   6     ディスカバー  2014105545  セ7  53.0      原     01184   \n",
       "202105030609  6   7  ドリームスピリット  2015102790  牡6  54.0   ルメール     05339   \n",
       "202105030609  7   8    ヒルノダカール  2016100550  牡5  56.0    北村宏     01043   \n",
       "202105030609  7   9         ペレ  2016104614  牝5  54.0  Ｍデムーロ     05212   \n",
       "202105030609  8  10    レッドクーゲル  2016103041  牡5  53.0    吉田豊     00733   \n",
       "202105030609  8  11    リーブルミノル  2018105809  牡3  53.0     団野     01180   \n",
       "\n",
       "                   馬体重  予想オッズ  人気  \n",
       "202105030609   490(+2)    6.7   5  \n",
       "202105030609   448(-4)    5.1   3  \n",
       "202105030609  490(-10)   25.6   7  \n",
       "202105030609   430(+4)   49.4   9  \n",
       "202105030609   510(+4)   35.9   8  \n",
       "202105030609   466(-2)  201.3  11  \n",
       "202105030609   500(-2)    6.5   4  \n",
       "202105030609   512(+4)   11.1   6  \n",
       "202105030609   456(-2)    3.7   2  \n",
       "202105030609   440(-4)   80.7  10  \n",
       "202105030609  484(+14)    3.4   1  "
      ]
     },
     "execution_count": 107,
     "metadata": {},
     "output_type": "execute_result"
    }
   ],
   "source": [
    "et = Entry_table()\n",
    "et.scraping_table(['202105030609'])\n",
    "et.preprocessing()\n",
    "et.entry_table"
   ]
  },
  {
   "cell_type": "markdown",
   "metadata": {},
   "source": [
    "## EntryTableクラス"
   ]
  },
  {
   "cell_type": "code",
   "execution_count": 319,
   "metadata": {
    "code_folding": [
     8,
     59,
     86
    ]
   },
   "outputs": [],
   "source": [
    "class EntryTable:\n",
    "    def __init__(self):\n",
    "        self.entry_tables = pd.DataFrame()\n",
    "        self.entry_tables_p = pd.DataFrame()\n",
    "        self.entry_tables_hr = pd.DataFrame()\n",
    "        self.entry_tables_ped = pd.DataFrame()\n",
    "        self.entry_tables_cat = pd.DataFrame()\n",
    "        \n",
    "    def scraping(self, race_id_list, date):\n",
    "        for race_id in tqdm(race_id_list):\n",
    "            url = 'https://race.netkeiba.com/race/shutuba.html?race_id=' + race_id\n",
    "            df = pd.read_html(url)[0]\n",
    "            df = df.T.reset_index(level=0, drop=True).T\n",
    "\n",
    "            html = requests.get(url)\n",
    "            html.encoding = 'EUC-JP'\n",
    "            soup = BeautifulSoup(html.text, 'html.parser')\n",
    "\n",
    "            #馬場情報などを取得\n",
    "            texts = soup.find('div',attrs=['class','RaceData01']).text\n",
    "            texts = re.findall(r'\\w+', texts)\n",
    "\n",
    "            for text in texts:\n",
    "                if 'm' in text:\n",
    "                    df['course_len'] = [int(re.findall(r'\\d+',text)[0])]*len(df)\n",
    "                if text in ['良','稍重','重']:\n",
    "                    df['ground_state'] = [text]*len(df)\n",
    "                if '不' in text:\n",
    "                    df['ground_state'] = ['不良']*len(df)\n",
    "                if '芝' in text:\n",
    "                    df['race_type'] = ['芝']*len(df)\n",
    "                if '障' in text:\n",
    "                    df['race_type'] = ['障害']*len(df)\n",
    "                if 'ダ' in text:\n",
    "                    df['race_type'] = ['ダート']*len(df)\n",
    "                if text in ['曇','晴','雨','小雨','小雪','雪']:\n",
    "                    df['weather'] = [text]*len(df)\n",
    "\n",
    "            df['date'] = [date]*len(df)\n",
    "\n",
    "            #horse_idとjockey_id取得\n",
    "            horse_id_list = []\n",
    "            horse_td_list = soup.find_all('td', attrs={'class':'HorseInfo'})\n",
    "            for td in horse_td_list:\n",
    "                horse_id = re.findall(r'\\d+', td.find('a')['href'])[0]\n",
    "                horse_id_list.append(horse_id)\n",
    "\n",
    "            jockey_id_list = []\n",
    "            jockey_td_list = soup.find_all('td', attrs={'class':'Jockey'})\n",
    "            for td in jockey_td_list:\n",
    "                jockey_id = re.findall(r'\\d+', td.find('a')['href'])[0]\n",
    "                jockey_id_list.append(jockey_id)\n",
    "\n",
    "            df['horse_id'] = horse_id_list\n",
    "            df['jockey_id'] = jockey_id_list\n",
    "\n",
    "            df.index = [race_id]*len(df)\n",
    "            self.entry_tables = self.entry_tables.append(df)\n",
    "\n",
    "    def preprocessing(self):\n",
    "        df = self.entry_tables.copy() \n",
    "        #性齢を性と齢に分ける\n",
    "        df[\"性\"] = df[\"性齢\"].map(lambda x: str(x)[0])\n",
    "        df[\"齢\"] = df[\"性齢\"].map(lambda x: str(x)[1:]).astype(int)\n",
    "        #馬体重を体重と体重増減に分ける\n",
    "        df[\"体重\"] = df[\"馬体重(増減)\"].str.split('(',expand=True)[0].astype(int)\n",
    "        df[\"体重増減\"] = df[\"馬体重(増減)\"].str.split('(',expand=True)[1].str[:-1].astype(int)\n",
    "        \n",
    "        df['date'] = pd.to_datetime(df['date'])\n",
    "        df['枠'] = df['枠'].astype(int)\n",
    "        df['馬番'] = df['馬番'].astype(int)\n",
    "        df['斤量'] = df['斤量'].astype(int)\n",
    "        \n",
    "        df = df[['枠', '馬番', '斤量', 'horse_id', 'jockey_id', \n",
    "                 'course_len', 'date', 'ground_state', 'race_type', 'weather', \n",
    "                 '性', '齢', '体重', '体重増減']]\n",
    "        self.entry_tables_p = df.rename(columns={'枠':'枠番'})\n",
    "        \n",
    "    def merge_horse_results(self, hr, n_samples_list=[5, 9, 'all']):\n",
    "        self.entry_tables_hr = self.entry_tables_p.copy()\n",
    "        for n_samples in n_samples_list:\n",
    "            self.entry_tables_hr = hr.merge_all(self.entry_tables_hr, n_samples=n_samples)\n",
    "            \n",
    "    def merge_peds(self, peds):\n",
    "        self.entry_tables_ped = self.entry_tables_hr.merge(peds, left_on='horse_id', right_index=True, how='left')\n",
    "        \n",
    "    def process_cat(self, le_horse, le_jockey, results):\n",
    "        df = self.entry_tables_ped.copy()\n",
    "        \n",
    "        mask_horse = df['horse_id'].isin(le_horse.classes_)\n",
    "        new_horse_id = df['horse_id'].mask(mask_horse).dropna().unique() #過去レースデータにないhorse_idを特定\n",
    "        le_horse.classes_ = np.concatenate([le_horse.classes_, new_horse_id])\n",
    "        df['horse_id'] = le_horse.transform(df['horse_id']) #0始まりの数字に変換\n",
    "        \n",
    "        mask_jockey = df['jockey_id'].isin(le_jockey.classes_)\n",
    "        new_jockey_id = df['jockey_id'].mask(mask_jockey).dropna().unique() #過去レースデータにないjockey_idを特定\n",
    "        le_jockey.classes_ = np.concatenate([le_jockey.classes_, new_jockey_id])\n",
    "        df['jockey_id'] = le_jockey.transform(df['jockey_id']) #0始まりの数字に変換\n",
    "        \n",
    "        weathers = results['weather'].unique()\n",
    "        race_type = results['race_type'].unique()\n",
    "        ground_state = results['ground_state'].unique()\n",
    "        sexes = results['性'].unique()\n",
    "        df['weather'] = pd.Categorical(df['weather'], weathers)\n",
    "        df['race_type'] = pd.Categorical(df['race_type'], race_type)\n",
    "        df['ground_state'] = pd.Categorical(df['ground_state'], ground_state)\n",
    "        df['性'] = pd.Categorical(df['性'], sexes)\n",
    "        \n",
    "        df = pd.get_dummies(df, columns=['weather', 'race_type', 'ground_state', '性'])\n",
    "        \n",
    "        self.entry_tables_cat = df"
   ]
  },
  {
   "cell_type": "markdown",
   "metadata": {},
   "source": [
    "## 出馬表取得"
   ]
  },
  {
   "cell_type": "code",
   "execution_count": 320,
   "metadata": {},
   "outputs": [
    {
     "data": {
      "application/vnd.jupyter.widget-view+json": {
       "model_id": "78ac82349d054f47934dee9e6146deb3",
       "version_major": 2,
       "version_minor": 0
      },
      "text/plain": [
       "HBox(children=(FloatProgress(value=0.0, max=1.0), HTML(value='')))"
      ]
     },
     "metadata": {},
     "output_type": "display_data"
    },
    {
     "name": "stdout",
     "output_type": "stream",
     "text": [
      "\n"
     ]
    }
   ],
   "source": [
    "et = EntryTable()\n",
    "et.scraping(['202105030602'], '2021/06/20')"
   ]
  },
  {
   "cell_type": "markdown",
   "metadata": {},
   "source": [
    "## 前処理"
   ]
  },
  {
   "cell_type": "code",
   "execution_count": 321,
   "metadata": {},
   "outputs": [],
   "source": [
    "et.preprocessing()"
   ]
  },
  {
   "cell_type": "markdown",
   "metadata": {},
   "source": [
    "## 馬ごとの過去成績をマージ"
   ]
  },
  {
   "cell_type": "code",
   "execution_count": 322,
   "metadata": {},
   "outputs": [
    {
     "data": {
      "application/vnd.jupyter.widget-view+json": {
       "model_id": "86ba1c410fd54aa7aff976e871527fbc",
       "version_major": 2,
       "version_minor": 0
      },
      "text/plain": [
       "HBox(children=(FloatProgress(value=0.0, max=1.0), HTML(value='')))"
      ]
     },
     "metadata": {},
     "output_type": "display_data"
    },
    {
     "name": "stdout",
     "output_type": "stream",
     "text": [
      "\n"
     ]
    },
    {
     "data": {
      "application/vnd.jupyter.widget-view+json": {
       "model_id": "e335befd9cee495e976043474fbe3e9b",
       "version_major": 2,
       "version_minor": 0
      },
      "text/plain": [
       "HBox(children=(FloatProgress(value=0.0, max=1.0), HTML(value='')))"
      ]
     },
     "metadata": {},
     "output_type": "display_data"
    },
    {
     "name": "stdout",
     "output_type": "stream",
     "text": [
      "\n"
     ]
    },
    {
     "data": {
      "application/vnd.jupyter.widget-view+json": {
       "model_id": "9f916be7e85e468e87db581fcf5c9b38",
       "version_major": 2,
       "version_minor": 0
      },
      "text/plain": [
       "HBox(children=(FloatProgress(value=0.0, max=1.0), HTML(value='')))"
      ]
     },
     "metadata": {},
     "output_type": "display_data"
    },
    {
     "name": "stdout",
     "output_type": "stream",
     "text": [
      "\n"
     ]
    }
   ],
   "source": [
    "hr = HorseResults(horse_results)\n",
    "et.merge_horse_results(hr)\n",
    "# et.entry_tables_hr"
   ]
  },
  {
   "cell_type": "markdown",
   "metadata": {},
   "source": [
    "## 血統データを更新して出馬表にマージ"
   ]
  },
  {
   "cell_type": "code",
   "execution_count": 224,
   "metadata": {
    "scrolled": false
   },
   "outputs": [
    {
     "data": {
      "text/plain": [
       "array(['2018100356', '2018106418', '2018103250', '2018105822',\n",
       "       '2018105703', '2018101102', '2018105850', '2018105756',\n",
       "       '2018105587', '2018100595', '2018103224', '2018105447',\n",
       "       '2018104594', '2018103328'], dtype=object)"
      ]
     },
     "execution_count": 224,
     "metadata": {},
     "output_type": "execute_result"
    }
   ],
   "source": [
    "#出馬する馬のリスト\n",
    "update_id_list = et.entry_tables_ped['horse_id'].values\n",
    "update_id_list"
   ]
  },
  {
   "cell_type": "code",
   "execution_count": 297,
   "metadata": {
    "collapsed": true
   },
   "outputs": [
    {
     "data": {
      "application/vnd.jupyter.widget-view+json": {
       "model_id": "395cdf1309f9429e9bca20332665d3e2",
       "version_major": 2,
       "version_minor": 0
      },
      "text/plain": [
       "HBox(children=(FloatProgress(value=0.0, max=7.0), HTML(value='')))"
      ]
     },
     "metadata": {},
     "output_type": "display_data"
    },
    {
     "name": "stdout",
     "output_type": "stream",
     "text": [
      "\n"
     ]
    },
    {
     "data": {
      "text/plain": [
       "{'2018105447': 0     ノヴェリスト Novellist(愛) 2009 黒鹿毛 [血統][産駒] Blandford系\n",
       " 1                  メモリアルサマー 1998 青毛 [血統][産駒] FNo.[9-f]\n",
       " 2                             Monsun 1990 黒鹿毛 [血統][産駒]\n",
       " 3                       Night Lagoon 2001 黒鹿毛 [血統][産駒]\n",
       " 4        サンデーサイレンス Sunday Silence(米) 1986 青鹿毛 [血統][産駒]\n",
       "                             ...                       \n",
       " 57                                         Priddy Fair\n",
       " 58                                            Ambiorix\n",
       " 59                                            Striking\n",
       " 60                                           Determine\n",
       " 61                                       Fanciful Miss\n",
       " Name: 2018105447, Length: 62, dtype: object,\n",
       " '2018100356': 0     バトルプラン Battle Plan(米) 2005 鹿毛 [血統][産駒] Mr. Pro...\n",
       " 1                   バクシンオージョ 2004 鹿毛 [血統][産駒] FNo.[1-w]\n",
       " 2           エンパイアメーカー Empire Maker(米) 2000 黒鹿毛 [血統][産駒]\n",
       " 3                             Flanders 1992 栗毛 [血統][産駒]\n",
       " 4                              タイキシャトル 1994 栗毛 [血統][産駒]\n",
       "                             ...                        \n",
       " 57                                            Icy Blast\n",
       " 58                                           Never Bend\n",
       " 59                                           Hill Shade\n",
       " 60                                              Lyphard\n",
       " 61                                           Irish Star\n",
       " Name: 2018100356, Length: 62, dtype: object,\n",
       " '2018105756': 0         ジョーカプチーノ 2006 芦毛 [血統][産駒] Halo系\n",
       " 1     ヒカルウェイブ 2001 黒鹿毛 [血統][産駒] FNo.[3-n]\n",
       " 2             マンハッタンカフェ 1998 青鹿毛 [血統][産駒]\n",
       " 3                 ジョープシケ 2000 芦毛 [血統][産駒]\n",
       " 4      トニービン Tony Bin(愛) 1983 鹿毛 [血統][産駒]\n",
       "                      ...                 \n",
       " 57                                スターハイネス\n",
       " 58                               Nijinsky\n",
       " 59                                     シル\n",
       " 60                                  エンペリー\n",
       " 61                          Some Progress\n",
       " Name: 2018105756, Length: 62, dtype: object,\n",
       " '2018105850': 0     ヘニーヒューズ Henny Hughes(米) 2003 [血統][産駒] Storm Bird系\n",
       " 1                  メイショウスザンナ 2009 鹿毛 [血統][産駒] FNo.[4-j]\n",
       " 2                     ヘネシー Hennessy(米) 1993 栗毛 [血統][産駒]\n",
       " 3                         Meadow Flyer 1989 鹿毛 [血統][産駒]\n",
       " 4                             アグネスデジタル 1997 栗毛 [血統][産駒]\n",
       "                             ...                        \n",
       " 57                                      Mountain Flower\n",
       " 58                                             Nijinsky\n",
       " 59                                                   シル\n",
       " 60                                             Sicambre\n",
       " 61                                           Fee Royale\n",
       " Name: 2018105850, Length: 62, dtype: object,\n",
       " '2018100595': 0          キンシャサノキセキ 2003 鹿毛 [血統][産駒] Halo系\n",
       " 1      メイショウシオギリ 2004 鹿毛 [血統][産駒] FNo.[1-d]\n",
       " 2                   フジキセキ 1992 青鹿毛 [血統][産駒]\n",
       " 3     ケルトシャーン Keltshaan(米) 1994 鹿毛 [血統][産駒]\n",
       " 4                 メイショウドトウ 1996 鹿毛 [血統][産駒]\n",
       "                       ...                  \n",
       " 57                         Blue Eyed Blonde\n",
       " 58                                Best Turn\n",
       " 59                               Our Martha\n",
       " 60                          Northern Dancer\n",
       " 61                            Desert Flight\n",
       " Name: 2018100595, Length: 62, dtype: object,\n",
       " '2018103328': 0                  ヤマニンセラフィム 1999 栗毛 [血統][産駒] Halo系\n",
       " 1                ヤマニンジャルダン 2003 鹿毛 [血統][産駒] FNo.[2]\n",
       " 2     サンデーサイレンス Sunday Silence(米) 1986 青鹿毛 [血統][産駒]\n",
       " 3                        ヤマニンパラダイス 1992 鹿毛 [血統][産駒]\n",
       " 4                          マイネルラヴ 1995 青鹿毛 [血統][産駒]\n",
       "                           ...                      \n",
       " 57                                     Tomorrowland\n",
       " 58                                      Vice Regent\n",
       " 59                                  Miss Attractive\n",
       " 60                                          マルゼンスキー\n",
       " 61                                        パンクチェイシヨン\n",
       " Name: 2018103328, Length: 62, dtype: object,\n",
       " '2018104594': 0                     ハーツクライ 2001 鹿毛 [血統][産駒] Halo系\n",
       " 1            クォリティシーズン 2008 黒鹿毛 [血統][産駒] FNo.[23-b]\n",
       " 2     サンデーサイレンス Sunday Silence(米) 1986 青鹿毛 [血統][産駒]\n",
       " 3                        アイリッシュダンス 1990 鹿毛 [血統][産駒]\n",
       " 4                トワイニング Twining(米) 1991 栗毛 [血統][産駒]\n",
       "                           ...                      \n",
       " 57                                         Sly Pola\n",
       " 58                                       Never Bend\n",
       " 59                                       Roman Song\n",
       " 60                                   Cornish Prince\n",
       " 61                                   Won't Tell You\n",
       " Name: 2018104594, Length: 62, dtype: object}"
      ]
     },
     "execution_count": 297,
     "metadata": {},
     "output_type": "execute_result"
    }
   ],
   "source": [
    "#出馬する馬のうち、取得済み血統データにない馬のみ血統データを取得\n",
    "new_peds = update(scraping_peds, update_id_list, peds, merge=False)\n",
    "new_peds"
   ]
  },
  {
   "cell_type": "code",
   "execution_count": 298,
   "metadata": {
    "collapsed": true
   },
   "outputs": [
    {
     "data": {
      "text/html": [
       "<div>\n",
       "<style scoped>\n",
       "    .dataframe tbody tr th:only-of-type {\n",
       "        vertical-align: middle;\n",
       "    }\n",
       "\n",
       "    .dataframe tbody tr th {\n",
       "        vertical-align: top;\n",
       "    }\n",
       "\n",
       "    .dataframe thead th {\n",
       "        text-align: right;\n",
       "    }\n",
       "</style>\n",
       "<table border=\"1\" class=\"dataframe\">\n",
       "  <thead>\n",
       "    <tr style=\"text-align: right;\">\n",
       "      <th></th>\n",
       "      <th>peds_0</th>\n",
       "      <th>peds_1</th>\n",
       "      <th>peds_2</th>\n",
       "      <th>peds_3</th>\n",
       "      <th>peds_4</th>\n",
       "      <th>peds_5</th>\n",
       "      <th>peds_6</th>\n",
       "      <th>peds_7</th>\n",
       "      <th>peds_8</th>\n",
       "      <th>peds_9</th>\n",
       "      <th>...</th>\n",
       "      <th>peds_52</th>\n",
       "      <th>peds_53</th>\n",
       "      <th>peds_54</th>\n",
       "      <th>peds_55</th>\n",
       "      <th>peds_56</th>\n",
       "      <th>peds_57</th>\n",
       "      <th>peds_58</th>\n",
       "      <th>peds_59</th>\n",
       "      <th>peds_60</th>\n",
       "      <th>peds_61</th>\n",
       "    </tr>\n",
       "  </thead>\n",
       "  <tbody>\n",
       "    <tr>\n",
       "      <th>2018105447</th>\n",
       "      <td>ノヴェリスト Novellist(愛) 2009 黒鹿毛 [血統][産駒] Blandford系</td>\n",
       "      <td>メモリアルサマー 1998 青毛 [血統][産駒] FNo.[9-f]</td>\n",
       "      <td>Monsun 1990 黒鹿毛 [血統][産駒]</td>\n",
       "      <td>Night Lagoon 2001 黒鹿毛 [血統][産駒]</td>\n",
       "      <td>サンデーサイレンス Sunday Silence(米) 1986 青鹿毛 [血統][産駒]</td>\n",
       "      <td>サマーワイン 1990 黒鹿毛 [血統][産駒]</td>\n",
       "      <td>Konigsstuhl 1976 青毛 [血統][産駒]</td>\n",
       "      <td>Mosella 1985 鹿毛 [血統][産駒]</td>\n",
       "      <td>Lagunas 1981 黒鹿毛 [血統][産駒]</td>\n",
       "      <td>Nenuphar 1994 黒鹿毛 [血統][産駒]</td>\n",
       "      <td>...</td>\n",
       "      <td>Montparnasse</td>\n",
       "      <td>Edelweiss</td>\n",
       "      <td>Kalamoun</td>\n",
       "      <td>State Pension</td>\n",
       "      <td>Hornbeam</td>\n",
       "      <td>Priddy Fair</td>\n",
       "      <td>Ambiorix</td>\n",
       "      <td>Striking</td>\n",
       "      <td>Determine</td>\n",
       "      <td>Fanciful Miss</td>\n",
       "    </tr>\n",
       "    <tr>\n",
       "      <th>2018100356</th>\n",
       "      <td>バトルプラン Battle Plan(米) 2005 鹿毛 [血統][産駒] Mr. Pro...</td>\n",
       "      <td>バクシンオージョ 2004 鹿毛 [血統][産駒] FNo.[1-w]</td>\n",
       "      <td>エンパイアメーカー Empire Maker(米) 2000 黒鹿毛 [血統][産駒]</td>\n",
       "      <td>Flanders 1992 栗毛 [血統][産駒]</td>\n",
       "      <td>タイキシャトル 1994 栗毛 [血統][産駒]</td>\n",
       "      <td>ファゼンデイロ 1994 鹿毛 [血統][産駒]</td>\n",
       "      <td>Unbridled 1987 鹿毛 [血統][産駒]</td>\n",
       "      <td>Toussaud 1989 黒鹿毛 [血統][産駒]</td>\n",
       "      <td>Seeking the Gold 1985 鹿毛 [血統][産駒]</td>\n",
       "      <td>Starlet Storm 1987 栗毛 [血統][産駒]</td>\n",
       "      <td>...</td>\n",
       "      <td>Thatch</td>\n",
       "      <td>Contrail</td>\n",
       "      <td>Red God</td>\n",
       "      <td>Runaway Bride</td>\n",
       "      <td>Roberto</td>\n",
       "      <td>Icy Blast</td>\n",
       "      <td>Never Bend</td>\n",
       "      <td>Hill Shade</td>\n",
       "      <td>Lyphard</td>\n",
       "      <td>Irish Star</td>\n",
       "    </tr>\n",
       "    <tr>\n",
       "      <th>2018105756</th>\n",
       "      <td>ジョーカプチーノ 2006 芦毛 [血統][産駒] Halo系</td>\n",
       "      <td>ヒカルウェイブ 2001 黒鹿毛 [血統][産駒] FNo.[3-n]</td>\n",
       "      <td>マンハッタンカフェ 1998 青鹿毛 [血統][産駒]</td>\n",
       "      <td>ジョープシケ 2000 芦毛 [血統][産駒]</td>\n",
       "      <td>トニービン Tony Bin(愛) 1983 鹿毛 [血統][産駒]</td>\n",
       "      <td>ブルーデキシー 1994 黒鹿毛 [血統][産駒]</td>\n",
       "      <td>サンデーサイレンス Sunday Silence(米) 1986 青鹿毛 [血統][産駒]</td>\n",
       "      <td>サトルチェンジ Subtle Change(愛) 1988 黒鹿毛 [血統][産駒]</td>\n",
       "      <td>フサイチコンコルド 1993 鹿毛 [血統][産駒]</td>\n",
       "      <td>ジョーユーチャリス 1988 芦毛 [血統][産駒]</td>\n",
       "      <td>...</td>\n",
       "      <td>Preciptic</td>\n",
       "      <td>Campanette</td>\n",
       "      <td>Princely Gift</td>\n",
       "      <td>Suncourt</td>\n",
       "      <td>ネヴァービート</td>\n",
       "      <td>スターハイネス</td>\n",
       "      <td>Nijinsky</td>\n",
       "      <td>シル</td>\n",
       "      <td>エンペリー</td>\n",
       "      <td>Some Progress</td>\n",
       "    </tr>\n",
       "    <tr>\n",
       "      <th>2018105850</th>\n",
       "      <td>ヘニーヒューズ Henny Hughes(米) 2003 [血統][産駒] Storm Bird系</td>\n",
       "      <td>メイショウスザンナ 2009 鹿毛 [血統][産駒] FNo.[4-j]</td>\n",
       "      <td>ヘネシー Hennessy(米) 1993 栗毛 [血統][産駒]</td>\n",
       "      <td>Meadow Flyer 1989 鹿毛 [血統][産駒]</td>\n",
       "      <td>アグネスデジタル 1997 栗毛 [血統][産駒]</td>\n",
       "      <td>グリーンオリーヴ 1997 鹿毛 [血統][産駒]</td>\n",
       "      <td>Storm Cat (米) 1983 黒鹿毛 [血統][産駒]</td>\n",
       "      <td>Island Kitty 1976 栗毛 [血統][産駒]</td>\n",
       "      <td>Meadowlake 1983 栗毛 [血統][産駒]</td>\n",
       "      <td>Shortley 1980 黒鹿毛 [血統][産駒]</td>\n",
       "      <td>...</td>\n",
       "      <td>Alleged</td>\n",
       "      <td>Runaway Bride</td>\n",
       "      <td>Hail to Reason</td>\n",
       "      <td>Cosmah</td>\n",
       "      <td>Understanding</td>\n",
       "      <td>Mountain Flower</td>\n",
       "      <td>Nijinsky</td>\n",
       "      <td>シル</td>\n",
       "      <td>Sicambre</td>\n",
       "      <td>Fee Royale</td>\n",
       "    </tr>\n",
       "    <tr>\n",
       "      <th>2018100595</th>\n",
       "      <td>キンシャサノキセキ 2003 鹿毛 [血統][産駒] Halo系</td>\n",
       "      <td>メイショウシオギリ 2004 鹿毛 [血統][産駒] FNo.[1-d]</td>\n",
       "      <td>フジキセキ 1992 青鹿毛 [血統][産駒]</td>\n",
       "      <td>ケルトシャーン Keltshaan(米) 1994 鹿毛 [血統][産駒]</td>\n",
       "      <td>メイショウドトウ 1996 鹿毛 [血統][産駒]</td>\n",
       "      <td>メイショウエビータ 1995 鹿毛 [血統][産駒]</td>\n",
       "      <td>サンデーサイレンス Sunday Silence(米) 1986 青鹿毛 [血統][産駒]</td>\n",
       "      <td>ミルレーサー Millracer(米) 1983 鹿毛 [血統][産駒]</td>\n",
       "      <td>Pleasant Colony 1978 黒鹿毛 [血統][産駒]</td>\n",
       "      <td>Featherhill 1978 鹿毛 [血統][産駒]</td>\n",
       "      <td>...</td>\n",
       "      <td>Nijinsky</td>\n",
       "      <td>Fast Approach</td>\n",
       "      <td>Mr. Prospector</td>\n",
       "      <td>Mudville</td>\n",
       "      <td>Reflected Glory</td>\n",
       "      <td>Blue Eyed Blonde</td>\n",
       "      <td>Best Turn</td>\n",
       "      <td>Our Martha</td>\n",
       "      <td>Northern Dancer</td>\n",
       "      <td>Desert Flight</td>\n",
       "    </tr>\n",
       "    <tr>\n",
       "      <th>2018103328</th>\n",
       "      <td>ヤマニンセラフィム 1999 栗毛 [血統][産駒] Halo系</td>\n",
       "      <td>ヤマニンジャルダン 2003 鹿毛 [血統][産駒] FNo.[2]</td>\n",
       "      <td>サンデーサイレンス Sunday Silence(米) 1986 青鹿毛 [血統][産駒]</td>\n",
       "      <td>ヤマニンパラダイス 1992 鹿毛 [血統][産駒]</td>\n",
       "      <td>マイネルラヴ 1995 青鹿毛 [血統][産駒]</td>\n",
       "      <td>ヤマニンカーニバル 1994 鹿毛 [血統][産駒]</td>\n",
       "      <td>Halo 1969 黒鹿毛 [血統][産駒]</td>\n",
       "      <td>Wishing Well 1975 鹿毛 [血統][産駒]</td>\n",
       "      <td>Danzig 1977 鹿毛 [血統][産駒]</td>\n",
       "      <td>Althea 1981 栗毛 [血統][産駒]</td>\n",
       "      <td>...</td>\n",
       "      <td>Secretariat</td>\n",
       "      <td>Arachne</td>\n",
       "      <td>Ribot</td>\n",
       "      <td>Pocahontas</td>\n",
       "      <td>Bold Reasoning</td>\n",
       "      <td>Tomorrowland</td>\n",
       "      <td>Vice Regent</td>\n",
       "      <td>Miss Attractive</td>\n",
       "      <td>マルゼンスキー</td>\n",
       "      <td>パンクチェイシヨン</td>\n",
       "    </tr>\n",
       "    <tr>\n",
       "      <th>2018104594</th>\n",
       "      <td>ハーツクライ 2001 鹿毛 [血統][産駒] Halo系</td>\n",
       "      <td>クォリティシーズン 2008 黒鹿毛 [血統][産駒] FNo.[23-b]</td>\n",
       "      <td>サンデーサイレンス Sunday Silence(米) 1986 青鹿毛 [血統][産駒]</td>\n",
       "      <td>アイリッシュダンス 1990 鹿毛 [血統][産駒]</td>\n",
       "      <td>トワイニング Twining(米) 1991 栗毛 [血統][産駒]</td>\n",
       "      <td>コンファームドダンサー Confirmed Dancer(米) 1986 青鹿毛 [血統][産駒]</td>\n",
       "      <td>Halo 1969 黒鹿毛 [血統][産駒]</td>\n",
       "      <td>Wishing Well 1975 鹿毛 [血統][産駒]</td>\n",
       "      <td>トニービン Tony Bin(愛) 1983 鹿毛 [血統][産駒]</td>\n",
       "      <td>ビューパーダンス Buper Dance(米) 1983 黒鹿毛 [血統][産駒]</td>\n",
       "      <td>...</td>\n",
       "      <td>War Admiral</td>\n",
       "      <td>Judy-Rae</td>\n",
       "      <td>Northern Dancer</td>\n",
       "      <td>Flaming Page</td>\n",
       "      <td>Val de Loir</td>\n",
       "      <td>Sly Pola</td>\n",
       "      <td>Never Bend</td>\n",
       "      <td>Roman Song</td>\n",
       "      <td>Cornish Prince</td>\n",
       "      <td>Won't Tell You</td>\n",
       "    </tr>\n",
       "  </tbody>\n",
       "</table>\n",
       "<p>7 rows × 62 columns</p>\n",
       "</div>"
      ],
      "text/plain": [
       "                                                       peds_0  \\\n",
       "2018105447   ノヴェリスト Novellist(愛) 2009 黒鹿毛 [血統][産駒] Blandford系   \n",
       "2018100356  バトルプラン Battle Plan(米) 2005 鹿毛 [血統][産駒] Mr. Pro...   \n",
       "2018105756                    ジョーカプチーノ 2006 芦毛 [血統][産駒] Halo系   \n",
       "2018105850  ヘニーヒューズ Henny Hughes(米) 2003 [血統][産駒] Storm Bird系   \n",
       "2018100595                   キンシャサノキセキ 2003 鹿毛 [血統][産駒] Halo系   \n",
       "2018103328                   ヤマニンセラフィム 1999 栗毛 [血統][産駒] Halo系   \n",
       "2018104594                      ハーツクライ 2001 鹿毛 [血統][産駒] Halo系   \n",
       "\n",
       "                                            peds_1  \\\n",
       "2018105447     メモリアルサマー 1998 青毛 [血統][産駒] FNo.[9-f]   \n",
       "2018100356     バクシンオージョ 2004 鹿毛 [血統][産駒] FNo.[1-w]   \n",
       "2018105756     ヒカルウェイブ 2001 黒鹿毛 [血統][産駒] FNo.[3-n]   \n",
       "2018105850    メイショウスザンナ 2009 鹿毛 [血統][産駒] FNo.[4-j]   \n",
       "2018100595    メイショウシオギリ 2004 鹿毛 [血統][産駒] FNo.[1-d]   \n",
       "2018103328      ヤマニンジャルダン 2003 鹿毛 [血統][産駒] FNo.[2]   \n",
       "2018104594  クォリティシーズン 2008 黒鹿毛 [血統][産駒] FNo.[23-b]   \n",
       "\n",
       "                                                   peds_2  \\\n",
       "2018105447                       Monsun 1990 黒鹿毛 [血統][産駒]   \n",
       "2018100356    エンパイアメーカー Empire Maker(米) 2000 黒鹿毛 [血統][産駒]   \n",
       "2018105756                    マンハッタンカフェ 1998 青鹿毛 [血統][産駒]   \n",
       "2018105850              ヘネシー Hennessy(米) 1993 栗毛 [血統][産駒]   \n",
       "2018100595                        フジキセキ 1992 青鹿毛 [血統][産駒]   \n",
       "2018103328  サンデーサイレンス Sunday Silence(米) 1986 青鹿毛 [血統][産駒]   \n",
       "2018104594  サンデーサイレンス Sunday Silence(米) 1986 青鹿毛 [血統][産駒]   \n",
       "\n",
       "                                           peds_3  \\\n",
       "2018105447         Night Lagoon 2001 黒鹿毛 [血統][産駒]   \n",
       "2018100356              Flanders 1992 栗毛 [血統][産駒]   \n",
       "2018105756                ジョープシケ 2000 芦毛 [血統][産駒]   \n",
       "2018105850          Meadow Flyer 1989 鹿毛 [血統][産駒]   \n",
       "2018100595  ケルトシャーン Keltshaan(米) 1994 鹿毛 [血統][産駒]   \n",
       "2018103328             ヤマニンパラダイス 1992 鹿毛 [血統][産駒]   \n",
       "2018104594             アイリッシュダンス 1990 鹿毛 [血統][産駒]   \n",
       "\n",
       "                                                   peds_4  \\\n",
       "2018105447  サンデーサイレンス Sunday Silence(米) 1986 青鹿毛 [血統][産駒]   \n",
       "2018100356                       タイキシャトル 1994 栗毛 [血統][産駒]   \n",
       "2018105756             トニービン Tony Bin(愛) 1983 鹿毛 [血統][産駒]   \n",
       "2018105850                      アグネスデジタル 1997 栗毛 [血統][産駒]   \n",
       "2018100595                      メイショウドトウ 1996 鹿毛 [血統][産駒]   \n",
       "2018103328                       マイネルラヴ 1995 青鹿毛 [血統][産駒]   \n",
       "2018104594             トワイニング Twining(米) 1991 栗毛 [血統][産駒]   \n",
       "\n",
       "                                                       peds_5  \\\n",
       "2018105447                           サマーワイン 1990 黒鹿毛 [血統][産駒]   \n",
       "2018100356                           ファゼンデイロ 1994 鹿毛 [血統][産駒]   \n",
       "2018105756                          ブルーデキシー 1994 黒鹿毛 [血統][産駒]   \n",
       "2018105850                          グリーンオリーヴ 1997 鹿毛 [血統][産駒]   \n",
       "2018100595                         メイショウエビータ 1995 鹿毛 [血統][産駒]   \n",
       "2018103328                         ヤマニンカーニバル 1994 鹿毛 [血統][産駒]   \n",
       "2018104594  コンファームドダンサー Confirmed Dancer(米) 1986 青鹿毛 [血統][産駒]   \n",
       "\n",
       "                                                   peds_6  \\\n",
       "2018105447                   Konigsstuhl 1976 青毛 [血統][産駒]   \n",
       "2018100356                     Unbridled 1987 鹿毛 [血統][産駒]   \n",
       "2018105756  サンデーサイレンス Sunday Silence(米) 1986 青鹿毛 [血統][産駒]   \n",
       "2018105850                Storm Cat (米) 1983 黒鹿毛 [血統][産駒]   \n",
       "2018100595  サンデーサイレンス Sunday Silence(米) 1986 青鹿毛 [血統][産駒]   \n",
       "2018103328                         Halo 1969 黒鹿毛 [血統][産駒]   \n",
       "2018104594                         Halo 1969 黒鹿毛 [血統][産駒]   \n",
       "\n",
       "                                                peds_7  \\\n",
       "2018105447                    Mosella 1985 鹿毛 [血統][産駒]   \n",
       "2018100356                  Toussaud 1989 黒鹿毛 [血統][産駒]   \n",
       "2018105756  サトルチェンジ Subtle Change(愛) 1988 黒鹿毛 [血統][産駒]   \n",
       "2018105850               Island Kitty 1976 栗毛 [血統][産駒]   \n",
       "2018100595        ミルレーサー Millracer(米) 1983 鹿毛 [血統][産駒]   \n",
       "2018103328               Wishing Well 1975 鹿毛 [血統][産駒]   \n",
       "2018104594               Wishing Well 1975 鹿毛 [血統][産駒]   \n",
       "\n",
       "                                        peds_8  \\\n",
       "2018105447           Lagunas 1981 黒鹿毛 [血統][産駒]   \n",
       "2018100356   Seeking the Gold 1985 鹿毛 [血統][産駒]   \n",
       "2018105756          フサイチコンコルド 1993 鹿毛 [血統][産駒]   \n",
       "2018105850         Meadowlake 1983 栗毛 [血統][産駒]   \n",
       "2018100595   Pleasant Colony 1978 黒鹿毛 [血統][産駒]   \n",
       "2018103328             Danzig 1977 鹿毛 [血統][産駒]   \n",
       "2018104594  トニービン Tony Bin(愛) 1983 鹿毛 [血統][産駒]   \n",
       "\n",
       "                                               peds_9  ...       peds_52  \\\n",
       "2018105447                 Nenuphar 1994 黒鹿毛 [血統][産駒]  ...  Montparnasse   \n",
       "2018100356             Starlet Storm 1987 栗毛 [血統][産駒]  ...        Thatch   \n",
       "2018105756                 ジョーユーチャリス 1988 芦毛 [血統][産駒]  ...     Preciptic   \n",
       "2018105850                 Shortley 1980 黒鹿毛 [血統][産駒]  ...       Alleged   \n",
       "2018100595               Featherhill 1978 鹿毛 [血統][産駒]  ...      Nijinsky   \n",
       "2018103328                    Althea 1981 栗毛 [血統][産駒]  ...   Secretariat   \n",
       "2018104594  ビューパーダンス Buper Dance(米) 1983 黒鹿毛 [血統][産駒]  ...   War Admiral   \n",
       "\n",
       "                  peds_53          peds_54        peds_55          peds_56  \\\n",
       "2018105447      Edelweiss         Kalamoun  State Pension         Hornbeam   \n",
       "2018100356       Contrail          Red God  Runaway Bride          Roberto   \n",
       "2018105756     Campanette    Princely Gift       Suncourt          ネヴァービート   \n",
       "2018105850  Runaway Bride   Hail to Reason         Cosmah    Understanding   \n",
       "2018100595  Fast Approach   Mr. Prospector       Mudville  Reflected Glory   \n",
       "2018103328        Arachne            Ribot     Pocahontas   Bold Reasoning   \n",
       "2018104594       Judy-Rae  Northern Dancer   Flaming Page      Val de Loir   \n",
       "\n",
       "                     peds_57      peds_58          peds_59          peds_60  \\\n",
       "2018105447       Priddy Fair     Ambiorix         Striking        Determine   \n",
       "2018100356         Icy Blast   Never Bend       Hill Shade          Lyphard   \n",
       "2018105756           スターハイネス     Nijinsky               シル            エンペリー   \n",
       "2018105850   Mountain Flower     Nijinsky               シル         Sicambre   \n",
       "2018100595  Blue Eyed Blonde    Best Turn       Our Martha  Northern Dancer   \n",
       "2018103328      Tomorrowland  Vice Regent  Miss Attractive          マルゼンスキー   \n",
       "2018104594          Sly Pola   Never Bend       Roman Song   Cornish Prince   \n",
       "\n",
       "                   peds_61  \n",
       "2018105447   Fanciful Miss  \n",
       "2018100356      Irish Star  \n",
       "2018105756   Some Progress  \n",
       "2018105850      Fee Royale  \n",
       "2018100595   Desert Flight  \n",
       "2018103328       パンクチェイシヨン  \n",
       "2018104594  Won't Tell You  \n",
       "\n",
       "[7 rows x 62 columns]"
      ]
     },
     "execution_count": 298,
     "metadata": {},
     "output_type": "execute_result"
    }
   ],
   "source": [
    "#取得した血統データを既に取得済みの血統データにマージ\n",
    "new_peds = pd.concat([new_peds[horse_id] for horse_id in new_peds], axis=1).T\n",
    "new_peds = new_peds.add_prefix('peds_')\n",
    "new_peds"
   ]
  },
  {
   "cell_type": "code",
   "execution_count": 279,
   "metadata": {
    "scrolled": true
   },
   "outputs": [
    {
     "data": {
      "text/plain": [
       "11389"
      ]
     },
     "execution_count": 279,
     "metadata": {},
     "output_type": "execute_result"
    }
   ],
   "source": [
    "peds.index.nunique()"
   ]
  },
  {
   "cell_type": "code",
   "execution_count": 299,
   "metadata": {
    "scrolled": true
   },
   "outputs": [
    {
     "data": {
      "text/plain": [
       "11396"
      ]
     },
     "execution_count": 299,
     "metadata": {},
     "output_type": "execute_result"
    }
   ],
   "source": [
    "new_peds1 = pd.concat([new_peds, peds])\n",
    "new_peds1.index.nunique()"
   ]
  },
  {
   "cell_type": "code",
   "execution_count": 327,
   "metadata": {},
   "outputs": [],
   "source": [
    "#Pedsクラスに入れてcategory型に変換\n",
    "p = Peds(new_peds1)\n",
    "p.encode()\n",
    "new_peds1 = p.peds_en"
   ]
  },
  {
   "cell_type": "code",
   "execution_count": 330,
   "metadata": {
    "collapsed": true
   },
   "outputs": [
    {
     "data": {
      "text/html": [
       "<div>\n",
       "<style scoped>\n",
       "    .dataframe tbody tr th:only-of-type {\n",
       "        vertical-align: middle;\n",
       "    }\n",
       "\n",
       "    .dataframe tbody tr th {\n",
       "        vertical-align: top;\n",
       "    }\n",
       "\n",
       "    .dataframe thead th {\n",
       "        text-align: right;\n",
       "    }\n",
       "</style>\n",
       "<table border=\"1\" class=\"dataframe\">\n",
       "  <thead>\n",
       "    <tr style=\"text-align: right;\">\n",
       "      <th></th>\n",
       "      <th>枠番</th>\n",
       "      <th>馬番</th>\n",
       "      <th>斤量</th>\n",
       "      <th>horse_id</th>\n",
       "      <th>jockey_id</th>\n",
       "      <th>course_len</th>\n",
       "      <th>date</th>\n",
       "      <th>ground_state</th>\n",
       "      <th>race_type</th>\n",
       "      <th>weather</th>\n",
       "      <th>...</th>\n",
       "      <th>peds_52</th>\n",
       "      <th>peds_53</th>\n",
       "      <th>peds_54</th>\n",
       "      <th>peds_55</th>\n",
       "      <th>peds_56</th>\n",
       "      <th>peds_57</th>\n",
       "      <th>peds_58</th>\n",
       "      <th>peds_59</th>\n",
       "      <th>peds_60</th>\n",
       "      <th>peds_61</th>\n",
       "    </tr>\n",
       "  </thead>\n",
       "  <tbody>\n",
       "    <tr>\n",
       "      <th>202105030602</th>\n",
       "      <td>1</td>\n",
       "      <td>1</td>\n",
       "      <td>52</td>\n",
       "      <td>2018100356</td>\n",
       "      <td>01164</td>\n",
       "      <td>1600</td>\n",
       "      <td>2021-06-20</td>\n",
       "      <td>不良</td>\n",
       "      <td>ダート</td>\n",
       "      <td>晴</td>\n",
       "      <td>...</td>\n",
       "      <td>336</td>\n",
       "      <td>122</td>\n",
       "      <td>132</td>\n",
       "      <td>298</td>\n",
       "      <td>346</td>\n",
       "      <td>367</td>\n",
       "      <td>249</td>\n",
       "      <td>432</td>\n",
       "      <td>504</td>\n",
       "      <td>1088</td>\n",
       "    </tr>\n",
       "    <tr>\n",
       "      <th>202105030602</th>\n",
       "      <td>2</td>\n",
       "      <td>2</td>\n",
       "      <td>54</td>\n",
       "      <td>2018106418</td>\n",
       "      <td>00689</td>\n",
       "      <td>1600</td>\n",
       "      <td>2021-06-20</td>\n",
       "      <td>不良</td>\n",
       "      <td>ダート</td>\n",
       "      <td>晴</td>\n",
       "      <td>...</td>\n",
       "      <td>209</td>\n",
       "      <td>135</td>\n",
       "      <td>22</td>\n",
       "      <td>214</td>\n",
       "      <td>265</td>\n",
       "      <td>107</td>\n",
       "      <td>84</td>\n",
       "      <td>46</td>\n",
       "      <td>115</td>\n",
       "      <td>1839</td>\n",
       "    </tr>\n",
       "    <tr>\n",
       "      <th>202105030602</th>\n",
       "      <td>3</td>\n",
       "      <td>3</td>\n",
       "      <td>54</td>\n",
       "      <td>2018103250</td>\n",
       "      <td>00684</td>\n",
       "      <td>1600</td>\n",
       "      <td>2021-06-20</td>\n",
       "      <td>不良</td>\n",
       "      <td>ダート</td>\n",
       "      <td>晴</td>\n",
       "      <td>...</td>\n",
       "      <td>121</td>\n",
       "      <td>630</td>\n",
       "      <td>62</td>\n",
       "      <td>61</td>\n",
       "      <td>444</td>\n",
       "      <td>526</td>\n",
       "      <td>488</td>\n",
       "      <td>1156</td>\n",
       "      <td>1200</td>\n",
       "      <td>2805</td>\n",
       "    </tr>\n",
       "    <tr>\n",
       "      <th>202105030602</th>\n",
       "      <td>3</td>\n",
       "      <td>4</td>\n",
       "      <td>54</td>\n",
       "      <td>2018105822</td>\n",
       "      <td>01162</td>\n",
       "      <td>1600</td>\n",
       "      <td>2021-06-20</td>\n",
       "      <td>不良</td>\n",
       "      <td>ダート</td>\n",
       "      <td>晴</td>\n",
       "      <td>...</td>\n",
       "      <td>121</td>\n",
       "      <td>630</td>\n",
       "      <td>62</td>\n",
       "      <td>61</td>\n",
       "      <td>444</td>\n",
       "      <td>526</td>\n",
       "      <td>46</td>\n",
       "      <td>954</td>\n",
       "      <td>403</td>\n",
       "      <td>341</td>\n",
       "    </tr>\n",
       "    <tr>\n",
       "      <th>202105030602</th>\n",
       "      <td>4</td>\n",
       "      <td>5</td>\n",
       "      <td>54</td>\n",
       "      <td>2018105703</td>\n",
       "      <td>01122</td>\n",
       "      <td>1600</td>\n",
       "      <td>2021-06-20</td>\n",
       "      <td>不良</td>\n",
       "      <td>ダート</td>\n",
       "      <td>晴</td>\n",
       "      <td>...</td>\n",
       "      <td>144</td>\n",
       "      <td>658</td>\n",
       "      <td>63</td>\n",
       "      <td>370</td>\n",
       "      <td>501</td>\n",
       "      <td>899</td>\n",
       "      <td>260</td>\n",
       "      <td>533</td>\n",
       "      <td>204</td>\n",
       "      <td>469</td>\n",
       "    </tr>\n",
       "    <tr>\n",
       "      <th>202105030602</th>\n",
       "      <td>4</td>\n",
       "      <td>6</td>\n",
       "      <td>54</td>\n",
       "      <td>2018101102</td>\n",
       "      <td>01127</td>\n",
       "      <td>1600</td>\n",
       "      <td>2021-06-20</td>\n",
       "      <td>不良</td>\n",
       "      <td>ダート</td>\n",
       "      <td>晴</td>\n",
       "      <td>...</td>\n",
       "      <td>189</td>\n",
       "      <td>399</td>\n",
       "      <td>114</td>\n",
       "      <td>254</td>\n",
       "      <td>339</td>\n",
       "      <td>455</td>\n",
       "      <td>492</td>\n",
       "      <td>1179</td>\n",
       "      <td>1090</td>\n",
       "      <td>2728</td>\n",
       "    </tr>\n",
       "    <tr>\n",
       "      <th>202105030602</th>\n",
       "      <td>5</td>\n",
       "      <td>7</td>\n",
       "      <td>54</td>\n",
       "      <td>2018105850</td>\n",
       "      <td>01154</td>\n",
       "      <td>1600</td>\n",
       "      <td>2021-06-20</td>\n",
       "      <td>不良</td>\n",
       "      <td>ダート</td>\n",
       "      <td>晴</td>\n",
       "      <td>...</td>\n",
       "      <td>6</td>\n",
       "      <td>515</td>\n",
       "      <td>62</td>\n",
       "      <td>61</td>\n",
       "      <td>444</td>\n",
       "      <td>526</td>\n",
       "      <td>253</td>\n",
       "      <td>1154</td>\n",
       "      <td>801</td>\n",
       "      <td>727</td>\n",
       "    </tr>\n",
       "    <tr>\n",
       "      <th>202105030602</th>\n",
       "      <td>5</td>\n",
       "      <td>8</td>\n",
       "      <td>54</td>\n",
       "      <td>2018105756</td>\n",
       "      <td>01118</td>\n",
       "      <td>1600</td>\n",
       "      <td>2021-06-20</td>\n",
       "      <td>不良</td>\n",
       "      <td>ダート</td>\n",
       "      <td>晴</td>\n",
       "      <td>...</td>\n",
       "      <td>254</td>\n",
       "      <td>85</td>\n",
       "      <td>124</td>\n",
       "      <td>334</td>\n",
       "      <td>509</td>\n",
       "      <td>927</td>\n",
       "      <td>253</td>\n",
       "      <td>1154</td>\n",
       "      <td>1052</td>\n",
       "      <td>2143</td>\n",
       "    </tr>\n",
       "    <tr>\n",
       "      <th>202105030602</th>\n",
       "      <td>6</td>\n",
       "      <td>9</td>\n",
       "      <td>54</td>\n",
       "      <td>2018105587</td>\n",
       "      <td>01158</td>\n",
       "      <td>1600</td>\n",
       "      <td>2021-06-20</td>\n",
       "      <td>不良</td>\n",
       "      <td>ダート</td>\n",
       "      <td>晴</td>\n",
       "      <td>...</td>\n",
       "      <td>75</td>\n",
       "      <td>367</td>\n",
       "      <td>124</td>\n",
       "      <td>334</td>\n",
       "      <td>509</td>\n",
       "      <td>927</td>\n",
       "      <td>260</td>\n",
       "      <td>533</td>\n",
       "      <td>164</td>\n",
       "      <td>1479</td>\n",
       "    </tr>\n",
       "    <tr>\n",
       "      <th>202105030602</th>\n",
       "      <td>6</td>\n",
       "      <td>10</td>\n",
       "      <td>54</td>\n",
       "      <td>2018100595</td>\n",
       "      <td>00733</td>\n",
       "      <td>1600</td>\n",
       "      <td>2021-06-20</td>\n",
       "      <td>不良</td>\n",
       "      <td>ダート</td>\n",
       "      <td>晴</td>\n",
       "      <td>...</td>\n",
       "      <td>225</td>\n",
       "      <td>183</td>\n",
       "      <td>101</td>\n",
       "      <td>223</td>\n",
       "      <td>331</td>\n",
       "      <td>100</td>\n",
       "      <td>32</td>\n",
       "      <td>712</td>\n",
       "      <td>601</td>\n",
       "      <td>559</td>\n",
       "    </tr>\n",
       "    <tr>\n",
       "      <th>202105030602</th>\n",
       "      <td>7</td>\n",
       "      <td>11</td>\n",
       "      <td>54</td>\n",
       "      <td>2018103224</td>\n",
       "      <td>01135</td>\n",
       "      <td>1600</td>\n",
       "      <td>2021-06-20</td>\n",
       "      <td>不良</td>\n",
       "      <td>ダート</td>\n",
       "      <td>晴</td>\n",
       "      <td>...</td>\n",
       "      <td>428</td>\n",
       "      <td>648</td>\n",
       "      <td>62</td>\n",
       "      <td>4</td>\n",
       "      <td>526</td>\n",
       "      <td>909</td>\n",
       "      <td>260</td>\n",
       "      <td>807</td>\n",
       "      <td>1325</td>\n",
       "      <td>3107</td>\n",
       "    </tr>\n",
       "    <tr>\n",
       "      <th>202105030602</th>\n",
       "      <td>7</td>\n",
       "      <td>12</td>\n",
       "      <td>54</td>\n",
       "      <td>2018105447</td>\n",
       "      <td>00641</td>\n",
       "      <td>1600</td>\n",
       "      <td>2021-06-20</td>\n",
       "      <td>不良</td>\n",
       "      <td>ダート</td>\n",
       "      <td>晴</td>\n",
       "      <td>...</td>\n",
       "      <td>202</td>\n",
       "      <td>159</td>\n",
       "      <td>78</td>\n",
       "      <td>330</td>\n",
       "      <td>178</td>\n",
       "      <td>617</td>\n",
       "      <td>15</td>\n",
       "      <td>988</td>\n",
       "      <td>235</td>\n",
       "      <td>709</td>\n",
       "    </tr>\n",
       "    <tr>\n",
       "      <th>202105030602</th>\n",
       "      <td>8</td>\n",
       "      <td>13</td>\n",
       "      <td>51</td>\n",
       "      <td>2018104594</td>\n",
       "      <td>01188</td>\n",
       "      <td>1600</td>\n",
       "      <td>2021-06-20</td>\n",
       "      <td>不良</td>\n",
       "      <td>ダート</td>\n",
       "      <td>晴</td>\n",
       "      <td>...</td>\n",
       "      <td>369</td>\n",
       "      <td>303</td>\n",
       "      <td>114</td>\n",
       "      <td>100</td>\n",
       "      <td>446</td>\n",
       "      <td>746</td>\n",
       "      <td>249</td>\n",
       "      <td>846</td>\n",
       "      <td>184</td>\n",
       "      <td>2527</td>\n",
       "    </tr>\n",
       "    <tr>\n",
       "      <th>202105030602</th>\n",
       "      <td>8</td>\n",
       "      <td>14</td>\n",
       "      <td>51</td>\n",
       "      <td>2018103328</td>\n",
       "      <td>01183</td>\n",
       "      <td>1600</td>\n",
       "      <td>2021-06-20</td>\n",
       "      <td>不良</td>\n",
       "      <td>ダート</td>\n",
       "      <td>晴</td>\n",
       "      <td>...</td>\n",
       "      <td>299</td>\n",
       "      <td>26</td>\n",
       "      <td>137</td>\n",
       "      <td>262</td>\n",
       "      <td>54</td>\n",
       "      <td>828</td>\n",
       "      <td>420</td>\n",
       "      <td>620</td>\n",
       "      <td>1280</td>\n",
       "      <td>2999</td>\n",
       "    </tr>\n",
       "  </tbody>\n",
       "</table>\n",
       "<p>14 rows × 82 columns</p>\n",
       "</div>"
      ],
      "text/plain": [
       "              枠番  馬番  斤量    horse_id jockey_id  course_len       date  \\\n",
       "202105030602   1   1  52  2018100356     01164        1600 2021-06-20   \n",
       "202105030602   2   2  54  2018106418     00689        1600 2021-06-20   \n",
       "202105030602   3   3  54  2018103250     00684        1600 2021-06-20   \n",
       "202105030602   3   4  54  2018105822     01162        1600 2021-06-20   \n",
       "202105030602   4   5  54  2018105703     01122        1600 2021-06-20   \n",
       "202105030602   4   6  54  2018101102     01127        1600 2021-06-20   \n",
       "202105030602   5   7  54  2018105850     01154        1600 2021-06-20   \n",
       "202105030602   5   8  54  2018105756     01118        1600 2021-06-20   \n",
       "202105030602   6   9  54  2018105587     01158        1600 2021-06-20   \n",
       "202105030602   6  10  54  2018100595     00733        1600 2021-06-20   \n",
       "202105030602   7  11  54  2018103224     01135        1600 2021-06-20   \n",
       "202105030602   7  12  54  2018105447     00641        1600 2021-06-20   \n",
       "202105030602   8  13  51  2018104594     01188        1600 2021-06-20   \n",
       "202105030602   8  14  51  2018103328     01183        1600 2021-06-20   \n",
       "\n",
       "             ground_state race_type weather  ... peds_52  peds_53  peds_54  \\\n",
       "202105030602           不良       ダート       晴  ...     336      122      132   \n",
       "202105030602           不良       ダート       晴  ...     209      135       22   \n",
       "202105030602           不良       ダート       晴  ...     121      630       62   \n",
       "202105030602           不良       ダート       晴  ...     121      630       62   \n",
       "202105030602           不良       ダート       晴  ...     144      658       63   \n",
       "202105030602           不良       ダート       晴  ...     189      399      114   \n",
       "202105030602           不良       ダート       晴  ...       6      515       62   \n",
       "202105030602           不良       ダート       晴  ...     254       85      124   \n",
       "202105030602           不良       ダート       晴  ...      75      367      124   \n",
       "202105030602           不良       ダート       晴  ...     225      183      101   \n",
       "202105030602           不良       ダート       晴  ...     428      648       62   \n",
       "202105030602           不良       ダート       晴  ...     202      159       78   \n",
       "202105030602           不良       ダート       晴  ...     369      303      114   \n",
       "202105030602           不良       ダート       晴  ...     299       26      137   \n",
       "\n",
       "              peds_55  peds_56  peds_57  peds_58  peds_59  peds_60  peds_61  \n",
       "202105030602      298      346      367      249      432      504     1088  \n",
       "202105030602      214      265      107       84       46      115     1839  \n",
       "202105030602       61      444      526      488     1156     1200     2805  \n",
       "202105030602       61      444      526       46      954      403      341  \n",
       "202105030602      370      501      899      260      533      204      469  \n",
       "202105030602      254      339      455      492     1179     1090     2728  \n",
       "202105030602       61      444      526      253     1154      801      727  \n",
       "202105030602      334      509      927      253     1154     1052     2143  \n",
       "202105030602      334      509      927      260      533      164     1479  \n",
       "202105030602      223      331      100       32      712      601      559  \n",
       "202105030602        4      526      909      260      807     1325     3107  \n",
       "202105030602      330      178      617       15      988      235      709  \n",
       "202105030602      100      446      746      249      846      184     2527  \n",
       "202105030602      262       54      828      420      620     1280     2999  \n",
       "\n",
       "[14 rows x 82 columns]"
      ]
     },
     "execution_count": 330,
     "metadata": {},
     "output_type": "execute_result"
    }
   ],
   "source": [
    "#出馬表にマージ\n",
    "et.merge_peds(new_peds1)\n",
    "et.entry_tables_ped"
   ]
  },
  {
   "cell_type": "code",
   "execution_count": 329,
   "metadata": {},
   "outputs": [],
   "source": [
    "le_horse = LabelEncoder().fit(results['horse_id'])\n",
    "le_jockey = LabelEncoder().fit(results['jockey_id'])"
   ]
  },
  {
   "cell_type": "code",
   "execution_count": 331,
   "metadata": {},
   "outputs": [
    {
     "data": {
      "text/html": [
       "<div>\n",
       "<style scoped>\n",
       "    .dataframe tbody tr th:only-of-type {\n",
       "        vertical-align: middle;\n",
       "    }\n",
       "\n",
       "    .dataframe tbody tr th {\n",
       "        vertical-align: top;\n",
       "    }\n",
       "\n",
       "    .dataframe thead th {\n",
       "        text-align: right;\n",
       "    }\n",
       "</style>\n",
       "<table border=\"1\" class=\"dataframe\">\n",
       "  <thead>\n",
       "    <tr style=\"text-align: right;\">\n",
       "      <th></th>\n",
       "      <th>枠番</th>\n",
       "      <th>馬番</th>\n",
       "      <th>斤量</th>\n",
       "      <th>horse_id</th>\n",
       "      <th>jockey_id</th>\n",
       "      <th>course_len</th>\n",
       "      <th>date</th>\n",
       "      <th>齢</th>\n",
       "      <th>体重</th>\n",
       "      <th>体重増減</th>\n",
       "      <th>...</th>\n",
       "      <th>race_type_芝</th>\n",
       "      <th>race_type_ダート</th>\n",
       "      <th>race_type_障害</th>\n",
       "      <th>ground_state_良</th>\n",
       "      <th>ground_state_稍重</th>\n",
       "      <th>ground_state_不良</th>\n",
       "      <th>ground_state_重</th>\n",
       "      <th>性_牝</th>\n",
       "      <th>性_牡</th>\n",
       "      <th>性_セ</th>\n",
       "    </tr>\n",
       "  </thead>\n",
       "  <tbody>\n",
       "    <tr>\n",
       "      <th>202105030602</th>\n",
       "      <td>1</td>\n",
       "      <td>1</td>\n",
       "      <td>52</td>\n",
       "      <td>11389</td>\n",
       "      <td>114</td>\n",
       "      <td>1600</td>\n",
       "      <td>2021-06-20</td>\n",
       "      <td>3</td>\n",
       "      <td>474</td>\n",
       "      <td>0</td>\n",
       "      <td>...</td>\n",
       "      <td>0</td>\n",
       "      <td>1</td>\n",
       "      <td>0</td>\n",
       "      <td>0</td>\n",
       "      <td>0</td>\n",
       "      <td>1</td>\n",
       "      <td>0</td>\n",
       "      <td>1</td>\n",
       "      <td>0</td>\n",
       "      <td>0</td>\n",
       "    </tr>\n",
       "    <tr>\n",
       "      <th>202105030602</th>\n",
       "      <td>2</td>\n",
       "      <td>2</td>\n",
       "      <td>54</td>\n",
       "      <td>11044</td>\n",
       "      <td>8</td>\n",
       "      <td>1600</td>\n",
       "      <td>2021-06-20</td>\n",
       "      <td>3</td>\n",
       "      <td>454</td>\n",
       "      <td>2</td>\n",
       "      <td>...</td>\n",
       "      <td>0</td>\n",
       "      <td>1</td>\n",
       "      <td>0</td>\n",
       "      <td>0</td>\n",
       "      <td>0</td>\n",
       "      <td>1</td>\n",
       "      <td>0</td>\n",
       "      <td>1</td>\n",
       "      <td>0</td>\n",
       "      <td>0</td>\n",
       "    </tr>\n",
       "    <tr>\n",
       "      <th>202105030602</th>\n",
       "      <td>3</td>\n",
       "      <td>3</td>\n",
       "      <td>54</td>\n",
       "      <td>9523</td>\n",
       "      <td>7</td>\n",
       "      <td>1600</td>\n",
       "      <td>2021-06-20</td>\n",
       "      <td>3</td>\n",
       "      <td>472</td>\n",
       "      <td>-2</td>\n",
       "      <td>...</td>\n",
       "      <td>0</td>\n",
       "      <td>1</td>\n",
       "      <td>0</td>\n",
       "      <td>0</td>\n",
       "      <td>0</td>\n",
       "      <td>1</td>\n",
       "      <td>0</td>\n",
       "      <td>1</td>\n",
       "      <td>0</td>\n",
       "      <td>0</td>\n",
       "    </tr>\n",
       "    <tr>\n",
       "      <th>202105030602</th>\n",
       "      <td>3</td>\n",
       "      <td>4</td>\n",
       "      <td>54</td>\n",
       "      <td>10810</td>\n",
       "      <td>112</td>\n",
       "      <td>1600</td>\n",
       "      <td>2021-06-20</td>\n",
       "      <td>3</td>\n",
       "      <td>476</td>\n",
       "      <td>0</td>\n",
       "      <td>...</td>\n",
       "      <td>0</td>\n",
       "      <td>1</td>\n",
       "      <td>0</td>\n",
       "      <td>0</td>\n",
       "      <td>0</td>\n",
       "      <td>1</td>\n",
       "      <td>0</td>\n",
       "      <td>1</td>\n",
       "      <td>0</td>\n",
       "      <td>0</td>\n",
       "    </tr>\n",
       "    <tr>\n",
       "      <th>202105030602</th>\n",
       "      <td>4</td>\n",
       "      <td>5</td>\n",
       "      <td>54</td>\n",
       "      <td>10768</td>\n",
       "      <td>78</td>\n",
       "      <td>1600</td>\n",
       "      <td>2021-06-20</td>\n",
       "      <td>3</td>\n",
       "      <td>432</td>\n",
       "      <td>-6</td>\n",
       "      <td>...</td>\n",
       "      <td>0</td>\n",
       "      <td>1</td>\n",
       "      <td>0</td>\n",
       "      <td>0</td>\n",
       "      <td>0</td>\n",
       "      <td>1</td>\n",
       "      <td>0</td>\n",
       "      <td>1</td>\n",
       "      <td>0</td>\n",
       "      <td>0</td>\n",
       "    </tr>\n",
       "    <tr>\n",
       "      <th>202105030602</th>\n",
       "      <td>4</td>\n",
       "      <td>6</td>\n",
       "      <td>54</td>\n",
       "      <td>8623</td>\n",
       "      <td>83</td>\n",
       "      <td>1600</td>\n",
       "      <td>2021-06-20</td>\n",
       "      <td>3</td>\n",
       "      <td>452</td>\n",
       "      <td>-2</td>\n",
       "      <td>...</td>\n",
       "      <td>0</td>\n",
       "      <td>1</td>\n",
       "      <td>0</td>\n",
       "      <td>0</td>\n",
       "      <td>0</td>\n",
       "      <td>1</td>\n",
       "      <td>0</td>\n",
       "      <td>1</td>\n",
       "      <td>0</td>\n",
       "      <td>0</td>\n",
       "    </tr>\n",
       "    <tr>\n",
       "      <th>202105030602</th>\n",
       "      <td>5</td>\n",
       "      <td>7</td>\n",
       "      <td>54</td>\n",
       "      <td>11390</td>\n",
       "      <td>105</td>\n",
       "      <td>1600</td>\n",
       "      <td>2021-06-20</td>\n",
       "      <td>3</td>\n",
       "      <td>436</td>\n",
       "      <td>12</td>\n",
       "      <td>...</td>\n",
       "      <td>0</td>\n",
       "      <td>1</td>\n",
       "      <td>0</td>\n",
       "      <td>0</td>\n",
       "      <td>0</td>\n",
       "      <td>1</td>\n",
       "      <td>0</td>\n",
       "      <td>1</td>\n",
       "      <td>0</td>\n",
       "      <td>0</td>\n",
       "    </tr>\n",
       "    <tr>\n",
       "      <th>202105030602</th>\n",
       "      <td>5</td>\n",
       "      <td>8</td>\n",
       "      <td>54</td>\n",
       "      <td>11391</td>\n",
       "      <td>75</td>\n",
       "      <td>1600</td>\n",
       "      <td>2021-06-20</td>\n",
       "      <td>3</td>\n",
       "      <td>424</td>\n",
       "      <td>-6</td>\n",
       "      <td>...</td>\n",
       "      <td>0</td>\n",
       "      <td>1</td>\n",
       "      <td>0</td>\n",
       "      <td>0</td>\n",
       "      <td>0</td>\n",
       "      <td>1</td>\n",
       "      <td>0</td>\n",
       "      <td>1</td>\n",
       "      <td>0</td>\n",
       "      <td>0</td>\n",
       "    </tr>\n",
       "    <tr>\n",
       "      <th>202105030602</th>\n",
       "      <td>6</td>\n",
       "      <td>9</td>\n",
       "      <td>54</td>\n",
       "      <td>10716</td>\n",
       "      <td>108</td>\n",
       "      <td>1600</td>\n",
       "      <td>2021-06-20</td>\n",
       "      <td>3</td>\n",
       "      <td>446</td>\n",
       "      <td>4</td>\n",
       "      <td>...</td>\n",
       "      <td>0</td>\n",
       "      <td>1</td>\n",
       "      <td>0</td>\n",
       "      <td>0</td>\n",
       "      <td>0</td>\n",
       "      <td>1</td>\n",
       "      <td>0</td>\n",
       "      <td>1</td>\n",
       "      <td>0</td>\n",
       "      <td>0</td>\n",
       "    </tr>\n",
       "    <tr>\n",
       "      <th>202105030602</th>\n",
       "      <td>6</td>\n",
       "      <td>10</td>\n",
       "      <td>54</td>\n",
       "      <td>11392</td>\n",
       "      <td>14</td>\n",
       "      <td>1600</td>\n",
       "      <td>2021-06-20</td>\n",
       "      <td>3</td>\n",
       "      <td>466</td>\n",
       "      <td>-4</td>\n",
       "      <td>...</td>\n",
       "      <td>0</td>\n",
       "      <td>1</td>\n",
       "      <td>0</td>\n",
       "      <td>0</td>\n",
       "      <td>0</td>\n",
       "      <td>1</td>\n",
       "      <td>0</td>\n",
       "      <td>1</td>\n",
       "      <td>0</td>\n",
       "      <td>0</td>\n",
       "    </tr>\n",
       "    <tr>\n",
       "      <th>202105030602</th>\n",
       "      <td>7</td>\n",
       "      <td>11</td>\n",
       "      <td>54</td>\n",
       "      <td>9513</td>\n",
       "      <td>90</td>\n",
       "      <td>1600</td>\n",
       "      <td>2021-06-20</td>\n",
       "      <td>3</td>\n",
       "      <td>418</td>\n",
       "      <td>2</td>\n",
       "      <td>...</td>\n",
       "      <td>0</td>\n",
       "      <td>1</td>\n",
       "      <td>0</td>\n",
       "      <td>0</td>\n",
       "      <td>0</td>\n",
       "      <td>1</td>\n",
       "      <td>0</td>\n",
       "      <td>1</td>\n",
       "      <td>0</td>\n",
       "      <td>0</td>\n",
       "    </tr>\n",
       "    <tr>\n",
       "      <th>202105030602</th>\n",
       "      <td>7</td>\n",
       "      <td>12</td>\n",
       "      <td>54</td>\n",
       "      <td>11393</td>\n",
       "      <td>2</td>\n",
       "      <td>1600</td>\n",
       "      <td>2021-06-20</td>\n",
       "      <td>3</td>\n",
       "      <td>442</td>\n",
       "      <td>-4</td>\n",
       "      <td>...</td>\n",
       "      <td>0</td>\n",
       "      <td>1</td>\n",
       "      <td>0</td>\n",
       "      <td>0</td>\n",
       "      <td>0</td>\n",
       "      <td>1</td>\n",
       "      <td>0</td>\n",
       "      <td>1</td>\n",
       "      <td>0</td>\n",
       "      <td>0</td>\n",
       "    </tr>\n",
       "    <tr>\n",
       "      <th>202105030602</th>\n",
       "      <td>8</td>\n",
       "      <td>13</td>\n",
       "      <td>51</td>\n",
       "      <td>11394</td>\n",
       "      <td>174</td>\n",
       "      <td>1600</td>\n",
       "      <td>2021-06-20</td>\n",
       "      <td>3</td>\n",
       "      <td>420</td>\n",
       "      <td>4</td>\n",
       "      <td>...</td>\n",
       "      <td>0</td>\n",
       "      <td>1</td>\n",
       "      <td>0</td>\n",
       "      <td>0</td>\n",
       "      <td>0</td>\n",
       "      <td>1</td>\n",
       "      <td>0</td>\n",
       "      <td>1</td>\n",
       "      <td>0</td>\n",
       "      <td>0</td>\n",
       "    </tr>\n",
       "    <tr>\n",
       "      <th>202105030602</th>\n",
       "      <td>8</td>\n",
       "      <td>14</td>\n",
       "      <td>51</td>\n",
       "      <td>11395</td>\n",
       "      <td>133</td>\n",
       "      <td>1600</td>\n",
       "      <td>2021-06-20</td>\n",
       "      <td>3</td>\n",
       "      <td>474</td>\n",
       "      <td>2</td>\n",
       "      <td>...</td>\n",
       "      <td>0</td>\n",
       "      <td>1</td>\n",
       "      <td>0</td>\n",
       "      <td>0</td>\n",
       "      <td>0</td>\n",
       "      <td>1</td>\n",
       "      <td>0</td>\n",
       "      <td>1</td>\n",
       "      <td>0</td>\n",
       "      <td>0</td>\n",
       "    </tr>\n",
       "  </tbody>\n",
       "</table>\n",
       "<p>14 rows × 94 columns</p>\n",
       "</div>"
      ],
      "text/plain": [
       "              枠番  馬番  斤量  horse_id  jockey_id  course_len       date  齢   体重  \\\n",
       "202105030602   1   1  52     11389        114        1600 2021-06-20  3  474   \n",
       "202105030602   2   2  54     11044          8        1600 2021-06-20  3  454   \n",
       "202105030602   3   3  54      9523          7        1600 2021-06-20  3  472   \n",
       "202105030602   3   4  54     10810        112        1600 2021-06-20  3  476   \n",
       "202105030602   4   5  54     10768         78        1600 2021-06-20  3  432   \n",
       "202105030602   4   6  54      8623         83        1600 2021-06-20  3  452   \n",
       "202105030602   5   7  54     11390        105        1600 2021-06-20  3  436   \n",
       "202105030602   5   8  54     11391         75        1600 2021-06-20  3  424   \n",
       "202105030602   6   9  54     10716        108        1600 2021-06-20  3  446   \n",
       "202105030602   6  10  54     11392         14        1600 2021-06-20  3  466   \n",
       "202105030602   7  11  54      9513         90        1600 2021-06-20  3  418   \n",
       "202105030602   7  12  54     11393          2        1600 2021-06-20  3  442   \n",
       "202105030602   8  13  51     11394        174        1600 2021-06-20  3  420   \n",
       "202105030602   8  14  51     11395        133        1600 2021-06-20  3  474   \n",
       "\n",
       "              体重増減  ...  race_type_芝  race_type_ダート  race_type_障害  \\\n",
       "202105030602     0  ...            0              1             0   \n",
       "202105030602     2  ...            0              1             0   \n",
       "202105030602    -2  ...            0              1             0   \n",
       "202105030602     0  ...            0              1             0   \n",
       "202105030602    -6  ...            0              1             0   \n",
       "202105030602    -2  ...            0              1             0   \n",
       "202105030602    12  ...            0              1             0   \n",
       "202105030602    -6  ...            0              1             0   \n",
       "202105030602     4  ...            0              1             0   \n",
       "202105030602    -4  ...            0              1             0   \n",
       "202105030602     2  ...            0              1             0   \n",
       "202105030602    -4  ...            0              1             0   \n",
       "202105030602     4  ...            0              1             0   \n",
       "202105030602     2  ...            0              1             0   \n",
       "\n",
       "              ground_state_良  ground_state_稍重  ground_state_不良 ground_state_重  \\\n",
       "202105030602               0                0                1              0   \n",
       "202105030602               0                0                1              0   \n",
       "202105030602               0                0                1              0   \n",
       "202105030602               0                0                1              0   \n",
       "202105030602               0                0                1              0   \n",
       "202105030602               0                0                1              0   \n",
       "202105030602               0                0                1              0   \n",
       "202105030602               0                0                1              0   \n",
       "202105030602               0                0                1              0   \n",
       "202105030602               0                0                1              0   \n",
       "202105030602               0                0                1              0   \n",
       "202105030602               0                0                1              0   \n",
       "202105030602               0                0                1              0   \n",
       "202105030602               0                0                1              0   \n",
       "\n",
       "             性_牝 性_牡 性_セ  \n",
       "202105030602   1   0   0  \n",
       "202105030602   1   0   0  \n",
       "202105030602   1   0   0  \n",
       "202105030602   1   0   0  \n",
       "202105030602   1   0   0  \n",
       "202105030602   1   0   0  \n",
       "202105030602   1   0   0  \n",
       "202105030602   1   0   0  \n",
       "202105030602   1   0   0  \n",
       "202105030602   1   0   0  \n",
       "202105030602   1   0   0  \n",
       "202105030602   1   0   0  \n",
       "202105030602   1   0   0  \n",
       "202105030602   1   0   0  \n",
       "\n",
       "[14 rows x 94 columns]"
      ]
     },
     "execution_count": 331,
     "metadata": {},
     "output_type": "execute_result"
    }
   ],
   "source": [
    "et.process_cat(le_horse, le_jockey, results_p)\n",
    "et.entry_tables_cat"
   ]
  },
  {
   "cell_type": "code",
   "execution_count": 339,
   "metadata": {
    "collapsed": true
   },
   "outputs": [
    {
     "name": "stdout",
     "output_type": "stream",
     "text": [
      "<class 'pandas.core.frame.DataFrame'>\n",
      "Index: 14 entries, 202105030602 to 202105030602\n",
      "Data columns (total 94 columns):\n",
      " #   Column           Non-Null Count  Dtype         \n",
      "---  ------           --------------  -----         \n",
      " 0   枠番               14 non-null     int32         \n",
      " 1   馬番               14 non-null     int32         \n",
      " 2   斤量               14 non-null     int32         \n",
      " 3   horse_id         14 non-null     int32         \n",
      " 4   jockey_id        14 non-null     int32         \n",
      " 5   course_len       14 non-null     int64         \n",
      " 6   date             14 non-null     datetime64[ns]\n",
      " 7   齢                14 non-null     int32         \n",
      " 8   体重               14 non-null     int32         \n",
      " 9   体重増減             14 non-null     int32         \n",
      " 10  着順_5R            7 non-null      float64       \n",
      " 11  賞金_5R            7 non-null      float64       \n",
      " 12  着順_9R            7 non-null      float64       \n",
      " 13  賞金_9R            7 non-null      float64       \n",
      " 14  着順_allR          7 non-null      float64       \n",
      " 15  賞金_allR          7 non-null      float64       \n",
      " 16  peds_0           14 non-null     category      \n",
      " 17  peds_1           14 non-null     category      \n",
      " 18  peds_2           14 non-null     category      \n",
      " 19  peds_3           14 non-null     category      \n",
      " 20  peds_4           14 non-null     category      \n",
      " 21  peds_5           14 non-null     category      \n",
      " 22  peds_6           14 non-null     category      \n",
      " 23  peds_7           14 non-null     category      \n",
      " 24  peds_8           14 non-null     category      \n",
      " 25  peds_9           14 non-null     category      \n",
      " 26  peds_10          14 non-null     category      \n",
      " 27  peds_11          14 non-null     category      \n",
      " 28  peds_12          14 non-null     category      \n",
      " 29  peds_13          14 non-null     category      \n",
      " 30  peds_14          14 non-null     category      \n",
      " 31  peds_15          14 non-null     category      \n",
      " 32  peds_16          14 non-null     category      \n",
      " 33  peds_17          14 non-null     category      \n",
      " 34  peds_18          14 non-null     category      \n",
      " 35  peds_19          14 non-null     category      \n",
      " 36  peds_20          14 non-null     category      \n",
      " 37  peds_21          14 non-null     category      \n",
      " 38  peds_22          14 non-null     category      \n",
      " 39  peds_23          14 non-null     category      \n",
      " 40  peds_24          14 non-null     category      \n",
      " 41  peds_25          14 non-null     category      \n",
      " 42  peds_26          14 non-null     category      \n",
      " 43  peds_27          14 non-null     category      \n",
      " 44  peds_28          14 non-null     category      \n",
      " 45  peds_29          14 non-null     category      \n",
      " 46  peds_30          14 non-null     category      \n",
      " 47  peds_31          14 non-null     category      \n",
      " 48  peds_32          14 non-null     category      \n",
      " 49  peds_33          14 non-null     category      \n",
      " 50  peds_34          14 non-null     category      \n",
      " 51  peds_35          14 non-null     category      \n",
      " 52  peds_36          14 non-null     category      \n",
      " 53  peds_37          14 non-null     category      \n",
      " 54  peds_38          14 non-null     category      \n",
      " 55  peds_39          14 non-null     category      \n",
      " 56  peds_40          14 non-null     category      \n",
      " 57  peds_41          14 non-null     category      \n",
      " 58  peds_42          14 non-null     category      \n",
      " 59  peds_43          14 non-null     category      \n",
      " 60  peds_44          14 non-null     category      \n",
      " 61  peds_45          14 non-null     category      \n",
      " 62  peds_46          14 non-null     category      \n",
      " 63  peds_47          14 non-null     category      \n",
      " 64  peds_48          14 non-null     category      \n",
      " 65  peds_49          14 non-null     category      \n",
      " 66  peds_50          14 non-null     category      \n",
      " 67  peds_51          14 non-null     category      \n",
      " 68  peds_52          14 non-null     category      \n",
      " 69  peds_53          14 non-null     category      \n",
      " 70  peds_54          14 non-null     category      \n",
      " 71  peds_55          14 non-null     category      \n",
      " 72  peds_56          14 non-null     category      \n",
      " 73  peds_57          14 non-null     category      \n",
      " 74  peds_58          14 non-null     category      \n",
      " 75  peds_59          14 non-null     category      \n",
      " 76  peds_60          14 non-null     category      \n",
      " 77  peds_61          14 non-null     category      \n",
      " 78  weather_曇        14 non-null     uint8         \n",
      " 79  weather_晴        14 non-null     uint8         \n",
      " 80  weather_小雨       14 non-null     uint8         \n",
      " 81  weather_雨        14 non-null     uint8         \n",
      " 82  weather_雪        14 non-null     uint8         \n",
      " 83  weather_小雪       14 non-null     uint8         \n",
      " 84  race_type_芝      14 non-null     uint8         \n",
      " 85  race_type_ダート    14 non-null     uint8         \n",
      " 86  race_type_障害     14 non-null     uint8         \n",
      " 87  ground_state_良   14 non-null     uint8         \n",
      " 88  ground_state_稍重  14 non-null     uint8         \n",
      " 89  ground_state_不良  14 non-null     uint8         \n",
      " 90  ground_state_重   14 non-null     uint8         \n",
      " 91  性_牝              14 non-null     uint8         \n",
      " 92  性_牡              14 non-null     uint8         \n",
      " 93  性_セ              14 non-null     uint8         \n",
      "dtypes: category(62), datetime64[ns](1), float64(6), int32(8), int64(1), uint8(16)\n",
      "memory usage: 2.1+ MB\n"
     ]
    }
   ],
   "source": [
    "et.entry_tables_cat.info()"
   ]
  },
  {
   "cell_type": "markdown",
   "metadata": {},
   "source": [
    "## 予測"
   ]
  },
  {
   "cell_type": "code",
   "execution_count": 361,
   "metadata": {},
   "outputs": [
    {
     "data": {
      "text/plain": [
       "202105030602    0.090427\n",
       "202105030602    0.208541\n",
       "202105030602    0.000962\n",
       "202105030602    0.473869\n",
       "202105030602    0.070881\n",
       "202105030602    0.091505\n",
       "202105030602    0.273849\n",
       "202105030602    0.989310\n",
       "202105030602    0.449469\n",
       "202105030602    0.000000\n",
       "202105030602    0.266361\n",
       "202105030602    0.402870\n",
       "202105030602    0.155700\n",
       "202105030602    1.000000\n",
       "dtype: float64"
      ]
     },
     "execution_count": 361,
     "metadata": {},
     "output_type": "execute_result"
    }
   ],
   "source": [
    "X_test = et.entry_tables_cat.drop(['date','着順_9R','賞金_9R','着順_allR','賞金_allR'], axis=1)\n",
    "\n",
    "me.predict_proba(X_test)"
   ]
  },
  {
   "cell_type": "code",
   "execution_count": null,
   "metadata": {},
   "outputs": [],
   "source": []
  }
 ],
 "metadata": {
  "kernelspec": {
   "display_name": "Python 3",
   "language": "python",
   "name": "python3"
  },
  "language_info": {
   "codemirror_mode": {
    "name": "ipython",
    "version": 3
   },
   "file_extension": ".py",
   "mimetype": "text/x-python",
   "name": "python",
   "nbconvert_exporter": "python",
   "pygments_lexer": "ipython3",
   "version": "3.7.6"
  },
  "toc": {
   "base_numbering": 1,
   "nav_menu": {},
   "number_sections": true,
   "sideBar": true,
   "skip_h1_title": false,
   "title_cell": "Table of Contents",
   "title_sidebar": "Contents",
   "toc_cell": false,
   "toc_position": {
    "height": "calc(100% - 180px)",
    "left": "10px",
    "top": "150px",
    "width": "273.188px"
   },
   "toc_section_display": true,
   "toc_window_display": true
  }
 },
 "nbformat": 4,
 "nbformat_minor": 4
}
